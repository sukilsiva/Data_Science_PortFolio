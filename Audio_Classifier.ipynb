{
  "nbformat": 4,
  "nbformat_minor": 0,
  "metadata": {
    "colab": {
      "name": "Audio Classifier.ipynb",
      "provenance": [],
      "toc_visible": true,
      "authorship_tag": "ABX9TyPExdl7bafazNa0Ck1z7t69",
      "include_colab_link": true
    },
    "kernelspec": {
      "name": "python3",
      "display_name": "Python 3"
    }
  },
  "cells": [
    {
      "cell_type": "markdown",
      "metadata": {
        "id": "view-in-github",
        "colab_type": "text"
      },
      "source": [
        "<a href=\"https://colab.research.google.com/github/sukilsiva/Machine-Learnig-Deep-Learning-Code/blob/master/Audio_Classifier.ipynb\" target=\"_parent\"><img src=\"https://colab.research.google.com/assets/colab-badge.svg\" alt=\"Open In Colab\"/></a>"
      ]
    },
    {
      "cell_type": "code",
      "metadata": {
        "id": "usyQv9rdD54C",
        "colab_type": "code",
        "outputId": "3f3f4ad2-d79f-467c-94b7-599a8b8b2335",
        "colab": {
          "base_uri": "https://localhost:8080/",
          "height": 34
        }
      },
      "source": [
        "!git clone https://github.com/karolpiczak/ESC-50.git"
      ],
      "execution_count": 40,
      "outputs": [
        {
          "output_type": "stream",
          "text": [
            "fatal: destination path 'ESC-50' already exists and is not an empty directory.\n"
          ],
          "name": "stdout"
        }
      ]
    },
    {
      "cell_type": "code",
      "metadata": {
        "id": "TPEnUpTTQ14R",
        "colab_type": "code",
        "colab": {}
      },
      "source": [
        "import tensorflow\n",
        "from tensorflow import keras \n",
        "from keras.models import Sequential\n",
        "from keras.layers import Dropout,Dense,Conv2D,MaxPooling2D,Flatten\n",
        "from keras.utils import to_categorical\n",
        "from sklearn.preprocessing import LabelEncoder\n",
        "\n",
        "import pandas as pd\n",
        "import numpy as np\n",
        "import librosa\n",
        "import librosa.display\n",
        "import random"
      ],
      "execution_count": 0,
      "outputs": []
    },
    {
      "cell_type": "code",
      "metadata": {
        "id": "wOgDovbBQ161",
        "colab_type": "code",
        "outputId": "fbd929c1-8959-414a-bbdd-aea49e71d521",
        "colab": {
          "base_uri": "https://localhost:8080/",
          "height": 197
        }
      },
      "source": [
        "data = pd.read_csv(\"/content/ESC-50/meta/esc50.csv\")\n",
        "data.head()"
      ],
      "execution_count": 42,
      "outputs": [
        {
          "output_type": "execute_result",
          "data": {
            "text/html": [
              "<div>\n",
              "<style scoped>\n",
              "    .dataframe tbody tr th:only-of-type {\n",
              "        vertical-align: middle;\n",
              "    }\n",
              "\n",
              "    .dataframe tbody tr th {\n",
              "        vertical-align: top;\n",
              "    }\n",
              "\n",
              "    .dataframe thead th {\n",
              "        text-align: right;\n",
              "    }\n",
              "</style>\n",
              "<table border=\"1\" class=\"dataframe\">\n",
              "  <thead>\n",
              "    <tr style=\"text-align: right;\">\n",
              "      <th></th>\n",
              "      <th>filename</th>\n",
              "      <th>fold</th>\n",
              "      <th>target</th>\n",
              "      <th>category</th>\n",
              "      <th>esc10</th>\n",
              "      <th>src_file</th>\n",
              "      <th>take</th>\n",
              "    </tr>\n",
              "  </thead>\n",
              "  <tbody>\n",
              "    <tr>\n",
              "      <th>0</th>\n",
              "      <td>1-100032-A-0.wav</td>\n",
              "      <td>1</td>\n",
              "      <td>0</td>\n",
              "      <td>dog</td>\n",
              "      <td>True</td>\n",
              "      <td>100032</td>\n",
              "      <td>A</td>\n",
              "    </tr>\n",
              "    <tr>\n",
              "      <th>1</th>\n",
              "      <td>1-100038-A-14.wav</td>\n",
              "      <td>1</td>\n",
              "      <td>14</td>\n",
              "      <td>chirping_birds</td>\n",
              "      <td>False</td>\n",
              "      <td>100038</td>\n",
              "      <td>A</td>\n",
              "    </tr>\n",
              "    <tr>\n",
              "      <th>2</th>\n",
              "      <td>1-100210-A-36.wav</td>\n",
              "      <td>1</td>\n",
              "      <td>36</td>\n",
              "      <td>vacuum_cleaner</td>\n",
              "      <td>False</td>\n",
              "      <td>100210</td>\n",
              "      <td>A</td>\n",
              "    </tr>\n",
              "    <tr>\n",
              "      <th>3</th>\n",
              "      <td>1-100210-B-36.wav</td>\n",
              "      <td>1</td>\n",
              "      <td>36</td>\n",
              "      <td>vacuum_cleaner</td>\n",
              "      <td>False</td>\n",
              "      <td>100210</td>\n",
              "      <td>B</td>\n",
              "    </tr>\n",
              "    <tr>\n",
              "      <th>4</th>\n",
              "      <td>1-101296-A-19.wav</td>\n",
              "      <td>1</td>\n",
              "      <td>19</td>\n",
              "      <td>thunderstorm</td>\n",
              "      <td>False</td>\n",
              "      <td>101296</td>\n",
              "      <td>A</td>\n",
              "    </tr>\n",
              "  </tbody>\n",
              "</table>\n",
              "</div>"
            ],
            "text/plain": [
              "            filename  fold  target        category  esc10  src_file take\n",
              "0   1-100032-A-0.wav     1       0             dog   True    100032    A\n",
              "1  1-100038-A-14.wav     1      14  chirping_birds  False    100038    A\n",
              "2  1-100210-A-36.wav     1      36  vacuum_cleaner  False    100210    A\n",
              "3  1-100210-B-36.wav     1      36  vacuum_cleaner  False    100210    B\n",
              "4  1-101296-A-19.wav     1      19    thunderstorm  False    101296    A"
            ]
          },
          "metadata": {
            "tags": []
          },
          "execution_count": 42
        }
      ]
    },
    {
      "cell_type": "code",
      "metadata": {
        "id": "u5UeDIfpQ19a",
        "colab_type": "code",
        "outputId": "c196ab9e-440d-40bf-8ef1-78ca0d8f0552",
        "colab": {
          "base_uri": "https://localhost:8080/",
          "height": 34
        }
      },
      "source": [
        "data.shape"
      ],
      "execution_count": 43,
      "outputs": [
        {
          "output_type": "execute_result",
          "data": {
            "text/plain": [
              "(2000, 7)"
            ]
          },
          "metadata": {
            "tags": []
          },
          "execution_count": 43
        }
      ]
    },
    {
      "cell_type": "code",
      "metadata": {
        "id": "f1DXHeyJQ1_4",
        "colab_type": "code",
        "outputId": "c832b11c-b8c5-4698-858c-8a131df53caf",
        "colab": {
          "base_uri": "https://localhost:8080/",
          "height": 34
        }
      },
      "source": [
        "# to check how many unique voices the dataset\n",
        "\n",
        "len(data.category.unique())"
      ],
      "execution_count": 44,
      "outputs": [
        {
          "output_type": "execute_result",
          "data": {
            "text/plain": [
              "50"
            ]
          },
          "metadata": {
            "tags": []
          },
          "execution_count": 44
        }
      ]
    },
    {
      "cell_type": "code",
      "metadata": {
        "id": "4FZwbffxQ2CS",
        "colab_type": "code",
        "outputId": "08c64568-6d89-4c68-aa59-a1bc8d6e25e1",
        "colab": {
          "base_uri": "https://localhost:8080/",
          "height": 197
        }
      },
      "source": [
        "data = data[['filename', 'fold', 'category']]\n",
        "data.head()"
      ],
      "execution_count": 45,
      "outputs": [
        {
          "output_type": "execute_result",
          "data": {
            "text/html": [
              "<div>\n",
              "<style scoped>\n",
              "    .dataframe tbody tr th:only-of-type {\n",
              "        vertical-align: middle;\n",
              "    }\n",
              "\n",
              "    .dataframe tbody tr th {\n",
              "        vertical-align: top;\n",
              "    }\n",
              "\n",
              "    .dataframe thead th {\n",
              "        text-align: right;\n",
              "    }\n",
              "</style>\n",
              "<table border=\"1\" class=\"dataframe\">\n",
              "  <thead>\n",
              "    <tr style=\"text-align: right;\">\n",
              "      <th></th>\n",
              "      <th>filename</th>\n",
              "      <th>fold</th>\n",
              "      <th>category</th>\n",
              "    </tr>\n",
              "  </thead>\n",
              "  <tbody>\n",
              "    <tr>\n",
              "      <th>0</th>\n",
              "      <td>1-100032-A-0.wav</td>\n",
              "      <td>1</td>\n",
              "      <td>dog</td>\n",
              "    </tr>\n",
              "    <tr>\n",
              "      <th>1</th>\n",
              "      <td>1-100038-A-14.wav</td>\n",
              "      <td>1</td>\n",
              "      <td>chirping_birds</td>\n",
              "    </tr>\n",
              "    <tr>\n",
              "      <th>2</th>\n",
              "      <td>1-100210-A-36.wav</td>\n",
              "      <td>1</td>\n",
              "      <td>vacuum_cleaner</td>\n",
              "    </tr>\n",
              "    <tr>\n",
              "      <th>3</th>\n",
              "      <td>1-100210-B-36.wav</td>\n",
              "      <td>1</td>\n",
              "      <td>vacuum_cleaner</td>\n",
              "    </tr>\n",
              "    <tr>\n",
              "      <th>4</th>\n",
              "      <td>1-101296-A-19.wav</td>\n",
              "      <td>1</td>\n",
              "      <td>thunderstorm</td>\n",
              "    </tr>\n",
              "  </tbody>\n",
              "</table>\n",
              "</div>"
            ],
            "text/plain": [
              "            filename  fold        category\n",
              "0   1-100032-A-0.wav     1             dog\n",
              "1  1-100038-A-14.wav     1  chirping_birds\n",
              "2  1-100210-A-36.wav     1  vacuum_cleaner\n",
              "3  1-100210-B-36.wav     1  vacuum_cleaner\n",
              "4  1-101296-A-19.wav     1    thunderstorm"
            ]
          },
          "metadata": {
            "tags": []
          },
          "execution_count": 45
        }
      ]
    },
    {
      "cell_type": "code",
      "metadata": {
        "id": "3qEa3mmDQ2E1",
        "colab_type": "code",
        "outputId": "2b0a636b-f13c-463a-e84c-e565092e3e26",
        "colab": {
          "base_uri": "https://localhost:8080/",
          "height": 34
        }
      },
      "source": [
        "# lets check the librosa working with single audio\n",
        "\n",
        "y, sr = librosa.load(\"/content/ESC-50/audio/1-100032-A-0.wav\", duration=3)\n",
        "ps = librosa.feature.melspectrogram(y=y, sr=sr)\n",
        "ps.shape"
      ],
      "execution_count": 46,
      "outputs": [
        {
          "output_type": "execute_result",
          "data": {
            "text/plain": [
              "(128, 130)"
            ]
          },
          "metadata": {
            "tags": []
          },
          "execution_count": 46
        }
      ]
    },
    {
      "cell_type": "code",
      "metadata": {
        "id": "dr-gB_cUvMSY",
        "colab_type": "code",
        "outputId": "bd310443-0de9-44a6-9fe9-807a7b9f26cf",
        "colab": {
          "base_uri": "https://localhost:8080/",
          "height": 296
        }
      },
      "source": [
        "librosa.display.specshow(ps, y_axis='mel', x_axis='time')"
      ],
      "execution_count": 47,
      "outputs": [
        {
          "output_type": "execute_result",
          "data": {
            "text/plain": [
              "<matplotlib.axes._subplots.AxesSubplot at 0x7f4bd24ee710>"
            ]
          },
          "metadata": {
            "tags": []
          },
          "execution_count": 47
        },
        {
          "output_type": "display_data",
          "data": {
            "image/png": "[encoded data removed]",
            "text/plain": [
              "<Figure size 432x288 with 1 Axes>"
            ]
          },
          "metadata": {
            "tags": [],
            "needs_background": "light"
          }
        }
      ]
    },
    {
      "cell_type": "markdown",
      "metadata": {
        "id": "yIFYd4_a35Y8",
        "colab_type": "text"
      },
      "source": [
        "As the librosa is time consuming process we use only the sample of 100 datas for quick process "
      ]
    },
    {
      "cell_type": "code",
      "metadata": {
        "id": "NBktQm3o8gcL",
        "colab_type": "code",
        "outputId": "cb5dade5-8aad-4b92-c893-758b7e2646e4",
        "colab": {
          "base_uri": "https://localhost:8080/",
          "height": 34
        }
      },
      "source": [
        "data = data.sample(frac=0.05, random_state=42)\n",
        "data.shape"
      ],
      "execution_count": 48,
      "outputs": [
        {
          "output_type": "execute_result",
          "data": {
            "text/plain": [
              "(100, 3)"
            ]
          },
          "metadata": {
            "tags": []
          },
          "execution_count": 48
        }
      ]
    },
    {
      "cell_type": "code",
      "metadata": {
        "id": "6MaX-5Oa_DPv",
        "colab_type": "code",
        "outputId": "e88fe14e-aa46-4a5f-ea70-b6ed789ff760",
        "colab": {
          "base_uri": "https://localhost:8080/",
          "height": 107
        }
      },
      "source": [
        "data.head(2)"
      ],
      "execution_count": 49,
      "outputs": [
        {
          "output_type": "execute_result",
          "data": {
            "text/html": [
              "<div>\n",
              "<style scoped>\n",
              "    .dataframe tbody tr th:only-of-type {\n",
              "        vertical-align: middle;\n",
              "    }\n",
              "\n",
              "    .dataframe tbody tr th {\n",
              "        vertical-align: top;\n",
              "    }\n",
              "\n",
              "    .dataframe thead th {\n",
              "        text-align: right;\n",
              "    }\n",
              "</style>\n",
              "<table border=\"1\" class=\"dataframe\">\n",
              "  <thead>\n",
              "    <tr style=\"text-align: right;\">\n",
              "      <th></th>\n",
              "      <th>filename</th>\n",
              "      <th>fold</th>\n",
              "      <th>category</th>\n",
              "    </tr>\n",
              "  </thead>\n",
              "  <tbody>\n",
              "    <tr>\n",
              "      <th>1860</th>\n",
              "      <td>5-221950-A-22.wav</td>\n",
              "      <td>5</td>\n",
              "      <td>clapping</td>\n",
              "    </tr>\n",
              "    <tr>\n",
              "      <th>353</th>\n",
              "      <td>1-79220-A-17.wav</td>\n",
              "      <td>1</td>\n",
              "      <td>pouring_water</td>\n",
              "    </tr>\n",
              "  </tbody>\n",
              "</table>\n",
              "</div>"
            ],
            "text/plain": [
              "               filename  fold       category\n",
              "1860  5-221950-A-22.wav     5       clapping\n",
              "353    1-79220-A-17.wav     1  pouring_water"
            ]
          },
          "metadata": {
            "tags": []
          },
          "execution_count": 49
        }
      ]
    },
    {
      "cell_type": "code",
      "metadata": {
        "id": "esTEtyLPsgDG",
        "colab_type": "code",
        "outputId": "4fd18d24-c9e5-4ce2-fd90-b377c6bf79bd",
        "colab": {
          "base_uri": "https://localhost:8080/",
          "height": 34
        }
      },
      "source": [
        "data.category.nunique()"
      ],
      "execution_count": 50,
      "outputs": [
        {
          "output_type": "execute_result",
          "data": {
            "text/plain": [
              "45"
            ]
          },
          "metadata": {
            "tags": []
          },
          "execution_count": 50
        }
      ]
    },
    {
      "cell_type": "code",
      "metadata": {
        "id": "hfE2v_Y_vMXM",
        "colab_type": "code",
        "colab": {}
      },
      "source": [
        "D = []\n",
        "\n",
        "for row in data.itertuples():\n",
        "  y, sr = librosa.load('/content/ESC-50/audio/'+row.filename, duration=2.97)\n",
        "  ps = librosa.feature.melspectrogram(y = y, sr= sr)\n",
        "  if ps.shape != (128,128): continue\n",
        "  D.append( (ps, row.category) )"
      ],
      "execution_count": 0,
      "outputs": []
    },
    {
      "cell_type": "code",
      "metadata": {
        "id": "Qo4024Pt5-VS",
        "colab_type": "code",
        "colab": {}
      },
      "source": [
        "dataset = D\n",
        "random.shuffle(dataset)"
      ],
      "execution_count": 0,
      "outputs": []
    },
    {
      "cell_type": "code",
      "metadata": {
        "id": "Pp1GW1TW6AnE",
        "colab_type": "code",
        "colab": {}
      },
      "source": [
        "train = dataset[:75]\n",
        "test = dataset[75:]\n",
        "\n",
        "x_train, y_train = zip(*train)\n",
        "x_test, y_test = zip(*test)"
      ],
      "execution_count": 0,
      "outputs": []
    },
    {
      "cell_type": "code",
      "metadata": {
        "id": "B1PowykU7mjC",
        "colab_type": "code",
        "colab": {}
      },
      "source": [
        "# reshaping the array before feeding it into an CNN\n",
        "x_train = np.array([ x.reshape((128,128,1)) for x in x_train])\n",
        "x_test = np.array([ x.reshape((128,128,1)) for x in x_test])"
      ],
      "execution_count": 0,
      "outputs": []
    },
    {
      "cell_type": "code",
      "metadata": {
        "id": "pfaiWoOL8Etj",
        "colab_type": "code",
        "colab": {}
      },
      "source": [
        "lb = LabelEncoder()\n",
        "y_train = lb.fit_transform(y_train)\n",
        "y_test = lb.fit_transform(y_test)\n",
        "\n",
        "y_train = np.array(to_categorical(y_train, 38))\n",
        "y_test = np.array(to_categorical(y_test, 38))"
      ],
      "execution_count": 0,
      "outputs": []
    },
    {
      "cell_type": "code",
      "metadata": {
        "id": "2dNt2E7g8a0p",
        "colab_type": "code",
        "colab": {}
      },
      "source": [
        "# Building the convolutional neural network \n",
        "size = (128,128,1)\n",
        "\n",
        "model = Sequential()\n",
        "model.add(Conv2D (24, (5,5), input_shape = size, strides=(1,1), activation = 'relu'))\n",
        "model.add(MaxPooling2D ((4,2), strides=(4,2)))\n",
        "\n",
        "model.add(Conv2D (48, (5,5), activation='relu'))\n",
        "model.add(MaxPooling2D ((4,2), strides=(4,2)))\n",
        "\n",
        "model.add(Conv2D(48, (5,5), activation='relu'))\n",
        "\n",
        "model.add(Flatten())\n",
        "model.add(Dropout(0.5))\n",
        "\n",
        "model.add(Dense (64, activation='relu'))\n",
        "model.add(Dropout(0.5))\n",
        "\n",
        "model.add(Dense (38, activation='softmax'))"
      ],
      "execution_count": 0,
      "outputs": []
    },
    {
      "cell_type": "code",
      "metadata": {
        "id": "tM1vyEL1_pyq",
        "colab_type": "code",
        "colab": {}
      },
      "source": [
        "model.compile(optimizer = \"Adam\",\n",
        "              loss = 'categorical_crossentropy',\n",
        "              metrics = ['accuracy'])"
      ],
      "execution_count": 0,
      "outputs": []
    },
    {
      "cell_type": "code",
      "metadata": {
        "id": "-VBNIHGm_-nL",
        "colab_type": "code",
        "outputId": "cc6dec89-95c6-4867-9249-78d826354391",
        "colab": {
          "base_uri": "https://localhost:8080/",
          "height": 585
        }
      },
      "source": [
        "model.fit(x=x_train,\n",
        "          y=y_train,\n",
        "          epochs=15,\n",
        "          batch_size=16,\n",
        "          validation_data=(x_test,y_test))"
      ],
      "execution_count": 68,
      "outputs": [
        {
          "output_type": "stream",
          "text": [
            "Train on 75 samples, validate on 25 samples\n",
            "Epoch 1/15\n",
            "75/75 [==============================] - 2s 25ms/step - loss: 28.2937 - accuracy: 0.0667 - val_loss: 5.2779 - val_accuracy: 0.0800\n",
            "Epoch 2/15\n",
            "75/75 [==============================] - 1s 18ms/step - loss: 14.2869 - accuracy: 0.0133 - val_loss: 3.7094 - val_accuracy: 0.1200\n",
            "Epoch 3/15\n",
            "75/75 [==============================] - 1s 18ms/step - loss: 8.9082 - accuracy: 0.0400 - val_loss: 3.6498 - val_accuracy: 0.0800\n",
            "Epoch 4/15\n",
            "75/75 [==============================] - 1s 18ms/step - loss: 4.7985 - accuracy: 0.0400 - val_loss: 3.7450 - val_accuracy: 0.0800\n",
            "Epoch 5/15\n",
            "75/75 [==============================] - 1s 17ms/step - loss: 4.5582 - accuracy: 0.0800 - val_loss: 3.7416 - val_accuracy: 0.0800\n",
            "Epoch 6/15\n",
            "75/75 [==============================] - 1s 18ms/step - loss: 4.6963 - accuracy: 0.1067 - val_loss: 3.6875 - val_accuracy: 0.1200\n",
            "Epoch 7/15\n",
            "75/75 [==============================] - 1s 18ms/step - loss: 3.8135 - accuracy: 0.0800 - val_loss: 3.6861 - val_accuracy: 0.0800\n",
            "Epoch 8/15\n",
            "75/75 [==============================] - 1s 18ms/step - loss: 3.5599 - accuracy: 0.1067 - val_loss: 3.6797 - val_accuracy: 0.1200\n",
            "Epoch 9/15\n",
            "75/75 [==============================] - 1s 18ms/step - loss: 3.1885 - accuracy: 0.2000 - val_loss: 3.6882 - val_accuracy: 0.1200\n",
            "Epoch 10/15\n",
            "75/75 [==============================] - 2s 20ms/step - loss: 3.9373 - accuracy: 0.1200 - val_loss: 3.7482 - val_accuracy: 0.0800\n",
            "Epoch 11/15\n",
            "75/75 [==============================] - 1s 19ms/step - loss: 4.2849 - accuracy: 0.1600 - val_loss: 3.8752 - val_accuracy: 0.0800\n",
            "Epoch 12/15\n",
            "75/75 [==============================] - 1s 18ms/step - loss: 3.2569 - accuracy: 0.1600 - val_loss: 3.9434 - val_accuracy: 0.0400\n",
            "Epoch 13/15\n",
            "75/75 [==============================] - 1s 18ms/step - loss: 3.5036 - accuracy: 0.1067 - val_loss: 3.9993 - val_accuracy: 0.0400\n",
            "Epoch 14/15\n",
            "75/75 [==============================] - 1s 18ms/step - loss: 3.4562 - accuracy: 0.1200 - val_loss: 4.0957 - val_accuracy: 0.0400\n",
            "Epoch 15/15\n",
            "75/75 [==============================] - 1s 18ms/step - loss: 3.8421 - accuracy: 0.1200 - val_loss: 4.0801 - val_accuracy: 0.0800\n"
          ],
          "name": "stdout"
        },
        {
          "output_type": "execute_result",
          "data": {
            "text/plain": [
              "<keras.callbacks.callbacks.History at 0x7f4bd24ee9e8>"
            ]
          },
          "metadata": {
            "tags": []
          },
          "execution_count": 68
        }
      ]
    },
    {
      "cell_type": "code",
      "metadata": {
        "id": "4FQd-LIIDchq",
        "colab_type": "code",
        "colab": {
          "base_uri": "https://localhost:8080/",
          "height": 70
        },
        "outputId": "bebba637-9c20-4deb-fa66-0c3058a08a59"
      },
      "source": [
        "score = model.evaluate(x=x_test,\n",
        "                       y=y_test)\n",
        "\n",
        "print(\"test score : {}\".format(score[0]))\n",
        "print(\"test accuracy : {}\".format(score[1]))"
      ],
      "execution_count": 69,
      "outputs": [
        {
          "output_type": "stream",
          "text": [
            "\r25/25 [==============================] - 0s 5ms/step\n",
            "test score : 4.0801100730896\n",
            "test accuracy : 0.07999999821186066\n"
          ],
          "name": "stdout"
        }
      ]
    },
    {
      "cell_type": "markdown",
      "metadata": {
        "id": "ALfVSq3SzNHi",
        "colab_type": "text"
      },
      "source": [
        "## **DATA AUGUMENTATION**"
      ]
    },
    {
      "cell_type": "code",
      "metadata": {
        "id": "FgQ8HgZ1zQ3i",
        "colab_type": "code",
        "colab": {}
      },
      "source": [
        "### Varying time \n",
        "\n",
        "y, sr = librosa.load('/content/ESC-50/audio/1-100032-A-0.wav', duration = 2.97)\n",
        "y_changed = librosa.effects.time_stretch(y, rate = 0.87)\n",
        "librosa.output.write_wav('/content/ESC-50/changed_time_stretch/1-100032-A-0.wav', y_changed, sr)"
      ],
      "execution_count": 0,
      "outputs": []
    },
    {
      "cell_type": "code",
      "metadata": {
        "id": "6xAHsQci0NnC",
        "colab_type": "code",
        "colab": {}
      },
      "source": [
        "### varying pitch\n",
        "\n",
        "## by doing the data augumentation actually we can improve the accuracy"
      ],
      "execution_count": 0,
      "outputs": []
    },
    {
      "cell_type": "code",
      "metadata": {
        "id": "Su-DNmub1JEa",
        "colab_type": "code",
        "colab": {
          "base_uri": "https://localhost:8080/",
          "height": 34
        },
        "outputId": "e4f9ba29-5566-4d7f-bd3a-a78af131e6da"
      },
      "source": [
        "input_data = input(\"Enter the data to tested:\")"
      ],
      "execution_count": 74,
      "outputs": [
        {
          "output_type": "stream",
          "text": [
            "Enter the data to tested:/content/ESC-50/changed_time_stretch/1-100032-A-0.wav\n"
          ],
          "name": "stdout"
        }
      ]
    },
    {
      "cell_type": "code",
      "metadata": {
        "id": "-Rfiqq5L2KV3",
        "colab_type": "code",
        "colab": {}
      },
      "source": [
        "test_data = []\n",
        "y, sr = librosa.load(input_data, duration=2.97)\n",
        "ps = librosa.feature.melspectrogram(y = y, sr = sr)\n",
        "test_data.append(ps)"
      ],
      "execution_count": 0,
      "outputs": []
    },
    {
      "cell_type": "code",
      "metadata": {
        "id": "9mvTh-5G1W5t",
        "colab_type": "code",
        "colab": {}
      },
      "source": [
        "test_array = np.array([x.reshape ((128,128,1)) for x in test_data])"
      ],
      "execution_count": 0,
      "outputs": []
    },
    {
      "cell_type": "code",
      "metadata": {
        "id": "WXEudO2y200G",
        "colab_type": "code",
        "colab": {}
      },
      "source": [
        "result = model.predict(test_array)"
      ],
      "execution_count": 0,
      "outputs": []
    },
    {
      "cell_type": "code",
      "metadata": {
        "id": "j2enLIbP3Yxb",
        "colab_type": "code",
        "colab": {}
      },
      "source": [
        "result = np.argmax(result, axis=1)"
      ],
      "execution_count": 0,
      "outputs": []
    },
    {
      "cell_type": "code",
      "metadata": {
        "id": "wHZ5jkFU5SxL",
        "colab_type": "code",
        "colab": {
          "base_uri": "https://localhost:8080/",
          "height": 34
        },
        "outputId": "1537e231-df1a-4014-fdd0-c94d9d839c07"
      },
      "source": [
        "result"
      ],
      "execution_count": 95,
      "outputs": [
        {
          "output_type": "execute_result",
          "data": {
            "text/plain": [
              "array([26])"
            ]
          },
          "metadata": {
            "tags": []
          },
          "execution_count": 95
        }
      ]
    },
    {
      "cell_type": "code",
      "metadata": {
        "id": "OqQqoBml980E",
        "colab_type": "code",
        "colab": {}
      },
      "source": [
        ""
      ],
      "execution_count": 0,
      "outputs": []
    }
  ]
}