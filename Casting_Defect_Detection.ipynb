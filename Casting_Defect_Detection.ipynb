{
  "nbformat": 4,
  "nbformat_minor": 0,
  "metadata": {
    "colab": {
      "name": "Casting_Defect_Detection.ipynb",
      "provenance": [],
      "collapsed_sections": [],
      "toc_visible": true
    },
    "kernelspec": {
      "name": "python3",
      "display_name": "Python 3"
    },
    "accelerator": "GPU"
  },
  "cells": [
    {
      "cell_type": "markdown",
      "metadata": {
        "id": "5jlLvV-p2PBM"
      },
      "source": [
        "#**CASTING DEFECT PREDICTION (IMAGE CLASSIFIER)**"
      ]
    },
    {
      "cell_type": "markdown",
      "metadata": {
        "id": "o-dsfM6Q2o4n"
      },
      "source": [
        "#### **Aim :**\n",
        "Our Aim is to predict whether the Given Image is casted Correctly or Not "
      ]
    },
    {
      "cell_type": "markdown",
      "metadata": {
        "id": "y95Dx5ae277E"
      },
      "source": [
        "**Purpose :**\n",
        "\n",
        "Following are the Advantages\n",
        "* Reduction in Quality Control Cost\n",
        "* Accuracy is More\n",
        "* Ability to Meet the Demands Quickly\n",
        "* Time Saving Process"
      ]
    },
    {
      "cell_type": "markdown",
      "metadata": {
        "id": "ZlKYgbOa4FJG"
      },
      "source": [
        "####**Steps :**\n",
        "* Collecting the Data (Our Source from Kaggle)\n",
        "  Other Sources Like \n",
        "       1. Companies Official DataBase API\n",
        "       2. Cloud Sources Like Microsoft Azure (Event Hub, IOT Workspace) \n",
        "       3. Stream Analytics Pipeline includes (Databases, Apps, Messaging Systems like (Kafka), Streaming systems like (Spark Program))\n",
        "* Data Preprocessing and Augumentation\n",
        "* Model Selection Using Keras Tuner\n",
        "* Model Building\n",
        "* Deployment Phase\n",
        "        1. Since its an Edge analytics project I Have been Tried to use TFLite Model for low power Availability and Processing the Model Deployment.\n",
        "        2. Steps : loading tflite model into IOT Devices using Various cloud Providers Like (Microsoft Edge Analytics Platform, Google Edge Analytics and AWS IOT GreenGrass)\n",
        "        3. But due to lack of availability of Resources here i going to deploy the model into a web app.  "
      ]
    },
    {
      "cell_type": "markdown",
      "metadata": {
        "id": "XQZ3OWr45Oo-"
      },
      "source": [
        "**1.0 Collecting the Data (Kaggle Datasets)**"
      ]
    },
    {
      "cell_type": "code",
      "metadata": {
        "id": "2H2ANZXo2NQL"
      },
      "source": [
        "! pip install -q kaggle"
      ],
      "execution_count": 1,
      "outputs": []
    },
    {
      "cell_type": "code",
      "metadata": {
        "id": "i9G26EELyG4i",
        "outputId": "f4fb527a-8f8f-4241-8015-3b76056f587f",
        "colab": {
          "resources": {
            "http://localhost:8080/nbextensions/google.colab/files.js": {
              "data": "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",
              "ok": true,
              "headers": [
                [
                  "content-type",
                  "application/javascript"
                ]
              ],
              "status": 200,
              "status_text": "OK"
            }
          },
          "base_uri": "https://localhost:8080/",
          "height": 93
        }
      },
      "source": [
        "from google.colab import files\n",
        "\n",
        "files.upload()"
      ],
      "execution_count": 2,
      "outputs": [
        {
          "output_type": "display_data",
          "data": {
            "text/html": [
              "\n",
              "     <input type=\"file\" id=\"files-d864bc7b-5c03-4e5d-b063-d764ed2e3cef\" name=\"files[]\" multiple disabled\n",
              "        style=\"border:none\" />\n",
              "     <output id=\"result-d864bc7b-5c03-4e5d-b063-d764ed2e3cef\">\n",
              "      Upload widget is only available when the cell has been executed in the\n",
              "      current browser session. Please rerun this cell to enable.\n",
              "      </output>\n",
              "      <script src=\"/nbextensions/google.colab/files.js\"></script> "
            ],
            "text/plain": [
              "<IPython.core.display.HTML object>"
            ]
          },
          "metadata": {
            "tags": []
          }
        },
        {
          "output_type": "stream",
          "text": [
            "Saving kaggle.json to kaggle.json\n"
          ],
          "name": "stdout"
        },
        {
          "output_type": "execute_result",
          "data": {
            "text/plain": [
              "{'kaggle.json': b'{\"username\":\"sukilsiva\",\"key\":\"b53bd3cbf685e7c10b14766f3b974bb0\"}'}"
            ]
          },
          "metadata": {
            "tags": []
          },
          "execution_count": 2
        }
      ]
    },
    {
      "cell_type": "code",
      "metadata": {
        "id": "qz9pEJ06yukC"
      },
      "source": [
        "!mkdir -p ~/.kaggle"
      ],
      "execution_count": 3,
      "outputs": []
    },
    {
      "cell_type": "code",
      "metadata": {
        "id": "uWU7FfNUy2kw"
      },
      "source": [
        "!cp kaggle.json ~/.kaggle/"
      ],
      "execution_count": 4,
      "outputs": []
    },
    {
      "cell_type": "code",
      "metadata": {
        "id": "WrLIhV1lzHMe",
        "outputId": "095bf75a-9ff0-435f-9e37-ecd33f89eb7a",
        "colab": {
          "base_uri": "https://localhost:8080/"
        }
      },
      "source": [
        "!ls ~/.kaggle"
      ],
      "execution_count": 5,
      "outputs": [
        {
          "output_type": "stream",
          "text": [
            "kaggle.json\n"
          ],
          "name": "stdout"
        }
      ]
    },
    {
      "cell_type": "code",
      "metadata": {
        "id": "xhdz-M6SzJUU"
      },
      "source": [
        "!chmod 600 /root/.kaggle/kaggle.json"
      ],
      "execution_count": 6,
      "outputs": []
    },
    {
      "cell_type": "code",
      "metadata": {
        "id": "6giZXdd1zLeO",
        "outputId": "7d7b12e8-79c6-478a-ddd3-b21a04202af2",
        "colab": {
          "base_uri": "https://localhost:8080/"
        }
      },
      "source": [
        "!kaggle datasets download -d ravirajsinh45/real-life-industrial-dataset-of-casting-product"
      ],
      "execution_count": 7,
      "outputs": [
        {
          "output_type": "stream",
          "text": [
            "Downloading real-life-industrial-dataset-of-casting-product.zip to /content\n",
            " 81% 81.0M/100M [00:00<00:00, 95.1MB/s]\n",
            "100% 100M/100M [00:00<00:00, 115MB/s]  \n"
          ],
          "name": "stdout"
        }
      ]
    },
    {
      "cell_type": "code",
      "metadata": {
        "id": "Fw5CNcsQzQLS"
      },
      "source": [
        "!unzip /content/real-life-industrial-dataset-of-casting-product.zip"
      ],
      "execution_count": null,
      "outputs": []
    },
    {
      "cell_type": "markdown",
      "metadata": {
        "id": "iiCxPSV45ZTy"
      },
      "source": [
        " **2.0 Data Preprocessing**"
      ]
    },
    {
      "cell_type": "code",
      "metadata": {
        "id": "fyoH1GPM5gXr",
        "outputId": "00a753a5-5f38-421b-c6ea-f83bfc520861",
        "colab": {
          "base_uri": "https://localhost:8080/"
        }
      },
      "source": [
        "### Imoprting the Libraries\n",
        "\n",
        "import tensorflow as tf\n",
        "from tensorflow.keras import Sequential\n",
        "from tensorflow.keras.models import Model\n",
        "from tensorflow.keras.layers import Conv2D, MaxPool2D, Flatten, Dense, Dropout, Input, Lambda\n",
        "from tensorflow.keras.applications.vgg19 import VGG19\n",
        "from tensorflow.keras.applications.vgg16 import preprocess_input\n",
        "from tensorflow.keras.preprocessing.image import ImageDataGenerator\n",
        "\n",
        "import glob\n",
        "import matplotlib.pyplot as plt\n",
        "import numpy as np\n",
        "\n",
        "print(tf.__version__)"
      ],
      "execution_count": 9,
      "outputs": [
        {
          "output_type": "stream",
          "text": [
            "2.3.0\n"
          ],
          "name": "stdout"
        }
      ]
    },
    {
      "cell_type": "code",
      "metadata": {
        "id": "hE_7zVfh6nHE"
      },
      "source": [
        "### Specifying the Size of the Images\n",
        "img_width = 128\n",
        "img_height = 128"
      ],
      "execution_count": 10,
      "outputs": []
    },
    {
      "cell_type": "code",
      "metadata": {
        "id": "SCs7reDhyeVM",
        "outputId": "5ccea796-9b79-474d-8fc4-64c222df4524",
        "colab": {
          "base_uri": "https://localhost:8080/",
          "height": 269
        }
      },
      "source": [
        "### Lets have a Look into the data\n",
        "import cv2\n",
        "from tqdm import tqdm\n",
        "import os\n",
        "\n",
        "DATADIR = \"/content/casting_data/casting_data/train\"\n",
        "\n",
        "CATEGORIES = [\"def_front\", \"ok_front\"]\n",
        "\n",
        "for category in CATEGORIES:  # do Defect and Ok Product\n",
        "    path = os.path.join(DATADIR,category)  # create path to defect and ok products\n",
        "    for img in os.listdir(path):  # iterate over each image per defect and ok\n",
        "        img_array = cv2.imread(os.path.join(path,img) ,cv2.IMREAD_GRAYSCALE)  # convert to array\n",
        "        plt.imshow(img_array, cmap='gray')  # graph it\n",
        "        plt.show()  # display!\n",
        "\n",
        "        break  # we just want one for now so break\n",
        "    break  #...and one more!"
      ],
      "execution_count": 11,
      "outputs": [
        {
          "output_type": "display_data",
          "data": {
            "image/png": "[encoded data removed]",
            "text/plain": [
              "<Figure size 432x288 with 1 Axes>"
            ]
          },
          "metadata": {
            "tags": [],
            "needs_background": "light"
          }
        }
      ]
    },
    {
      "cell_type": "code",
      "metadata": {
        "id": "fLqeIZeDzZp7",
        "outputId": "0390c13f-3a78-4b0c-aa99-833077a11069",
        "colab": {
          "base_uri": "https://localhost:8080/"
        }
      },
      "source": [
        "### Look at the array\n",
        "print(img_array)"
      ],
      "execution_count": 12,
      "outputs": [
        {
          "output_type": "stream",
          "text": [
            "[[178 178 178 ... 183 182 181]\n",
            " [178 178 178 ... 183 182 181]\n",
            " [178 178 178 ... 183 182 181]\n",
            " ...\n",
            " [151 150 149 ... 144 144 144]\n",
            " [151 150 149 ... 144 144 144]\n",
            " [151 150 149 ... 144 144 144]]\n"
          ],
          "name": "stdout"
        }
      ]
    },
    {
      "cell_type": "code",
      "metadata": {
        "id": "QspIO-12zZ1-",
        "outputId": "f6b37d09-7f45-487e-9e66-82886ba85da6",
        "colab": {
          "base_uri": "https://localhost:8080/"
        }
      },
      "source": [
        "print(img_array.shape)"
      ],
      "execution_count": 13,
      "outputs": [
        {
          "output_type": "stream",
          "text": [
            "(300, 300)\n"
          ],
          "name": "stdout"
        }
      ]
    },
    {
      "cell_type": "markdown",
      "metadata": {
        "id": "5u5O6IWNzxLk"
      },
      "source": [
        " So that's a 300 tall, 300 wide, and 3-channel image. 3-channel is because it's RGB (color). We definitely don't want the images that big, but also various images are different shapes, and this is also a problem."
      ]
    },
    {
      "cell_type": "code",
      "metadata": {
        "id": "xTRygmACzwWs",
        "outputId": "9222b1b5-8070-4368-dc3c-550b9bd0fc70",
        "colab": {
          "base_uri": "https://localhost:8080/",
          "height": 268
        }
      },
      "source": [
        "new_array = cv2.resize(img_array, (img_width, img_height))\n",
        "plt.imshow(new_array, cmap='gray')\n",
        "plt.show()"
      ],
      "execution_count": 14,
      "outputs": [
        {
          "output_type": "display_data",
          "data": {
            "image/png": "[encoded data removed]",
            "text/plain": [
              "<Figure size 432x288 with 1 Axes>"
            ]
          },
          "metadata": {
            "tags": [],
            "needs_background": "light"
          }
        }
      ]
    },
    {
      "cell_type": "code",
      "metadata": {
        "id": "j-K27ZyW0eSU",
        "outputId": "d65c4d12-6d92-484d-ae94-22d5fe552c27",
        "colab": {
          "base_uri": "https://localhost:8080/"
        }
      },
      "source": [
        "training_data = []\n",
        "\n",
        "def create_training_data():\n",
        "    for category in CATEGORIES:  # do defect and ok\n",
        "\n",
        "        path = os.path.join(DATADIR,category)  # create path to defect and ok\n",
        "        class_num = CATEGORIES.index(category)  # get the classification  (0 or a 1). 0=defect 1=ook\n",
        "\n",
        "        for img in tqdm(os.listdir(path)):  # iterate over each image per defect and ok\n",
        "            try:\n",
        "                img_array = cv2.imread(os.path.join(path,img) ,cv2.IMREAD_GRAYSCALE)  # convert to array\n",
        "                new_array = cv2.resize(img_array, (img_width, img_height))  # resize to normalize data size\n",
        "                training_data.append([new_array, class_num])  # add this to our training_data\n",
        "            except Exception as e:  # in the interest in keeping the output clean...\n",
        "                pass\n",
        "            #except OSError as e:\n",
        "            #    print(\"OSErrroBad img most likely\", e, os.path.join(path,img))\n",
        "            #except Exception as e:\n",
        "            #    print(\"general exception\", e, os.path.join(path,img))\n",
        "\n",
        "create_training_data()"
      ],
      "execution_count": 15,
      "outputs": [
        {
          "output_type": "stream",
          "text": [
            "100%|██████████| 3758/3758 [00:02<00:00, 1550.88it/s]\n",
            "100%|██████████| 2875/2875 [00:01<00:00, 1633.21it/s]\n"
          ],
          "name": "stderr"
        }
      ]
    },
    {
      "cell_type": "code",
      "metadata": {
        "id": "u9Xu3zui1IRr"
      },
      "source": [
        "import random\n",
        "\n",
        "random.shuffle(training_data)"
      ],
      "execution_count": 16,
      "outputs": []
    },
    {
      "cell_type": "code",
      "metadata": {
        "id": "Eba0UgN91Kbe"
      },
      "source": [
        "X_train = []\n",
        "y_train = []\n",
        "\n",
        "for features,label in training_data:\n",
        "    X_train.append(features)\n",
        "    y_train.append(label)\n",
        "\n",
        "X_train = np.array(X_train).reshape(-1, img_width, img_height, 1)"
      ],
      "execution_count": 17,
      "outputs": []
    },
    {
      "cell_type": "code",
      "metadata": {
        "id": "Ezrm4f9Z2Ns3"
      },
      "source": [
        "### Converting the Images between 0 and 1\n",
        "X_train = X_train/255.0"
      ],
      "execution_count": 18,
      "outputs": []
    },
    {
      "cell_type": "code",
      "metadata": {
        "id": "ACnXAj2T1lGp"
      },
      "source": [
        "X_train = np.array(X_train)"
      ],
      "execution_count": null,
      "outputs": []
    },
    {
      "cell_type": "code",
      "metadata": {
        "id": "kyaavW170s6B",
        "outputId": "0eeadc37-f373-4eff-a5a9-105ea41c43a2",
        "colab": {
          "base_uri": "https://localhost:8080/"
        }
      },
      "source": [
        "X_train[0].shape"
      ],
      "execution_count": 20,
      "outputs": [
        {
          "output_type": "execute_result",
          "data": {
            "text/plain": [
              "(128, 128, 1)"
            ]
          },
          "metadata": {
            "tags": []
          },
          "execution_count": 20
        }
      ]
    },
    {
      "cell_type": "code",
      "metadata": {
        "id": "pk2KOGO42OKf",
        "outputId": "201114c1-1758-4b45-f5b4-c3b681d2848d",
        "colab": {
          "base_uri": "https://localhost:8080/"
        }
      },
      "source": [
        "y_train = np.asarray(y_train).astype('float32').reshape((-1,1))\n",
        "y_train"
      ],
      "execution_count": 21,
      "outputs": [
        {
          "output_type": "execute_result",
          "data": {
            "text/plain": [
              "array([[1.],\n",
              "       [1.],\n",
              "       [0.],\n",
              "       ...,\n",
              "       [1.],\n",
              "       [0.],\n",
              "       [1.]], dtype=float32)"
            ]
          },
          "metadata": {
            "tags": []
          },
          "execution_count": 21
        }
      ]
    },
    {
      "cell_type": "code",
      "metadata": {
        "id": "lUTuso7Pnc5X",
        "outputId": "ac8087f0-dc50-45a3-8b3d-097ba304618c",
        "colab": {
          "base_uri": "https://localhost:8080/"
        }
      },
      "source": [
        "y_train.shape"
      ],
      "execution_count": 22,
      "outputs": [
        {
          "output_type": "execute_result",
          "data": {
            "text/plain": [
              "(6633, 1)"
            ]
          },
          "metadata": {
            "tags": []
          },
          "execution_count": 22
        }
      ]
    },
    {
      "cell_type": "code",
      "metadata": {
        "id": "E7J0KSDe2fbh",
        "outputId": "6f2fe06c-6a76-415a-8a30-96fe6bd596ac",
        "colab": {
          "base_uri": "https://localhost:8080/",
          "height": 269
        }
      },
      "source": [
        "DATADIR = \"/content/casting_data/casting_data/test\"\n",
        "\n",
        "CATEGORIES = [\"def_front\", \"ok_front\"]\n",
        "\n",
        "for category in CATEGORIES:  # do Defect and Ok Product\n",
        "    path = os.path.join(DATADIR,category)  # create path to defect and ok products\n",
        "    for img in os.listdir(path):  # iterate over each image per defect and ok\n",
        "        img_array = cv2.imread(os.path.join(path,img) ,cv2.IMREAD_GRAYSCALE)  # convert to array\n",
        "        plt.imshow(img_array, cmap='gray')  # graph it\n",
        "        plt.show()  # display!\n",
        "\n",
        "        break  # we just want one for now so break\n",
        "    break  #...and one more!"
      ],
      "execution_count": 23,
      "outputs": [
        {
          "output_type": "display_data",
          "data": {
            "image/png": "[encoded data removed]",
            "text/plain": [
              "<Figure size 432x288 with 1 Axes>"
            ]
          },
          "metadata": {
            "tags": [],
            "needs_background": "light"
          }
        }
      ]
    },
    {
      "cell_type": "code",
      "metadata": {
        "id": "_EgAvrDL2s8C",
        "outputId": "0696de05-3105-42c8-9ce4-322afd36df89",
        "colab": {
          "base_uri": "https://localhost:8080/",
          "height": 268
        }
      },
      "source": [
        "new_array = cv2.resize(img_array, (img_width, img_height))\n",
        "plt.imshow(new_array, cmap='gray')\n",
        "plt.show()"
      ],
      "execution_count": 24,
      "outputs": [
        {
          "output_type": "display_data",
          "data": {
            "image/png": "[encoded data removed]",
            "text/plain": [
              "<Figure size 432x288 with 1 Axes>"
            ]
          },
          "metadata": {
            "tags": [],
            "needs_background": "light"
          }
        }
      ]
    },
    {
      "cell_type": "code",
      "metadata": {
        "id": "GTWr4LRX2upK",
        "outputId": "da6ac42d-d231-4905-f7eb-5e3d5bf490a3",
        "colab": {
          "base_uri": "https://localhost:8080/"
        }
      },
      "source": [
        "testing_data = []\n",
        "\n",
        "def create_testing_data():\n",
        "    for category in CATEGORIES:  # do defect and ok\n",
        "\n",
        "        path = os.path.join(DATADIR,category)  # create path to defect and ok\n",
        "        class_num = CATEGORIES.index(category)  # get the classification  (0 or a 1). 0=defect 1=ook\n",
        "\n",
        "        for img in tqdm(os.listdir(path)):  # iterate over each image per defect and ok\n",
        "            try:\n",
        "                img_array = cv2.imread(os.path.join(path,img) ,cv2.IMREAD_GRAYSCALE)  # convert to array\n",
        "                new_array = cv2.resize(img_array, (img_width, img_height))  # resize to normalize data size\n",
        "                testing_data.append([new_array, class_num])  # add this to our training_data\n",
        "            except Exception as e:  # in the interest in keeping the output clean...\n",
        "                pass\n",
        "            #except OSError as e:\n",
        "            #    print(\"OSErrroBad img most likely\", e, os.path.join(path,img))\n",
        "            #except Exception as e:\n",
        "            #    print(\"general exception\", e, os.path.join(path,img))\n",
        "\n",
        "create_testing_data()"
      ],
      "execution_count": 25,
      "outputs": [
        {
          "output_type": "stream",
          "text": [
            "100%|██████████| 453/453 [00:00<00:00, 1660.56it/s]\n",
            "100%|██████████| 262/262 [00:00<00:00, 1672.95it/s]\n"
          ],
          "name": "stderr"
        }
      ]
    },
    {
      "cell_type": "code",
      "metadata": {
        "id": "-o1frh9h290R"
      },
      "source": [
        "import random\n",
        "\n",
        "random.shuffle(testing_data)"
      ],
      "execution_count": 26,
      "outputs": []
    },
    {
      "cell_type": "code",
      "metadata": {
        "id": "-3T17SSP3FHi"
      },
      "source": [
        "X_test = []\n",
        "y_test = []\n",
        "\n",
        "for features,label in testing_data:\n",
        "    X_test.append(features)\n",
        "    y_test.append(label)\n",
        "\n",
        "X_test = np.array(X_test).reshape(-1, img_width, img_height, 1)"
      ],
      "execution_count": 27,
      "outputs": []
    },
    {
      "cell_type": "code",
      "metadata": {
        "id": "ZE8bJs9t3Qfw",
        "outputId": "30cf4432-55cf-4db8-8b34-6534f2e8291e",
        "colab": {
          "base_uri": "https://localhost:8080/"
        }
      },
      "source": [
        "X_test = X_test/255.0\n",
        "X_test[0].shape"
      ],
      "execution_count": 28,
      "outputs": [
        {
          "output_type": "execute_result",
          "data": {
            "text/plain": [
              "(128, 128, 1)"
            ]
          },
          "metadata": {
            "tags": []
          },
          "execution_count": 28
        }
      ]
    },
    {
      "cell_type": "code",
      "metadata": {
        "id": "m3ofVSNf2Am6"
      },
      "source": [
        "X_test = np.array(X_test)"
      ],
      "execution_count": null,
      "outputs": []
    },
    {
      "cell_type": "code",
      "metadata": {
        "id": "QHNi7-x03QjA"
      },
      "source": [
        "y_test = np.asarray(y_test).astype('float32').reshape((-1,1))"
      ],
      "execution_count": null,
      "outputs": []
    },
    {
      "cell_type": "code",
      "metadata": {
        "id": "Kq16Te0t3b4i",
        "outputId": "f4f2fc3b-3eae-47fd-9a80-ecc3e0010919",
        "colab": {
          "base_uri": "https://localhost:8080/"
        }
      },
      "source": [
        "print(len(X_train), len(X_test), len(y_train), len(y_test))"
      ],
      "execution_count": 31,
      "outputs": [
        {
          "output_type": "stream",
          "text": [
            "6633 715 6633 715\n"
          ],
          "name": "stdout"
        }
      ]
    },
    {
      "cell_type": "code",
      "metadata": {
        "id": "fWFtXkxA9HQO",
        "outputId": "95ca3cf9-ddb0-46c5-df67-5977268a5431",
        "colab": {
          "base_uri": "https://localhost:8080/"
        }
      },
      "source": [
        "print(type(X_train), type(X_test),type(y_train), type(y_test))"
      ],
      "execution_count": 32,
      "outputs": [
        {
          "output_type": "stream",
          "text": [
            "<class 'numpy.ndarray'> <class 'numpy.ndarray'> <class 'numpy.ndarray'> <class 'numpy.ndarray'>\n"
          ],
          "name": "stdout"
        }
      ]
    },
    {
      "cell_type": "code",
      "metadata": {
        "id": "38JPFscsj5b6",
        "outputId": "4eb6fadf-0449-4ee4-c11e-05436a64c97d",
        "colab": {
          "base_uri": "https://localhost:8080/"
        }
      },
      "source": [
        "X_train[0].shape"
      ],
      "execution_count": 33,
      "outputs": [
        {
          "output_type": "execute_result",
          "data": {
            "text/plain": [
              "(128, 128, 1)"
            ]
          },
          "metadata": {
            "tags": []
          },
          "execution_count": 33
        }
      ]
    },
    {
      "cell_type": "code",
      "metadata": {
        "id": "S79lzH6Mj76i",
        "outputId": "5a8dbe2d-b7fc-47d3-d3ab-fa558abff2e8",
        "colab": {
          "base_uri": "https://localhost:8080/"
        }
      },
      "source": [
        "y_train[0].shape"
      ],
      "execution_count": 34,
      "outputs": [
        {
          "output_type": "execute_result",
          "data": {
            "text/plain": [
              "(1,)"
            ]
          },
          "metadata": {
            "tags": []
          },
          "execution_count": 34
        }
      ]
    },
    {
      "cell_type": "markdown",
      "metadata": {
        "id": "I5Xt7h-jmN6P"
      },
      "source": [
        " **3.0 Model Selection Using Keras Tuner**"
      ]
    },
    {
      "cell_type": "code",
      "metadata": {
        "id": "wiIE_KarmYeZ",
        "outputId": "3f0b97e9-1a48-44fe-b6e3-cf19e06970f8",
        "colab": {
          "base_uri": "https://localhost:8080/"
        }
      },
      "source": [
        "!pip install keras-tuner"
      ],
      "execution_count": 35,
      "outputs": [
        {
          "output_type": "stream",
          "text": [
            "Collecting keras-tuner\n",
            "\u001b[?25l  Downloading https://files.pythonhosted.org/packages/a7/f7/4b41b6832abf4c9bef71a664dc563adb25afc5812831667c6db572b1a261/keras-tuner-1.0.1.tar.gz (54kB)\n",
            "\r\u001b[K     |██████                          | 10kB 22.9MB/s eta 0:00:01\r\u001b[K     |████████████                    | 20kB 29.0MB/s eta 0:00:01\r\u001b[K     |██████████████████              | 30kB 20.8MB/s eta 0:00:01\r\u001b[K     |████████████████████████        | 40kB 18.9MB/s eta 0:00:01\r\u001b[K     |██████████████████████████████  | 51kB 20.5MB/s eta 0:00:01\r\u001b[K     |████████████████████████████████| 61kB 8.6MB/s \n",
            "\u001b[?25hRequirement already satisfied: future in /usr/local/lib/python3.6/dist-packages (from keras-tuner) (0.16.0)\n",
            "Requirement already satisfied: numpy in /usr/local/lib/python3.6/dist-packages (from keras-tuner) (1.18.5)\n",
            "Requirement already satisfied: tabulate in /usr/local/lib/python3.6/dist-packages (from keras-tuner) (0.8.7)\n",
            "Collecting terminaltables\n",
            "  Downloading https://files.pythonhosted.org/packages/9b/c4/4a21174f32f8a7e1104798c445dacdc1d4df86f2f26722767034e4de4bff/terminaltables-3.1.0.tar.gz\n",
            "Collecting colorama\n",
            "  Downloading https://files.pythonhosted.org/packages/44/98/5b86278fbbf250d239ae0ecb724f8572af1c91f4a11edf4d36a206189440/colorama-0.4.4-py2.py3-none-any.whl\n",
            "Requirement already satisfied: tqdm in /usr/local/lib/python3.6/dist-packages (from keras-tuner) (4.41.1)\n",
            "Requirement already satisfied: requests in /usr/local/lib/python3.6/dist-packages (from keras-tuner) (2.23.0)\n",
            "Requirement already satisfied: scipy in /usr/local/lib/python3.6/dist-packages (from keras-tuner) (1.4.1)\n",
            "Requirement already satisfied: scikit-learn in /usr/local/lib/python3.6/dist-packages (from keras-tuner) (0.22.2.post1)\n",
            "Requirement already satisfied: urllib3!=1.25.0,!=1.25.1,<1.26,>=1.21.1 in /usr/local/lib/python3.6/dist-packages (from requests->keras-tuner) (1.24.3)\n",
            "Requirement already satisfied: chardet<4,>=3.0.2 in /usr/local/lib/python3.6/dist-packages (from requests->keras-tuner) (3.0.4)\n",
            "Requirement already satisfied: idna<3,>=2.5 in /usr/local/lib/python3.6/dist-packages (from requests->keras-tuner) (2.10)\n",
            "Requirement already satisfied: certifi>=2017.4.17 in /usr/local/lib/python3.6/dist-packages (from requests->keras-tuner) (2020.6.20)\n",
            "Requirement already satisfied: joblib>=0.11 in /usr/local/lib/python3.6/dist-packages (from scikit-learn->keras-tuner) (0.17.0)\n",
            "Building wheels for collected packages: keras-tuner, terminaltables\n",
            "  Building wheel for keras-tuner (setup.py) ... \u001b[?25l\u001b[?25hdone\n",
            "  Created wheel for keras-tuner: filename=keras_tuner-1.0.1-cp36-none-any.whl size=73200 sha256=85953b7f7dde95e2271fde948a958acd307ed0f7b0b7f64b9a368cd5d43ddded\n",
            "  Stored in directory: /root/.cache/pip/wheels/b9/cc/62/52716b70dd90f3db12519233c3a93a5360bc672da1a10ded43\n",
            "  Building wheel for terminaltables (setup.py) ... \u001b[?25l\u001b[?25hdone\n",
            "  Created wheel for terminaltables: filename=terminaltables-3.1.0-cp36-none-any.whl size=15356 sha256=c9deaecd9a40a7fb80ee2504a94ed2f4f99bb43f85fd8a9ab10ed78c7cd8a883\n",
            "  Stored in directory: /root/.cache/pip/wheels/30/6b/50/6c75775b681fb36cdfac7f19799888ef9d8813aff9e379663e\n",
            "Successfully built keras-tuner terminaltables\n",
            "Installing collected packages: terminaltables, colorama, keras-tuner\n",
            "Successfully installed colorama-0.4.4 keras-tuner-1.0.1 terminaltables-3.1.0\n"
          ],
          "name": "stdout"
        }
      ]
    },
    {
      "cell_type": "code",
      "metadata": {
        "id": "juEU1oBjmUuw"
      },
      "source": [
        "### importing the Keras Tuner Library\n",
        "from kerastuner import RandomSearch"
      ],
      "execution_count": 36,
      "outputs": []
    },
    {
      "cell_type": "code",
      "metadata": {
        "id": "OzaxLda8Ck70"
      },
      "source": [
        "def build_model_1(hp):  \n",
        "  model = Sequential([\n",
        "                      ### Input Layer\n",
        "                      Conv2D(\n",
        "                             filters=hp.Int('conv_1_filter', min_value=32, max_value=128, step=16),\n",
        "                             kernel_size=hp.Choice('conv_1_kernel', values = [3,5]),\n",
        "                             activation='relu',\n",
        "                             input_shape=(img_width,img_height,1)\n",
        "                            ),\n",
        "                      MaxPool2D(\n",
        "                             pool_size=hp.Choice(\"pooling_1_strides\", values=[2,3])\n",
        "                            ),\n",
        "                      Dropout(\n",
        "                          rate=0.5\n",
        "                            ),\n",
        "\n",
        "                     ### Hidden Layer\n",
        "                     Conv2D(\n",
        "                            filters=hp.Int('conv_2_filter', min_value=32, max_value=64, step=16),\n",
        "                            kernel_size=hp.Choice('conv_2_kernel', values = [3,5]),\n",
        "                            activation='relu'\n",
        "                            ),\n",
        "                     MaxPool2D(\n",
        "                          pool_size=hp.Choice(\"pooling_2_strides\", values=[2,3])\n",
        "                            ),\n",
        "                     Dropout(\n",
        "                          rate=0.5\n",
        "                            ),\n",
        "                      \n",
        "                     ### Hidden Layer 2\n",
        "                     Conv2D(\n",
        "                            filters=hp.Int(\"Conv_3_Filter\", min_value=16, max_value=32, step=16),\n",
        "                            kernel_size=hp.Choice(\"Conv_2_Kernel\", values=[3,5]),\n",
        "                            activation=\"relu\"\n",
        "                           ),\n",
        "                      MaxPool2D(\n",
        "                          pool_size=hp.Choice(\"pooling_3_strides\", values=[2,3])\n",
        "                         ),\n",
        "                      Dropout(\n",
        "                          rate= 0.5\n",
        "                          ),\n",
        "\n",
        "                    ### Output Layer\n",
        "                    Flatten(),\n",
        "                    Dense(\n",
        "                          units=hp.Int('dense_1_units', min_value=32, max_value=128, step=16),\n",
        "                          activation='relu'\n",
        "                          ),\n",
        "                    Dense(2, activation='sigmoid')\n",
        "  ])\n",
        "  \n",
        "  model.compile(optimizer=tf.keras.optimizers.Adam(hp.Choice('learning_rate', values=[1e-2, 1e-3])),\n",
        "              loss='sparse_categorical_crossentropy',\n",
        "              metrics=['accuracy'])\n",
        "  \n",
        "  return model"
      ],
      "execution_count": 37,
      "outputs": []
    },
    {
      "cell_type": "code",
      "metadata": {
        "id": "E1D4OEzYttM-"
      },
      "source": [
        "### HyperParametre Tuning\n",
        "tuner_search=RandomSearch(build_model_1,\n",
        "                          objective='val_accuracy',\n",
        "                          max_trials=5,directory='output_1',project_name=\"Casting_Defects\")"
      ],
      "execution_count": 38,
      "outputs": []
    },
    {
      "cell_type": "code",
      "metadata": {
        "id": "QMJ7mJkxut0u",
        "outputId": "c3eb3043-5dae-4045-c8b0-ce4a3c38afe3",
        "colab": {
          "base_uri": "https://localhost:8080/",
          "height": 1000
        }
      },
      "source": [
        "tuner_search.search(X_train,y_train,epochs=10,validation_data=(X_test, y_test))"
      ],
      "execution_count": 39,
      "outputs": [
        {
          "output_type": "stream",
          "text": [
            "Epoch 1/10\n",
            "208/208 [==============================] - 8s 36ms/step - loss: 0.6965 - accuracy: 0.5592 - val_loss: 0.6628 - val_accuracy: 0.6336\n",
            "Epoch 2/10\n",
            "208/208 [==============================] - 7s 35ms/step - loss: 0.6851 - accuracy: 0.5666 - val_loss: 0.6713 - val_accuracy: 0.6336\n",
            "Epoch 3/10\n",
            "208/208 [==============================] - 7s 35ms/step - loss: 0.6847 - accuracy: 0.5666 - val_loss: 0.6753 - val_accuracy: 0.6336\n",
            "Epoch 4/10\n",
            "208/208 [==============================] - 7s 35ms/step - loss: 0.6851 - accuracy: 0.5666 - val_loss: 0.6696 - val_accuracy: 0.6336\n",
            "Epoch 5/10\n",
            "208/208 [==============================] - 7s 35ms/step - loss: 0.6846 - accuracy: 0.5666 - val_loss: 0.6618 - val_accuracy: 0.6336\n",
            "Epoch 6/10\n",
            "208/208 [==============================] - 7s 35ms/step - loss: 0.6846 - accuracy: 0.5666 - val_loss: 0.6671 - val_accuracy: 0.6336\n",
            "Epoch 7/10\n",
            "208/208 [==============================] - 7s 35ms/step - loss: 0.6847 - accuracy: 0.5666 - val_loss: 0.6677 - val_accuracy: 0.6336\n",
            "Epoch 8/10\n",
            "208/208 [==============================] - 7s 35ms/step - loss: 0.6845 - accuracy: 0.5666 - val_loss: 0.6648 - val_accuracy: 0.6336\n",
            "Epoch 9/10\n",
            "208/208 [==============================] - 7s 35ms/step - loss: 0.6843 - accuracy: 0.5666 - val_loss: 0.6640 - val_accuracy: 0.6336\n",
            "Epoch 10/10\n",
            "208/208 [==============================] - 7s 35ms/step - loss: 0.6847 - accuracy: 0.5666 - val_loss: 0.6667 - val_accuracy: 0.6336\n"
          ],
          "name": "stdout"
        },
        {
          "output_type": "display_data",
          "data": {
            "text/html": [
              "<span style=\"color:#4527A0\"><h1 style=\"font-size:18px\">Trial complete</h1></span>"
            ],
            "text/plain": [
              "<IPython.core.display.HTML object>"
            ]
          },
          "metadata": {
            "tags": []
          }
        },
        {
          "output_type": "display_data",
          "data": {
            "text/html": [
              "<span style=\"color:#4527A0\"><h1 style=\"font-size:18px\">Trial summary</h1></span>"
            ],
            "text/plain": [
              "<IPython.core.display.HTML object>"
            ]
          },
          "metadata": {
            "tags": []
          }
        },
        {
          "output_type": "display_data",
          "data": {
            "text/html": [
              "<span style=\"color:cyan\"> |-Trial ID: 292746819ff28f2a8715895bf4ce1b84</span>"
            ],
            "text/plain": [
              "<IPython.core.display.HTML object>"
            ]
          },
          "metadata": {
            "tags": []
          }
        },
        {
          "output_type": "display_data",
          "data": {
            "text/html": [
              "<span style=\"color:cyan\"> |-Score: 0.6335664391517639</span>"
            ],
            "text/plain": [
              "<IPython.core.display.HTML object>"
            ]
          },
          "metadata": {
            "tags": []
          }
        },
        {
          "output_type": "display_data",
          "data": {
            "text/html": [
              "<span style=\"color:cyan\"> |-Best step: 0</span>"
            ],
            "text/plain": [
              "<IPython.core.display.HTML object>"
            ]
          },
          "metadata": {
            "tags": []
          }
        },
        {
          "output_type": "display_data",
          "data": {
            "text/html": [
              "<span style=\"color:#7E57C2\"><h2 style=\"font-size:16px\">Hyperparameters:</h2></span>"
            ],
            "text/plain": [
              "<IPython.core.display.HTML object>"
            ]
          },
          "metadata": {
            "tags": []
          }
        },
        {
          "output_type": "display_data",
          "data": {
            "text/html": [
              "<span style=\"color:cyan\"> |-Conv_2_Kernel: 5</span>"
            ],
            "text/plain": [
              "<IPython.core.display.HTML object>"
            ]
          },
          "metadata": {
            "tags": []
          }
        },
        {
          "output_type": "display_data",
          "data": {
            "text/html": [
              "<span style=\"color:blue\"> |-Conv_3_Filter: 16</span>"
            ],
            "text/plain": [
              "<IPython.core.display.HTML object>"
            ]
          },
          "metadata": {
            "tags": []
          }
        },
        {
          "output_type": "display_data",
          "data": {
            "text/html": [
              "<span style=\"color:cyan\"> |-conv_1_filter: 128</span>"
            ],
            "text/plain": [
              "<IPython.core.display.HTML object>"
            ]
          },
          "metadata": {
            "tags": []
          }
        },
        {
          "output_type": "display_data",
          "data": {
            "text/html": [
              "<span style=\"color:blue\"> |-conv_1_kernel: 3</span>"
            ],
            "text/plain": [
              "<IPython.core.display.HTML object>"
            ]
          },
          "metadata": {
            "tags": []
          }
        },
        {
          "output_type": "display_data",
          "data": {
            "text/html": [
              "<span style=\"color:cyan\"> |-conv_2_filter: 64</span>"
            ],
            "text/plain": [
              "<IPython.core.display.HTML object>"
            ]
          },
          "metadata": {
            "tags": []
          }
        },
        {
          "output_type": "display_data",
          "data": {
            "text/html": [
              "<span style=\"color:blue\"> |-conv_2_kernel: 5</span>"
            ],
            "text/plain": [
              "<IPython.core.display.HTML object>"
            ]
          },
          "metadata": {
            "tags": []
          }
        },
        {
          "output_type": "display_data",
          "data": {
            "text/html": [
              "<span style=\"color:cyan\"> |-dense_1_units: 48</span>"
            ],
            "text/plain": [
              "<IPython.core.display.HTML object>"
            ]
          },
          "metadata": {
            "tags": []
          }
        },
        {
          "output_type": "display_data",
          "data": {
            "text/html": [
              "<span style=\"color:blue\"> |-learning_rate: 0.01</span>"
            ],
            "text/plain": [
              "<IPython.core.display.HTML object>"
            ]
          },
          "metadata": {
            "tags": []
          }
        },
        {
          "output_type": "display_data",
          "data": {
            "text/html": [
              "<span style=\"color:cyan\"> |-pooling_1_strides: 3</span>"
            ],
            "text/plain": [
              "<IPython.core.display.HTML object>"
            ]
          },
          "metadata": {
            "tags": []
          }
        },
        {
          "output_type": "display_data",
          "data": {
            "text/html": [
              "<span style=\"color:blue\"> |-pooling_2_strides: 3</span>"
            ],
            "text/plain": [
              "<IPython.core.display.HTML object>"
            ]
          },
          "metadata": {
            "tags": []
          }
        },
        {
          "output_type": "display_data",
          "data": {
            "text/html": [
              "<span style=\"color:cyan\"> |-pooling_3_strides: 3</span>"
            ],
            "text/plain": [
              "<IPython.core.display.HTML object>"
            ]
          },
          "metadata": {
            "tags": []
          }
        },
        {
          "output_type": "stream",
          "text": [
            "Epoch 1/10\n",
            "208/208 [==============================] - 5s 26ms/step - loss: 6.9604 - accuracy: 0.5660 - val_loss: 5.9062 - val_accuracy: 0.6336\n",
            "Epoch 2/10\n",
            "208/208 [==============================] - 5s 25ms/step - loss: 6.9862 - accuracy: 0.5666 - val_loss: 5.9062 - val_accuracy: 0.6336\n",
            "Epoch 3/10\n",
            "208/208 [==============================] - 5s 25ms/step - loss: 6.9862 - accuracy: 0.5666 - val_loss: 5.9062 - val_accuracy: 0.6336\n",
            "Epoch 4/10\n",
            "208/208 [==============================] - 5s 25ms/step - loss: 6.9862 - accuracy: 0.5666 - val_loss: 5.9062 - val_accuracy: 0.6336\n",
            "Epoch 5/10\n",
            "208/208 [==============================] - 5s 25ms/step - loss: 6.9862 - accuracy: 0.5666 - val_loss: 5.9062 - val_accuracy: 0.6336\n",
            "Epoch 6/10\n",
            "208/208 [==============================] - 5s 25ms/step - loss: 6.9862 - accuracy: 0.5666 - val_loss: 5.9062 - val_accuracy: 0.6336\n",
            "Epoch 7/10\n",
            "208/208 [==============================] - 5s 25ms/step - loss: 6.9862 - accuracy: 0.5666 - val_loss: 5.9062 - val_accuracy: 0.6336\n",
            "Epoch 8/10\n",
            "208/208 [==============================] - 5s 25ms/step - loss: 6.9862 - accuracy: 0.5666 - val_loss: 5.9062 - val_accuracy: 0.6336\n",
            "Epoch 9/10\n",
            "208/208 [==============================] - 5s 25ms/step - loss: 6.9862 - accuracy: 0.5666 - val_loss: 5.9062 - val_accuracy: 0.6336\n",
            "Epoch 10/10\n",
            "208/208 [==============================] - 5s 25ms/step - loss: 6.9862 - accuracy: 0.5666 - val_loss: 5.9062 - val_accuracy: 0.6336\n"
          ],
          "name": "stdout"
        },
        {
          "output_type": "display_data",
          "data": {
            "text/html": [
              "<span style=\"color:#4527A0\"><h1 style=\"font-size:18px\">Trial complete</h1></span>"
            ],
            "text/plain": [
              "<IPython.core.display.HTML object>"
            ]
          },
          "metadata": {
            "tags": []
          }
        },
        {
          "output_type": "display_data",
          "data": {
            "text/html": [
              "<span style=\"color:#4527A0\"><h1 style=\"font-size:18px\">Trial summary</h1></span>"
            ],
            "text/plain": [
              "<IPython.core.display.HTML object>"
            ]
          },
          "metadata": {
            "tags": []
          }
        },
        {
          "output_type": "display_data",
          "data": {
            "text/html": [
              "<span style=\"color:cyan\"> |-Trial ID: 8554fb45c594a78843c17631c44501ab</span>"
            ],
            "text/plain": [
              "<IPython.core.display.HTML object>"
            ]
          },
          "metadata": {
            "tags": []
          }
        },
        {
          "output_type": "display_data",
          "data": {
            "text/html": [
              "<span style=\"color:cyan\"> |-Score: 0.6335664391517639</span>"
            ],
            "text/plain": [
              "<IPython.core.display.HTML object>"
            ]
          },
          "metadata": {
            "tags": []
          }
        },
        {
          "output_type": "display_data",
          "data": {
            "text/html": [
              "<span style=\"color:cyan\"> |-Best step: 0</span>"
            ],
            "text/plain": [
              "<IPython.core.display.HTML object>"
            ]
          },
          "metadata": {
            "tags": []
          }
        },
        {
          "output_type": "display_data",
          "data": {
            "text/html": [
              "<span style=\"color:#7E57C2\"><h2 style=\"font-size:16px\">Hyperparameters:</h2></span>"
            ],
            "text/plain": [
              "<IPython.core.display.HTML object>"
            ]
          },
          "metadata": {
            "tags": []
          }
        },
        {
          "output_type": "display_data",
          "data": {
            "text/html": [
              "<span style=\"color:cyan\"> |-Conv_2_Kernel: 3</span>"
            ],
            "text/plain": [
              "<IPython.core.display.HTML object>"
            ]
          },
          "metadata": {
            "tags": []
          }
        },
        {
          "output_type": "display_data",
          "data": {
            "text/html": [
              "<span style=\"color:blue\"> |-Conv_3_Filter: 32</span>"
            ],
            "text/plain": [
              "<IPython.core.display.HTML object>"
            ]
          },
          "metadata": {
            "tags": []
          }
        },
        {
          "output_type": "display_data",
          "data": {
            "text/html": [
              "<span style=\"color:cyan\"> |-conv_1_filter: 64</span>"
            ],
            "text/plain": [
              "<IPython.core.display.HTML object>"
            ]
          },
          "metadata": {
            "tags": []
          }
        },
        {
          "output_type": "display_data",
          "data": {
            "text/html": [
              "<span style=\"color:blue\"> |-conv_1_kernel: 3</span>"
            ],
            "text/plain": [
              "<IPython.core.display.HTML object>"
            ]
          },
          "metadata": {
            "tags": []
          }
        },
        {
          "output_type": "display_data",
          "data": {
            "text/html": [
              "<span style=\"color:cyan\"> |-conv_2_filter: 48</span>"
            ],
            "text/plain": [
              "<IPython.core.display.HTML object>"
            ]
          },
          "metadata": {
            "tags": []
          }
        },
        {
          "output_type": "display_data",
          "data": {
            "text/html": [
              "<span style=\"color:blue\"> |-conv_2_kernel: 3</span>"
            ],
            "text/plain": [
              "<IPython.core.display.HTML object>"
            ]
          },
          "metadata": {
            "tags": []
          }
        },
        {
          "output_type": "display_data",
          "data": {
            "text/html": [
              "<span style=\"color:cyan\"> |-dense_1_units: 80</span>"
            ],
            "text/plain": [
              "<IPython.core.display.HTML object>"
            ]
          },
          "metadata": {
            "tags": []
          }
        },
        {
          "output_type": "display_data",
          "data": {
            "text/html": [
              "<span style=\"color:blue\"> |-learning_rate: 0.01</span>"
            ],
            "text/plain": [
              "<IPython.core.display.HTML object>"
            ]
          },
          "metadata": {
            "tags": []
          }
        },
        {
          "output_type": "display_data",
          "data": {
            "text/html": [
              "<span style=\"color:cyan\"> |-pooling_1_strides: 2</span>"
            ],
            "text/plain": [
              "<IPython.core.display.HTML object>"
            ]
          },
          "metadata": {
            "tags": []
          }
        },
        {
          "output_type": "display_data",
          "data": {
            "text/html": [
              "<span style=\"color:blue\"> |-pooling_2_strides: 2</span>"
            ],
            "text/plain": [
              "<IPython.core.display.HTML object>"
            ]
          },
          "metadata": {
            "tags": []
          }
        },
        {
          "output_type": "display_data",
          "data": {
            "text/html": [
              "<span style=\"color:cyan\"> |-pooling_3_strides: 2</span>"
            ],
            "text/plain": [
              "<IPython.core.display.HTML object>"
            ]
          },
          "metadata": {
            "tags": []
          }
        },
        {
          "output_type": "stream",
          "text": [
            "Epoch 1/10\n",
            "208/208 [==============================] - 6s 28ms/step - loss: 0.6862 - accuracy: 0.5566 - val_loss: 0.6666 - val_accuracy: 0.6336\n",
            "Epoch 2/10\n",
            "208/208 [==============================] - 6s 27ms/step - loss: 0.6825 - accuracy: 0.5670 - val_loss: 0.6680 - val_accuracy: 0.6336\n",
            "Epoch 3/10\n",
            "208/208 [==============================] - 6s 27ms/step - loss: 0.6635 - accuracy: 0.5853 - val_loss: 0.6143 - val_accuracy: 0.7175\n",
            "Epoch 4/10\n",
            "208/208 [==============================] - 6s 27ms/step - loss: 0.5916 - accuracy: 0.6842 - val_loss: 0.5694 - val_accuracy: 0.7273\n",
            "Epoch 5/10\n",
            "208/208 [==============================] - 6s 26ms/step - loss: 0.4969 - accuracy: 0.7515 - val_loss: 0.4366 - val_accuracy: 0.8713\n",
            "Epoch 6/10\n",
            "208/208 [==============================] - 5s 26ms/step - loss: 0.4435 - accuracy: 0.7998 - val_loss: 0.3906 - val_accuracy: 0.8573\n",
            "Epoch 7/10\n",
            "208/208 [==============================] - 6s 27ms/step - loss: 0.4117 - accuracy: 0.8105 - val_loss: 0.3495 - val_accuracy: 0.8853\n",
            "Epoch 8/10\n",
            "208/208 [==============================] - 5s 26ms/step - loss: 0.3805 - accuracy: 0.8308 - val_loss: 0.3336 - val_accuracy: 0.8755\n",
            "Epoch 9/10\n",
            "208/208 [==============================] - 5s 26ms/step - loss: 0.3828 - accuracy: 0.8220 - val_loss: 0.3029 - val_accuracy: 0.8951\n",
            "Epoch 10/10\n",
            "208/208 [==============================] - 6s 27ms/step - loss: 0.3458 - accuracy: 0.8446 - val_loss: 0.2818 - val_accuracy: 0.8965\n"
          ],
          "name": "stdout"
        },
        {
          "output_type": "display_data",
          "data": {
            "text/html": [
              "<span style=\"color:#4527A0\"><h1 style=\"font-size:18px\">Trial complete</h1></span>"
            ],
            "text/plain": [
              "<IPython.core.display.HTML object>"
            ]
          },
          "metadata": {
            "tags": []
          }
        },
        {
          "output_type": "display_data",
          "data": {
            "text/html": [
              "<span style=\"color:#4527A0\"><h1 style=\"font-size:18px\">Trial summary</h1></span>"
            ],
            "text/plain": [
              "<IPython.core.display.HTML object>"
            ]
          },
          "metadata": {
            "tags": []
          }
        },
        {
          "output_type": "display_data",
          "data": {
            "text/html": [
              "<span style=\"color:cyan\"> |-Trial ID: 1b1cf395b31fa5a6456c327349dd02ba</span>"
            ],
            "text/plain": [
              "<IPython.core.display.HTML object>"
            ]
          },
          "metadata": {
            "tags": []
          }
        },
        {
          "output_type": "display_data",
          "data": {
            "text/html": [
              "<span style=\"color:cyan\"> |-Score: 0.8965035080909729</span>"
            ],
            "text/plain": [
              "<IPython.core.display.HTML object>"
            ]
          },
          "metadata": {
            "tags": []
          }
        },
        {
          "output_type": "display_data",
          "data": {
            "text/html": [
              "<span style=\"color:cyan\"> |-Best step: 0</span>"
            ],
            "text/plain": [
              "<IPython.core.display.HTML object>"
            ]
          },
          "metadata": {
            "tags": []
          }
        },
        {
          "output_type": "display_data",
          "data": {
            "text/html": [
              "<span style=\"color:#7E57C2\"><h2 style=\"font-size:16px\">Hyperparameters:</h2></span>"
            ],
            "text/plain": [
              "<IPython.core.display.HTML object>"
            ]
          },
          "metadata": {
            "tags": []
          }
        },
        {
          "output_type": "display_data",
          "data": {
            "text/html": [
              "<span style=\"color:cyan\"> |-Conv_2_Kernel: 3</span>"
            ],
            "text/plain": [
              "<IPython.core.display.HTML object>"
            ]
          },
          "metadata": {
            "tags": []
          }
        },
        {
          "output_type": "display_data",
          "data": {
            "text/html": [
              "<span style=\"color:blue\"> |-Conv_3_Filter: 16</span>"
            ],
            "text/plain": [
              "<IPython.core.display.HTML object>"
            ]
          },
          "metadata": {
            "tags": []
          }
        },
        {
          "output_type": "display_data",
          "data": {
            "text/html": [
              "<span style=\"color:cyan\"> |-conv_1_filter: 112</span>"
            ],
            "text/plain": [
              "<IPython.core.display.HTML object>"
            ]
          },
          "metadata": {
            "tags": []
          }
        },
        {
          "output_type": "display_data",
          "data": {
            "text/html": [
              "<span style=\"color:blue\"> |-conv_1_kernel: 5</span>"
            ],
            "text/plain": [
              "<IPython.core.display.HTML object>"
            ]
          },
          "metadata": {
            "tags": []
          }
        },
        {
          "output_type": "display_data",
          "data": {
            "text/html": [
              "<span style=\"color:cyan\"> |-conv_2_filter: 32</span>"
            ],
            "text/plain": [
              "<IPython.core.display.HTML object>"
            ]
          },
          "metadata": {
            "tags": []
          }
        },
        {
          "output_type": "display_data",
          "data": {
            "text/html": [
              "<span style=\"color:blue\"> |-conv_2_kernel: 3</span>"
            ],
            "text/plain": [
              "<IPython.core.display.HTML object>"
            ]
          },
          "metadata": {
            "tags": []
          }
        },
        {
          "output_type": "display_data",
          "data": {
            "text/html": [
              "<span style=\"color:cyan\"> |-dense_1_units: 32</span>"
            ],
            "text/plain": [
              "<IPython.core.display.HTML object>"
            ]
          },
          "metadata": {
            "tags": []
          }
        },
        {
          "output_type": "display_data",
          "data": {
            "text/html": [
              "<span style=\"color:blue\"> |-learning_rate: 0.001</span>"
            ],
            "text/plain": [
              "<IPython.core.display.HTML object>"
            ]
          },
          "metadata": {
            "tags": []
          }
        },
        {
          "output_type": "display_data",
          "data": {
            "text/html": [
              "<span style=\"color:cyan\"> |-pooling_1_strides: 3</span>"
            ],
            "text/plain": [
              "<IPython.core.display.HTML object>"
            ]
          },
          "metadata": {
            "tags": []
          }
        },
        {
          "output_type": "display_data",
          "data": {
            "text/html": [
              "<span style=\"color:blue\"> |-pooling_2_strides: 3</span>"
            ],
            "text/plain": [
              "<IPython.core.display.HTML object>"
            ]
          },
          "metadata": {
            "tags": []
          }
        },
        {
          "output_type": "display_data",
          "data": {
            "text/html": [
              "<span style=\"color:cyan\"> |-pooling_3_strides: 3</span>"
            ],
            "text/plain": [
              "<IPython.core.display.HTML object>"
            ]
          },
          "metadata": {
            "tags": []
          }
        },
        {
          "output_type": "stream",
          "text": [
            "Epoch 1/10\n",
            "208/208 [==============================] - 7s 34ms/step - loss: 0.6810 - accuracy: 0.5667 - val_loss: 0.6447 - val_accuracy: 0.6797\n",
            "Epoch 2/10\n",
            "208/208 [==============================] - 7s 32ms/step - loss: 0.5194 - accuracy: 0.7350 - val_loss: 0.3763 - val_accuracy: 0.8629\n",
            "Epoch 3/10\n",
            "208/208 [==============================] - 7s 32ms/step - loss: 0.3967 - accuracy: 0.8115 - val_loss: 0.3213 - val_accuracy: 0.8685\n",
            "Epoch 4/10\n",
            "208/208 [==============================] - 7s 32ms/step - loss: 0.3222 - accuracy: 0.8471 - val_loss: 0.2523 - val_accuracy: 0.8867\n",
            "Epoch 5/10\n",
            "208/208 [==============================] - 7s 32ms/step - loss: 0.2960 - accuracy: 0.8613 - val_loss: 0.2133 - val_accuracy: 0.9105\n",
            "Epoch 6/10\n",
            "208/208 [==============================] - 7s 32ms/step - loss: 0.2673 - accuracy: 0.8768 - val_loss: 0.1943 - val_accuracy: 0.9552\n",
            "Epoch 7/10\n",
            "208/208 [==============================] - 7s 32ms/step - loss: 0.2165 - accuracy: 0.9009 - val_loss: 0.1774 - val_accuracy: 0.9413\n",
            "Epoch 8/10\n",
            "208/208 [==============================] - 7s 32ms/step - loss: 0.1787 - accuracy: 0.9204 - val_loss: 0.0981 - val_accuracy: 0.9720\n",
            "Epoch 9/10\n",
            "208/208 [==============================] - 7s 32ms/step - loss: 0.1943 - accuracy: 0.9159 - val_loss: 0.1125 - val_accuracy: 0.9692\n",
            "Epoch 10/10\n",
            "208/208 [==============================] - 7s 32ms/step - loss: 0.1699 - accuracy: 0.9270 - val_loss: 0.0869 - val_accuracy: 0.9748\n"
          ],
          "name": "stdout"
        },
        {
          "output_type": "display_data",
          "data": {
            "text/html": [
              "<span style=\"color:#4527A0\"><h1 style=\"font-size:18px\">Trial complete</h1></span>"
            ],
            "text/plain": [
              "<IPython.core.display.HTML object>"
            ]
          },
          "metadata": {
            "tags": []
          }
        },
        {
          "output_type": "display_data",
          "data": {
            "text/html": [
              "<span style=\"color:#4527A0\"><h1 style=\"font-size:18px\">Trial summary</h1></span>"
            ],
            "text/plain": [
              "<IPython.core.display.HTML object>"
            ]
          },
          "metadata": {
            "tags": []
          }
        },
        {
          "output_type": "display_data",
          "data": {
            "text/html": [
              "<span style=\"color:cyan\"> |-Trial ID: 8732df9f7e8dbad047e0a9810c99c3ce</span>"
            ],
            "text/plain": [
              "<IPython.core.display.HTML object>"
            ]
          },
          "metadata": {
            "tags": []
          }
        },
        {
          "output_type": "display_data",
          "data": {
            "text/html": [
              "<span style=\"color:cyan\"> |-Score: 0.9748252034187317</span>"
            ],
            "text/plain": [
              "<IPython.core.display.HTML object>"
            ]
          },
          "metadata": {
            "tags": []
          }
        },
        {
          "output_type": "display_data",
          "data": {
            "text/html": [
              "<span style=\"color:cyan\"> |-Best step: 0</span>"
            ],
            "text/plain": [
              "<IPython.core.display.HTML object>"
            ]
          },
          "metadata": {
            "tags": []
          }
        },
        {
          "output_type": "display_data",
          "data": {
            "text/html": [
              "<span style=\"color:#7E57C2\"><h2 style=\"font-size:16px\">Hyperparameters:</h2></span>"
            ],
            "text/plain": [
              "<IPython.core.display.HTML object>"
            ]
          },
          "metadata": {
            "tags": []
          }
        },
        {
          "output_type": "display_data",
          "data": {
            "text/html": [
              "<span style=\"color:cyan\"> |-Conv_2_Kernel: 5</span>"
            ],
            "text/plain": [
              "<IPython.core.display.HTML object>"
            ]
          },
          "metadata": {
            "tags": []
          }
        },
        {
          "output_type": "display_data",
          "data": {
            "text/html": [
              "<span style=\"color:blue\"> |-Conv_3_Filter: 16</span>"
            ],
            "text/plain": [
              "<IPython.core.display.HTML object>"
            ]
          },
          "metadata": {
            "tags": []
          }
        },
        {
          "output_type": "display_data",
          "data": {
            "text/html": [
              "<span style=\"color:cyan\"> |-conv_1_filter: 96</span>"
            ],
            "text/plain": [
              "<IPython.core.display.HTML object>"
            ]
          },
          "metadata": {
            "tags": []
          }
        },
        {
          "output_type": "display_data",
          "data": {
            "text/html": [
              "<span style=\"color:blue\"> |-conv_1_kernel: 5</span>"
            ],
            "text/plain": [
              "<IPython.core.display.HTML object>"
            ]
          },
          "metadata": {
            "tags": []
          }
        },
        {
          "output_type": "display_data",
          "data": {
            "text/html": [
              "<span style=\"color:cyan\"> |-conv_2_filter: 64</span>"
            ],
            "text/plain": [
              "<IPython.core.display.HTML object>"
            ]
          },
          "metadata": {
            "tags": []
          }
        },
        {
          "output_type": "display_data",
          "data": {
            "text/html": [
              "<span style=\"color:blue\"> |-conv_2_kernel: 3</span>"
            ],
            "text/plain": [
              "<IPython.core.display.HTML object>"
            ]
          },
          "metadata": {
            "tags": []
          }
        },
        {
          "output_type": "display_data",
          "data": {
            "text/html": [
              "<span style=\"color:cyan\"> |-dense_1_units: 96</span>"
            ],
            "text/plain": [
              "<IPython.core.display.HTML object>"
            ]
          },
          "metadata": {
            "tags": []
          }
        },
        {
          "output_type": "display_data",
          "data": {
            "text/html": [
              "<span style=\"color:blue\"> |-learning_rate: 0.001</span>"
            ],
            "text/plain": [
              "<IPython.core.display.HTML object>"
            ]
          },
          "metadata": {
            "tags": []
          }
        },
        {
          "output_type": "display_data",
          "data": {
            "text/html": [
              "<span style=\"color:cyan\"> |-pooling_1_strides: 2</span>"
            ],
            "text/plain": [
              "<IPython.core.display.HTML object>"
            ]
          },
          "metadata": {
            "tags": []
          }
        },
        {
          "output_type": "display_data",
          "data": {
            "text/html": [
              "<span style=\"color:blue\"> |-pooling_2_strides: 3</span>"
            ],
            "text/plain": [
              "<IPython.core.display.HTML object>"
            ]
          },
          "metadata": {
            "tags": []
          }
        },
        {
          "output_type": "display_data",
          "data": {
            "text/html": [
              "<span style=\"color:cyan\"> |-pooling_3_strides: 3</span>"
            ],
            "text/plain": [
              "<IPython.core.display.HTML object>"
            ]
          },
          "metadata": {
            "tags": []
          }
        },
        {
          "output_type": "stream",
          "text": [
            "Epoch 1/10\n",
            "208/208 [==============================] - 5s 24ms/step - loss: 0.6939 - accuracy: 0.5663 - val_loss: 0.6931 - val_accuracy: 0.6336\n",
            "Epoch 2/10\n",
            "208/208 [==============================] - 5s 22ms/step - loss: 0.6931 - accuracy: 0.5666 - val_loss: 0.6931 - val_accuracy: 0.6336\n",
            "Epoch 3/10\n",
            "208/208 [==============================] - 5s 23ms/step - loss: 0.6931 - accuracy: 0.5666 - val_loss: 0.6931 - val_accuracy: 0.6336\n",
            "Epoch 4/10\n",
            "208/208 [==============================] - 5s 23ms/step - loss: 0.6931 - accuracy: 0.5666 - val_loss: 0.6931 - val_accuracy: 0.6336\n",
            "Epoch 5/10\n",
            "208/208 [==============================] - 5s 22ms/step - loss: 0.6931 - accuracy: 0.5666 - val_loss: 0.6931 - val_accuracy: 0.6336\n",
            "Epoch 6/10\n",
            "208/208 [==============================] - 5s 23ms/step - loss: 0.6931 - accuracy: 0.5666 - val_loss: 0.6931 - val_accuracy: 0.6336\n",
            "Epoch 7/10\n",
            "208/208 [==============================] - 5s 23ms/step - loss: 0.6931 - accuracy: 0.5666 - val_loss: 0.6931 - val_accuracy: 0.6336\n",
            "Epoch 8/10\n",
            "208/208 [==============================] - 5s 23ms/step - loss: 0.6931 - accuracy: 0.5666 - val_loss: 0.6931 - val_accuracy: 0.6336\n",
            "Epoch 9/10\n",
            "208/208 [==============================] - 5s 23ms/step - loss: 0.6931 - accuracy: 0.5666 - val_loss: 0.6931 - val_accuracy: 0.6336\n",
            "Epoch 10/10\n",
            "208/208 [==============================] - 5s 23ms/step - loss: 0.6931 - accuracy: 0.5666 - val_loss: 0.6931 - val_accuracy: 0.6336\n"
          ],
          "name": "stdout"
        },
        {
          "output_type": "display_data",
          "data": {
            "text/html": [
              "<span style=\"color:#4527A0\"><h1 style=\"font-size:18px\">Trial complete</h1></span>"
            ],
            "text/plain": [
              "<IPython.core.display.HTML object>"
            ]
          },
          "metadata": {
            "tags": []
          }
        },
        {
          "output_type": "display_data",
          "data": {
            "text/html": [
              "<span style=\"color:#4527A0\"><h1 style=\"font-size:18px\">Trial summary</h1></span>"
            ],
            "text/plain": [
              "<IPython.core.display.HTML object>"
            ]
          },
          "metadata": {
            "tags": []
          }
        },
        {
          "output_type": "display_data",
          "data": {
            "text/html": [
              "<span style=\"color:cyan\"> |-Trial ID: bda418ba02c596bed84301865bf521b8</span>"
            ],
            "text/plain": [
              "<IPython.core.display.HTML object>"
            ]
          },
          "metadata": {
            "tags": []
          }
        },
        {
          "output_type": "display_data",
          "data": {
            "text/html": [
              "<span style=\"color:cyan\"> |-Score: 0.6335664391517639</span>"
            ],
            "text/plain": [
              "<IPython.core.display.HTML object>"
            ]
          },
          "metadata": {
            "tags": []
          }
        },
        {
          "output_type": "display_data",
          "data": {
            "text/html": [
              "<span style=\"color:cyan\"> |-Best step: 0</span>"
            ],
            "text/plain": [
              "<IPython.core.display.HTML object>"
            ]
          },
          "metadata": {
            "tags": []
          }
        },
        {
          "output_type": "display_data",
          "data": {
            "text/html": [
              "<span style=\"color:#7E57C2\"><h2 style=\"font-size:16px\">Hyperparameters:</h2></span>"
            ],
            "text/plain": [
              "<IPython.core.display.HTML object>"
            ]
          },
          "metadata": {
            "tags": []
          }
        },
        {
          "output_type": "display_data",
          "data": {
            "text/html": [
              "<span style=\"color:cyan\"> |-Conv_2_Kernel: 3</span>"
            ],
            "text/plain": [
              "<IPython.core.display.HTML object>"
            ]
          },
          "metadata": {
            "tags": []
          }
        },
        {
          "output_type": "display_data",
          "data": {
            "text/html": [
              "<span style=\"color:blue\"> |-Conv_3_Filter: 32</span>"
            ],
            "text/plain": [
              "<IPython.core.display.HTML object>"
            ]
          },
          "metadata": {
            "tags": []
          }
        },
        {
          "output_type": "display_data",
          "data": {
            "text/html": [
              "<span style=\"color:cyan\"> |-conv_1_filter: 64</span>"
            ],
            "text/plain": [
              "<IPython.core.display.HTML object>"
            ]
          },
          "metadata": {
            "tags": []
          }
        },
        {
          "output_type": "display_data",
          "data": {
            "text/html": [
              "<span style=\"color:blue\"> |-conv_1_kernel: 5</span>"
            ],
            "text/plain": [
              "<IPython.core.display.HTML object>"
            ]
          },
          "metadata": {
            "tags": []
          }
        },
        {
          "output_type": "display_data",
          "data": {
            "text/html": [
              "<span style=\"color:cyan\"> |-conv_2_filter: 48</span>"
            ],
            "text/plain": [
              "<IPython.core.display.HTML object>"
            ]
          },
          "metadata": {
            "tags": []
          }
        },
        {
          "output_type": "display_data",
          "data": {
            "text/html": [
              "<span style=\"color:blue\"> |-conv_2_kernel: 3</span>"
            ],
            "text/plain": [
              "<IPython.core.display.HTML object>"
            ]
          },
          "metadata": {
            "tags": []
          }
        },
        {
          "output_type": "display_data",
          "data": {
            "text/html": [
              "<span style=\"color:cyan\"> |-dense_1_units: 64</span>"
            ],
            "text/plain": [
              "<IPython.core.display.HTML object>"
            ]
          },
          "metadata": {
            "tags": []
          }
        },
        {
          "output_type": "display_data",
          "data": {
            "text/html": [
              "<span style=\"color:blue\"> |-learning_rate: 0.01</span>"
            ],
            "text/plain": [
              "<IPython.core.display.HTML object>"
            ]
          },
          "metadata": {
            "tags": []
          }
        },
        {
          "output_type": "display_data",
          "data": {
            "text/html": [
              "<span style=\"color:cyan\"> |-pooling_1_strides: 2</span>"
            ],
            "text/plain": [
              "<IPython.core.display.HTML object>"
            ]
          },
          "metadata": {
            "tags": []
          }
        },
        {
          "output_type": "display_data",
          "data": {
            "text/html": [
              "<span style=\"color:blue\"> |-pooling_2_strides: 3</span>"
            ],
            "text/plain": [
              "<IPython.core.display.HTML object>"
            ]
          },
          "metadata": {
            "tags": []
          }
        },
        {
          "output_type": "display_data",
          "data": {
            "text/html": [
              "<span style=\"color:cyan\"> |-pooling_3_strides: 2</span>"
            ],
            "text/plain": [
              "<IPython.core.display.HTML object>"
            ]
          },
          "metadata": {
            "tags": []
          }
        },
        {
          "output_type": "stream",
          "text": [
            "INFO:tensorflow:Oracle triggered exit\n"
          ],
          "name": "stdout"
        }
      ]
    },
    {
      "cell_type": "code",
      "metadata": {
        "id": "O4EIr3TUI9ko",
        "outputId": "1377de64-efc3-43e4-df1e-e73edb8886d3",
        "colab": {
          "base_uri": "https://localhost:8080/"
        }
      },
      "source": [
        "model=tuner_search.get_best_models(num_models=3)[0]"
      ],
      "execution_count": 50,
      "outputs": [
        {
          "output_type": "stream",
          "text": [
            "WARNING:tensorflow:Unresolved object in checkpoint: (root).optimizer.iter\n",
            "WARNING:tensorflow:Unresolved object in checkpoint: (root).optimizer.beta_1\n",
            "WARNING:tensorflow:Unresolved object in checkpoint: (root).optimizer.beta_2\n",
            "WARNING:tensorflow:Unresolved object in checkpoint: (root).optimizer.decay\n",
            "WARNING:tensorflow:Unresolved object in checkpoint: (root).optimizer.learning_rate\n",
            "WARNING:tensorflow:A checkpoint was restored (e.g. tf.train.Checkpoint.restore or tf.keras.Model.load_weights) but not all checkpointed values were used. See above for specific issues. Use expect_partial() on the load status object, e.g. tf.train.Checkpoint.restore(...).expect_partial(), to silence these warnings, or use assert_consumed() to make the check explicit. See https://www.tensorflow.org/guide/checkpoint#loading_mechanics for details.\n",
            "WARNING:tensorflow:Unresolved object in checkpoint: (root).optimizer.iter\n",
            "WARNING:tensorflow:Unresolved object in checkpoint: (root).optimizer.beta_1\n",
            "WARNING:tensorflow:Unresolved object in checkpoint: (root).optimizer.beta_2\n",
            "WARNING:tensorflow:Unresolved object in checkpoint: (root).optimizer.decay\n",
            "WARNING:tensorflow:Unresolved object in checkpoint: (root).optimizer.learning_rate\n",
            "WARNING:tensorflow:A checkpoint was restored (e.g. tf.train.Checkpoint.restore or tf.keras.Model.load_weights) but not all checkpointed values were used. See above for specific issues. Use expect_partial() on the load status object, e.g. tf.train.Checkpoint.restore(...).expect_partial(), to silence these warnings, or use assert_consumed() to make the check explicit. See https://www.tensorflow.org/guide/checkpoint#loading_mechanics for details.\n"
          ],
          "name": "stdout"
        }
      ]
    },
    {
      "cell_type": "code",
      "metadata": {
        "id": "XfENKVdxlOmT"
      },
      "source": [
        "model.add(tf.keras.Input(shape=(img_width,img_height,1)))"
      ],
      "execution_count": 51,
      "outputs": []
    },
    {
      "cell_type": "code",
      "metadata": {
        "id": "QjvRW39XJ38r",
        "outputId": "69809767-fea3-42f5-a7c0-93742a7992fc",
        "colab": {
          "base_uri": "https://localhost:8080/"
        }
      },
      "source": [
        "model.summary()"
      ],
      "execution_count": 52,
      "outputs": [
        {
          "output_type": "stream",
          "text": [
            "Model: \"sequential\"\n",
            "_________________________________________________________________\n",
            "Layer (type)                 Output Shape              Param #   \n",
            "=================================================================\n",
            "conv2d (Conv2D)              (None, 124, 124, 96)      2496      \n",
            "_________________________________________________________________\n",
            "max_pooling2d (MaxPooling2D) (None, 62, 62, 96)        0         \n",
            "_________________________________________________________________\n",
            "dropout (Dropout)            (None, 62, 62, 96)        0         \n",
            "_________________________________________________________________\n",
            "conv2d_1 (Conv2D)            (None, 60, 60, 64)        55360     \n",
            "_________________________________________________________________\n",
            "max_pooling2d_1 (MaxPooling2 (None, 20, 20, 64)        0         \n",
            "_________________________________________________________________\n",
            "dropout_1 (Dropout)          (None, 20, 20, 64)        0         \n",
            "_________________________________________________________________\n",
            "conv2d_2 (Conv2D)            (None, 16, 16, 16)        25616     \n",
            "_________________________________________________________________\n",
            "max_pooling2d_2 (MaxPooling2 (None, 5, 5, 16)          0         \n",
            "_________________________________________________________________\n",
            "dropout_2 (Dropout)          (None, 5, 5, 16)          0         \n",
            "_________________________________________________________________\n",
            "flatten (Flatten)            (None, 400)               0         \n",
            "_________________________________________________________________\n",
            "dense (Dense)                (None, 96)                38496     \n",
            "_________________________________________________________________\n",
            "dense_1 (Dense)              (None, 2)                 194       \n",
            "_________________________________________________________________\n",
            "input_1 (InputLayer)         multiple                  0         \n",
            "=================================================================\n",
            "Total params: 122,162\n",
            "Trainable params: 122,162\n",
            "Non-trainable params: 0\n",
            "_________________________________________________________________\n"
          ],
          "name": "stdout"
        }
      ]
    },
    {
      "cell_type": "markdown",
      "metadata": {
        "id": "U8TO15ooKJ8A"
      },
      "source": [
        " **4.0 Model Building**"
      ]
    },
    {
      "cell_type": "markdown",
      "metadata": {
        "id": "qF73huqHKbuM"
      },
      "source": [
        "Lets Check the Model How its performing with new Data"
      ]
    },
    {
      "cell_type": "code",
      "metadata": {
        "id": "aIhcFpaJJ68v",
        "outputId": "0515e175-e91b-4574-c42a-8b4cda5e7f00",
        "colab": {
          "base_uri": "https://localhost:8080/"
        }
      },
      "source": [
        "model.fit(X_train, y_train, epochs=10 ,validation_split= 0.2)"
      ],
      "execution_count": 53,
      "outputs": [
        {
          "output_type": "stream",
          "text": [
            "Epoch 1/10\n",
            "166/166 [==============================] - 6s 36ms/step - loss: 0.1536 - accuracy: 0.9335 - val_loss: 0.0615 - val_accuracy: 0.9819\n",
            "Epoch 2/10\n",
            "166/166 [==============================] - 6s 33ms/step - loss: 0.1283 - accuracy: 0.9476 - val_loss: 0.0543 - val_accuracy: 0.9872\n",
            "Epoch 3/10\n",
            "166/166 [==============================] - 6s 33ms/step - loss: 0.1289 - accuracy: 0.9433 - val_loss: 0.0752 - val_accuracy: 0.9925\n",
            "Epoch 4/10\n",
            "166/166 [==============================] - 6s 33ms/step - loss: 0.1301 - accuracy: 0.9463 - val_loss: 0.0590 - val_accuracy: 0.9857\n",
            "Epoch 5/10\n",
            "166/166 [==============================] - 6s 33ms/step - loss: 0.1192 - accuracy: 0.9514 - val_loss: 0.2121 - val_accuracy: 0.9141\n",
            "Epoch 6/10\n",
            "166/166 [==============================] - 6s 33ms/step - loss: 0.1182 - accuracy: 0.9534 - val_loss: 0.0398 - val_accuracy: 0.9977\n",
            "Epoch 7/10\n",
            "166/166 [==============================] - 6s 33ms/step - loss: 0.0895 - accuracy: 0.9649 - val_loss: 0.0686 - val_accuracy: 0.9819\n",
            "Epoch 8/10\n",
            "166/166 [==============================] - 6s 34ms/step - loss: 0.1031 - accuracy: 0.9604 - val_loss: 0.0321 - val_accuracy: 0.9977\n",
            "Epoch 9/10\n",
            "166/166 [==============================] - 6s 34ms/step - loss: 0.0989 - accuracy: 0.9612 - val_loss: 0.0461 - val_accuracy: 0.9925\n",
            "Epoch 10/10\n",
            "166/166 [==============================] - 6s 34ms/step - loss: 0.0859 - accuracy: 0.9687 - val_loss: 0.1090 - val_accuracy: 0.9668\n"
          ],
          "name": "stdout"
        },
        {
          "output_type": "execute_result",
          "data": {
            "text/plain": [
              "<tensorflow.python.keras.callbacks.History at 0x7f5ad25f3a58>"
            ]
          },
          "metadata": {
            "tags": []
          },
          "execution_count": 53
        }
      ]
    },
    {
      "cell_type": "code",
      "metadata": {
        "id": "uGLR7JzuL2jF"
      },
      "source": [
        "def predictions(image):\n",
        "  ### Loading the Image\n",
        "  test_image = cv2.imread(image, cv2.IMREAD_GRAYSCALE)\n",
        "  test_image = cv2.resize(test_image,(img_width, img_height))\n",
        "  plt.imshow(test_image, cmap=\"gray\") # Plot Image\n",
        "  test_image= np.array(test_image).reshape(-1, img_width, img_height, 1)\n",
        "  test_image = test_image/255.0\n",
        "  test_image = np.array(test_image)\n",
        "\n",
        "  ###Predictions\n",
        "  results = model.predict(test_image)\n",
        "  results = np.argmax(results, axis=1)\n",
        "  if results[0] == 1:\n",
        "    predictions = 'OK Product'\n",
        "  else:\n",
        "    predictions = 'Defect Product'\n",
        "\n",
        "  return results[0], (\"Predictions :\",predictions)"
      ],
      "execution_count": 54,
      "outputs": []
    },
    {
      "cell_type": "code",
      "metadata": {
        "id": "fupIRtc_BPx3",
        "outputId": "a24f09d4-e277-4b9d-86c1-0afc64a3902a",
        "colab": {
          "base_uri": "https://localhost:8080/",
          "height": 305
        }
      },
      "source": [
        "img = input(\"Enter the Image To be Predicted:\")\n",
        "predictions(img)"
      ],
      "execution_count": 55,
      "outputs": [
        {
          "output_type": "stream",
          "text": [
            "Enter the Image To be Predicted:/content/casting_data/casting_data/test/ok_front/cast_ok_0_10.jpeg\n"
          ],
          "name": "stdout"
        },
        {
          "output_type": "execute_result",
          "data": {
            "text/plain": [
              "(1, ('Predictions :', 'OK Product'))"
            ]
          },
          "metadata": {
            "tags": []
          },
          "execution_count": 55
        },
        {
          "output_type": "display_data",
          "data": {
            "image/png": "[encoded data removed]",
            "text/plain": [
              "<Figure size 432x288 with 1 Axes>"
            ]
          },
          "metadata": {
            "tags": [],
            "needs_background": "light"
          }
        }
      ]
    },
    {
      "cell_type": "markdown",
      "metadata": {
        "id": "r5Yv2l4UQLmD"
      },
      "source": [
        "OK to identify the correct one"
      ]
    },
    {
      "cell_type": "code",
      "metadata": {
        "id": "9HNrllZzITmr",
        "outputId": "e1c95f95-e8a9-4e93-f273-0551e38323ef",
        "colab": {
          "base_uri": "https://localhost:8080/",
          "height": 305
        }
      },
      "source": [
        "img = input(\"Enter the Image To be Predicted:\")\n",
        "predictions(img)"
      ],
      "execution_count": 56,
      "outputs": [
        {
          "output_type": "stream",
          "text": [
            "Enter the Image To be Predicted:/content/casting_data/casting_data/test/def_front/cast_def_0_1059.jpeg\n"
          ],
          "name": "stdout"
        },
        {
          "output_type": "execute_result",
          "data": {
            "text/plain": [
              "(0, ('Predictions :', 'Defect Product'))"
            ]
          },
          "metadata": {
            "tags": []
          },
          "execution_count": 56
        },
        {
          "output_type": "display_data",
          "data": {
            "image/png": "[encoded data removed]",
            "text/plain": [
              "<Figure size 432x288 with 1 Axes>"
            ]
          },
          "metadata": {
            "tags": [],
            "needs_background": "light"
          }
        }
      ]
    },
    {
      "cell_type": "markdown",
      "metadata": {
        "id": "GMS_W9OBQZT1"
      },
      "source": [
        "!!! Works fine to identify Defects Too"
      ]
    },
    {
      "cell_type": "markdown",
      "metadata": {
        "id": "dxGy9Q2a70dw"
      },
      "source": [
        "**5.0 Model Deployment**"
      ]
    },
    {
      "cell_type": "markdown",
      "metadata": {
        "id": "mfGpmfwT8Zgg"
      },
      "source": [
        "since its an edge of the device deployment(Industrial Quality Checking Vision Cameras)\n",
        "\n",
        "* Since the edge devices has not that much sophosticated Memory, CPU and Processing Devices we need to optimise the Model.\n",
        "* So here we are Going to do Post Model Quantization using tflite"
      ]
    },
    {
      "cell_type": "code",
      "metadata": {
        "id": "RflOYp25Qdl1",
        "outputId": "d2988baf-a092-4f63-c90b-e0aeb608f80e",
        "colab": {
          "base_uri": "https://localhost:8080/"
        }
      },
      "source": [
        "### Converting to light weight Model\n",
        "converter = tf.lite.TFLiteConverter.from_keras_model(model)\n",
        "tflite_model = converter.convert()"
      ],
      "execution_count": 57,
      "outputs": [
        {
          "output_type": "stream",
          "text": [
            "WARNING:tensorflow:From /usr/local/lib/python3.6/dist-packages/tensorflow/python/training/tracking/tracking.py:111: Model.state_updates (from tensorflow.python.keras.engine.training) is deprecated and will be removed in a future version.\n",
            "Instructions for updating:\n",
            "This property should not be used in TensorFlow 2.0, as updates are applied automatically.\n",
            "WARNING:tensorflow:From /usr/local/lib/python3.6/dist-packages/tensorflow/python/training/tracking/tracking.py:111: Layer.updates (from tensorflow.python.keras.engine.base_layer) is deprecated and will be removed in a future version.\n",
            "Instructions for updating:\n",
            "This property should not be used in TensorFlow 2.0, as updates are applied automatically.\n",
            "INFO:tensorflow:Assets written to: /tmp/tmpg9t3xpb_/assets\n"
          ],
          "name": "stdout"
        }
      ]
    },
    {
      "cell_type": "code",
      "metadata": {
        "id": "xO88FTBjAamT",
        "outputId": "5ccb4d85-154d-49a9-9980-3de642b0cd1f",
        "colab": {
          "base_uri": "https://localhost:8080/"
        }
      },
      "source": [
        "### Lets Optimize the current Model\n",
        "converter.optimizations = [tf.lite.Optimize.OPTIMIZE_FOR_SIZE]  # This steps will optimize the Weights of the model from float. By Default its Float 32\n",
        "#converter.target_spec.supported_ops = [tf.lite.OpsSet.TFLITE_BUILTINS_INT8]\n",
        "#converter.inference_input_type = tf.uint8\n",
        "#converter.inference_output_type = tf.uint8\n",
        "#Converter.representative_dataset = training_data          \n",
        "tflite_Quantized_Model = converter.convert()"
      ],
      "execution_count": 58,
      "outputs": [
        {
          "output_type": "stream",
          "text": [
            "INFO:tensorflow:Assets written to: /tmp/tmpo4blfkeg/assets\n"
          ],
          "name": "stdout"
        },
        {
          "output_type": "stream",
          "text": [
            "INFO:tensorflow:Assets written to: /tmp/tmpo4blfkeg/assets\n"
          ],
          "name": "stderr"
        }
      ]
    },
    {
      "cell_type": "code",
      "metadata": {
        "id": "FGGAapU_BBU7"
      },
      "source": [
        "### Deploying the tflite model\n",
        "interpreter = tf.lite.Interpreter(model_content = tflite_model) ### Loading Quantized model act we can do with tflite_Quantized_model too\n",
        "interpreter.allocate_tensors()\n",
        "input_tensor_index = interpreter.get_input_details()[0][\"index\"]\n",
        "output = interpreter.tensor(interpreter.get_output_details()[0][\"index\"])"
      ],
      "execution_count": 59,
      "outputs": []
    },
    {
      "cell_type": "code",
      "metadata": {
        "id": "Sc8K3amnNusv",
        "outputId": "fb1871c6-7853-419f-dc93-63d2e546aae2",
        "colab": {
          "base_uri": "https://localhost:8080/"
        }
      },
      "source": [
        "interpreter.get_tensor_details()"
      ],
      "execution_count": 60,
      "outputs": [
        {
          "output_type": "execute_result",
          "data": {
            "text/plain": [
              "[{'dtype': numpy.float32,\n",
              "  'index': 0,\n",
              "  'name': 'conv2d_input',\n",
              "  'quantization': (0.0, 0),\n",
              "  'quantization_parameters': {'quantized_dimension': 0,\n",
              "   'scales': array([], dtype=float32),\n",
              "   'zero_points': array([], dtype=int32)},\n",
              "  'shape': array([  1, 128, 128,   1], dtype=int32),\n",
              "  'shape_signature': array([ -1, 128, 128,   1], dtype=int32),\n",
              "  'sparsity_parameters': {}},\n",
              " {'dtype': numpy.float32,\n",
              "  'index': 1,\n",
              "  'name': 'sequential/conv2d/BiasAdd/ReadVariableOp/resource',\n",
              "  'quantization': (0.0, 0),\n",
              "  'quantization_parameters': {'quantized_dimension': 0,\n",
              "   'scales': array([], dtype=float32),\n",
              "   'zero_points': array([], dtype=int32)},\n",
              "  'shape': array([96], dtype=int32),\n",
              "  'shape_signature': array([96], dtype=int32),\n",
              "  'sparsity_parameters': {}},\n",
              " {'dtype': numpy.float32,\n",
              "  'index': 2,\n",
              "  'name': 'sequential/conv2d_1/BiasAdd/ReadVariableOp/resource',\n",
              "  'quantization': (0.0, 0),\n",
              "  'quantization_parameters': {'quantized_dimension': 0,\n",
              "   'scales': array([], dtype=float32),\n",
              "   'zero_points': array([], dtype=int32)},\n",
              "  'shape': array([64], dtype=int32),\n",
              "  'shape_signature': array([64], dtype=int32),\n",
              "  'sparsity_parameters': {}},\n",
              " {'dtype': numpy.float32,\n",
              "  'index': 3,\n",
              "  'name': 'sequential/conv2d_2/BiasAdd/ReadVariableOp/resource',\n",
              "  'quantization': (0.0, 0),\n",
              "  'quantization_parameters': {'quantized_dimension': 0,\n",
              "   'scales': array([], dtype=float32),\n",
              "   'zero_points': array([], dtype=int32)},\n",
              "  'shape': array([16], dtype=int32),\n",
              "  'shape_signature': array([16], dtype=int32),\n",
              "  'sparsity_parameters': {}},\n",
              " {'dtype': numpy.float32,\n",
              "  'index': 4,\n",
              "  'name': 'sequential/dense/BiasAdd/ReadVariableOp/resource',\n",
              "  'quantization': (0.0, 0),\n",
              "  'quantization_parameters': {'quantized_dimension': 0,\n",
              "   'scales': array([], dtype=float32),\n",
              "   'zero_points': array([], dtype=int32)},\n",
              "  'shape': array([96], dtype=int32),\n",
              "  'shape_signature': array([96], dtype=int32),\n",
              "  'sparsity_parameters': {}},\n",
              " {'dtype': numpy.float32,\n",
              "  'index': 5,\n",
              "  'name': 'sequential/dense_1/BiasAdd/ReadVariableOp/resource',\n",
              "  'quantization': (0.0, 0),\n",
              "  'quantization_parameters': {'quantized_dimension': 0,\n",
              "   'scales': array([], dtype=float32),\n",
              "   'zero_points': array([], dtype=int32)},\n",
              "  'shape': array([2], dtype=int32),\n",
              "  'shape_signature': array([2], dtype=int32),\n",
              "  'sparsity_parameters': {}},\n",
              " {'dtype': numpy.int32,\n",
              "  'index': 6,\n",
              "  'name': 'sequential/flatten/Const',\n",
              "  'quantization': (0.0, 0),\n",
              "  'quantization_parameters': {'quantized_dimension': 0,\n",
              "   'scales': array([], dtype=float32),\n",
              "   'zero_points': array([], dtype=int32)},\n",
              "  'shape': array([2], dtype=int32),\n",
              "  'shape_signature': array([2], dtype=int32),\n",
              "  'sparsity_parameters': {}},\n",
              " {'dtype': numpy.float32,\n",
              "  'index': 7,\n",
              "  'name': 'sequential/dense/MatMul',\n",
              "  'quantization': (0.0, 0),\n",
              "  'quantization_parameters': {'quantized_dimension': 0,\n",
              "   'scales': array([], dtype=float32),\n",
              "   'zero_points': array([], dtype=int32)},\n",
              "  'shape': array([ 96, 400], dtype=int32),\n",
              "  'shape_signature': array([ 96, 400], dtype=int32),\n",
              "  'sparsity_parameters': {}},\n",
              " {'dtype': numpy.float32,\n",
              "  'index': 8,\n",
              "  'name': 'sequential/dense_1/MatMul',\n",
              "  'quantization': (0.0, 0),\n",
              "  'quantization_parameters': {'quantized_dimension': 0,\n",
              "   'scales': array([], dtype=float32),\n",
              "   'zero_points': array([], dtype=int32)},\n",
              "  'shape': array([ 2, 96], dtype=int32),\n",
              "  'shape_signature': array([ 2, 96], dtype=int32),\n",
              "  'sparsity_parameters': {}},\n",
              " {'dtype': numpy.float32,\n",
              "  'index': 9,\n",
              "  'name': 'sequential/conv2d/Conv2D',\n",
              "  'quantization': (0.0, 0),\n",
              "  'quantization_parameters': {'quantized_dimension': 0,\n",
              "   'scales': array([], dtype=float32),\n",
              "   'zero_points': array([], dtype=int32)},\n",
              "  'shape': array([96,  5,  5,  1], dtype=int32),\n",
              "  'shape_signature': array([96,  5,  5,  1], dtype=int32),\n",
              "  'sparsity_parameters': {}},\n",
              " {'dtype': numpy.float32,\n",
              "  'index': 10,\n",
              "  'name': 'sequential/conv2d_1/Conv2D',\n",
              "  'quantization': (0.0, 0),\n",
              "  'quantization_parameters': {'quantized_dimension': 0,\n",
              "   'scales': array([], dtype=float32),\n",
              "   'zero_points': array([], dtype=int32)},\n",
              "  'shape': array([64,  3,  3, 96], dtype=int32),\n",
              "  'shape_signature': array([64,  3,  3, 96], dtype=int32),\n",
              "  'sparsity_parameters': {}},\n",
              " {'dtype': numpy.float32,\n",
              "  'index': 11,\n",
              "  'name': 'sequential/conv2d_2/Conv2D',\n",
              "  'quantization': (0.0, 0),\n",
              "  'quantization_parameters': {'quantized_dimension': 0,\n",
              "   'scales': array([], dtype=float32),\n",
              "   'zero_points': array([], dtype=int32)},\n",
              "  'shape': array([16,  5,  5, 64], dtype=int32),\n",
              "  'shape_signature': array([16,  5,  5, 64], dtype=int32),\n",
              "  'sparsity_parameters': {}},\n",
              " {'dtype': numpy.float32,\n",
              "  'index': 12,\n",
              "  'name': 'sequential/conv2d/Relu;sequential/conv2d/BiasAdd;sequential/conv2d/Conv2D;sequential/conv2d/BiasAdd/ReadVariableOp/resource',\n",
              "  'quantization': (0.0, 0),\n",
              "  'quantization_parameters': {'quantized_dimension': 0,\n",
              "   'scales': array([], dtype=float32),\n",
              "   'zero_points': array([], dtype=int32)},\n",
              "  'shape': array([  1, 124, 124,  96], dtype=int32),\n",
              "  'shape_signature': array([ -1, 124, 124,  96], dtype=int32),\n",
              "  'sparsity_parameters': {}},\n",
              " {'dtype': numpy.float32,\n",
              "  'index': 13,\n",
              "  'name': 'sequential/max_pooling2d/MaxPool',\n",
              "  'quantization': (0.0, 0),\n",
              "  'quantization_parameters': {'quantized_dimension': 0,\n",
              "   'scales': array([], dtype=float32),\n",
              "   'zero_points': array([], dtype=int32)},\n",
              "  'shape': array([ 1, 62, 62, 96], dtype=int32),\n",
              "  'shape_signature': array([-1, 62, 62, 96], dtype=int32),\n",
              "  'sparsity_parameters': {}},\n",
              " {'dtype': numpy.float32,\n",
              "  'index': 14,\n",
              "  'name': 'sequential/conv2d_1/Relu;sequential/conv2d_1/BiasAdd;sequential/conv2d_1/Conv2D;sequential/conv2d_1/BiasAdd/ReadVariableOp/resource',\n",
              "  'quantization': (0.0, 0),\n",
              "  'quantization_parameters': {'quantized_dimension': 0,\n",
              "   'scales': array([], dtype=float32),\n",
              "   'zero_points': array([], dtype=int32)},\n",
              "  'shape': array([ 1, 60, 60, 64], dtype=int32),\n",
              "  'shape_signature': array([-1, 60, 60, 64], dtype=int32),\n",
              "  'sparsity_parameters': {}},\n",
              " {'dtype': numpy.float32,\n",
              "  'index': 15,\n",
              "  'name': 'sequential/max_pooling2d_1/MaxPool',\n",
              "  'quantization': (0.0, 0),\n",
              "  'quantization_parameters': {'quantized_dimension': 0,\n",
              "   'scales': array([], dtype=float32),\n",
              "   'zero_points': array([], dtype=int32)},\n",
              "  'shape': array([ 1, 20, 20, 64], dtype=int32),\n",
              "  'shape_signature': array([-1, 20, 20, 64], dtype=int32),\n",
              "  'sparsity_parameters': {}},\n",
              " {'dtype': numpy.float32,\n",
              "  'index': 16,\n",
              "  'name': 'sequential/conv2d_2/Relu;sequential/conv2d_2/BiasAdd;sequential/conv2d_2/Conv2D;sequential/conv2d_2/BiasAdd/ReadVariableOp/resource',\n",
              "  'quantization': (0.0, 0),\n",
              "  'quantization_parameters': {'quantized_dimension': 0,\n",
              "   'scales': array([], dtype=float32),\n",
              "   'zero_points': array([], dtype=int32)},\n",
              "  'shape': array([ 1, 16, 16, 16], dtype=int32),\n",
              "  'shape_signature': array([-1, 16, 16, 16], dtype=int32),\n",
              "  'sparsity_parameters': {}},\n",
              " {'dtype': numpy.float32,\n",
              "  'index': 17,\n",
              "  'name': 'sequential/max_pooling2d_2/MaxPool',\n",
              "  'quantization': (0.0, 0),\n",
              "  'quantization_parameters': {'quantized_dimension': 0,\n",
              "   'scales': array([], dtype=float32),\n",
              "   'zero_points': array([], dtype=int32)},\n",
              "  'shape': array([ 1,  5,  5, 16], dtype=int32),\n",
              "  'shape_signature': array([-1,  5,  5, 16], dtype=int32),\n",
              "  'sparsity_parameters': {}},\n",
              " {'dtype': numpy.float32,\n",
              "  'index': 18,\n",
              "  'name': 'sequential/flatten/Reshape',\n",
              "  'quantization': (0.0, 0),\n",
              "  'quantization_parameters': {'quantized_dimension': 0,\n",
              "   'scales': array([], dtype=float32),\n",
              "   'zero_points': array([], dtype=int32)},\n",
              "  'shape': array([  1, 400], dtype=int32),\n",
              "  'shape_signature': array([ -1, 400], dtype=int32),\n",
              "  'sparsity_parameters': {}},\n",
              " {'dtype': numpy.float32,\n",
              "  'index': 19,\n",
              "  'name': 'sequential/dense/Relu;sequential/dense/BiasAdd',\n",
              "  'quantization': (0.0, 0),\n",
              "  'quantization_parameters': {'quantized_dimension': 0,\n",
              "   'scales': array([], dtype=float32),\n",
              "   'zero_points': array([], dtype=int32)},\n",
              "  'shape': array([ 1, 96], dtype=int32),\n",
              "  'shape_signature': array([-1, 96], dtype=int32),\n",
              "  'sparsity_parameters': {}},\n",
              " {'dtype': numpy.float32,\n",
              "  'index': 20,\n",
              "  'name': 'sequential/dense_1/BiasAdd',\n",
              "  'quantization': (0.0, 0),\n",
              "  'quantization_parameters': {'quantized_dimension': 0,\n",
              "   'scales': array([], dtype=float32),\n",
              "   'zero_points': array([], dtype=int32)},\n",
              "  'shape': array([1, 2], dtype=int32),\n",
              "  'shape_signature': array([-1,  2], dtype=int32),\n",
              "  'sparsity_parameters': {}},\n",
              " {'dtype': numpy.float32,\n",
              "  'index': 21,\n",
              "  'name': 'Identity',\n",
              "  'quantization': (0.0, 0),\n",
              "  'quantization_parameters': {'quantized_dimension': 0,\n",
              "   'scales': array([], dtype=float32),\n",
              "   'zero_points': array([], dtype=int32)},\n",
              "  'shape': array([1, 2], dtype=int32),\n",
              "  'shape_signature': array([-1,  2], dtype=int32),\n",
              "  'sparsity_parameters': {}}]"
            ]
          },
          "metadata": {
            "tags": []
          },
          "execution_count": 60
        }
      ]
    },
    {
      "cell_type": "code",
      "metadata": {
        "id": "oObe9AWtN-RT"
      },
      "source": [
        "def tflite_model_predictions(image):\n",
        "  ### Loading the Image\n",
        "  test_image = cv2.imread(image, cv2.IMREAD_GRAYSCALE)\n",
        "  test_image = cv2.resize(test_image,(img_width, img_height))\n",
        "  plt.imshow(test_image, cmap=\"gray\") # Plot Image\n",
        "  test_image= np.array(test_image).reshape(-1, img_width, img_height, 1)\n",
        "  test_image = test_image/255.0\n",
        "  test_image = np.array(test_image)\n",
        "  test_image = np.asarray(test_image, dtype=np.float32)\n",
        "  \n",
        "  ### Starting the interpretor\n",
        "  interpreter.set_tensor(input_tensor_index, test_image)\n",
        "  interpreter.invoke()\n",
        "\n",
        "\n",
        "  ###Predictions\n",
        "  results = np.argmax(output()[0])\n",
        "  if results == 1:\n",
        "    predictions = 'OK Product'\n",
        "  else:\n",
        "    predictions = 'Defect Product'  \n",
        "    \n",
        "  return results, (\"Predictions :\",predictions)"
      ],
      "execution_count": 78,
      "outputs": []
    },
    {
      "cell_type": "code",
      "metadata": {
        "id": "vg_veoijPT9N",
        "outputId": "9da00ecb-d711-44cb-fa1e-aa62b959aa1a",
        "colab": {
          "base_uri": "https://localhost:8080/",
          "height": 305
        }
      },
      "source": [
        "img = input(\"Enter the Image To be Predicted:\")\n",
        "tflite_model_predictions(img)"
      ],
      "execution_count": 79,
      "outputs": [
        {
          "output_type": "stream",
          "text": [
            "Enter the Image To be Predicted:/content/casting_data/casting_data/test/def_front/cast_def_0_1059.jpeg\n"
          ],
          "name": "stdout"
        },
        {
          "output_type": "execute_result",
          "data": {
            "text/plain": [
              "(0, ('Predictions :', 'Defect Product'))"
            ]
          },
          "metadata": {
            "tags": []
          },
          "execution_count": 79
        },
        {
          "output_type": "display_data",
          "data": {
            "image/png": "[encoded data removed]",
            "text/plain": [
              "<Figure size 432x288 with 1 Axes>"
            ]
          },
          "metadata": {
            "tags": [],
            "needs_background": "light"
          }
        }
      ]
    },
    {
      "cell_type": "markdown",
      "metadata": {
        "id": "nKyZvrGl4cFm"
      },
      "source": [
        "!!! This to Works Good lets Compare the time taken by both the Models"
      ]
    },
    {
      "cell_type": "code",
      "metadata": {
        "id": "lELTmcHS4h79"
      },
      "source": [
        "import time\n",
        "\n",
        "def tflite_model_predictions_time(image):\n",
        "  start_time = time.time()\n",
        "  ### Loading the Image\n",
        "  test_image = cv2.imread(image, cv2.IMREAD_GRAYSCALE)\n",
        "  test_image = cv2.resize(test_image,(img_width, img_height))\n",
        "  test_image= np.array(test_image).reshape(-1, img_width, img_height, 1)\n",
        "  test_image = test_image/255.0\n",
        "  test_image = np.array(test_image)\n",
        "  test_image = np.asarray(test_image, dtype=np.float32)\n",
        "  \n",
        "  ### Starting the interpretor\n",
        "  interpreter.set_tensor(input_tensor_index, test_image)\n",
        "  interpreter.invoke()\n",
        "\n",
        "  return (\"The time taken by lite model is %s Seconds\" %(str(time.time() - (start_time))))"
      ],
      "execution_count": 83,
      "outputs": []
    },
    {
      "cell_type": "code",
      "metadata": {
        "id": "OTa5nMEp5JnM",
        "outputId": "688b71df-6de1-4076-f59b-49c546dbd413",
        "colab": {
          "base_uri": "https://localhost:8080/",
          "height": 54
        }
      },
      "source": [
        "img = input(\"Enter the Image To be Predicted:\")\n",
        "tflite_model_predictions_time(img)"
      ],
      "execution_count": 84,
      "outputs": [
        {
          "output_type": "stream",
          "text": [
            "Enter the Image To be Predicted:/content/casting_data/casting_data/test/def_front/cast_def_0_1059.jpeg\n"
          ],
          "name": "stdout"
        },
        {
          "output_type": "execute_result",
          "data": {
            "application/vnd.google.colaboratory.intrinsic+json": {
              "type": "string"
            },
            "text/plain": [
              "'The time taken by lite model is 0.011669158935546875 Seconds'"
            ]
          },
          "metadata": {
            "tags": []
          },
          "execution_count": 84
        }
      ]
    },
    {
      "cell_type": "code",
      "metadata": {
        "id": "giKMhoRV5Qdp"
      },
      "source": [
        "def predictions_time(image):\n",
        "  start_time = time.time()\n",
        "  ### Loading the Image\n",
        "  test_image = cv2.imread(image, cv2.IMREAD_GRAYSCALE)\n",
        "  test_image = cv2.resize(test_image,(img_width, img_height))\n",
        "  test_image= np.array(test_image).reshape(-1, img_width, img_height, 1)\n",
        "  test_image = test_image/255.0\n",
        "  test_image = np.array(test_image)\n",
        "\n",
        "  ###Predictions\n",
        "  results = model.predict(test_image)\n",
        "  results = np.argmax(results, axis=1)\n",
        "\n",
        "  return (\"The time taken by tf actual model is %s Seconds\" %(str(time.time() - (start_time))))"
      ],
      "execution_count": 85,
      "outputs": []
    },
    {
      "cell_type": "code",
      "metadata": {
        "id": "KeCdQZZa58zG",
        "outputId": "cbf98c14-d08d-49d1-b251-fb418e34f2db",
        "colab": {
          "base_uri": "https://localhost:8080/",
          "height": 54
        }
      },
      "source": [
        "img = input(\"Enter the Image To be Predicted:\")\n",
        "predictions_time(img)"
      ],
      "execution_count": 86,
      "outputs": [
        {
          "output_type": "stream",
          "text": [
            "Enter the Image To be Predicted:/content/casting_data/casting_data/test/def_front/cast_def_0_1059.jpeg\n"
          ],
          "name": "stdout"
        },
        {
          "output_type": "execute_result",
          "data": {
            "application/vnd.google.colaboratory.intrinsic+json": {
              "type": "string"
            },
            "text/plain": [
              "'The time taken by tf actual model is 0.04103875160217285 Seconds'"
            ]
          },
          "metadata": {
            "tags": []
          },
          "execution_count": 86
        }
      ]
    },
    {
      "cell_type": "markdown",
      "metadata": {
        "id": "nLXMy12g6MUs"
      },
      "source": [
        "* Clearly shows that tflite Model is Faster and Compatible than actual Model\n",
        "* Quantized Model is More Better than this model but there will 0.001 accuracy drop when larger dataset comes in but thats not a Big Deal in Edge Computing\n",
        "* Due to my education Purpose i havent proceed further but we can proceed further in Real World Machines, android apps, Apple apps like that via lots of sources like (Cloud IOT Devices) or Creating a Setup file for deploying in edge Devices"
      ]
    }
  ]
}