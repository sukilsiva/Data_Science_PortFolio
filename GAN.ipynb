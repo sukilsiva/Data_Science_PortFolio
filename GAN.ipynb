{
  "nbformat": 4,
  "nbformat_minor": 0,
  "metadata": {
    "colab": {
      "name": "GAN.ipynb",
      "provenance": [],
      "toc_visible": true,
      "authorship_tag": "ABX9TyMKcGht7T/OyB5gY8eW9Zeb",
      "include_colab_link": true
    },
    "kernelspec": {
      "name": "python3",
      "display_name": "Python 3"
    },
    "accelerator": "TPU"
  },
  "cells": [
    {
      "cell_type": "markdown",
      "metadata": {
        "id": "view-in-github",
        "colab_type": "text"
      },
      "source": [
        "<a href=\"https://colab.research.google.com/github/sukilsiva/Machine-Learnig-Deep-Learning-Code/blob/master/GAN.ipynb\" target=\"_parent\"><img src=\"https://colab.research.google.com/assets/colab-badge.svg\" alt=\"Open In Colab\"/></a>"
      ]
    },
    {
      "cell_type": "code",
      "metadata": {
        "id": "bBImRsPz381l",
        "colab_type": "code",
        "outputId": "ff64a6c4-be1d-46c7-d22c-ede360debf91",
        "colab": {
          "base_uri": "https://localhost:8080/",
          "height": 34
        }
      },
      "source": [
        "%tensorflow_version 1.x"
      ],
      "execution_count": 1,
      "outputs": [
        {
          "output_type": "stream",
          "text": [
            "TensorFlow 1.x selected.\n"
          ],
          "name": "stdout"
        }
      ]
    },
    {
      "cell_type": "code",
      "metadata": {
        "id": "js5HtMNG3844",
        "colab_type": "code",
        "colab": {}
      },
      "source": [
        "import tensorflow as tf\n",
        "import numpy as np\n",
        "import matplotlib.pyplot as plt\n",
        "from PIL import Image\n",
        "from glob import glob\n",
        "%matplotlib inline"
      ],
      "execution_count": 0,
      "outputs": []
    },
    {
      "cell_type": "code",
      "metadata": {
        "id": "wKqfHw6M387u",
        "colab_type": "code",
        "outputId": "e05e534f-9777-4827-d3d7-b04d456c03cc",
        "colab": {
          "base_uri": "https://localhost:8080/",
          "height": 34
        }
      },
      "source": [
        "!git clone https://github.com/arvindrvs/nsfw_face.git"
      ],
      "execution_count": 3,
      "outputs": [
        {
          "output_type": "stream",
          "text": [
            "fatal: destination path 'nsfw_face' already exists and is not an empty directory.\n"
          ],
          "name": "stdout"
        }
      ]
    },
    {
      "cell_type": "code",
      "metadata": {
        "id": "nmu6dWNx38-d",
        "colab_type": "code",
        "colab": {}
      },
      "source": [
        "image_dr = glob(\"/content/nsfw_face/dataSet/*\")\n",
        "\n",
        "crop = (30,55,155, 170)\n",
        "images = [np.array((Image.open(i).crop(crop)).resize((64,64))) for i in image_dr]\n",
        "\n",
        "for i in range(len(images)):\n",
        "    images[i] = ((images[i] - images[i].min())/(255 - images[i].min()))\n",
        "    images[i] = images[i]*2-1\n",
        "    \n",
        "images = np.array(images)"
      ],
      "execution_count": 0,
      "outputs": []
    },
    {
      "cell_type": "code",
      "metadata": {
        "id": "Aql7m7bW1gq4",
        "colab_type": "code",
        "outputId": "e045672d-edcd-403d-d07d-c24c6849a497",
        "colab": {
          "base_uri": "https://localhost:8080/",
          "height": 1000
        }
      },
      "source": [
        "images"
      ],
      "execution_count": 5,
      "outputs": [
        {
          "output_type": "execute_result",
          "data": {
            "text/plain": [
              "array([[[ 0.41176471,  0.40392157,  0.35686275, ..., -1.        ,\n",
              "         -1.        , -1.        ],\n",
              "        [-0.6627451 , -0.6627451 , -0.6627451 , ..., -1.        ,\n",
              "         -1.        , -1.        ],\n",
              "        [-1.        , -1.        , -1.        , ..., -1.        ,\n",
              "         -1.        , -1.        ],\n",
              "        ...,\n",
              "        [-1.        , -1.        , -1.        , ..., -1.        ,\n",
              "         -1.        , -1.        ],\n",
              "        [-1.        , -1.        , -1.        , ..., -1.        ,\n",
              "         -1.        , -1.        ],\n",
              "        [-1.        , -1.        , -1.        , ..., -1.        ,\n",
              "         -1.        , -1.        ]],\n",
              "\n",
              "       [[ 0.27027027,  0.27027027,  0.24324324, ...,  0.25225225,\n",
              "          0.26126126,  0.27027027],\n",
              "        [ 0.27927928,  0.25225225,  0.23423423, ...,  0.27027027,\n",
              "          0.26126126,  0.26126126],\n",
              "        [ 0.27027027,  0.24324324,  0.23423423, ...,  0.28828829,\n",
              "          0.27027027,  0.26126126],\n",
              "        ...,\n",
              "        [ 0.22522523,  0.18918919,  0.1981982 , ..., -0.13513514,\n",
              "         -0.18918919, -0.25225225],\n",
              "        [ 0.22522523,  0.18918919,  0.18918919, ..., -0.18018018,\n",
              "         -0.22522523, -0.33333333],\n",
              "        [ 0.22522523,  0.20720721,  0.18918919, ..., -0.1981982 ,\n",
              "         -0.24324324, -0.34234234]],\n",
              "\n",
              "       [[-0.63414634, -0.5203252 , -0.17073171, ...,  0.58536585,\n",
              "          0.58536585,  0.58536585],\n",
              "        [-0.58536585, -0.33333333, -0.05691057, ...,  0.58536585,\n",
              "          0.58536585,  0.58536585],\n",
              "        [-0.47154472, -0.19512195,  0.02439024, ...,  0.59349593,\n",
              "          0.59349593,  0.59349593],\n",
              "        ...,\n",
              "        [ 0.32520325,  0.3495935 ,  0.3495935 , ...,  0.30894309,\n",
              "          0.34146341,  0.37398374],\n",
              "        [ 0.32520325,  0.3495935 ,  0.35772358, ...,  0.29268293,\n",
              "          0.33333333,  0.36585366],\n",
              "        [ 0.32520325,  0.34146341,  0.36585366, ...,  0.27642276,\n",
              "          0.32520325,  0.35772358]],\n",
              "\n",
              "       ...,\n",
              "\n",
              "       [[ 0.40392157,  0.41960784,  0.38823529, ..., -0.56862745,\n",
              "         -0.58431373, -0.71764706],\n",
              "        [ 0.39607843,  0.40392157,  0.39607843, ..., -0.63921569,\n",
              "         -0.61568627, -0.68627451],\n",
              "        [ 0.41176471,  0.40392157,  0.41176471, ..., -0.63137255,\n",
              "         -0.68627451, -0.71764706],\n",
              "        ...,\n",
              "        [-1.        , -1.        , -1.        , ..., -1.        ,\n",
              "         -1.        , -1.        ],\n",
              "        [-1.        , -1.        , -1.        , ..., -1.        ,\n",
              "         -1.        , -1.        ],\n",
              "        [-1.        , -1.        , -1.        , ..., -1.        ,\n",
              "         -1.        , -1.        ]],\n",
              "\n",
              "       [[ 0.48235294,  0.46666667,  0.48235294, ..., -1.        ,\n",
              "         -1.        , -1.        ],\n",
              "        [ 0.49803922,  0.51372549,  0.51372549, ..., -1.        ,\n",
              "         -1.        , -1.        ],\n",
              "        [ 0.51372549,  0.54509804,  0.56862745, ..., -1.        ,\n",
              "         -1.        , -1.        ],\n",
              "        ...,\n",
              "        [-1.        , -1.        , -1.        , ..., -1.        ,\n",
              "         -1.        , -1.        ],\n",
              "        [-1.        , -1.        , -1.        , ..., -1.        ,\n",
              "         -1.        , -1.        ],\n",
              "        [-1.        , -1.        , -1.        , ..., -1.        ,\n",
              "         -1.        , -1.        ]],\n",
              "\n",
              "       [[ 0.34901961,  0.36470588,  0.36470588, ..., -1.        ,\n",
              "         -1.        , -1.        ],\n",
              "        [ 0.35686275,  0.37254902,  0.37254902, ..., -1.        ,\n",
              "         -1.        , -1.        ],\n",
              "        [ 0.35686275,  0.37254902,  0.38823529, ..., -1.        ,\n",
              "         -1.        , -1.        ],\n",
              "        ...,\n",
              "        [-1.        , -1.        , -1.        , ..., -1.        ,\n",
              "         -1.        , -1.        ],\n",
              "        [-1.        , -1.        , -1.        , ..., -1.        ,\n",
              "         -1.        , -1.        ],\n",
              "        [-1.        , -1.        , -1.        , ..., -1.        ,\n",
              "         -1.        , -1.        ]]])"
            ]
          },
          "metadata": {
            "tags": []
          },
          "execution_count": 5
        }
      ]
    },
    {
      "cell_type": "markdown",
      "metadata": {
        "id": "6_hg-UxjOB0t",
        "colab_type": "text"
      },
      "source": [
        "## **THE GENERATOR**"
      ]
    },
    {
      "cell_type": "code",
      "metadata": {
        "id": "lRTEf5WP39D9",
        "colab_type": "code",
        "colab": {}
      },
      "source": [
        "def generator(z,reuse=None):\n",
        "    with tf.variable_scope('gen',reuse=reuse):\n",
        "        hidden1 = tf.layers.dense(inputs=z,units=128)\n",
        "        # Leaky Relu\n",
        "        alpha = 0.01\n",
        "        hidden1 = tf.maximum(alpha*hidden1,hidden1)\n",
        "        hidden2 = tf.layers.dense(inputs=hidden1,units=128)\n",
        "        \n",
        "        hidden2 = tf.maximum(alpha*hidden2,hidden2)\n",
        "        output = tf.layers.dense(hidden2,units=784,activation=tf.nn.tanh)\n",
        "        return output"
      ],
      "execution_count": 0,
      "outputs": []
    },
    {
      "cell_type": "markdown",
      "metadata": {
        "id": "-mkwG2dpPVeK",
        "colab_type": "text"
      },
      "source": [
        "## **THE DISCRIMINATOR**"
      ]
    },
    {
      "cell_type": "code",
      "metadata": {
        "id": "gXj2Zfgg39IF",
        "colab_type": "code",
        "colab": {}
      },
      "source": [
        "def discriminator(x, reuse = None):\n",
        "  with tf.variable_scope(\"dis\", reuse = reuse):\n",
        "    hidden1=tf.layers.dense(inputs=x,units =128)\n",
        "    #here im going to use leaky relu as activation function\n",
        "    alpha=0.01\n",
        "    hidden1=tf.maximum(alpha*hidden1,hidden1)\n",
        "    hidden2=tf.layers.dense(inputs=hidden1,units=128)\n",
        "    hidden2=tf.maximum(alpha*hidden2,hidden2)\n",
        "    logits=tf.layers.dense(hidden2,units=1)\n",
        "    output=tf.sigmoid(logits)\n",
        "    return logits, output"
      ],
      "execution_count": 0,
      "outputs": []
    },
    {
      "cell_type": "markdown",
      "metadata": {
        "id": "BrtlhkD6P_KJ",
        "colab_type": "text"
      },
      "source": [
        "# **THE PLACEHOLDERS**"
      ]
    },
    {
      "cell_type": "code",
      "metadata": {
        "id": "iY4yS7x_OlCy",
        "colab_type": "code",
        "colab": {}
      },
      "source": [
        "z =tf.placeholder(tf.float32, shape = [None,100])\n",
        "real_images =tf.placeholder (tf.float32, shape = [None,784])"
      ],
      "execution_count": 0,
      "outputs": []
    },
    {
      "cell_type": "code",
      "metadata": {
        "id": "JaQuWohyTs5o",
        "colab_type": "code",
        "outputId": "ed24048d-4b78-47f4-9389-10cb79863f85",
        "colab": {
          "base_uri": "https://localhost:8080/",
          "height": 34
        }
      },
      "source": [
        "real_images"
      ],
      "execution_count": 9,
      "outputs": [
        {
          "output_type": "execute_result",
          "data": {
            "text/plain": [
              "<tf.Tensor 'Placeholder_1:0' shape=(?, 784) dtype=float32>"
            ]
          },
          "metadata": {
            "tags": []
          },
          "execution_count": 9
        }
      ]
    },
    {
      "cell_type": "code",
      "metadata": {
        "id": "_4buqQuYTs-v",
        "colab_type": "code",
        "outputId": "8b1d4950-7eb2-435b-fc69-63b4741da024",
        "colab": {
          "base_uri": "https://localhost:8080/",
          "height": 34
        }
      },
      "source": [
        "z"
      ],
      "execution_count": 10,
      "outputs": [
        {
          "output_type": "execute_result",
          "data": {
            "text/plain": [
              "<tf.Tensor 'Placeholder:0' shape=(?, 100) dtype=float32>"
            ]
          },
          "metadata": {
            "tags": []
          },
          "execution_count": 10
        }
      ]
    },
    {
      "cell_type": "markdown",
      "metadata": {
        "id": "Uy1-r5NNQPVM",
        "colab_type": "text"
      },
      "source": [
        "## **GENERATOR**"
      ]
    },
    {
      "cell_type": "code",
      "metadata": {
        "id": "VWkHUMg3OlGK",
        "colab_type": "code",
        "outputId": "9517f37e-697d-48bc-faeb-7635206604bd",
        "colab": {
          "base_uri": "https://localhost:8080/",
          "height": 139
        }
      },
      "source": [
        "G = generator(z)"
      ],
      "execution_count": 11,
      "outputs": [
        {
          "output_type": "stream",
          "text": [
            "WARNING:tensorflow:From <ipython-input-6-1d9fdb6f516d>:3: dense (from tensorflow.python.layers.core) is deprecated and will be removed in a future version.\n",
            "Instructions for updating:\n",
            "Use keras.layers.Dense instead.\n",
            "WARNING:tensorflow:From /tensorflow-1.15.2/python3.6/tensorflow_core/python/layers/core.py:187: Layer.apply (from tensorflow.python.keras.engine.base_layer) is deprecated and will be removed in a future version.\n",
            "Instructions for updating:\n",
            "Please use `layer.__call__` method instead.\n"
          ],
          "name": "stdout"
        }
      ]
    },
    {
      "cell_type": "markdown",
      "metadata": {
        "id": "i36PqujLTYM2",
        "colab_type": "text"
      },
      "source": [
        "# **DISCIMINATOR**"
      ]
    },
    {
      "cell_type": "code",
      "metadata": {
        "id": "XWRZv0w1OlI9",
        "colab_type": "code",
        "colab": {}
      },
      "source": [
        "D_output_real , D_logits_real = discriminator(real_images)\n",
        "D_output_fake, D_logits_fake = discriminator(G, reuse=True)"
      ],
      "execution_count": 0,
      "outputs": []
    },
    {
      "cell_type": "markdown",
      "metadata": {
        "id": "DRkd-4IkVcP7",
        "colab_type": "text"
      },
      "source": [
        "## **LOSSES**"
      ]
    },
    {
      "cell_type": "code",
      "metadata": {
        "id": "2pubCkhsOlTX",
        "colab_type": "code",
        "colab": {}
      },
      "source": [
        "def loss_func(logits_in, labels_in):\n",
        "  return tf.nn.sigmoid_cross_entropy_with_logits(logits=logits_in,labels=labels_in)"
      ],
      "execution_count": 0,
      "outputs": []
    },
    {
      "cell_type": "code",
      "metadata": {
        "id": "0e_iXfv3OlVx",
        "colab_type": "code",
        "outputId": "00e76ae2-fc40-4a0d-c56f-601f7d16e6f9",
        "colab": {
          "base_uri": "https://localhost:8080/",
          "height": 88
        }
      },
      "source": [
        "D_real_loss=loss_func(D_logits_real,tf.ones_like(D_logits_real)*(0.9))\n",
        "D_fake_loss=loss_func(D_logits_fake,tf.zeros_like(D_logits_real))\n",
        "d_loss = D_real_loss + D_fake_loss"
      ],
      "execution_count": 14,
      "outputs": [
        {
          "output_type": "stream",
          "text": [
            "WARNING:tensorflow:From /tensorflow-1.15.2/python3.6/tensorflow_core/python/ops/nn_impl.py:183: where (from tensorflow.python.ops.array_ops) is deprecated and will be removed in a future version.\n",
            "Instructions for updating:\n",
            "Use tf.where in 2.0, which has the same broadcast rule as np.where\n"
          ],
          "name": "stdout"
        }
      ]
    },
    {
      "cell_type": "code",
      "metadata": {
        "id": "6s_-OWpzOlYQ",
        "colab_type": "code",
        "colab": {}
      },
      "source": [
        "g_loss = loss_func(D_logits_fake,tf.zeros_like(D_logits_fake))"
      ],
      "execution_count": 0,
      "outputs": []
    },
    {
      "cell_type": "markdown",
      "metadata": {
        "id": "nmK11CrsXUHQ",
        "colab_type": "text"
      },
      "source": [
        "# **LEARNING RATE**"
      ]
    },
    {
      "cell_type": "code",
      "metadata": {
        "id": "9RtCMYkqOlaz",
        "colab_type": "code",
        "colab": {}
      },
      "source": [
        "learning_rate = 0.001"
      ],
      "execution_count": 0,
      "outputs": []
    },
    {
      "cell_type": "code",
      "metadata": {
        "id": "vIoVW8kcOldM",
        "colab_type": "code",
        "outputId": "dbc09f2b-2fa9-47f4-dda2-c7500cdbfc08",
        "colab": {
          "base_uri": "https://localhost:8080/",
          "height": 51
        }
      },
      "source": [
        "tvars = tf.trainable_variables()\n",
        "\n",
        "d_vars = [var for var in tvars if 'dis' in var.name]\n",
        "g_vars = [var for var in tvars if 'gen' in var.name]\n",
        "\n",
        "print([v.name for v in d_vars])\n",
        "print([v.name for v in g_vars])"
      ],
      "execution_count": 17,
      "outputs": [
        {
          "output_type": "stream",
          "text": [
            "['dis/dense/kernel:0', 'dis/dense/bias:0', 'dis/dense_1/kernel:0', 'dis/dense_1/bias:0', 'dis/dense_2/kernel:0', 'dis/dense_2/bias:0']\n",
            "['gen/dense/kernel:0', 'gen/dense/bias:0', 'gen/dense_1/kernel:0', 'gen/dense_1/bias:0', 'gen/dense_2/kernel:0', 'gen/dense_2/bias:0']\n"
          ],
          "name": "stdout"
        }
      ]
    },
    {
      "cell_type": "code",
      "metadata": {
        "id": "MG0aWNu0OlgK",
        "colab_type": "code",
        "colab": {}
      },
      "source": [
        "D_trainer = tf.train.AdamOptimizer(learning_rate).minimize(d_loss, var_list=d_vars)\n",
        "G_trainer = tf.train.AdamOptimizer(learning_rate).minimize(g_loss, var_list=g_vars)"
      ],
      "execution_count": 0,
      "outputs": []
    },
    {
      "cell_type": "markdown",
      "metadata": {
        "id": "cBj1-7P-XoN8",
        "colab_type": "text"
      },
      "source": [
        "## **TRAINIG SESSION**"
      ]
    },
    {
      "cell_type": "code",
      "metadata": {
        "id": "sx-eFFW1Oli2",
        "colab_type": "code",
        "colab": {}
      },
      "source": [
        "batch_size = 100\n",
        "epochs = 50\n",
        "init = tf.global_variables_initializer()\n",
        "saver = tf.train.Saver(var_list=g_vars)"
      ],
      "execution_count": 0,
      "outputs": []
    },
    {
      "cell_type": "code",
      "metadata": {
        "id": "N65nT2eHOllE",
        "colab_type": "code",
        "colab": {}
      },
      "source": [
        "samples = []"
      ],
      "execution_count": 0,
      "outputs": []
    },
    {
      "cell_type": "code",
      "metadata": {
        "id": "1lYsbwYpOlon",
        "colab_type": "code",
        "outputId": "5298ae4d-a369-4f2f-cec7-e80f171bf0fe",
        "colab": {
          "base_uri": "https://localhost:8080/",
          "height": 867
        }
      },
      "source": [
        "with tf.Session() as sess:\n",
        "    \n",
        "    sess.run(init)\n",
        "    \n",
        "    # Recall an epoch is an entire run through the training data\n",
        "    for e in range(epochs):\n",
        "        # // indicates classic division\n",
        "        num_batches = len(images) // batch_size\n",
        "        \n",
        "        for i in range(num_batches):\n",
        "            \n",
        "            # Grab batch of images\n",
        "            batch = image_dr(batch_size)\n",
        "            \n",
        "            # Get images, reshape and rescale to pass to D\n",
        "            batch_images = batch[0].reshape((batch_size, 784))\n",
        "            batch_images = batch_images*2 - 1\n",
        "            \n",
        "            # Z (random latent noise data for Generator)\n",
        "            # -1 to 1 because of tanh activation\n",
        "            batch_z = np.random.uniform(-1, 1, size=(batch_size, 100))\n",
        "            \n",
        "            # Run optimizers, no need to save outputs, we won't use them\n",
        "            _ = sess.run(D_trainer, feed_dict={real_images: batch_images, z: batch_z})\n",
        "            _ = sess.run(G_trainer, feed_dict={z: batch_z})\n",
        "        \n",
        "            \n",
        "        print(\"Currently on Epoch {} of {} total...\".format(e+1, epochs))\n",
        "        \n",
        "        # Sample from generator as we're training for viewing afterwards\n",
        "        sample_z = np.random.uniform(-1, 1, size=(1, 100))\n",
        "        gen_sample = sess.run(generator(z ,reuse=True),feed_dict={z: sample_z})\n",
        "        \n",
        "        samples.append(gen_sample)\n",
        "        \n",
        "#         saver.save(sess, './models/500_epoch_model.ckpt')\n"
      ],
      "execution_count": 26,
      "outputs": [
        {
          "output_type": "stream",
          "text": [
            "Currently on Epoch 1 of 50 total...\n",
            "Currently on Epoch 2 of 50 total...\n",
            "Currently on Epoch 3 of 50 total...\n",
            "Currently on Epoch 4 of 50 total...\n",
            "Currently on Epoch 5 of 50 total...\n",
            "Currently on Epoch 6 of 50 total...\n",
            "Currently on Epoch 7 of 50 total...\n",
            "Currently on Epoch 8 of 50 total...\n",
            "Currently on Epoch 9 of 50 total...\n",
            "Currently on Epoch 10 of 50 total...\n",
            "Currently on Epoch 11 of 50 total...\n",
            "Currently on Epoch 12 of 50 total...\n",
            "Currently on Epoch 13 of 50 total...\n",
            "Currently on Epoch 14 of 50 total...\n",
            "Currently on Epoch 15 of 50 total...\n",
            "Currently on Epoch 16 of 50 total...\n",
            "Currently on Epoch 17 of 50 total...\n",
            "Currently on Epoch 18 of 50 total...\n",
            "Currently on Epoch 19 of 50 total...\n",
            "Currently on Epoch 20 of 50 total...\n",
            "Currently on Epoch 21 of 50 total...\n",
            "Currently on Epoch 22 of 50 total...\n",
            "Currently on Epoch 23 of 50 total...\n",
            "Currently on Epoch 24 of 50 total...\n",
            "Currently on Epoch 25 of 50 total...\n",
            "Currently on Epoch 26 of 50 total...\n",
            "Currently on Epoch 27 of 50 total...\n",
            "Currently on Epoch 28 of 50 total...\n",
            "Currently on Epoch 29 of 50 total...\n",
            "Currently on Epoch 30 of 50 total...\n",
            "Currently on Epoch 31 of 50 total...\n",
            "Currently on Epoch 32 of 50 total...\n",
            "Currently on Epoch 33 of 50 total...\n",
            "Currently on Epoch 34 of 50 total...\n",
            "Currently on Epoch 35 of 50 total...\n",
            "Currently on Epoch 36 of 50 total...\n",
            "Currently on Epoch 37 of 50 total...\n",
            "Currently on Epoch 38 of 50 total...\n",
            "Currently on Epoch 39 of 50 total...\n",
            "Currently on Epoch 40 of 50 total...\n",
            "Currently on Epoch 41 of 50 total...\n",
            "Currently on Epoch 42 of 50 total...\n",
            "Currently on Epoch 43 of 50 total...\n",
            "Currently on Epoch 44 of 50 total...\n",
            "Currently on Epoch 45 of 50 total...\n",
            "Currently on Epoch 46 of 50 total...\n",
            "Currently on Epoch 47 of 50 total...\n",
            "Currently on Epoch 48 of 50 total...\n",
            "Currently on Epoch 49 of 50 total...\n",
            "Currently on Epoch 50 of 50 total...\n"
          ],
          "name": "stdout"
        }
      ]
    },
    {
      "cell_type": "code",
      "metadata": {
        "id": "jXvbpcQkZlDm",
        "colab_type": "code",
        "colab": {}
      },
      "source": [
        ""
      ],
      "execution_count": 0,
      "outputs": []
    }
  ]
}