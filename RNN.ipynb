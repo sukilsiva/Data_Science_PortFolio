{
  "nbformat": 4,
  "nbformat_minor": 0,
  "metadata": {
    "colab": {
      "name": "RNN.ipynb",
      "provenance": [],
      "toc_visible": true,
      "authorship_tag": "ABX9TyPAopNsDraOtNM93evxlQsZ",
      "include_colab_link": true
    },
    "kernelspec": {
      "name": "python3",
      "display_name": "Python 3"
    },
    "accelerator": "GPU"
  },
  "cells": [
    {
      "cell_type": "markdown",
      "metadata": {
        "id": "view-in-github",
        "colab_type": "text"
      },
      "source": [
        "<a href=\"https://colab.research.google.com/github/sukilsiva/Machine-Learnig-Deep-Learning-Code/blob/master/RNN.ipynb\" target=\"_parent\"><img src=\"https://colab.research.google.com/assets/colab-badge.svg\" alt=\"Open In Colab\"/></a>"
      ]
    },
    {
      "cell_type": "code",
      "metadata": {
        "id": "B1d-WA2dlKQ7",
        "colab_type": "code",
        "colab": {}
      },
      "source": [
        "import tensorflow as tf\n",
        "from tensorflow import keras\n",
        "from keras import Sequential\n",
        "from keras.layers import Embedding, Dense, GRU, Flatten\n",
        "from keras.preprocessing.text import Tokenizer\n",
        "from keras.preprocessing.sequence import pad_sequences\n",
        "\n",
        "import pandas as pd\n",
        "from sklearn.model_selection import train_test_split\n",
        "import matplotlib.pyplot as plt\n",
        "import numpy as np\n",
        "from scipy.spatial.distance import cdist"
      ],
      "execution_count": 0,
      "outputs": []
    },
    {
      "cell_type": "code",
      "metadata": {
        "id": "Z8Coh2hVlKV8",
        "colab_type": "code",
        "outputId": "22a6589e-6cfa-43b5-ea3c-fdc774e6375f",
        "colab": {
          "base_uri": "https://localhost:8080/",
          "height": 204
        }
      },
      "source": [
        "data = pd.read_csv(\"/content/AI-Sentiment-Analysis-on-IMDB-Dataset/imdb_tr.csv\",sep = ',', encoding = 'latin')\n",
        "data.head()"
      ],
      "execution_count": 2,
      "outputs": [
        {
          "output_type": "execute_result",
          "data": {
            "text/html": [
              "<div>\n",
              "<style scoped>\n",
              "    .dataframe tbody tr th:only-of-type {\n",
              "        vertical-align: middle;\n",
              "    }\n",
              "\n",
              "    .dataframe tbody tr th {\n",
              "        vertical-align: top;\n",
              "    }\n",
              "\n",
              "    .dataframe thead th {\n",
              "        text-align: right;\n",
              "    }\n",
              "</style>\n",
              "<table border=\"1\" class=\"dataframe\">\n",
              "  <thead>\n",
              "    <tr style=\"text-align: right;\">\n",
              "      <th></th>\n",
              "      <th>row_Number</th>\n",
              "      <th>text</th>\n",
              "      <th>polarity</th>\n",
              "    </tr>\n",
              "  </thead>\n",
              "  <tbody>\n",
              "    <tr>\n",
              "      <th>0</th>\n",
              "      <td>2148</td>\n",
              "      <td>first think another Disney movie, might good, ...</td>\n",
              "      <td>1</td>\n",
              "    </tr>\n",
              "    <tr>\n",
              "      <th>1</th>\n",
              "      <td>23577</td>\n",
              "      <td>Put aside Dr. House repeat missed, Desperate H...</td>\n",
              "      <td>0</td>\n",
              "    </tr>\n",
              "    <tr>\n",
              "      <th>2</th>\n",
              "      <td>1319</td>\n",
              "      <td>big fan Stephen King's work, film made even gr...</td>\n",
              "      <td>1</td>\n",
              "    </tr>\n",
              "    <tr>\n",
              "      <th>3</th>\n",
              "      <td>13358</td>\n",
              "      <td>watched horrid thing TV. Needless say one movi...</td>\n",
              "      <td>0</td>\n",
              "    </tr>\n",
              "    <tr>\n",
              "      <th>4</th>\n",
              "      <td>9495</td>\n",
              "      <td>truly enjoyed film. acting terrific plot. Jeff...</td>\n",
              "      <td>1</td>\n",
              "    </tr>\n",
              "  </tbody>\n",
              "</table>\n",
              "</div>"
            ],
            "text/plain": [
              "   row_Number                                               text  polarity\n",
              "0        2148  first think another Disney movie, might good, ...         1\n",
              "1       23577  Put aside Dr. House repeat missed, Desperate H...         0\n",
              "2        1319  big fan Stephen King's work, film made even gr...         1\n",
              "3       13358  watched horrid thing TV. Needless say one movi...         0\n",
              "4        9495  truly enjoyed film. acting terrific plot. Jeff...         1"
            ]
          },
          "metadata": {
            "tags": []
          },
          "execution_count": 2
        }
      ]
    },
    {
      "cell_type": "code",
      "metadata": {
        "id": "s7LsPWVooh2U",
        "colab_type": "code",
        "colab": {
          "base_uri": "https://localhost:8080/",
          "height": 85
        },
        "outputId": "6c3ca354-63cd-4ed8-dfdc-dfaf3504ddc7"
      },
      "source": [
        "data.isna().sum()"
      ],
      "execution_count": 3,
      "outputs": [
        {
          "output_type": "execute_result",
          "data": {
            "text/plain": [
              "row_Number    0\n",
              "text          0\n",
              "polarity      0\n",
              "dtype: int64"
            ]
          },
          "metadata": {
            "tags": []
          },
          "execution_count": 3
        }
      ]
    },
    {
      "cell_type": "code",
      "metadata": {
        "id": "tFKIKPmnoo4E",
        "colab_type": "code",
        "colab": {
          "base_uri": "https://localhost:8080/",
          "height": 34
        },
        "outputId": "4c9225af-bb81-4007-c452-7cabab551db9"
      },
      "source": [
        "data.duplicated().sum()"
      ],
      "execution_count": 4,
      "outputs": [
        {
          "output_type": "execute_result",
          "data": {
            "text/plain": [
              "0"
            ]
          },
          "metadata": {
            "tags": []
          },
          "execution_count": 4
        }
      ]
    },
    {
      "cell_type": "code",
      "metadata": {
        "id": "2g3lTx-mlKYs",
        "colab_type": "code",
        "colab": {}
      },
      "source": [
        "x = data['text']\n",
        "y = data['polarity']"
      ],
      "execution_count": 0,
      "outputs": []
    },
    {
      "cell_type": "code",
      "metadata": {
        "id": "nMsQX3lBlKbj",
        "colab_type": "code",
        "colab": {
          "base_uri": "https://localhost:8080/",
          "height": 221
        },
        "outputId": "17c1e905-2a66-49a8-f5ec-d183da7e1f5c"
      },
      "source": [
        "x"
      ],
      "execution_count": 6,
      "outputs": [
        {
          "output_type": "execute_result",
          "data": {
            "text/plain": [
              "0        first think another Disney movie, might good, ...\n",
              "1        Put aside Dr. House repeat missed, Desperate H...\n",
              "2        big fan Stephen King's work, film made even gr...\n",
              "3        watched horrid thing TV. Needless say one movi...\n",
              "4        truly enjoyed film. acting terrific plot. Jeff...\n",
              "                               ...                        \n",
              "24995    kid 50's 60's anything connected Disney defini...\n",
              "24996    course reading review seen film already. 'Raja...\n",
              "24997    read \"There's Girl Soup\" came Peter Sellers's ...\n",
              "24998    film quite boring. snippets naked flesh tossed...\n",
              "24999    Although film somewhat filled eighties cheese ...\n",
              "Name: text, Length: 25000, dtype: object"
            ]
          },
          "metadata": {
            "tags": []
          },
          "execution_count": 6
        }
      ]
    },
    {
      "cell_type": "code",
      "metadata": {
        "id": "wo5_pq_T3X1B",
        "colab_type": "code",
        "colab": {
          "base_uri": "https://localhost:8080/",
          "height": 34
        },
        "outputId": "d66da2d6-4b1a-4b28-9852-7741377bd8a7"
      },
      "source": [
        "x.shape"
      ],
      "execution_count": 60,
      "outputs": [
        {
          "output_type": "execute_result",
          "data": {
            "text/plain": [
              "(25000,)"
            ]
          },
          "metadata": {
            "tags": []
          },
          "execution_count": 60
        }
      ]
    },
    {
      "cell_type": "code",
      "metadata": {
        "id": "FIJrog48lKet",
        "colab_type": "code",
        "colab": {
          "base_uri": "https://localhost:8080/",
          "height": 221
        },
        "outputId": "1a77a06c-410d-45db-ef9f-fbd94f9e664f"
      },
      "source": [
        "y"
      ],
      "execution_count": 7,
      "outputs": [
        {
          "output_type": "execute_result",
          "data": {
            "text/plain": [
              "0        1\n",
              "1        0\n",
              "2        1\n",
              "3        0\n",
              "4        1\n",
              "        ..\n",
              "24995    0\n",
              "24996    1\n",
              "24997    0\n",
              "24998    0\n",
              "24999    1\n",
              "Name: polarity, Length: 25000, dtype: int64"
            ]
          },
          "metadata": {
            "tags": []
          },
          "execution_count": 7
        }
      ]
    },
    {
      "cell_type": "code",
      "metadata": {
        "id": "fiJFbUnClKhm",
        "colab_type": "code",
        "colab": {}
      },
      "source": [
        "x_train, x_test, y_train, y_test = train_test_split(x, y, test_size = 0.2, random_state = 42)"
      ],
      "execution_count": 0,
      "outputs": []
    },
    {
      "cell_type": "markdown",
      "metadata": {
        "id": "RbJCKnRppXcq",
        "colab_type": "text"
      },
      "source": [
        "**TOKENZIE DATA**"
      ]
    },
    {
      "cell_type": "markdown",
      "metadata": {
        "id": "vylcbULzpV_U",
        "colab_type": "text"
      },
      "source": [
        ""
      ]
    },
    {
      "cell_type": "code",
      "metadata": {
        "id": "kDRAT8xClKoA",
        "colab_type": "code",
        "colab": {}
      },
      "source": [
        "num_words = 1000"
      ],
      "execution_count": 0,
      "outputs": []
    },
    {
      "cell_type": "code",
      "metadata": {
        "id": "Olz93ugYlKrd",
        "colab_type": "code",
        "colab": {}
      },
      "source": [
        "tokenizer = Tokenizer(num_words = num_words)"
      ],
      "execution_count": 0,
      "outputs": []
    },
    {
      "cell_type": "code",
      "metadata": {
        "id": "0L54ZNi8lKuW",
        "colab_type": "code",
        "colab": {}
      },
      "source": [
        "tokenizer.fit_on_texts(x)"
      ],
      "execution_count": 0,
      "outputs": []
    },
    {
      "cell_type": "markdown",
      "metadata": {
        "id": "pGHd50bSuQ0_",
        "colab_type": "text"
      },
      "source": [
        "from below word_index we can able to understand what token assigned for which letter"
      ]
    },
    {
      "cell_type": "code",
      "metadata": {
        "id": "pIs6dJPFlKxY",
        "colab_type": "code",
        "colab": {
          "base_uri": "https://localhost:8080/",
          "height": 1000
        },
        "outputId": "38137294-f07a-40c1-903f-3ee963419a7f"
      },
      "source": [
        "tokenizer.word_index"
      ],
      "execution_count": 12,
      "outputs": [
        {
          "output_type": "execute_result",
          "data": {
            "text/plain": [
              "{'br': 1,\n",
              " 'movie': 2,\n",
              " 'film': 3,\n",
              " 'one': 4,\n",
              " 'like': 5,\n",
              " \"it's\": 6,\n",
              " 'good': 7,\n",
              " 'the': 8,\n",
              " 'it': 9,\n",
              " 'time': 10,\n",
              " 'even': 11,\n",
              " 'would': 12,\n",
              " 'story': 13,\n",
              " 'really': 14,\n",
              " 'see': 15,\n",
              " 'well': 16,\n",
              " 'much': 17,\n",
              " 'bad': 18,\n",
              " 'get': 19,\n",
              " 'also': 20,\n",
              " 'people': 21,\n",
              " 'first': 22,\n",
              " 'great': 23,\n",
              " \"don't\": 24,\n",
              " 'made': 25,\n",
              " 'way': 26,\n",
              " 'make': 27,\n",
              " 'could': 28,\n",
              " 'movies': 29,\n",
              " 'think': 30,\n",
              " 'characters': 31,\n",
              " 'watch': 32,\n",
              " 'two': 33,\n",
              " 'films': 34,\n",
              " 'character': 35,\n",
              " 'seen': 36,\n",
              " 'many': 37,\n",
              " 'i': 38,\n",
              " 'life': 39,\n",
              " 'plot': 40,\n",
              " 'never': 41,\n",
              " 'acting': 42,\n",
              " 'little': 43,\n",
              " 'best': 44,\n",
              " 'love': 45,\n",
              " 'this': 46,\n",
              " 'show': 47,\n",
              " 'know': 48,\n",
              " 'ever': 49,\n",
              " 'better': 50,\n",
              " 'end': 51,\n",
              " 'still': 52,\n",
              " 'man': 53,\n",
              " 'and': 54,\n",
              " 'say': 55,\n",
              " 'scene': 56,\n",
              " 'scenes': 57,\n",
              " 'go': 58,\n",
              " 'something': 59,\n",
              " 'back': 60,\n",
              " \"i'm\": 61,\n",
              " 'real': 62,\n",
              " 'watching': 63,\n",
              " 'though': 64,\n",
              " \"doesn't\": 65,\n",
              " 'years': 66,\n",
              " 'old': 67,\n",
              " 'thing': 68,\n",
              " 'actors': 69,\n",
              " 'work': 70,\n",
              " '10': 71,\n",
              " 'another': 72,\n",
              " \"didn't\": 73,\n",
              " 'new': 74,\n",
              " 'funny': 75,\n",
              " 'nothing': 76,\n",
              " 'actually': 77,\n",
              " 'all': 78,\n",
              " 'makes': 79,\n",
              " 'director': 80,\n",
              " 'look': 81,\n",
              " 'find': 82,\n",
              " 'going': 83,\n",
              " 'part': 84,\n",
              " 'every': 85,\n",
              " 'lot': 86,\n",
              " 'cast': 87,\n",
              " 'us': 88,\n",
              " 'quite': 89,\n",
              " 'want': 90,\n",
              " 'world': 91,\n",
              " 'things': 92,\n",
              " 'pretty': 93,\n",
              " 'young': 94,\n",
              " 'seems': 95,\n",
              " 'around': 96,\n",
              " 'got': 97,\n",
              " 'horror': 98,\n",
              " 'however': 99,\n",
              " \"can't\": 100,\n",
              " 'fact': 101,\n",
              " 'take': 102,\n",
              " 'that': 103,\n",
              " 'big': 104,\n",
              " 'enough': 105,\n",
              " 'long': 106,\n",
              " 'thought': 107,\n",
              " 'in': 108,\n",
              " \"that's\": 109,\n",
              " 'series': 110,\n",
              " 'give': 111,\n",
              " 'may': 112,\n",
              " 'original': 113,\n",
              " 'action': 114,\n",
              " \"i've\": 115,\n",
              " 'right': 116,\n",
              " 'without': 117,\n",
              " 'always': 118,\n",
              " 'times': 119,\n",
              " 'comedy': 120,\n",
              " 'point': 121,\n",
              " 'gets': 122,\n",
              " 'must': 123,\n",
              " 'come': 124,\n",
              " 'role': 125,\n",
              " \"isn't\": 126,\n",
              " 'saw': 127,\n",
              " 'is': 128,\n",
              " 'almost': 129,\n",
              " 'interesting': 130,\n",
              " 'least': 131,\n",
              " 'a': 132,\n",
              " 'family': 133,\n",
              " 'done': 134,\n",
              " \"there's\": 135,\n",
              " 'whole': 136,\n",
              " 'bit': 137,\n",
              " 'music': 138,\n",
              " 'me': 139,\n",
              " 'script': 140,\n",
              " 'far': 141,\n",
              " 'making': 142,\n",
              " 'anything': 143,\n",
              " 'guy': 144,\n",
              " 'minutes': 145,\n",
              " 'feel': 146,\n",
              " 'last': 147,\n",
              " 'since': 148,\n",
              " 'might': 149,\n",
              " 'performance': 150,\n",
              " \"he's\": 151,\n",
              " '2': 152,\n",
              " 'but': 153,\n",
              " 'probably': 154,\n",
              " 'kind': 155,\n",
              " 'away': 156,\n",
              " 'yet': 157,\n",
              " 'rather': 158,\n",
              " 'tv': 159,\n",
              " 'worst': 160,\n",
              " 'girl': 161,\n",
              " 'day': 162,\n",
              " 'sure': 163,\n",
              " 'fun': 164,\n",
              " 'hard': 165,\n",
              " 'woman': 166,\n",
              " 'there': 167,\n",
              " 'played': 168,\n",
              " 'out': 169,\n",
              " 'found': 170,\n",
              " 'anyone': 171,\n",
              " 'on': 172,\n",
              " 'although': 173,\n",
              " 'especially': 174,\n",
              " 'them': 175,\n",
              " 'believe': 176,\n",
              " 'course': 177,\n",
              " 'up': 178,\n",
              " 'so': 179,\n",
              " 'comes': 180,\n",
              " 'looking': 181,\n",
              " 'him': 182,\n",
              " 'screen': 183,\n",
              " 'trying': 184,\n",
              " 'set': 185,\n",
              " 'here': 186,\n",
              " 'goes': 187,\n",
              " 'looks': 188,\n",
              " 'place': 189,\n",
              " 'book': 190,\n",
              " 'different': 191,\n",
              " 'put': 192,\n",
              " 'ending': 193,\n",
              " 'money': 194,\n",
              " 'maybe': 195,\n",
              " 'sense': 196,\n",
              " 'reason': 197,\n",
              " 'you': 198,\n",
              " 'true': 199,\n",
              " 'actor': 200,\n",
              " 'everything': 201,\n",
              " \"wasn't\": 202,\n",
              " 'shows': 203,\n",
              " 'dvd': 204,\n",
              " 'three': 205,\n",
              " 'worth': 206,\n",
              " 'year': 207,\n",
              " 'job': 208,\n",
              " 'main': 209,\n",
              " 'someone': 210,\n",
              " 'together': 211,\n",
              " 'watched': 212,\n",
              " 'play': 213,\n",
              " 'again': 214,\n",
              " 'plays': 215,\n",
              " 'american': 216,\n",
              " '1': 217,\n",
              " 'said': 218,\n",
              " 'effects': 219,\n",
              " 'later': 220,\n",
              " 'takes': 221,\n",
              " 'instead': 222,\n",
              " 'seem': 223,\n",
              " 'beautiful': 224,\n",
              " 'john': 225,\n",
              " 'version': 226,\n",
              " 'audience': 227,\n",
              " 'high': 228,\n",
              " 'house': 229,\n",
              " 'night': 230,\n",
              " 'everyone': 231,\n",
              " 'left': 232,\n",
              " 'special': 233,\n",
              " 'seeing': 234,\n",
              " 'half': 235,\n",
              " 'excellent': 236,\n",
              " 'wife': 237,\n",
              " 'star': 238,\n",
              " 'shot': 239,\n",
              " 'war': 240,\n",
              " 'idea': 241,\n",
              " 'not': 242,\n",
              " 'nice': 243,\n",
              " 'black': 244,\n",
              " 'less': 245,\n",
              " 'mind': 246,\n",
              " 'simply': 247,\n",
              " 'read': 248,\n",
              " 'second': 249,\n",
              " 'else': 250,\n",
              " \"you're\": 251,\n",
              " 'father': 252,\n",
              " 'fan': 253,\n",
              " 'help': 254,\n",
              " 'poor': 255,\n",
              " 'completely': 256,\n",
              " 'death': 257,\n",
              " '3': 258,\n",
              " 'used': 259,\n",
              " 'her': 260,\n",
              " 'home': 261,\n",
              " 'either': 262,\n",
              " 'short': 263,\n",
              " 'line': 264,\n",
              " 'given': 265,\n",
              " 'men': 266,\n",
              " 'top': 267,\n",
              " 'dead': 268,\n",
              " 'budget': 269,\n",
              " 'as': 270,\n",
              " 'try': 271,\n",
              " 'performances': 272,\n",
              " 'wrong': 273,\n",
              " 'classic': 274,\n",
              " 'boring': 275,\n",
              " 'enjoy': 276,\n",
              " 'â': 277,\n",
              " 'need': 278,\n",
              " 'rest': 279,\n",
              " 'use': 280,\n",
              " 'kids': 281,\n",
              " 'hollywood': 282,\n",
              " 'low': 283,\n",
              " 'production': 284,\n",
              " 'along': 285,\n",
              " 'friends': 286,\n",
              " 'full': 287,\n",
              " 'camera': 288,\n",
              " 'to': 289,\n",
              " 'truly': 290,\n",
              " 'women': 291,\n",
              " 'awful': 292,\n",
              " 'video': 293,\n",
              " 'next': 294,\n",
              " 'tell': 295,\n",
              " 'remember': 296,\n",
              " 'couple': 297,\n",
              " 'stupid': 298,\n",
              " 'start': 299,\n",
              " 'stars': 300,\n",
              " 'perhaps': 301,\n",
              " 'too': 302,\n",
              " 'sex': 303,\n",
              " 'mean': 304,\n",
              " 'came': 305,\n",
              " 'recommend': 306,\n",
              " 'let': 307,\n",
              " 'moments': 308,\n",
              " 'wonderful': 309,\n",
              " 'episode': 310,\n",
              " 'understand': 311,\n",
              " 'small': 312,\n",
              " 'face': 313,\n",
              " 'terrible': 314,\n",
              " 'school': 315,\n",
              " 'playing': 316,\n",
              " 'getting': 317,\n",
              " 'written': 318,\n",
              " 'if': 319,\n",
              " 'often': 320,\n",
              " 'keep': 321,\n",
              " 'early': 322,\n",
              " 'perfect': 323,\n",
              " 'name': 324,\n",
              " 'style': 325,\n",
              " 'now': 326,\n",
              " 'human': 327,\n",
              " 'definitely': 328,\n",
              " 'others': 329,\n",
              " 'gives': 330,\n",
              " 'lines': 331,\n",
              " 'live': 332,\n",
              " 'become': 333,\n",
              " 'person': 334,\n",
              " 'dialogue': 335,\n",
              " 'lost': 336,\n",
              " 'finally': 337,\n",
              " 'piece': 338,\n",
              " 'head': 339,\n",
              " 'case': 340,\n",
              " 'felt': 341,\n",
              " 'yes': 342,\n",
              " 'liked': 343,\n",
              " 'supposed': 344,\n",
              " 'off': 345,\n",
              " 'for': 346,\n",
              " 'title': 347,\n",
              " \"couldn't\": 348,\n",
              " 'absolutely': 349,\n",
              " 'white': 350,\n",
              " 'boy': 351,\n",
              " 'picture': 352,\n",
              " 'sort': 353,\n",
              " 'worse': 354,\n",
              " 'certainly': 355,\n",
              " 'went': 356,\n",
              " 'entire': 357,\n",
              " 'waste': 358,\n",
              " 'cinema': 359,\n",
              " 'problem': 360,\n",
              " 'hope': 361,\n",
              " 'entertaining': 362,\n",
              " \"she's\": 363,\n",
              " 'mr': 364,\n",
              " 'overall': 365,\n",
              " 'evil': 366,\n",
              " 'called': 367,\n",
              " 'loved': 368,\n",
              " 'based': 369,\n",
              " 'oh': 370,\n",
              " 'no': 371,\n",
              " 'several': 372,\n",
              " 'fans': 373,\n",
              " 'mother': 374,\n",
              " 'drama': 375,\n",
              " 'with': 376,\n",
              " 'beginning': 377,\n",
              " 'killer': 378,\n",
              " 'of': 379,\n",
              " 'lives': 380,\n",
              " '5': 381,\n",
              " 'direction': 382,\n",
              " 'care': 383,\n",
              " 'already': 384,\n",
              " 'becomes': 385,\n",
              " 'example': 386,\n",
              " 'laugh': 387,\n",
              " 'friend': 388,\n",
              " 'dark': 389,\n",
              " 'despite': 390,\n",
              " 'seemed': 391,\n",
              " 'throughout': 392,\n",
              " '4': 393,\n",
              " 'turn': 394,\n",
              " 'unfortunately': 395,\n",
              " 'wanted': 396,\n",
              " \"i'd\": 397,\n",
              " 'children': 398,\n",
              " 'final': 399,\n",
              " 'fine': 400,\n",
              " 'history': 401,\n",
              " 'amazing': 402,\n",
              " 'sound': 403,\n",
              " 'guess': 404,\n",
              " 'heart': 405,\n",
              " 'totally': 406,\n",
              " 'humor': 407,\n",
              " 'lead': 408,\n",
              " 'writing': 409,\n",
              " 'what': 410,\n",
              " 'michael': 411,\n",
              " 'quality': 412,\n",
              " 'over': 413,\n",
              " \"you'll\": 414,\n",
              " 'close': 415,\n",
              " 'son': 416,\n",
              " 'wants': 417,\n",
              " 'guys': 418,\n",
              " 'works': 419,\n",
              " 'behind': 420,\n",
              " 'tries': 421,\n",
              " 'art': 422,\n",
              " 'side': 423,\n",
              " 'game': 424,\n",
              " 'past': 425,\n",
              " 'b': 426,\n",
              " 'do': 427,\n",
              " 'be': 428,\n",
              " 'able': 429,\n",
              " 'days': 430,\n",
              " 'turns': 431,\n",
              " \"they're\": 432,\n",
              " 'child': 433,\n",
              " 'hand': 434,\n",
              " 'flick': 435,\n",
              " 'enjoyed': 436,\n",
              " 'act': 437,\n",
              " 'genre': 438,\n",
              " 'town': 439,\n",
              " 'or': 440,\n",
              " 'favorite': 441,\n",
              " 'soon': 442,\n",
              " 'kill': 443,\n",
              " 'starts': 444,\n",
              " 'sometimes': 445,\n",
              " 'car': 446,\n",
              " 'gave': 447,\n",
              " 'run': 448,\n",
              " 'late': 449,\n",
              " 'etc': 450,\n",
              " 'eyes': 451,\n",
              " 'actress': 452,\n",
              " 'directed': 453,\n",
              " 'horrible': 454,\n",
              " \"won't\": 455,\n",
              " 'brilliant': 456,\n",
              " 'viewer': 457,\n",
              " 'who': 458,\n",
              " 'parts': 459,\n",
              " 'self': 460,\n",
              " 'hour': 461,\n",
              " 'expect': 462,\n",
              " 'thinking': 463,\n",
              " 'stories': 464,\n",
              " 'was': 465,\n",
              " 'then': 466,\n",
              " 'stuff': 467,\n",
              " 'girls': 468,\n",
              " 'obviously': 469,\n",
              " 'blood': 470,\n",
              " 'decent': 471,\n",
              " 'city': 472,\n",
              " 'voice': 473,\n",
              " 'highly': 474,\n",
              " 'which': 475,\n",
              " 'feeling': 476,\n",
              " 'fight': 477,\n",
              " 'except': 478,\n",
              " 'slow': 479,\n",
              " 'matter': 480,\n",
              " 'type': 481,\n",
              " 'kid': 482,\n",
              " 'anyway': 483,\n",
              " 'roles': 484,\n",
              " 'killed': 485,\n",
              " 'heard': 486,\n",
              " 'age': 487,\n",
              " 'god': 488,\n",
              " 'says': 489,\n",
              " 'moment': 490,\n",
              " 'took': 491,\n",
              " 'leave': 492,\n",
              " 'writer': 493,\n",
              " 'cannot': 494,\n",
              " 'strong': 495,\n",
              " 'violence': 496,\n",
              " 'police': 497,\n",
              " 'hit': 498,\n",
              " 'happens': 499,\n",
              " 'stop': 500,\n",
              " 'particularly': 501,\n",
              " 'more': 502,\n",
              " 'known': 503,\n",
              " 'involved': 504,\n",
              " 'happened': 505,\n",
              " 's': 506,\n",
              " 'extremely': 507,\n",
              " 'obvious': 508,\n",
              " 'daughter': 509,\n",
              " 'chance': 510,\n",
              " 'told': 511,\n",
              " 'living': 512,\n",
              " 'coming': 513,\n",
              " 'lack': 514,\n",
              " 'alone': 515,\n",
              " 'experience': 516,\n",
              " 'including': 517,\n",
              " \"wouldn't\": 518,\n",
              " 'murder': 519,\n",
              " 'attempt': 520,\n",
              " 'please': 521,\n",
              " 'james': 522,\n",
              " 'happen': 523,\n",
              " 'wonder': 524,\n",
              " 'crap': 525,\n",
              " 'ago': 526,\n",
              " \"film's\": 527,\n",
              " 'brother': 528,\n",
              " 'none': 529,\n",
              " 'complete': 530,\n",
              " 'gore': 531,\n",
              " 'interest': 532,\n",
              " 'score': 533,\n",
              " 'group': 534,\n",
              " 'cut': 535,\n",
              " 'simple': 536,\n",
              " 'save': 537,\n",
              " 'hell': 538,\n",
              " 'looked': 539,\n",
              " 'ok': 540,\n",
              " 'number': 541,\n",
              " 'career': 542,\n",
              " 'song': 543,\n",
              " 'seriously': 544,\n",
              " 'possible': 545,\n",
              " 'annoying': 546,\n",
              " 'exactly': 547,\n",
              " 'shown': 548,\n",
              " 'sad': 549,\n",
              " 'running': 550,\n",
              " 'musical': 551,\n",
              " 'serious': 552,\n",
              " 'taken': 553,\n",
              " 'released': 554,\n",
              " 'whose': 555,\n",
              " 'cinematography': 556,\n",
              " 'david': 557,\n",
              " 'scary': 558,\n",
              " 'ends': 559,\n",
              " 'hero': 560,\n",
              " 'usually': 561,\n",
              " 'english': 562,\n",
              " 'hours': 563,\n",
              " 'reality': 564,\n",
              " 'opening': 565,\n",
              " \"i'll\": 566,\n",
              " 'today': 567,\n",
              " 'light': 568,\n",
              " 'across': 569,\n",
              " 'jokes': 570,\n",
              " 'hilarious': 571,\n",
              " 'somewhat': 572,\n",
              " 'usual': 573,\n",
              " 'ridiculous': 574,\n",
              " 'started': 575,\n",
              " 'body': 576,\n",
              " 'cool': 577,\n",
              " 'relationship': 578,\n",
              " 'view': 579,\n",
              " 'level': 580,\n",
              " 'change': 581,\n",
              " 'opinion': 582,\n",
              " 'happy': 583,\n",
              " 'middle': 584,\n",
              " 'taking': 585,\n",
              " 'wish': 586,\n",
              " 'husband': 587,\n",
              " 'finds': 588,\n",
              " 'order': 589,\n",
              " 'saying': 590,\n",
              " 'talking': 591,\n",
              " 'shots': 592,\n",
              " 'documentary': 593,\n",
              " 'ones': 594,\n",
              " 'huge': 595,\n",
              " 'mostly': 596,\n",
              " 'novel': 597,\n",
              " 'female': 598,\n",
              " 'robert': 599,\n",
              " 'power': 600,\n",
              " 'episodes': 601,\n",
              " 'why': 602,\n",
              " 'room': 603,\n",
              " 'important': 604,\n",
              " 'rating': 605,\n",
              " 'talent': 606,\n",
              " 'five': 607,\n",
              " 'major': 608,\n",
              " 'strange': 609,\n",
              " 'turned': 610,\n",
              " 'word': 611,\n",
              " 'modern': 612,\n",
              " 'call': 613,\n",
              " 'apparently': 614,\n",
              " 'single': 615,\n",
              " 'disappointed': 616,\n",
              " 'events': 617,\n",
              " 'four': 618,\n",
              " 'due': 619,\n",
              " 'songs': 620,\n",
              " 'attention': 621,\n",
              " 'basically': 622,\n",
              " '7': 623,\n",
              " 'knows': 624,\n",
              " 'clearly': 625,\n",
              " 'knew': 626,\n",
              " 'supporting': 627,\n",
              " 'television': 628,\n",
              " 'british': 629,\n",
              " 'comic': 630,\n",
              " 'non': 631,\n",
              " 'earth': 632,\n",
              " 'fast': 633,\n",
              " 'country': 634,\n",
              " 'class': 635,\n",
              " 'future': 636,\n",
              " 'cheap': 637,\n",
              " '8': 638,\n",
              " 'before': 639,\n",
              " 'silly': 640,\n",
              " 'thriller': 641,\n",
              " 'king': 642,\n",
              " 'problems': 643,\n",
              " \"aren't\": 644,\n",
              " 'about': 645,\n",
              " 'easily': 646,\n",
              " 'words': 647,\n",
              " 'tells': 648,\n",
              " 'jack': 649,\n",
              " 'miss': 650,\n",
              " 'local': 651,\n",
              " 'sequence': 652,\n",
              " 'bring': 653,\n",
              " 'entertainment': 654,\n",
              " 'paul': 655,\n",
              " 'beyond': 656,\n",
              " 'upon': 657,\n",
              " 'whether': 658,\n",
              " 'moving': 659,\n",
              " 'predictable': 660,\n",
              " 'sets': 661,\n",
              " 'similar': 662,\n",
              " 'romantic': 663,\n",
              " 'straight': 664,\n",
              " 'other': 665,\n",
              " 'review': 666,\n",
              " 'falls': 667,\n",
              " 'oscar': 668,\n",
              " 'mystery': 669,\n",
              " 'enjoyable': 670,\n",
              " 'appears': 671,\n",
              " 'rock': 672,\n",
              " 'needs': 673,\n",
              " 'talk': 674,\n",
              " 'george': 675,\n",
              " 'giving': 676,\n",
              " 'eye': 677,\n",
              " 'down': 678,\n",
              " 'richard': 679,\n",
              " 'within': 680,\n",
              " 'ten': 681,\n",
              " 'animation': 682,\n",
              " 'message': 683,\n",
              " 'theater': 684,\n",
              " 'near': 685,\n",
              " 'dull': 686,\n",
              " 'nearly': 687,\n",
              " 'sequel': 688,\n",
              " \"'\": 689,\n",
              " 'points': 690,\n",
              " 'theme': 691,\n",
              " 'stand': 692,\n",
              " 'mention': 693,\n",
              " 'add': 694,\n",
              " 'bunch': 695,\n",
              " 'lady': 696,\n",
              " 'feels': 697,\n",
              " 'release': 698,\n",
              " 'red': 699,\n",
              " 'team': 700,\n",
              " 'storyline': 701,\n",
              " 'surprised': 702,\n",
              " 'ways': 703,\n",
              " 'using': 704,\n",
              " 'named': 705,\n",
              " \"haven't\": 706,\n",
              " 'lots': 707,\n",
              " 'easy': 708,\n",
              " 'fantastic': 709,\n",
              " 'begins': 710,\n",
              " 'actual': 711,\n",
              " 'working': 712,\n",
              " 'effort': 713,\n",
              " 'york': 714,\n",
              " 'hate': 715,\n",
              " 'die': 716,\n",
              " 'french': 717,\n",
              " 'tale': 718,\n",
              " 'minute': 719,\n",
              " 'stay': 720,\n",
              " '9': 721,\n",
              " 'clear': 722,\n",
              " 'feature': 723,\n",
              " 'among': 724,\n",
              " 'elements': 725,\n",
              " 'follow': 726,\n",
              " 'at': 727,\n",
              " 'he': 728,\n",
              " 'comments': 729,\n",
              " 'viewers': 730,\n",
              " 'avoid': 731,\n",
              " 'sister': 732,\n",
              " 'typical': 733,\n",
              " 'showing': 734,\n",
              " 'editing': 735,\n",
              " 'tried': 736,\n",
              " 'famous': 737,\n",
              " \"what's\": 738,\n",
              " 'sorry': 739,\n",
              " 'fall': 740,\n",
              " 'dialog': 741,\n",
              " 'check': 742,\n",
              " 'period': 743,\n",
              " 'form': 744,\n",
              " 'season': 745,\n",
              " 'certain': 746,\n",
              " 'did': 747,\n",
              " 'filmed': 748,\n",
              " 'weak': 749,\n",
              " 'soundtrack': 750,\n",
              " 'means': 751,\n",
              " 'buy': 752,\n",
              " 'material': 753,\n",
              " 'somehow': 754,\n",
              " 'realistic': 755,\n",
              " 'figure': 756,\n",
              " 'crime': 757,\n",
              " 'doubt': 758,\n",
              " 'gone': 759,\n",
              " 'peter': 760,\n",
              " 'tom': 761,\n",
              " 'viewing': 762,\n",
              " 'kept': 763,\n",
              " 'general': 764,\n",
              " 'leads': 765,\n",
              " 'greatest': 766,\n",
              " 're': 767,\n",
              " 'space': 768,\n",
              " 'lame': 769,\n",
              " 'dance': 770,\n",
              " 'suspense': 771,\n",
              " 'brought': 772,\n",
              " 'imagine': 773,\n",
              " 'third': 774,\n",
              " 'atmosphere': 775,\n",
              " 'hear': 776,\n",
              " 'particular': 777,\n",
              " 'sequences': 778,\n",
              " 'whatever': 779,\n",
              " 'my': 780,\n",
              " 'parents': 781,\n",
              " 'lee': 782,\n",
              " 'move': 783,\n",
              " 'indeed': 784,\n",
              " 'eventually': 785,\n",
              " 'rent': 786,\n",
              " 'de': 787,\n",
              " 'learn': 788,\n",
              " 'note': 789,\n",
              " 'wait': 790,\n",
              " 'average': 791,\n",
              " 'forget': 792,\n",
              " 'reviews': 793,\n",
              " 'deal': 794,\n",
              " 'japanese': 795,\n",
              " 'poorly': 796,\n",
              " 'sexual': 797,\n",
              " 'okay': 798,\n",
              " 'premise': 799,\n",
              " 'zombie': 800,\n",
              " 'surprise': 801,\n",
              " 'believable': 802,\n",
              " 'stage': 803,\n",
              " 'possibly': 804,\n",
              " 'sit': 805,\n",
              " \"who's\": 806,\n",
              " 'decided': 807,\n",
              " 'expected': 808,\n",
              " 'subject': 809,\n",
              " \"you've\": 810,\n",
              " 'nature': 811,\n",
              " 'became': 812,\n",
              " 'free': 813,\n",
              " 'difficult': 814,\n",
              " 'screenplay': 815,\n",
              " 'killing': 816,\n",
              " 'truth': 817,\n",
              " 't': 818,\n",
              " 'dr': 819,\n",
              " 'romance': 820,\n",
              " 'are': 821,\n",
              " 'reading': 822,\n",
              " 'needed': 823,\n",
              " 'question': 824,\n",
              " 'leaves': 825,\n",
              " 'street': 826,\n",
              " '20': 827,\n",
              " 'meets': 828,\n",
              " 'hot': 829,\n",
              " 'begin': 830,\n",
              " 'unless': 831,\n",
              " 'baby': 832,\n",
              " 'superb': 833,\n",
              " 'otherwise': 834,\n",
              " 'imdb': 835,\n",
              " 'credits': 836,\n",
              " 'write': 837,\n",
              " 'shame': 838,\n",
              " \"let's\": 839,\n",
              " 'situation': 840,\n",
              " 'dramatic': 841,\n",
              " 'memorable': 842,\n",
              " 'earlier': 843,\n",
              " 'directors': 844,\n",
              " 'disney': 845,\n",
              " 'meet': 846,\n",
              " 'open': 847,\n",
              " 'dog': 848,\n",
              " 'badly': 849,\n",
              " 'weird': 850,\n",
              " 'male': 851,\n",
              " 'joe': 852,\n",
              " 'acted': 853,\n",
              " 'forced': 854,\n",
              " 'laughs': 855,\n",
              " 'sci': 856,\n",
              " 'emotional': 857,\n",
              " 'older': 858,\n",
              " 'realize': 859,\n",
              " 'fi': 860,\n",
              " 'society': 861,\n",
              " 'dream': 862,\n",
              " 'interested': 863,\n",
              " 'writers': 864,\n",
              " 'footage': 865,\n",
              " 'comment': 866,\n",
              " 'forward': 867,\n",
              " 'crazy': 868,\n",
              " 'deep': 869,\n",
              " 'america': 870,\n",
              " 'beauty': 871,\n",
              " 'sounds': 872,\n",
              " 'plus': 873,\n",
              " 'fantasy': 874,\n",
              " 'directing': 875,\n",
              " 'keeps': 876,\n",
              " 'development': 877,\n",
              " 'ask': 878,\n",
              " 'features': 879,\n",
              " 'quickly': 880,\n",
              " 'air': 881,\n",
              " 'creepy': 882,\n",
              " 'mess': 883,\n",
              " 'towards': 884,\n",
              " 'perfectly': 885,\n",
              " 'mark': 886,\n",
              " 'worked': 887,\n",
              " 'box': 888,\n",
              " 'cheesy': 889,\n",
              " 'e': 890,\n",
              " 'unique': 891,\n",
              " 'setting': 892,\n",
              " 'himself': 893,\n",
              " 'hands': 894,\n",
              " 'plenty': 895,\n",
              " 'previous': 896,\n",
              " 'brings': 897,\n",
              " 'result': 898,\n",
              " 'total': 899,\n",
              " 'effect': 900,\n",
              " 'while': 901,\n",
              " 'personal': 902,\n",
              " 'incredibly': 903,\n",
              " 'rate': 904,\n",
              " 'monster': 905,\n",
              " 'fire': 906,\n",
              " 'business': 907,\n",
              " 'apart': 908,\n",
              " 'casting': 909,\n",
              " 'leading': 910,\n",
              " 'admit': 911,\n",
              " 'background': 912,\n",
              " 'joke': 913,\n",
              " 'powerful': 914,\n",
              " 'appear': 915,\n",
              " 'girlfriend': 916,\n",
              " 'meant': 917,\n",
              " 'telling': 918,\n",
              " 'present': 919,\n",
              " 'christmas': 920,\n",
              " 'hardly': 921,\n",
              " 'potential': 922,\n",
              " 'battle': 923,\n",
              " 'bill': 924,\n",
              " 'create': 925,\n",
              " 'break': 926,\n",
              " 'pay': 927,\n",
              " 'masterpiece': 928,\n",
              " 'political': 929,\n",
              " 'return': 930,\n",
              " 'dumb': 931,\n",
              " 'gay': 932,\n",
              " 'fighting': 933,\n",
              " 'fails': 934,\n",
              " 'various': 935,\n",
              " 'portrayed': 936,\n",
              " 'era': 937,\n",
              " 'secret': 938,\n",
              " 'cop': 939,\n",
              " 'co': 940,\n",
              " 'inside': 941,\n",
              " 'outside': 942,\n",
              " 'reasons': 943,\n",
              " 'nudity': 944,\n",
              " 'twist': 945,\n",
              " 'front': 946,\n",
              " 'western': 947,\n",
              " 'ideas': 948,\n",
              " 'missing': 949,\n",
              " 'boys': 950,\n",
              " 'deserves': 951,\n",
              " 'jane': 952,\n",
              " 'match': 953,\n",
              " 'expecting': 954,\n",
              " 'fairly': 955,\n",
              " 'villain': 956,\n",
              " 'talented': 957,\n",
              " 'married': 958,\n",
              " 'unlike': 959,\n",
              " 'ben': 960,\n",
              " 'william': 961,\n",
              " 'success': 962,\n",
              " 'attempts': 963,\n",
              " 'rich': 964,\n",
              " 'list': 965,\n",
              " 'spoilers': 966,\n",
              " 'manages': 967,\n",
              " 'recently': 968,\n",
              " 'social': 969,\n",
              " 'odd': 970,\n",
              " 'remake': 971,\n",
              " 'flat': 972,\n",
              " 'cute': 973,\n",
              " 'sadly': 974,\n",
              " 'copy': 975,\n",
              " 'agree': 976,\n",
              " 'wrote': 977,\n",
              " 'doctor': 978,\n",
              " 'cold': 979,\n",
              " 'plain': 980,\n",
              " 'when': 981,\n",
              " 'by': 982,\n",
              " 'following': 983,\n",
              " 'sweet': 984,\n",
              " 'mentioned': 985,\n",
              " 'missed': 986,\n",
              " 'incredible': 987,\n",
              " 'pure': 988,\n",
              " 'office': 989,\n",
              " 'crew': 990,\n",
              " 'from': 991,\n",
              " 'wasted': 992,\n",
              " 'itself': 993,\n",
              " 'ended': 994,\n",
              " 'produced': 995,\n",
              " 'filmmakers': 996,\n",
              " 'large': 997,\n",
              " 'gun': 998,\n",
              " 'revenge': 999,\n",
              " 'caught': 1000,\n",
              " ...}"
            ]
          },
          "metadata": {
            "tags": []
          },
          "execution_count": 12
        }
      ]
    },
    {
      "cell_type": "code",
      "metadata": {
        "id": "SBrxXSMdlK0a",
        "colab_type": "code",
        "colab": {
          "base_uri": "https://localhost:8080/",
          "height": 782
        },
        "outputId": "454a8214-4af4-4afc-e992-639126d4c554"
      },
      "source": [
        "x_train_tokens = tokenizer.texts_to_sequences(x_train)\n",
        "x_train_tokens[1]"
      ],
      "execution_count": 65,
      "outputs": [
        {
          "output_type": "execute_result",
          "data": {
            "text/plain": [
              "[2,\n",
              " 97,\n",
              " 217,\n",
              " 100,\n",
              " 111,\n",
              " 749,\n",
              " 24,\n",
              " 32,\n",
              " 21,\n",
              " 24,\n",
              " 90,\n",
              " 32,\n",
              " 262,\n",
              " 79,\n",
              " 21,\n",
              " 523,\n",
              " 577,\n",
              " 459,\n",
              " 340,\n",
              " 101,\n",
              " 199,\n",
              " 13,\n",
              " 14,\n",
              " 14,\n",
              " 882,\n",
              " 144,\n",
              " 887,\n",
              " 485,\n",
              " 21,\n",
              " 52,\n",
              " 146,\n",
              " 43,\n",
              " 24,\n",
              " 85,\n",
              " 2,\n",
              " 558,\n",
              " 460,\n",
              " 818,\n",
              " 786,\n",
              " 752,\n",
              " 2,\n",
              " 30,\n",
              " 827,\n",
              " 27,\n",
              " 69]"
            ]
          },
          "metadata": {
            "tags": []
          },
          "execution_count": 65
        }
      ]
    },
    {
      "cell_type": "code",
      "metadata": {
        "id": "pEOrqMjUlK3u",
        "colab_type": "code",
        "colab": {}
      },
      "source": [
        "x_test_tokens = tokenizer.texts_to_sequences(x_test)"
      ],
      "execution_count": 0,
      "outputs": []
    },
    {
      "cell_type": "markdown",
      "metadata": {
        "id": "oTxUTeWwuds5",
        "colab_type": "text"
      },
      "source": [
        "PADDING AND TRUNCATING"
      ]
    },
    {
      "cell_type": "markdown",
      "metadata": {
        "id": "kNpElxZ3u6fY",
        "colab_type": "text"
      },
      "source": [
        "The Recurrent Neural Network can take sequences of arbitrary length as input, but in order to use a whole batch of data, the sequences need to have the same length. There are two ways of achieving this: (A) Either we ensure that all sequences in the entire data-set have the same length, or (B) we write a custom data-generator that ensures the sequences have the same length within each batch.\n",
        "\n",
        "Solution (A) is simpler but if we use the length of the longest sequence in the data-set, then we are wasting a lot of memory. This is particularly important for larger data-sets.\n",
        "\n",
        "So in order to make a compromise, we will use a sequence-length that covers most sequences in the data-set, and we will then truncate longer sequences and pad shorter sequences.\n",
        "\n",
        "First we count the number of tokens in all the sequences in the data-set.\n",
        "\n"
      ]
    },
    {
      "cell_type": "code",
      "metadata": {
        "id": "8iZxYUMmlLA_",
        "colab_type": "code",
        "colab": {
          "base_uri": "https://localhost:8080/",
          "height": 34
        },
        "outputId": "dcd741bd-323a-4ead-f1a2-dfad99378cf1"
      },
      "source": [
        "num_tokens = [len(tokens) for tokens in x_train_tokens + y_train_tokens]\n",
        "num_tokens = np.array(num_tokens)"
      ],
      "execution_count": 17,
      "outputs": [
        {
          "output_type": "stream",
          "text": [
            "ERROR! Session/line number was not unique in database. History logging moved to new session 65\n"
          ],
          "name": "stdout"
        }
      ]
    },
    {
      "cell_type": "code",
      "metadata": {
        "id": "uzrUVMm5lLG2",
        "colab_type": "code",
        "colab": {
          "base_uri": "https://localhost:8080/",
          "height": 34
        },
        "outputId": "30d279f1-a430-4e76-9c02-bd6d8d19e914"
      },
      "source": [
        "np.mean(num_tokens)"
      ],
      "execution_count": 18,
      "outputs": [
        {
          "output_type": "execute_result",
          "data": {
            "text/plain": [
              "79.3444"
            ]
          },
          "metadata": {
            "tags": []
          },
          "execution_count": 18
        }
      ]
    },
    {
      "cell_type": "code",
      "metadata": {
        "id": "wQQguQK0lLJ1",
        "colab_type": "code",
        "colab": {
          "base_uri": "https://localhost:8080/",
          "height": 34
        },
        "outputId": "664c5047-951f-4ddd-de39-b0dc2927ec35"
      },
      "source": [
        "np.max(num_tokens)"
      ],
      "execution_count": 19,
      "outputs": [
        {
          "output_type": "execute_result",
          "data": {
            "text/plain": [
              "588"
            ]
          },
          "metadata": {
            "tags": []
          },
          "execution_count": 19
        }
      ]
    },
    {
      "cell_type": "code",
      "metadata": {
        "id": "1QohVQZOlLP2",
        "colab_type": "code",
        "colab": {
          "base_uri": "https://localhost:8080/",
          "height": 34
        },
        "outputId": "8a0751a9-6377-4be6-82d5-93d55b0b45dd"
      },
      "source": [
        "max_tokens = np.mean(num_tokens) + 2 * np.std(num_tokens)\n",
        "max_tokens = int(max_tokens)\n",
        "max_tokens"
      ],
      "execution_count": 20,
      "outputs": [
        {
          "output_type": "execute_result",
          "data": {
            "text/plain": [
              "190"
            ]
          },
          "metadata": {
            "tags": []
          },
          "execution_count": 20
        }
      ]
    },
    {
      "cell_type": "markdown",
      "metadata": {
        "id": "7d3zHHFNv2st",
        "colab_type": "text"
      },
      "source": [
        "\n",
        "When padding or truncating the sequences that have a different length, we need to determine if we want to do this padding or truncating 'pre' or 'post'. If a sequence is truncated, it means that a part of the sequence is simply thrown away. If a sequence is padded, it means that zeros are added to the sequence.\n",
        "\n",
        "So the choice of 'pre' or 'post' can be important because it determines whether we throw away the first or last part of a sequence when truncating, and it determines whether we add zeros to the beginning or end of the sequence when padding. This may confuse the Recurrent Neural Network"
      ]
    },
    {
      "cell_type": "code",
      "metadata": {
        "id": "JpAjvaKYwKBx",
        "colab_type": "code",
        "colab": {}
      },
      "source": [
        "pad = 'pre'"
      ],
      "execution_count": 0,
      "outputs": []
    },
    {
      "cell_type": "code",
      "metadata": {
        "id": "h6P-LlZlwKEN",
        "colab_type": "code",
        "colab": {
          "base_uri": "https://localhost:8080/",
          "height": 272
        },
        "outputId": "8078fda4-f2a8-4650-f27c-4a8a4076e7ff"
      },
      "source": [
        "x_train_pad = pad_sequences(x_train_tokens, maxlen = max_tokens , padding = pad, truncating = pad)\n",
        "x_train_pad[1]"
      ],
      "execution_count": 72,
      "outputs": [
        {
          "output_type": "execute_result",
          "data": {
            "text/plain": [
              "array([  0,   0,   0,   0,   0,   0,   0,   0,   0,   0,   0,   0,   0,\n",
              "         0,   0,   0,   0,   0,   0,   0,   0,   0,   0,   0,   0,   0,\n",
              "         0,   0,   0,   0,   0,   0,   0,   0,   0,   0,   0,   0,   0,\n",
              "         0,   0,   0,   0,   0,   0,   0,   0,   0,   0,   0,   0,   0,\n",
              "         0,   0,   0,   0,   0,   0,   0,   0,   0,   0,   0,   0,   0,\n",
              "         0,   0,   0,   0,   0,   0,   0,   0,   0,   0,   0,   0,   0,\n",
              "         0,   0,   0,   0,   0,   0,   0,   0,   0,   0,   0,   0,   0,\n",
              "         0,   0,   0,   0,   0,   0,   0,   0,   0,   0,   0,   0,   0,\n",
              "         0,   0,   0,   0,   0,   0,   0,   0,   0,   0,   0,   0,   0,\n",
              "         0,   0,   0,   0,   0,   0,   0,   0,   0,   0,   0,   0,   0,\n",
              "         0,   0,   0,   0,   0,   0,   0,   0,   0,   0,   0,   0,   0,\n",
              "         0,   0,   2,  97, 217, 100, 111, 749,  24,  32,  21,  24,  90,\n",
              "        32, 262,  79,  21, 523, 577, 459, 340, 101, 199,  13,  14,  14,\n",
              "       882, 144, 887, 485,  21,  52, 146,  43,  24,  85,   2, 558, 460,\n",
              "       818, 786, 752,   2,  30, 827,  27,  69], dtype=int32)"
            ]
          },
          "metadata": {
            "tags": []
          },
          "execution_count": 72
        }
      ]
    },
    {
      "cell_type": "code",
      "metadata": {
        "id": "wZ277i-CwKGz",
        "colab_type": "code",
        "colab": {}
      },
      "source": [
        "x_test_pad = pad_sequences(x_test_tokens, maxlen = max_tokens, padding = pad, truncating = pad)"
      ],
      "execution_count": 0,
      "outputs": []
    },
    {
      "cell_type": "markdown",
      "metadata": {
        "id": "_XOPhJ0MxQ8U",
        "colab_type": "text"
      },
      "source": [
        "INVERSE FROM TOKENS TO TEXT"
      ]
    },
    {
      "cell_type": "markdown",
      "metadata": {
        "id": "tyWOAMlExWN5",
        "colab_type": "text"
      },
      "source": [
        "this is done if needed"
      ]
    },
    {
      "cell_type": "code",
      "metadata": {
        "id": "lo5VeCaXwKJr",
        "colab_type": "code",
        "colab": {}
      },
      "source": [
        "idx = tokenizer.word_index\n",
        "inverse_map = dict(zip(idx.values(), idx.keys()))"
      ],
      "execution_count": 0,
      "outputs": []
    },
    {
      "cell_type": "code",
      "metadata": {
        "id": "zU2s5lcEwKL-",
        "colab_type": "code",
        "colab": {}
      },
      "source": [
        "def tokens_to_text(tokens):\n",
        "  word = [inverse_map[token] for token in tokens if token != 0]\n",
        "  text = \" \".join(word)\n",
        "  return text"
      ],
      "execution_count": 0,
      "outputs": []
    },
    {
      "cell_type": "code",
      "metadata": {
        "id": "4YBujAvPwKOd",
        "colab_type": "code",
        "colab": {
          "base_uri": "https://localhost:8080/",
          "height": 54
        },
        "outputId": "cd3e5f22-04e6-4eff-a294-d79f163564d9"
      },
      "source": [
        "tokens_to_text(x_train_tokens[1])"
      ],
      "execution_count": 30,
      "outputs": [
        {
          "output_type": "execute_result",
          "data": {
            "text/plain": [
              "\"movie got 1 can't give weak don't watch people don't want watch either makes people happen cool parts case fact true story really really creepy guy worked killed people still feel little don't every movie scary self t rent buy movie think 20 make actors\""
            ]
          },
          "metadata": {
            "tags": []
          },
          "execution_count": 30
        }
      ]
    },
    {
      "cell_type": "markdown",
      "metadata": {
        "id": "YuXlyTclyxi7",
        "colab_type": "text"
      },
      "source": [
        "RNN"
      ]
    },
    {
      "cell_type": "code",
      "metadata": {
        "id": "flY5oG8fwKQz",
        "colab_type": "code",
        "colab": {}
      },
      "source": [
        "model = Sequential()"
      ],
      "execution_count": 0,
      "outputs": []
    },
    {
      "cell_type": "code",
      "metadata": {
        "id": "OAi9W3XUzxfz",
        "colab_type": "code",
        "colab": {}
      },
      "source": [
        "embedding_size = 8"
      ],
      "execution_count": 0,
      "outputs": []
    },
    {
      "cell_type": "code",
      "metadata": {
        "id": "I11WrdDrwKTj",
        "colab_type": "code",
        "colab": {}
      },
      "source": [
        "model.add(Embedding(input_dim=num_words,\n",
        "                    output_dim=embedding_size,\n",
        "                    input_length=max_tokens,\n",
        "                    name='layer_embedding'))"
      ],
      "execution_count": 0,
      "outputs": []
    },
    {
      "cell_type": "code",
      "metadata": {
        "id": "HULDte26wKWQ",
        "colab_type": "code",
        "colab": {}
      },
      "source": [
        "model.add(GRU(units = 16, return_sequences = True))"
      ],
      "execution_count": 0,
      "outputs": []
    },
    {
      "cell_type": "code",
      "metadata": {
        "id": "doH8iy_VwKYp",
        "colab_type": "code",
        "colab": {}
      },
      "source": [
        "model.add(GRU(units = 8, return_sequences = True))"
      ],
      "execution_count": 0,
      "outputs": []
    },
    {
      "cell_type": "code",
      "metadata": {
        "id": "9WDb_sBswKbQ",
        "colab_type": "code",
        "colab": {}
      },
      "source": [
        "model.add(GRU(units = 8, return_sequences= True))"
      ],
      "execution_count": 0,
      "outputs": []
    },
    {
      "cell_type": "code",
      "metadata": {
        "id": "fksSTntp7bwy",
        "colab_type": "code",
        "colab": {}
      },
      "source": [
        "model.add(Flatten())"
      ],
      "execution_count": 0,
      "outputs": []
    },
    {
      "cell_type": "code",
      "metadata": {
        "id": "tecTTyccwKgY",
        "colab_type": "code",
        "colab": {}
      },
      "source": [
        "model.add(Dense(1, activation = 'sigmoid'))"
      ],
      "execution_count": 0,
      "outputs": []
    },
    {
      "cell_type": "code",
      "metadata": {
        "id": "aORdUa4UwKiy",
        "colab_type": "code",
        "colab": {}
      },
      "source": [
        "model.compile(optimizer = 'adam',\n",
        "              loss = 'binary_crossentropy',\n",
        "              metrics = ['accuracy'])"
      ],
      "execution_count": 0,
      "outputs": []
    },
    {
      "cell_type": "code",
      "metadata": {
        "id": "b-hrqmMd1EIO",
        "colab_type": "code",
        "colab": {
          "base_uri": "https://localhost:8080/",
          "height": 493
        },
        "outputId": "27e157c4-9374-47bc-9839-8d165d0a5a0e"
      },
      "source": [
        "model.summary()"
      ],
      "execution_count": 109,
      "outputs": [
        {
          "output_type": "stream",
          "text": [
            "Model: \"sequential_1\"\n",
            "_________________________________________________________________\n",
            "Layer (type)                 Output Shape              Param #   \n",
            "=================================================================\n",
            "layer_embedding (Embedding)  (None, 190, 8)            8000      \n",
            "_________________________________________________________________\n",
            "gru_1 (GRU)                  (None, 190, 16)           1200      \n",
            "_________________________________________________________________\n",
            "gru_2 (GRU)                  (None, 190, 8)            600       \n",
            "_________________________________________________________________\n",
            "gru_3 (GRU)                  (None, 190, 8)            408       \n",
            "_________________________________________________________________\n",
            "dense_1 (Dense)              (None, 190, 1)            9         \n",
            "_________________________________________________________________\n",
            "dense_2 (Dense)              (None, 190, 16)           32        \n",
            "_________________________________________________________________\n",
            "dense_3 (Dense)              (None, 190, 32)           544       \n",
            "_________________________________________________________________\n",
            "dense_4 (Dense)              (None, 190, 1)            33        \n",
            "_________________________________________________________________\n",
            "flatten_1 (Flatten)          (None, 190)               0         \n",
            "_________________________________________________________________\n",
            "dense_5 (Dense)              (None, 1)                 191       \n",
            "=================================================================\n",
            "Total params: 11,017\n",
            "Trainable params: 11,017\n",
            "Non-trainable params: 0\n",
            "_________________________________________________________________\n"
          ],
          "name": "stdout"
        }
      ]
    },
    {
      "cell_type": "code",
      "metadata": {
        "id": "knNQDFCqwKeY",
        "colab_type": "code",
        "colab": {
          "base_uri": "https://localhost:8080/",
          "height": 34
        },
        "outputId": "325d491c-f2e8-48ca-976b-46946cc0ef2c"
      },
      "source": [
        "x_train_pad.shape"
      ],
      "execution_count": 110,
      "outputs": [
        {
          "output_type": "execute_result",
          "data": {
            "text/plain": [
              "(20000, 190)"
            ]
          },
          "metadata": {
            "tags": []
          },
          "execution_count": 110
        }
      ]
    },
    {
      "cell_type": "code",
      "metadata": {
        "id": "WePvSPg11lKE",
        "colab_type": "code",
        "colab": {
          "base_uri": "https://localhost:8080/",
          "height": 34
        },
        "outputId": "b95e4d3a-0835-412a-cd55-27e09a053f03"
      },
      "source": [
        "y_train.shape"
      ],
      "execution_count": 111,
      "outputs": [
        {
          "output_type": "execute_result",
          "data": {
            "text/plain": [
              "(20000,)"
            ]
          },
          "metadata": {
            "tags": []
          },
          "execution_count": 111
        }
      ]
    },
    {
      "cell_type": "code",
      "metadata": {
        "id": "1Yb_Zf8r1nYI",
        "colab_type": "code",
        "colab": {
          "base_uri": "https://localhost:8080/",
          "height": 68
        },
        "outputId": "6b1511e3-61c1-410c-b7bc-2377b2a8208a"
      },
      "source": [
        "model.fit(x_train_pad, y_train,\n",
        "          validation_split=0.05, epochs=1,steps_per_epoch = num_words, validation_steps = num_words)"
      ],
      "execution_count": 0,
      "outputs": [
        {
          "output_type": "stream",
          "text": [
            "Train on 19000 samples, validate on 1000 samples\n",
            "Epoch 1/1\n",
            "  61/1000 [>.............................] - ETA: 25:22 - loss: 0.6932 - accuracy: 0.5009"
          ],
          "name": "stdout"
        }
      ]
    },
    {
      "cell_type": "code",
      "metadata": {
        "id": "lYnUxGLB8Psn",
        "colab_type": "code",
        "colab": {}
      },
      "source": [
        ""
      ],
      "execution_count": 0,
      "outputs": []
    }
  ]
}