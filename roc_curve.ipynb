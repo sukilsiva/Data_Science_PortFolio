{
 "cells": [
  {
   "cell_type": "code",
   "execution_count": 1,
   "metadata": {},
   "outputs": [],
   "source": [
    "import pandas as pd\n",
    "import numpy as np"
   ]
  },
  {
   "cell_type": "code",
   "execution_count": 11,
   "metadata": {},
   "outputs": [
    {
     "data": {
      "text/html": [
       "<div>\n",
       "<style scoped>\n",
       "    .dataframe tbody tr th:only-of-type {\n",
       "        vertical-align: middle;\n",
       "    }\n",
       "\n",
       "    .dataframe tbody tr th {\n",
       "        vertical-align: top;\n",
       "    }\n",
       "\n",
       "    .dataframe thead th {\n",
       "        text-align: right;\n",
       "    }\n",
       "</style>\n",
       "<table border=\"1\" class=\"dataframe\">\n",
       "  <thead>\n",
       "    <tr style=\"text-align: right;\">\n",
       "      <th></th>\n",
       "      <th>age</th>\n",
       "      <th>sex</th>\n",
       "      <th>cp</th>\n",
       "      <th>trestbps</th>\n",
       "      <th>chol</th>\n",
       "      <th>fbs</th>\n",
       "      <th>restecg</th>\n",
       "      <th>thalach</th>\n",
       "      <th>exang</th>\n",
       "      <th>oldpeak</th>\n",
       "      <th>slope</th>\n",
       "      <th>ca</th>\n",
       "      <th>thal</th>\n",
       "      <th>target</th>\n",
       "    </tr>\n",
       "  </thead>\n",
       "  <tbody>\n",
       "    <tr>\n",
       "      <th>0</th>\n",
       "      <td>52</td>\n",
       "      <td>1</td>\n",
       "      <td>0</td>\n",
       "      <td>125</td>\n",
       "      <td>212</td>\n",
       "      <td>0</td>\n",
       "      <td>1</td>\n",
       "      <td>168</td>\n",
       "      <td>0</td>\n",
       "      <td>1.0</td>\n",
       "      <td>2</td>\n",
       "      <td>2</td>\n",
       "      <td>3</td>\n",
       "      <td>0</td>\n",
       "    </tr>\n",
       "    <tr>\n",
       "      <th>1</th>\n",
       "      <td>53</td>\n",
       "      <td>1</td>\n",
       "      <td>0</td>\n",
       "      <td>140</td>\n",
       "      <td>203</td>\n",
       "      <td>1</td>\n",
       "      <td>0</td>\n",
       "      <td>155</td>\n",
       "      <td>1</td>\n",
       "      <td>3.1</td>\n",
       "      <td>0</td>\n",
       "      <td>0</td>\n",
       "      <td>3</td>\n",
       "      <td>0</td>\n",
       "    </tr>\n",
       "    <tr>\n",
       "      <th>2</th>\n",
       "      <td>70</td>\n",
       "      <td>1</td>\n",
       "      <td>0</td>\n",
       "      <td>145</td>\n",
       "      <td>174</td>\n",
       "      <td>0</td>\n",
       "      <td>1</td>\n",
       "      <td>125</td>\n",
       "      <td>1</td>\n",
       "      <td>2.6</td>\n",
       "      <td>0</td>\n",
       "      <td>0</td>\n",
       "      <td>3</td>\n",
       "      <td>0</td>\n",
       "    </tr>\n",
       "    <tr>\n",
       "      <th>3</th>\n",
       "      <td>61</td>\n",
       "      <td>1</td>\n",
       "      <td>0</td>\n",
       "      <td>148</td>\n",
       "      <td>203</td>\n",
       "      <td>0</td>\n",
       "      <td>1</td>\n",
       "      <td>161</td>\n",
       "      <td>0</td>\n",
       "      <td>0.0</td>\n",
       "      <td>2</td>\n",
       "      <td>1</td>\n",
       "      <td>3</td>\n",
       "      <td>0</td>\n",
       "    </tr>\n",
       "    <tr>\n",
       "      <th>4</th>\n",
       "      <td>62</td>\n",
       "      <td>0</td>\n",
       "      <td>0</td>\n",
       "      <td>138</td>\n",
       "      <td>294</td>\n",
       "      <td>1</td>\n",
       "      <td>1</td>\n",
       "      <td>106</td>\n",
       "      <td>0</td>\n",
       "      <td>1.9</td>\n",
       "      <td>1</td>\n",
       "      <td>3</td>\n",
       "      <td>2</td>\n",
       "      <td>0</td>\n",
       "    </tr>\n",
       "  </tbody>\n",
       "</table>\n",
       "</div>"
      ],
      "text/plain": [
       "   age  sex  cp  trestbps  chol  fbs  restecg  thalach  exang  oldpeak  slope  \\\n",
       "0   52    1   0       125   212    0        1      168      0      1.0      2   \n",
       "1   53    1   0       140   203    1        0      155      1      3.1      0   \n",
       "2   70    1   0       145   174    0        1      125      1      2.6      0   \n",
       "3   61    1   0       148   203    0        1      161      0      0.0      2   \n",
       "4   62    0   0       138   294    1        1      106      0      1.9      1   \n",
       "\n",
       "   ca  thal  target  \n",
       "0   2     3       0  \n",
       "1   0     3       0  \n",
       "2   0     3       0  \n",
       "3   1     3       0  \n",
       "4   3     2       0  "
      ]
     },
     "execution_count": 11,
     "metadata": {},
     "output_type": "execute_result"
    }
   ],
   "source": [
    "df = pd.read_csv(\"heart.csv\")\n",
    "df.head()"
   ]
  },
  {
   "cell_type": "code",
   "execution_count": 3,
   "metadata": {},
   "outputs": [],
   "source": [
    "from sklearn.decomposition import PCA"
   ]
  },
  {
   "cell_type": "code",
   "execution_count": 4,
   "metadata": {},
   "outputs": [],
   "source": [
    "df = df.drop(\"target\", axis =1)"
   ]
  },
  {
   "cell_type": "code",
   "execution_count": 5,
   "metadata": {},
   "outputs": [],
   "source": [
    "from sklearn.preprocessing import StandardScaler"
   ]
  },
  {
   "cell_type": "code",
   "execution_count": 6,
   "metadata": {},
   "outputs": [],
   "source": [
    "scaler = StandardScaler().fit(df)"
   ]
  },
  {
   "cell_type": "code",
   "execution_count": 7,
   "metadata": {},
   "outputs": [],
   "source": [
    "scald_data =scaler.transform(df)"
   ]
  },
  {
   "cell_type": "code",
   "execution_count": 10,
   "metadata": {},
   "outputs": [
    {
     "data": {
      "text/plain": [
       "array([[-0.26843658,  0.66150409, -0.91575542, ...,  0.99543334,\n",
       "         1.20922066,  1.08985168],\n",
       "       [-0.15815703,  0.66150409, -0.91575542, ..., -2.24367514,\n",
       "        -0.73197147,  1.08985168],\n",
       "       [ 1.71659547,  0.66150409, -0.91575542, ..., -2.24367514,\n",
       "        -0.73197147,  1.08985168],\n",
       "       ...,\n",
       "       [-0.81983438,  0.66150409, -0.91575542, ..., -0.6241209 ,\n",
       "         0.23862459, -0.52212231],\n",
       "       [-0.4889957 , -1.51170646, -0.91575542, ...,  0.99543334,\n",
       "        -0.73197147, -0.52212231],\n",
       "       [-0.04787747,  0.66150409, -0.91575542, ..., -0.6241209 ,\n",
       "         0.23862459,  1.08985168]])"
      ]
     },
     "execution_count": 10,
     "metadata": {},
     "output_type": "execute_result"
    }
   ],
   "source": [
    "scald_data"
   ]
  },
  {
   "cell_type": "code",
   "execution_count": 12,
   "metadata": {},
   "outputs": [],
   "source": [
    "y = df['target']"
   ]
  },
  {
   "cell_type": "code",
   "execution_count": 14,
   "metadata": {},
   "outputs": [],
   "source": [
    "pca = PCA(n_components = 1)\n",
    "\n",
    "pca.fit(scald_data)\n",
    "component =   pca.transform(scald_data)"
   ]
  },
  {
   "cell_type": "code",
   "execution_count": 15,
   "metadata": {},
   "outputs": [
    {
     "data": {
      "text/plain": [
       "array([[-0.52255527],\n",
       "       [ 2.59038123],\n",
       "       [ 3.04235225],\n",
       "       ...,\n",
       "       [ 1.24507295],\n",
       "       [-1.62005279],\n",
       "       [ 0.93416924]])"
      ]
     },
     "execution_count": 15,
     "metadata": {},
     "output_type": "execute_result"
    }
   ],
   "source": [
    "component"
   ]
  },
  {
   "cell_type": "code",
   "execution_count": 16,
   "metadata": {},
   "outputs": [],
   "source": [
    "from sklearn.model_selection import train_test_split"
   ]
  },
  {
   "cell_type": "code",
   "execution_count": 17,
   "metadata": {},
   "outputs": [],
   "source": [
    "x_train,x_test, y_train, y_test = train_test_split(component, y, test_size = 0.2, random_state = 42)"
   ]
  },
  {
   "cell_type": "code",
   "execution_count": 18,
   "metadata": {},
   "outputs": [
    {
     "name": "stdout",
     "output_type": "stream",
     "text": [
      "820 205 820 205\n"
     ]
    }
   ],
   "source": [
    "print(len(x_train),len(x_test),len(y_train),len(y_test))"
   ]
  },
  {
   "cell_type": "code",
   "execution_count": 21,
   "metadata": {},
   "outputs": [],
   "source": [
    "from sklearn.linear_model import LogisticRegression"
   ]
  },
  {
   "cell_type": "code",
   "execution_count": 26,
   "metadata": {},
   "outputs": [
    {
     "name": "stdout",
     "output_type": "stream",
     "text": [
      "0.751219512195122\n"
     ]
    }
   ],
   "source": [
    "logmodel = LogisticRegression(solver = 'lbfgs').fit(x_train, y_train)\n",
    "result = logmodel.predict(x_test)\n",
    "from sklearn.metrics import accuracy_score\n",
    "score = accuracy_score(y_test, result)\n",
    "print(score)"
   ]
  },
  {
   "cell_type": "code",
   "execution_count": 58,
   "metadata": {},
   "outputs": [
    {
     "name": "stdout",
     "output_type": "stream",
     "text": [
      "[[70 32]\n",
      " [19 84]]\n"
     ]
    }
   ],
   "source": [
    "from sklearn.metrics import confusion_matrix\n",
    "cm = confusion_matrix(y_test, result)\n",
    "print(cm)"
   ]
  },
  {
   "cell_type": "code",
   "execution_count": 27,
   "metadata": {},
   "outputs": [],
   "source": [
    "from sklearn.metrics import roc_curve, roc_auc_score"
   ]
  },
  {
   "cell_type": "code",
   "execution_count": 28,
   "metadata": {},
   "outputs": [],
   "source": [
    "logmodel_roc_auc_score = roc_auc_score(y_test, logmodel.predict(x_test))"
   ]
  },
  {
   "cell_type": "code",
   "execution_count": 29,
   "metadata": {},
   "outputs": [],
   "source": [
    "fpr, tpr, threshold = roc_curve(y_test, logmodel.predict_proba(x_test)[:, 1])"
   ]
  },
  {
   "cell_type": "code",
   "execution_count": 30,
   "metadata": {},
   "outputs": [
    {
     "data": {
      "text/plain": [
       "array([0.        , 0.        , 0.        , 0.        , 0.        ,\n",
       "       0.00980392, 0.00980392, 0.00980392, 0.00980392, 0.00980392,\n",
       "       0.00980392, 0.00980392, 0.01960784, 0.01960784, 0.01960784,\n",
       "       0.01960784, 0.02941176, 0.02941176, 0.04901961, 0.04901961,\n",
       "       0.04901961, 0.04901961, 0.07843137, 0.07843137, 0.07843137,\n",
       "       0.07843137, 0.07843137, 0.07843137, 0.07843137, 0.09803922,\n",
       "       0.09803922, 0.12745098, 0.12745098, 0.14705882, 0.14705882,\n",
       "       0.14705882, 0.15686275, 0.15686275, 0.17647059, 0.17647059,\n",
       "       0.17647059, 0.18627451, 0.20588235, 0.20588235, 0.2254902 ,\n",
       "       0.2254902 , 0.2254902 , 0.2254902 , 0.24509804, 0.24509804,\n",
       "       0.24509804, 0.26470588, 0.2745098 , 0.2745098 , 0.31372549,\n",
       "       0.31372549, 0.33333333, 0.33333333, 0.34313725, 0.34313725,\n",
       "       0.37254902, 0.37254902, 0.37254902, 0.39215686, 0.40196078,\n",
       "       0.40196078, 0.42156863, 0.42156863, 0.43137255, 0.43137255,\n",
       "       0.43137255, 0.44117647, 0.44117647, 0.5       , 0.51960784,\n",
       "       0.51960784, 0.55882353, 0.58823529, 0.64705882, 0.66666667,\n",
       "       0.66666667, 0.70588235, 0.7254902 , 0.75490196, 0.78431373,\n",
       "       0.84313725, 0.87254902, 0.89215686, 0.90196078, 0.92156863,\n",
       "       0.95098039, 0.98039216, 1.        ])"
      ]
     },
     "execution_count": 30,
     "metadata": {},
     "output_type": "execute_result"
    }
   ],
   "source": [
    "fpr"
   ]
  },
  {
   "cell_type": "code",
   "execution_count": 31,
   "metadata": {},
   "outputs": [
    {
     "data": {
      "text/plain": [
       "array([0.        , 0.00970874, 0.03883495, 0.05825243, 0.08737864,\n",
       "       0.08737864, 0.10679612, 0.12621359, 0.13592233, 0.15533981,\n",
       "       0.17475728, 0.2038835 , 0.2038835 , 0.22330097, 0.26213592,\n",
       "       0.2815534 , 0.2815534 , 0.33009709, 0.33009709, 0.34951456,\n",
       "       0.39805825, 0.41747573, 0.41747573, 0.42718447, 0.44660194,\n",
       "       0.46601942, 0.50485437, 0.54368932, 0.5631068 , 0.5631068 ,\n",
       "       0.58252427, 0.58252427, 0.59223301, 0.59223301, 0.62135922,\n",
       "       0.63106796, 0.63106796, 0.6407767 , 0.6407767 , 0.66019417,\n",
       "       0.67961165, 0.67961165, 0.67961165, 0.68932039, 0.68932039,\n",
       "       0.7184466 , 0.73786408, 0.75728155, 0.75728155, 0.77669903,\n",
       "       0.7961165 , 0.7961165 , 0.7961165 , 0.80582524, 0.80582524,\n",
       "       0.82524272, 0.82524272, 0.84466019, 0.84466019, 0.85436893,\n",
       "       0.85436893, 0.86407767, 0.88349515, 0.88349515, 0.88349515,\n",
       "       0.89320388, 0.89320388, 0.91262136, 0.91262136, 0.94174757,\n",
       "       0.96116505, 0.96116505, 0.97087379, 0.97087379, 0.97087379,\n",
       "       0.98058252, 0.98058252, 0.98058252, 0.98058252, 0.98058252,\n",
       "       1.        , 1.        , 1.        , 1.        , 1.        ,\n",
       "       1.        , 1.        , 1.        , 1.        , 1.        ,\n",
       "       1.        , 1.        , 1.        ])"
      ]
     },
     "execution_count": 31,
     "metadata": {},
     "output_type": "execute_result"
    }
   ],
   "source": [
    "tpr"
   ]
  },
  {
   "cell_type": "code",
   "execution_count": 32,
   "metadata": {},
   "outputs": [
    {
     "data": {
      "text/plain": [
       "array([1.99101189e+00, 9.91011893e-01, 9.74869005e-01, 9.71838413e-01,\n",
       "       9.59715326e-01, 9.56560552e-01, 9.53336881e-01, 9.51062900e-01,\n",
       "       9.45379077e-01, 9.43932671e-01, 9.35130533e-01, 9.27570988e-01,\n",
       "       9.26657281e-01, 9.20163164e-01, 9.17146313e-01, 9.16552124e-01,\n",
       "       9.14085782e-01, 9.11659180e-01, 8.97754112e-01, 8.94329576e-01,\n",
       "       8.69001160e-01, 8.68246628e-01, 8.62755239e-01, 8.59539742e-01,\n",
       "       8.58923083e-01, 8.49683800e-01, 8.41002515e-01, 8.21881699e-01,\n",
       "       8.19813398e-01, 8.02861484e-01, 7.93287733e-01, 7.79142436e-01,\n",
       "       7.78572046e-01, 7.68209749e-01, 7.52514043e-01, 7.48423791e-01,\n",
       "       7.48278182e-01, 7.47056906e-01, 7.46561462e-01, 7.07104418e-01,\n",
       "       6.92150337e-01, 6.91196827e-01, 6.70421362e-01, 6.69656287e-01,\n",
       "       6.61334991e-01, 6.46879622e-01, 6.44989389e-01, 6.29694001e-01,\n",
       "       6.10691117e-01, 5.97709936e-01, 5.88484743e-01, 5.78210125e-01,\n",
       "       5.40462863e-01, 5.34619261e-01, 5.11542510e-01, 4.94926271e-01,\n",
       "       4.56337099e-01, 4.40021405e-01, 4.34913425e-01, 4.25161401e-01,\n",
       "       3.72686756e-01, 3.71280021e-01, 3.61470591e-01, 3.49360440e-01,\n",
       "       3.46094095e-01, 3.28246937e-01, 2.75566940e-01, 2.66838056e-01,\n",
       "       2.64556586e-01, 2.35387594e-01, 2.32946821e-01, 2.25524560e-01,\n",
       "       2.22097517e-01, 1.50177153e-01, 1.27320394e-01, 1.20950552e-01,\n",
       "       1.05695030e-01, 1.03480198e-01, 7.43443853e-02, 6.21240319e-02,\n",
       "       5.45837099e-02, 4.85562186e-02, 4.68674178e-02, 3.57550113e-02,\n",
       "       2.93116125e-02, 1.98282148e-02, 1.97122641e-02, 1.91626943e-02,\n",
       "       1.57069851e-02, 1.11001431e-02, 4.90602581e-03, 4.83288477e-03,\n",
       "       1.95740182e-03])"
      ]
     },
     "execution_count": 32,
     "metadata": {},
     "output_type": "execute_result"
    }
   ],
   "source": [
    "threshold"
   ]
  },
  {
   "cell_type": "code",
   "execution_count": 33,
   "metadata": {},
   "outputs": [],
   "source": [
    "import matplotlib.pyplot as plt"
   ]
  },
  {
   "cell_type": "code",
   "execution_count": 53,
   "metadata": {},
   "outputs": [
    {
     "data": {
      "image/png": "[encoded data removed]",
      "text/plain": [
       "<Figure size 432x288 with 1 Axes>"
      ]
     },
     "metadata": {
      "needs_background": "light"
     },
     "output_type": "display_data"
    }
   ],
   "source": [
    "plt.plot(fpr, tpr, color = \"blue\", label = \"AUC_SCORE 1: %.2f\"%logmodel_roc_auc_score)\n",
    "plt.plot([0,1], [0,1], color = \"red\", linestyle = \"--\")\n",
    "plt.xlabel(\"False Positive rate\")\n",
    "plt.ylabel(\"True Positve rate\")\n",
    "plt.legend(loc = \"lower right\")\n",
    "plt.Figure(figsize = (20,20))\n",
    "plt.show()"
   ]
  },
  {
   "cell_type": "code",
   "execution_count": 54,
   "metadata": {},
   "outputs": [
    {
     "data": {
      "text/plain": [
       "array([[0.88445815, 0.92757099, 0.0749945 , 0.91256929, 0.27556694,\n",
       "        0.23942488, 0.01110014, 0.01916269, 0.91226532, 0.01570699,\n",
       "        0.91655212, 0.0078309 , 0.94537908, 0.8496838 , 0.07597188,\n",
       "        0.77216524, 0.03575501, 0.97929703, 0.79328773, 0.06212403,\n",
       "        0.75251404, 0.20534103, 0.51154251, 0.04686742, 0.75251404,\n",
       "        0.91980978, 0.92016316, 0.8218817 , 0.01971226, 0.80286148,\n",
       "        0.4563371 , 0.69215034, 0.61069112, 0.92757099, 0.94393267,\n",
       "        0.82255467, 0.75251404, 0.4251614 , 0.36147059, 0.96116144,\n",
       "        0.01916269, 0.12732039, 0.64498939, 0.51154251, 0.04672857,\n",
       "        0.00483288, 0.3460941 , 0.76820975, 0.91408578, 0.23294682,\n",
       "        0.84523253, 0.01982821, 0.77914244, 0.02865973, 0.92016316,\n",
       "        0.36147059, 0.21294028, 0.02931161, 0.86275524, 0.87256019,\n",
       "        0.66965629, 0.2583691 , 0.01971226, 0.23294682, 0.02089952,\n",
       "        0.22143204, 0.99101189, 0.34936044, 0.00483288, 0.91165918,\n",
       "        0.89775411, 0.01971226, 0.66133499, 0.91714631, 0.49492627,\n",
       "        0.6435769 , 0.01110014, 0.74827818, 0.74656146, 0.91789856,\n",
       "        0.67042136, 0.48461444, 0.04066622, 0.05435978, 0.60296864,\n",
       "        0.02696524, 0.91655212, 0.15017715, 0.67042136, 0.80286148,\n",
       "        0.54046286, 0.06212403, 0.87430635, 0.91317798, 0.91171806,\n",
       "        0.44055294, 0.34936044, 0.26455659, 0.0019574 , 0.08247644,\n",
       "        0.26683806, 0.1034802 , 0.52876625, 0.70710442, 0.31046442,\n",
       "        0.37128002, 0.02931161, 0.50351694, 0.69119683, 0.89432958,\n",
       "        0.86275524, 0.89432958, 0.94273123, 0.05085627, 0.74842379,\n",
       "        0.83029635, 0.57821013, 0.95333688, 0.86824663, 0.02387568,\n",
       "        0.32824694, 0.58848474, 0.02421246, 0.17594999, 0.53461926,\n",
       "        0.04686742, 0.93513053, 0.39578854, 0.89775411, 0.84100251,\n",
       "        0.69215034, 0.0019574 , 0.974869  , 0.26683806, 0.07434439,\n",
       "        0.9510629 , 0.07594681, 0.58848474, 0.9510629 , 0.57821013,\n",
       "        0.8198134 , 0.65560537, 0.95402332, 0.05964912, 0.64687962,\n",
       "        0.79592626, 0.84523253, 0.85892308, 0.22552456, 0.15528959,\n",
       "        0.61069112, 0.00483288, 0.85768448, 0.8198134 , 0.10569503,\n",
       "        0.11956077, 0.37268676, 0.84100251, 0.11297522, 0.12732039,\n",
       "        0.64498939, 0.74705691, 0.1034802 , 0.1034802 , 0.23538759,\n",
       "        0.12095055, 0.43491343, 0.04855622, 0.05458371, 0.85892308,\n",
       "        0.66133499, 0.59770994, 0.44002141, 0.00490603, 0.87198782,\n",
       "        0.92757099, 0.98628749, 0.00925156, 0.52876625, 0.83578923,\n",
       "        0.95971533, 0.07650078, 0.91837433, 0.77914244, 0.65499848,\n",
       "        0.86824663, 0.94393267, 0.86275524, 0.72254634, 0.77857205,\n",
       "        0.85953974, 0.74656146, 0.92665728, 0.77914244, 0.02931161,\n",
       "        0.22209752, 0.95656055, 0.05331873, 0.96020401, 0.97183841,\n",
       "        0.629694  , 0.86900116, 0.97183841, 0.1082106 , 0.42040316]])"
      ]
     },
     "execution_count": 54,
     "metadata": {},
     "output_type": "execute_result"
    }
   ],
   "source": [
    "y_pred_proba = logmodel.predict_proba(x_test)[:, 1]\n",
    "y_pred_proba = y_pred_proba.reshape(1, -1)\n",
    "y_pred_proba"
   ]
  },
  {
   "cell_type": "code",
   "execution_count": 55,
   "metadata": {},
   "outputs": [],
   "source": [
    "from sklearn.preprocessing import binarize"
   ]
  },
  {
   "cell_type": "code",
   "execution_count": 57,
   "metadata": {},
   "outputs": [
    {
     "data": {
      "text/plain": [
       "array([1, 1, 0, 1, 0, 0, 0, 0, 1, 0, 1, 0, 1, 1, 0, 1, 0, 1, 1, 0, 1, 0,\n",
       "       1, 0, 1, 1, 1, 1, 0, 1, 1, 1, 1, 1, 1, 1, 1, 1, 1, 1, 0, 0, 1, 1,\n",
       "       0, 0, 0, 1, 1, 0, 1, 0, 1, 0, 1, 1, 0, 0, 1, 1, 1, 0, 0, 0, 0, 0,\n",
       "       1, 0, 0, 1, 1, 0, 1, 1, 1, 1, 0, 1, 1, 1, 1, 1, 0, 0, 1, 0, 1, 0,\n",
       "       1, 1, 1, 0, 1, 1, 1, 1, 0, 0, 0, 0, 0, 0, 1, 1, 0, 1, 0, 1, 1, 1,\n",
       "       1, 1, 1, 0, 1, 1, 1, 1, 1, 0, 0, 1, 0, 0, 1, 0, 1, 1, 1, 1, 1, 0,\n",
       "       1, 0, 0, 1, 0, 1, 1, 1, 1, 1, 1, 0, 1, 1, 1, 1, 0, 0, 1, 0, 1, 1,\n",
       "       0, 0, 1, 1, 0, 0, 1, 1, 0, 0, 0, 0, 1, 0, 0, 1, 1, 1, 1, 0, 1, 1,\n",
       "       1, 0, 1, 1, 1, 0, 1, 1, 1, 1, 1, 1, 1, 1, 1, 1, 1, 1, 0, 0, 1, 0,\n",
       "       1, 1, 1, 1, 1, 0, 1])"
      ]
     },
     "execution_count": 57,
     "metadata": {},
     "output_type": "execute_result"
    }
   ],
   "source": [
    "y_pred_class = binarize(y_pred_proba, 0.35)[0]\n",
    "y_pred_class = y_pred_class.astype(int)\n",
    "y_pred_class"
   ]
  },
  {
   "cell_type": "code",
   "execution_count": 59,
   "metadata": {},
   "outputs": [
    {
     "name": "stdout",
     "output_type": "stream",
     "text": [
      "[[64 38]\n",
      " [12 91]]\n"
     ]
    }
   ],
   "source": [
    "cm1 = confusion_matrix(y_test,y_pred_class)\n",
    "print(cm1)"
   ]
  },
  {
   "cell_type": "code",
   "execution_count": 60,
   "metadata": {},
   "outputs": [
    {
     "name": "stdout",
     "output_type": "stream",
     "text": [
      "0.7560975609756098\n"
     ]
    }
   ],
   "source": [
    "score1 = accuracy_score(y_test, y_pred_class)\n",
    "print(score1)"
   ]
  },
  {
   "cell_type": "code",
   "execution_count": null,
   "metadata": {},
   "outputs": [],
   "source": []
  }
 ],
 "metadata": {
  "kernelspec": {
   "display_name": "Python 3",
   "language": "python",
   "name": "python3"
  },
  "language_info": {
   "codemirror_mode": {
    "name": "ipython",
    "version": 3
   },
   "file_extension": ".py",
   "mimetype": "text/x-python",
   "name": "python",
   "nbconvert_exporter": "python",
   "pygments_lexer": "ipython3",
   "version": "3.7.6"
  }
 },
 "nbformat": 4,
 "nbformat_minor": 4
}
