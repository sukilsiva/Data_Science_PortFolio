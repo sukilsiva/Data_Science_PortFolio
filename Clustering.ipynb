{
 "cells": [
  {
   "cell_type": "markdown",
   "metadata": {},
   "source": [
    "# UnSupervised Learning"
   ]
  },
  {
   "cell_type": "code",
   "execution_count": 1,
   "metadata": {},
   "outputs": [],
   "source": [
    "import pandas as pd\n",
    "import numpy as np\n",
    "from sklearn.preprocessing import MinMaxScaler\n",
    "from sklearn.cluster import KMeans"
   ]
  },
  {
   "cell_type": "code",
   "execution_count": 2,
   "metadata": {},
   "outputs": [
    {
     "name": "stdout",
     "output_type": "stream",
     "text": [
      "I have been calling this as iunsupervised Learning Because No Target Variable in Dataset\n"
     ]
    },
    {
     "name": "stderr",
     "output_type": "stream",
     "text": [
      "c:\\python\\lib\\site-packages\\IPython\\core\\interactiveshell.py:3063: DtypeWarning: Columns (7) have mixed types.Specify dtype option on import or set low_memory=False.\n",
      "  interactivity=interactivity, compiler=compiler, result=result)\n"
     ]
    },
    {
     "data": {
      "text/html": [
       "<div>\n",
       "<style scoped>\n",
       "    .dataframe tbody tr th:only-of-type {\n",
       "        vertical-align: middle;\n",
       "    }\n",
       "\n",
       "    .dataframe tbody tr th {\n",
       "        vertical-align: top;\n",
       "    }\n",
       "\n",
       "    .dataframe thead th {\n",
       "        text-align: right;\n",
       "    }\n",
       "</style>\n",
       "<table border=\"1\" class=\"dataframe\">\n",
       "  <thead>\n",
       "    <tr style=\"text-align: right;\">\n",
       "      <th></th>\n",
       "      <th>country_region_code</th>\n",
       "      <th>lat</th>\n",
       "      <th>lng</th>\n",
       "      <th>wikidata</th>\n",
       "      <th>short_code</th>\n",
       "      <th>country_region</th>\n",
       "      <th>sub_region_1</th>\n",
       "      <th>sub_region_2</th>\n",
       "      <th>date</th>\n",
       "      <th>retail_and_recreation_percent_change_from_baseline</th>\n",
       "      <th>grocery_and_pharmacy_percent_change_from_baseline</th>\n",
       "      <th>parks_percent_change_from_baseline</th>\n",
       "      <th>transit_stations_percent_change_from_baseline</th>\n",
       "      <th>workplaces_percent_change_from_baseline</th>\n",
       "      <th>residential_percent_change_from_baseline</th>\n",
       "    </tr>\n",
       "  </thead>\n",
       "  <tbody>\n",
       "    <tr>\n",
       "      <th>0</th>\n",
       "      <td>AE</td>\n",
       "      <td>23.78333</td>\n",
       "      <td>54.0</td>\n",
       "      <td>Q878</td>\n",
       "      <td>AE</td>\n",
       "      <td>United Arab Emirates</td>\n",
       "      <td>NaN</td>\n",
       "      <td>NaN</td>\n",
       "      <td>2020-02-15</td>\n",
       "      <td>0.0</td>\n",
       "      <td>4.0</td>\n",
       "      <td>5.0</td>\n",
       "      <td>0.0</td>\n",
       "      <td>2.0</td>\n",
       "      <td>1.0</td>\n",
       "    </tr>\n",
       "    <tr>\n",
       "      <th>1</th>\n",
       "      <td>AE</td>\n",
       "      <td>23.78333</td>\n",
       "      <td>54.0</td>\n",
       "      <td>Q878</td>\n",
       "      <td>AE</td>\n",
       "      <td>United Arab Emirates</td>\n",
       "      <td>NaN</td>\n",
       "      <td>NaN</td>\n",
       "      <td>2020-02-16</td>\n",
       "      <td>1.0</td>\n",
       "      <td>4.0</td>\n",
       "      <td>4.0</td>\n",
       "      <td>1.0</td>\n",
       "      <td>2.0</td>\n",
       "      <td>1.0</td>\n",
       "    </tr>\n",
       "    <tr>\n",
       "      <th>2</th>\n",
       "      <td>AE</td>\n",
       "      <td>23.78333</td>\n",
       "      <td>54.0</td>\n",
       "      <td>Q878</td>\n",
       "      <td>AE</td>\n",
       "      <td>United Arab Emirates</td>\n",
       "      <td>NaN</td>\n",
       "      <td>NaN</td>\n",
       "      <td>2020-02-17</td>\n",
       "      <td>-1.0</td>\n",
       "      <td>1.0</td>\n",
       "      <td>5.0</td>\n",
       "      <td>1.0</td>\n",
       "      <td>2.0</td>\n",
       "      <td>1.0</td>\n",
       "    </tr>\n",
       "    <tr>\n",
       "      <th>3</th>\n",
       "      <td>AE</td>\n",
       "      <td>23.78333</td>\n",
       "      <td>54.0</td>\n",
       "      <td>Q878</td>\n",
       "      <td>AE</td>\n",
       "      <td>United Arab Emirates</td>\n",
       "      <td>NaN</td>\n",
       "      <td>NaN</td>\n",
       "      <td>2020-02-18</td>\n",
       "      <td>-2.0</td>\n",
       "      <td>1.0</td>\n",
       "      <td>5.0</td>\n",
       "      <td>0.0</td>\n",
       "      <td>2.0</td>\n",
       "      <td>1.0</td>\n",
       "    </tr>\n",
       "    <tr>\n",
       "      <th>4</th>\n",
       "      <td>AE</td>\n",
       "      <td>23.78333</td>\n",
       "      <td>54.0</td>\n",
       "      <td>Q878</td>\n",
       "      <td>AE</td>\n",
       "      <td>United Arab Emirates</td>\n",
       "      <td>NaN</td>\n",
       "      <td>NaN</td>\n",
       "      <td>2020-02-19</td>\n",
       "      <td>-2.0</td>\n",
       "      <td>0.0</td>\n",
       "      <td>4.0</td>\n",
       "      <td>-1.0</td>\n",
       "      <td>2.0</td>\n",
       "      <td>1.0</td>\n",
       "    </tr>\n",
       "  </tbody>\n",
       "</table>\n",
       "</div>"
      ],
      "text/plain": [
       "  country_region_code       lat   lng wikidata short_code  \\\n",
       "0                  AE  23.78333  54.0     Q878         AE   \n",
       "1                  AE  23.78333  54.0     Q878         AE   \n",
       "2                  AE  23.78333  54.0     Q878         AE   \n",
       "3                  AE  23.78333  54.0     Q878         AE   \n",
       "4                  AE  23.78333  54.0     Q878         AE   \n",
       "\n",
       "         country_region sub_region_1 sub_region_2        date  \\\n",
       "0  United Arab Emirates          NaN          NaN  2020-02-15   \n",
       "1  United Arab Emirates          NaN          NaN  2020-02-16   \n",
       "2  United Arab Emirates          NaN          NaN  2020-02-17   \n",
       "3  United Arab Emirates          NaN          NaN  2020-02-18   \n",
       "4  United Arab Emirates          NaN          NaN  2020-02-19   \n",
       "\n",
       "   retail_and_recreation_percent_change_from_baseline  \\\n",
       "0                                                0.0    \n",
       "1                                                1.0    \n",
       "2                                               -1.0    \n",
       "3                                               -2.0    \n",
       "4                                               -2.0    \n",
       "\n",
       "   grocery_and_pharmacy_percent_change_from_baseline  \\\n",
       "0                                                4.0   \n",
       "1                                                4.0   \n",
       "2                                                1.0   \n",
       "3                                                1.0   \n",
       "4                                                0.0   \n",
       "\n",
       "   parks_percent_change_from_baseline  \\\n",
       "0                                 5.0   \n",
       "1                                 4.0   \n",
       "2                                 5.0   \n",
       "3                                 5.0   \n",
       "4                                 4.0   \n",
       "\n",
       "   transit_stations_percent_change_from_baseline  \\\n",
       "0                                            0.0   \n",
       "1                                            1.0   \n",
       "2                                            1.0   \n",
       "3                                            0.0   \n",
       "4                                           -1.0   \n",
       "\n",
       "   workplaces_percent_change_from_baseline  \\\n",
       "0                                      2.0   \n",
       "1                                      2.0   \n",
       "2                                      2.0   \n",
       "3                                      2.0   \n",
       "4                                      2.0   \n",
       "\n",
       "   residential_percent_change_from_baseline  \n",
       "0                                       1.0  \n",
       "1                                       1.0  \n",
       "2                                       1.0  \n",
       "3                                       1.0  \n",
       "4                                       1.0  "
      ]
     },
     "execution_count": 2,
     "metadata": {},
     "output_type": "execute_result"
    }
   ],
   "source": [
    "df = pd.read_csv(\"google_mobility.csv\")\n",
    "print(\"I have been calling this as iunsupervised Learning Because No Target Variable in Dataset\")\n",
    "df.head()"
   ]
  },
  {
   "cell_type": "markdown",
   "metadata": {},
   "source": [
    "# Data Cleaning"
   ]
  },
  {
   "cell_type": "code",
   "execution_count": 3,
   "metadata": {},
   "outputs": [
    {
     "data": {
      "text/plain": [
       "country_region_code                                       72\n",
       "lat                                                        0\n",
       "lng                                                        0\n",
       "wikidata                                                  72\n",
       "short_code                                            144204\n",
       "country_region                                             0\n",
       "sub_region_1                                            9504\n",
       "sub_region_2                                           93853\n",
       "date                                                       0\n",
       "retail_and_recreation_percent_change_from_baseline     45133\n",
       "grocery_and_pharmacy_percent_change_from_baseline      52395\n",
       "parks_percent_change_from_baseline                    160629\n",
       "transit_stations_percent_change_from_baseline         133385\n",
       "workplaces_percent_change_from_baseline                10868\n",
       "residential_percent_change_from_baseline              124986\n",
       "dtype: int64"
      ]
     },
     "execution_count": 3,
     "metadata": {},
     "output_type": "execute_result"
    }
   ],
   "source": [
    "df.isna().sum()"
   ]
  },
  {
   "cell_type": "code",
   "execution_count": 4,
   "metadata": {
    "scrolled": true
   },
   "outputs": [
    {
     "name": "stdout",
     "output_type": "stream",
     "text": [
      "['lat', 'lng', 'retail_and_recreation_percent_change_from_baseline', 'grocery_and_pharmacy_percent_change_from_baseline', 'parks_percent_change_from_baseline', 'transit_stations_percent_change_from_baseline', 'workplaces_percent_change_from_baseline', 'residential_percent_change_from_baseline']\n",
      "['country_region_code', 'wikidata', 'short_code', 'country_region', 'sub_region_1', 'sub_region_2', 'date']\n"
     ]
    }
   ],
   "source": [
    "### Since there are lot of null Values we need to Seperate Categorical and Numerical Data\n",
    "\n",
    "numerical_features = [feature for feature in df.columns if df[feature].dtypes != 'O']\n",
    "print(numerical_features)\n",
    "categorical_features = [feature for feature in df.columns if feature not in numerical_features]\n",
    "print(categorical_features)"
   ]
  },
  {
   "cell_type": "code",
   "execution_count": 5,
   "metadata": {},
   "outputs": [
    {
     "data": {
      "text/html": [
       "<div>\n",
       "<style scoped>\n",
       "    .dataframe tbody tr th:only-of-type {\n",
       "        vertical-align: middle;\n",
       "    }\n",
       "\n",
       "    .dataframe tbody tr th {\n",
       "        vertical-align: top;\n",
       "    }\n",
       "\n",
       "    .dataframe thead th {\n",
       "        text-align: right;\n",
       "    }\n",
       "</style>\n",
       "<table border=\"1\" class=\"dataframe\">\n",
       "  <thead>\n",
       "    <tr style=\"text-align: right;\">\n",
       "      <th></th>\n",
       "      <th>lat</th>\n",
       "      <th>lng</th>\n",
       "      <th>retail_and_recreation_percent_change_from_baseline</th>\n",
       "      <th>grocery_and_pharmacy_percent_change_from_baseline</th>\n",
       "      <th>parks_percent_change_from_baseline</th>\n",
       "      <th>transit_stations_percent_change_from_baseline</th>\n",
       "      <th>workplaces_percent_change_from_baseline</th>\n",
       "      <th>residential_percent_change_from_baseline</th>\n",
       "    </tr>\n",
       "  </thead>\n",
       "  <tbody>\n",
       "    <tr>\n",
       "      <th>0</th>\n",
       "      <td>23.78333</td>\n",
       "      <td>54.0</td>\n",
       "      <td>0.0</td>\n",
       "      <td>4.0</td>\n",
       "      <td>5.0</td>\n",
       "      <td>0.0</td>\n",
       "      <td>2.0</td>\n",
       "      <td>1.0</td>\n",
       "    </tr>\n",
       "    <tr>\n",
       "      <th>1</th>\n",
       "      <td>23.78333</td>\n",
       "      <td>54.0</td>\n",
       "      <td>1.0</td>\n",
       "      <td>4.0</td>\n",
       "      <td>4.0</td>\n",
       "      <td>1.0</td>\n",
       "      <td>2.0</td>\n",
       "      <td>1.0</td>\n",
       "    </tr>\n",
       "    <tr>\n",
       "      <th>2</th>\n",
       "      <td>23.78333</td>\n",
       "      <td>54.0</td>\n",
       "      <td>-1.0</td>\n",
       "      <td>1.0</td>\n",
       "      <td>5.0</td>\n",
       "      <td>1.0</td>\n",
       "      <td>2.0</td>\n",
       "      <td>1.0</td>\n",
       "    </tr>\n",
       "    <tr>\n",
       "      <th>3</th>\n",
       "      <td>23.78333</td>\n",
       "      <td>54.0</td>\n",
       "      <td>-2.0</td>\n",
       "      <td>1.0</td>\n",
       "      <td>5.0</td>\n",
       "      <td>0.0</td>\n",
       "      <td>2.0</td>\n",
       "      <td>1.0</td>\n",
       "    </tr>\n",
       "    <tr>\n",
       "      <th>4</th>\n",
       "      <td>23.78333</td>\n",
       "      <td>54.0</td>\n",
       "      <td>-2.0</td>\n",
       "      <td>0.0</td>\n",
       "      <td>4.0</td>\n",
       "      <td>-1.0</td>\n",
       "      <td>2.0</td>\n",
       "      <td>1.0</td>\n",
       "    </tr>\n",
       "  </tbody>\n",
       "</table>\n",
       "</div>"
      ],
      "text/plain": [
       "        lat   lng  retail_and_recreation_percent_change_from_baseline  \\\n",
       "0  23.78333  54.0                                                0.0    \n",
       "1  23.78333  54.0                                                1.0    \n",
       "2  23.78333  54.0                                               -1.0    \n",
       "3  23.78333  54.0                                               -2.0    \n",
       "4  23.78333  54.0                                               -2.0    \n",
       "\n",
       "   grocery_and_pharmacy_percent_change_from_baseline  \\\n",
       "0                                                4.0   \n",
       "1                                                4.0   \n",
       "2                                                1.0   \n",
       "3                                                1.0   \n",
       "4                                                0.0   \n",
       "\n",
       "   parks_percent_change_from_baseline  \\\n",
       "0                                 5.0   \n",
       "1                                 4.0   \n",
       "2                                 5.0   \n",
       "3                                 5.0   \n",
       "4                                 4.0   \n",
       "\n",
       "   transit_stations_percent_change_from_baseline  \\\n",
       "0                                            0.0   \n",
       "1                                            1.0   \n",
       "2                                            1.0   \n",
       "3                                            0.0   \n",
       "4                                           -1.0   \n",
       "\n",
       "   workplaces_percent_change_from_baseline  \\\n",
       "0                                      2.0   \n",
       "1                                      2.0   \n",
       "2                                      2.0   \n",
       "3                                      2.0   \n",
       "4                                      2.0   \n",
       "\n",
       "   residential_percent_change_from_baseline  \n",
       "0                                       1.0  \n",
       "1                                       1.0  \n",
       "2                                       1.0  \n",
       "3                                       1.0  \n",
       "4                                       1.0  "
      ]
     },
     "execution_count": 5,
     "metadata": {},
     "output_type": "execute_result"
    }
   ],
   "source": [
    "### Mow lets see the numerical data\n",
    "df[numerical_features].head()"
   ]
  },
  {
   "cell_type": "code",
   "execution_count": 6,
   "metadata": {},
   "outputs": [
    {
     "name": "stdout",
     "output_type": "stream",
     "text": [
      "Since there are lot a number of missing value lets replace nan values with median\n"
     ]
    },
    {
     "data": {
      "text/plain": [
       "lat                                                        0\n",
       "lng                                                        0\n",
       "retail_and_recreation_percent_change_from_baseline     45133\n",
       "grocery_and_pharmacy_percent_change_from_baseline      52395\n",
       "parks_percent_change_from_baseline                    160629\n",
       "transit_stations_percent_change_from_baseline         133385\n",
       "workplaces_percent_change_from_baseline                10868\n",
       "residential_percent_change_from_baseline              124986\n",
       "dtype: int64"
      ]
     },
     "execution_count": 6,
     "metadata": {},
     "output_type": "execute_result"
    }
   ],
   "source": [
    "print(\"Since there are lot a number of missing value lets replace nan values with median\")\n",
    "df[numerical_features].isna().sum()"
   ]
  },
  {
   "cell_type": "code",
   "execution_count": 7,
   "metadata": {},
   "outputs": [
    {
     "data": {
      "text/plain": [
       "lat                                                   0\n",
       "lng                                                   0\n",
       "retail_and_recreation_percent_change_from_baseline    0\n",
       "grocery_and_pharmacy_percent_change_from_baseline     0\n",
       "parks_percent_change_from_baseline                    0\n",
       "transit_stations_percent_change_from_baseline         0\n",
       "workplaces_percent_change_from_baseline               0\n",
       "residential_percent_change_from_baseline              0\n",
       "dtype: int64"
      ]
     },
     "execution_count": 7,
     "metadata": {},
     "output_type": "execute_result"
    }
   ],
   "source": [
    "### Replacing nan values with median\n",
    "\n",
    "for feature in numerical_features:\n",
    "    median = df[feature].median()\n",
    "    \n",
    "    df[feature].fillna(median, inplace=True)\n",
    "    \n",
    "df[numerical_features].isna().sum()"
   ]
  },
  {
   "cell_type": "code",
   "execution_count": 8,
   "metadata": {},
   "outputs": [
    {
     "data": {
      "text/plain": [
       "country_region_code    0\n",
       "wikidata               0\n",
       "short_code             0\n",
       "country_region         0\n",
       "sub_region_1           0\n",
       "sub_region_2           0\n",
       "date                   0\n",
       "dtype: int64"
      ]
     },
     "execution_count": 8,
     "metadata": {},
     "output_type": "execute_result"
    }
   ],
   "source": [
    "### Similarly for the categorical data lets replace nan with Missing\n",
    "\n",
    "for feature in categorical_features:\n",
    "    \n",
    "    df[feature].fillna(\"Missing\", inplace = True)\n",
    "df[categorical_features].isna().sum()"
   ]
  },
  {
   "cell_type": "code",
   "execution_count": 9,
   "metadata": {},
   "outputs": [
    {
     "data": {
      "text/plain": [
       "0"
      ]
     },
     "execution_count": 9,
     "metadata": {},
     "output_type": "execute_result"
    }
   ],
   "source": [
    "### Now lets check for the duplicates\n",
    "\n",
    "df.duplicated().sum()"
   ]
  },
  {
   "cell_type": "code",
   "execution_count": 10,
   "metadata": {},
   "outputs": [
    {
     "data": {
      "text/html": [
       "<div>\n",
       "<style scoped>\n",
       "    .dataframe tbody tr th:only-of-type {\n",
       "        vertical-align: middle;\n",
       "    }\n",
       "\n",
       "    .dataframe tbody tr th {\n",
       "        vertical-align: top;\n",
       "    }\n",
       "\n",
       "    .dataframe thead th {\n",
       "        text-align: right;\n",
       "    }\n",
       "</style>\n",
       "<table border=\"1\" class=\"dataframe\">\n",
       "  <thead>\n",
       "    <tr style=\"text-align: right;\">\n",
       "      <th></th>\n",
       "      <th>lat</th>\n",
       "      <th>lng</th>\n",
       "      <th>retail_and_recreation_percent_change_from_baseline</th>\n",
       "      <th>grocery_and_pharmacy_percent_change_from_baseline</th>\n",
       "      <th>parks_percent_change_from_baseline</th>\n",
       "      <th>transit_stations_percent_change_from_baseline</th>\n",
       "      <th>workplaces_percent_change_from_baseline</th>\n",
       "      <th>residential_percent_change_from_baseline</th>\n",
       "    </tr>\n",
       "  </thead>\n",
       "  <tbody>\n",
       "    <tr>\n",
       "      <th>count</th>\n",
       "      <td>284489.000000</td>\n",
       "      <td>284489.000000</td>\n",
       "      <td>284489.000000</td>\n",
       "      <td>284489.000000</td>\n",
       "      <td>284489.000000</td>\n",
       "      <td>284489.000000</td>\n",
       "      <td>284489.000000</td>\n",
       "      <td>284489.000000</td>\n",
       "    </tr>\n",
       "    <tr>\n",
       "      <th>mean</th>\n",
       "      <td>35.288426</td>\n",
       "      <td>-57.819715</td>\n",
       "      <td>-19.209737</td>\n",
       "      <td>-4.024939</td>\n",
       "      <td>-4.505872</td>\n",
       "      <td>-21.069511</td>\n",
       "      <td>-21.623145</td>\n",
       "      <td>8.894379</td>\n",
       "    </tr>\n",
       "    <tr>\n",
       "      <th>std</th>\n",
       "      <td>16.896916</td>\n",
       "      <td>58.855707</td>\n",
       "      <td>27.448014</td>\n",
       "      <td>18.560173</td>\n",
       "      <td>27.080856</td>\n",
       "      <td>22.250574</td>\n",
       "      <td>22.256408</td>\n",
       "      <td>7.537417</td>\n",
       "    </tr>\n",
       "    <tr>\n",
       "      <th>min</th>\n",
       "      <td>-54.362000</td>\n",
       "      <td>-161.755800</td>\n",
       "      <td>-100.000000</td>\n",
       "      <td>-100.000000</td>\n",
       "      <td>-100.000000</td>\n",
       "      <td>-100.000000</td>\n",
       "      <td>-94.000000</td>\n",
       "      <td>-25.000000</td>\n",
       "    </tr>\n",
       "    <tr>\n",
       "      <th>25%</th>\n",
       "      <td>33.156639</td>\n",
       "      <td>-93.212367</td>\n",
       "      <td>-37.000000</td>\n",
       "      <td>-10.000000</td>\n",
       "      <td>-4.000000</td>\n",
       "      <td>-21.000000</td>\n",
       "      <td>-38.000000</td>\n",
       "      <td>5.000000</td>\n",
       "    </tr>\n",
       "    <tr>\n",
       "      <th>50%</th>\n",
       "      <td>38.455034</td>\n",
       "      <td>-82.850478</td>\n",
       "      <td>-15.000000</td>\n",
       "      <td>-1.000000</td>\n",
       "      <td>-4.000000</td>\n",
       "      <td>-18.000000</td>\n",
       "      <td>-23.000000</td>\n",
       "      <td>8.000000</td>\n",
       "    </tr>\n",
       "    <tr>\n",
       "      <th>75%</th>\n",
       "      <td>43.407780</td>\n",
       "      <td>-7.416670</td>\n",
       "      <td>2.000000</td>\n",
       "      <td>5.000000</td>\n",
       "      <td>-4.000000</td>\n",
       "      <td>-15.000000</td>\n",
       "      <td>0.000000</td>\n",
       "      <td>11.000000</td>\n",
       "    </tr>\n",
       "    <tr>\n",
       "      <th>max</th>\n",
       "      <td>70.020652</td>\n",
       "      <td>178.017780</td>\n",
       "      <td>313.000000</td>\n",
       "      <td>337.000000</td>\n",
       "      <td>430.000000</td>\n",
       "      <td>497.000000</td>\n",
       "      <td>248.000000</td>\n",
       "      <td>54.000000</td>\n",
       "    </tr>\n",
       "  </tbody>\n",
       "</table>\n",
       "</div>"
      ],
      "text/plain": [
       "                 lat            lng  \\\n",
       "count  284489.000000  284489.000000   \n",
       "mean       35.288426     -57.819715   \n",
       "std        16.896916      58.855707   \n",
       "min       -54.362000    -161.755800   \n",
       "25%        33.156639     -93.212367   \n",
       "50%        38.455034     -82.850478   \n",
       "75%        43.407780      -7.416670   \n",
       "max        70.020652     178.017780   \n",
       "\n",
       "       retail_and_recreation_percent_change_from_baseline  \\\n",
       "count                                      284489.000000    \n",
       "mean                                          -19.209737    \n",
       "std                                            27.448014    \n",
       "min                                          -100.000000    \n",
       "25%                                           -37.000000    \n",
       "50%                                           -15.000000    \n",
       "75%                                             2.000000    \n",
       "max                                           313.000000    \n",
       "\n",
       "       grocery_and_pharmacy_percent_change_from_baseline  \\\n",
       "count                                      284489.000000   \n",
       "mean                                           -4.024939   \n",
       "std                                            18.560173   \n",
       "min                                          -100.000000   \n",
       "25%                                           -10.000000   \n",
       "50%                                            -1.000000   \n",
       "75%                                             5.000000   \n",
       "max                                           337.000000   \n",
       "\n",
       "       parks_percent_change_from_baseline  \\\n",
       "count                       284489.000000   \n",
       "mean                            -4.505872   \n",
       "std                             27.080856   \n",
       "min                           -100.000000   \n",
       "25%                             -4.000000   \n",
       "50%                             -4.000000   \n",
       "75%                             -4.000000   \n",
       "max                            430.000000   \n",
       "\n",
       "       transit_stations_percent_change_from_baseline  \\\n",
       "count                                  284489.000000   \n",
       "mean                                      -21.069511   \n",
       "std                                        22.250574   \n",
       "min                                      -100.000000   \n",
       "25%                                       -21.000000   \n",
       "50%                                       -18.000000   \n",
       "75%                                       -15.000000   \n",
       "max                                       497.000000   \n",
       "\n",
       "       workplaces_percent_change_from_baseline  \\\n",
       "count                            284489.000000   \n",
       "mean                                -21.623145   \n",
       "std                                  22.256408   \n",
       "min                                 -94.000000   \n",
       "25%                                 -38.000000   \n",
       "50%                                 -23.000000   \n",
       "75%                                   0.000000   \n",
       "max                                 248.000000   \n",
       "\n",
       "       residential_percent_change_from_baseline  \n",
       "count                             284489.000000  \n",
       "mean                                   8.894379  \n",
       "std                                    7.537417  \n",
       "min                                  -25.000000  \n",
       "25%                                    5.000000  \n",
       "50%                                    8.000000  \n",
       "75%                                   11.000000  \n",
       "max                                   54.000000  "
      ]
     },
     "execution_count": 10,
     "metadata": {},
     "output_type": "execute_result"
    }
   ],
   "source": [
    "df.describe()"
   ]
  },
  {
   "cell_type": "markdown",
   "metadata": {},
   "source": [
    "# EXPLORATORY DATA ANALYSIS(EDA)"
   ]
  },
  {
   "cell_type": "code",
   "execution_count": 11,
   "metadata": {},
   "outputs": [],
   "source": [
    "import matplotlib.pyplot as plt\n",
    "import seaborn as sns"
   ]
  },
  {
   "cell_type": "code",
   "execution_count": 12,
   "metadata": {},
   "outputs": [
    {
     "data": {
      "image/png": "[encoded data removed]",
      "text/plain": [
       "<Figure size 432x288 with 1 Axes>"
      ]
     },
     "metadata": {
      "needs_background": "light"
     },
     "output_type": "display_data"
    }
   ],
   "source": [
    "### Since this is a Googles Country Data we need to find out which country has most users\n",
    "\n",
    "counts = pd.value_counts(df['country_region'], sort = True)\n",
    "### Since there are more countries We need to concentrate only on top 5 Countries\n",
    "count = pd.DataFrame(counts)\n",
    "count = count.sort_values(\"country_region\",ascending=False).head()\n",
    "\n",
    "count.plot(kind = 'bar')\n",
    "plt.xlabel(\"Countries\")\n",
    "plt.ylabel(\"Count\")\n",
    "plt.title(\"Top 5 Country Wise Users\")\n",
    "plt.show()"
   ]
  },
  {
   "cell_type": "code",
   "execution_count": 13,
   "metadata": {},
   "outputs": [],
   "source": [
    "gb1 = df.groupby(\"date\")[\"retail_and_recreation_percent_change_from_baseline\"].count()\n",
    "gb2 = df.groupby(\"date\")[\"grocery_and_pharmacy_percent_change_from_baseline\"].count()\n",
    "gb3 = df.groupby(\"date\")[\"parks_percent_change_from_baseline\"].count()\n",
    "gb4 = df.groupby(\"date\")[\"transit_stations_percent_change_from_baseline\"].count()\n",
    "gb5 = df.groupby(\"date\")[\"workplaces_percent_change_from_baseline\"].count()\n",
    "gb6 = df.groupby(\"date\")[\"residential_percent_change_from_baseline\"].count()"
   ]
  },
  {
   "cell_type": "code",
   "execution_count": 14,
   "metadata": {},
   "outputs": [],
   "source": [
    "gb1 = pd.DataFrame(gb1)\n",
    "gb2 = pd.DataFrame(gb2)\n",
    "gb3 = pd.DataFrame(gb3)\n",
    "gb4 = pd.DataFrame(gb4)\n",
    "gb5 = pd.DataFrame(gb5)\n",
    "gb6 = pd.DataFrame(gb6)"
   ]
  },
  {
   "cell_type": "code",
   "execution_count": 15,
   "metadata": {},
   "outputs": [],
   "source": [
    "gb1 = gb1.sort_values(\"retail_and_recreation_percent_change_from_baseline\", ascending = False).head()\n",
    "gb2 = gb2.sort_values(\"grocery_and_pharmacy_percent_change_from_baseline\", ascending = False).head()\n",
    "gb3 = gb3.sort_values(\"parks_percent_change_from_baseline\", ascending=False).head()\n",
    "gb4 = gb4.sort_values(\"transit_stations_percent_change_from_baseline\", ascending=False).head()\n",
    "gb5 = gb5.sort_values(\"workplaces_percent_change_from_baseline\",ascending=False).head()\n",
    "gb6 = gb6.sort_values(\"residential_percent_change_from_baseline\",ascending=False).head()"
   ]
  },
  {
   "cell_type": "code",
   "execution_count": 16,
   "metadata": {},
   "outputs": [
    {
     "data": {
      "text/plain": [
       "<matplotlib.axes._subplots.AxesSubplot at 0xf6a0db0>"
      ]
     },
     "execution_count": 16,
     "metadata": {},
     "output_type": "execute_result"
    },
    {
     "data": {
      "image/png": "[encoded data removed]",
      "text/plain": [
       "<Figure size 432x288 with 1 Axes>"
      ]
     },
     "metadata": {
      "needs_background": "light"
     },
     "output_type": "display_data"
    }
   ],
   "source": [
    "sns.lineplot(x=gb1.index, y=\"retail_and_recreation_percent_change_from_baseline\", data = gb1)"
   ]
  },
  {
   "cell_type": "code",
   "execution_count": 17,
   "metadata": {},
   "outputs": [
    {
     "data": {
      "text/plain": [
       "<matplotlib.axes._subplots.AxesSubplot at 0x10752d10>"
      ]
     },
     "execution_count": 17,
     "metadata": {},
     "output_type": "execute_result"
    },
    {
     "data": {
      "image/png": "[encoded data removed]",
      "text/plain": [
       "<Figure size 432x288 with 1 Axes>"
      ]
     },
     "metadata": {
      "needs_background": "light"
     },
     "output_type": "display_data"
    }
   ],
   "source": [
    "sns.lineplot(x=gb2.index, y=\"grocery_and_pharmacy_percent_change_from_baseline\", data = gb2)"
   ]
  },
  {
   "cell_type": "code",
   "execution_count": 18,
   "metadata": {},
   "outputs": [
    {
     "data": {
      "text/plain": [
       "<matplotlib.axes._subplots.AxesSubplot at 0x108b4230>"
      ]
     },
     "execution_count": 18,
     "metadata": {},
     "output_type": "execute_result"
    },
    {
     "data": {
      "image/png": "[encoded data removed]",
      "text/plain": [
       "<Figure size 432x288 with 1 Axes>"
      ]
     },
     "metadata": {
      "needs_background": "light"
     },
     "output_type": "display_data"
    }
   ],
   "source": [
    "sns.lineplot(x=gb3.index, y=\"parks_percent_change_from_baseline\", data = gb3)"
   ]
  },
  {
   "cell_type": "code",
   "execution_count": 19,
   "metadata": {},
   "outputs": [
    {
     "data": {
      "text/plain": [
       "<matplotlib.axes._subplots.AxesSubplot at 0x108f19d0>"
      ]
     },
     "execution_count": 19,
     "metadata": {},
     "output_type": "execute_result"
    },
    {
     "data": {
      "image/png": "[encoded data removed]",
      "text/plain": [
       "<Figure size 432x288 with 1 Axes>"
      ]
     },
     "metadata": {
      "needs_background": "light"
     },
     "output_type": "display_data"
    }
   ],
   "source": [
    "sns.lineplot(x=gb4.index, y=\"transit_stations_percent_change_from_baseline\", data = gb4)"
   ]
  },
  {
   "cell_type": "code",
   "execution_count": 20,
   "metadata": {},
   "outputs": [
    {
     "data": {
      "text/plain": [
       "<matplotlib.axes._subplots.AxesSubplot at 0x10925110>"
      ]
     },
     "execution_count": 20,
     "metadata": {},
     "output_type": "execute_result"
    },
    {
     "data": {
      "image/png": "[encoded data removed]",
      "text/plain": [
       "<Figure size 432x288 with 1 Axes>"
      ]
     },
     "metadata": {
      "needs_background": "light"
     },
     "output_type": "display_data"
    }
   ],
   "source": [
    "sns.lineplot(x=gb5.index, y=\"workplaces_percent_change_from_baseline\", data = gb5)"
   ]
  },
  {
   "cell_type": "markdown",
   "metadata": {},
   "source": [
    "From the above few lineplots its clearly understand that every features are varying equally with respect to the dates which Means the data is highly coreelated with each other"
   ]
  },
  {
   "cell_type": "markdown",
   "metadata": {},
   "source": [
    "# FEATURE ENGINEERING"
   ]
  },
  {
   "cell_type": "code",
   "execution_count": 21,
   "metadata": {},
   "outputs": [],
   "source": [
    "from sklearn.preprocessing import LabelEncoder"
   ]
  },
  {
   "cell_type": "code",
   "execution_count": 22,
   "metadata": {},
   "outputs": [],
   "source": [
    "lb = LabelEncoder().fit_transform(df.country_region)"
   ]
  },
  {
   "cell_type": "code",
   "execution_count": 23,
   "metadata": {},
   "outputs": [
    {
     "data": {
      "text/html": [
       "<div>\n",
       "<style scoped>\n",
       "    .dataframe tbody tr th:only-of-type {\n",
       "        vertical-align: middle;\n",
       "    }\n",
       "\n",
       "    .dataframe tbody tr th {\n",
       "        vertical-align: top;\n",
       "    }\n",
       "\n",
       "    .dataframe thead th {\n",
       "        text-align: right;\n",
       "    }\n",
       "</style>\n",
       "<table border=\"1\" class=\"dataframe\">\n",
       "  <thead>\n",
       "    <tr style=\"text-align: right;\">\n",
       "      <th></th>\n",
       "      <th>lat</th>\n",
       "      <th>lng</th>\n",
       "      <th>retail_and_recreation_percent_change_from_baseline</th>\n",
       "      <th>grocery_and_pharmacy_percent_change_from_baseline</th>\n",
       "      <th>parks_percent_change_from_baseline</th>\n",
       "      <th>transit_stations_percent_change_from_baseline</th>\n",
       "      <th>workplaces_percent_change_from_baseline</th>\n",
       "      <th>residential_percent_change_from_baseline</th>\n",
       "    </tr>\n",
       "  </thead>\n",
       "  <tbody>\n",
       "    <tr>\n",
       "      <th>0</th>\n",
       "      <td>23.78333</td>\n",
       "      <td>54.0</td>\n",
       "      <td>0.0</td>\n",
       "      <td>4.0</td>\n",
       "      <td>5.0</td>\n",
       "      <td>0.0</td>\n",
       "      <td>2.0</td>\n",
       "      <td>1.0</td>\n",
       "    </tr>\n",
       "    <tr>\n",
       "      <th>1</th>\n",
       "      <td>23.78333</td>\n",
       "      <td>54.0</td>\n",
       "      <td>1.0</td>\n",
       "      <td>4.0</td>\n",
       "      <td>4.0</td>\n",
       "      <td>1.0</td>\n",
       "      <td>2.0</td>\n",
       "      <td>1.0</td>\n",
       "    </tr>\n",
       "    <tr>\n",
       "      <th>2</th>\n",
       "      <td>23.78333</td>\n",
       "      <td>54.0</td>\n",
       "      <td>-1.0</td>\n",
       "      <td>1.0</td>\n",
       "      <td>5.0</td>\n",
       "      <td>1.0</td>\n",
       "      <td>2.0</td>\n",
       "      <td>1.0</td>\n",
       "    </tr>\n",
       "    <tr>\n",
       "      <th>3</th>\n",
       "      <td>23.78333</td>\n",
       "      <td>54.0</td>\n",
       "      <td>-2.0</td>\n",
       "      <td>1.0</td>\n",
       "      <td>5.0</td>\n",
       "      <td>0.0</td>\n",
       "      <td>2.0</td>\n",
       "      <td>1.0</td>\n",
       "    </tr>\n",
       "    <tr>\n",
       "      <th>4</th>\n",
       "      <td>23.78333</td>\n",
       "      <td>54.0</td>\n",
       "      <td>-2.0</td>\n",
       "      <td>0.0</td>\n",
       "      <td>4.0</td>\n",
       "      <td>-1.0</td>\n",
       "      <td>2.0</td>\n",
       "      <td>1.0</td>\n",
       "    </tr>\n",
       "  </tbody>\n",
       "</table>\n",
       "</div>"
      ],
      "text/plain": [
       "        lat   lng  retail_and_recreation_percent_change_from_baseline  \\\n",
       "0  23.78333  54.0                                                0.0    \n",
       "1  23.78333  54.0                                                1.0    \n",
       "2  23.78333  54.0                                               -1.0    \n",
       "3  23.78333  54.0                                               -2.0    \n",
       "4  23.78333  54.0                                               -2.0    \n",
       "\n",
       "   grocery_and_pharmacy_percent_change_from_baseline  \\\n",
       "0                                                4.0   \n",
       "1                                                4.0   \n",
       "2                                                1.0   \n",
       "3                                                1.0   \n",
       "4                                                0.0   \n",
       "\n",
       "   parks_percent_change_from_baseline  \\\n",
       "0                                 5.0   \n",
       "1                                 4.0   \n",
       "2                                 5.0   \n",
       "3                                 5.0   \n",
       "4                                 4.0   \n",
       "\n",
       "   transit_stations_percent_change_from_baseline  \\\n",
       "0                                            0.0   \n",
       "1                                            1.0   \n",
       "2                                            1.0   \n",
       "3                                            0.0   \n",
       "4                                           -1.0   \n",
       "\n",
       "   workplaces_percent_change_from_baseline  \\\n",
       "0                                      2.0   \n",
       "1                                      2.0   \n",
       "2                                      2.0   \n",
       "3                                      2.0   \n",
       "4                                      2.0   \n",
       "\n",
       "   residential_percent_change_from_baseline  \n",
       "0                                       1.0  \n",
       "1                                       1.0  \n",
       "2                                       1.0  \n",
       "3                                       1.0  \n",
       "4                                       1.0  "
      ]
     },
     "execution_count": 23,
     "metadata": {},
     "output_type": "execute_result"
    }
   ],
   "source": [
    "df.drop(categorical_features, axis=1, inplace=True)\n",
    "df.head()"
   ]
  },
  {
   "cell_type": "code",
   "execution_count": 24,
   "metadata": {},
   "outputs": [],
   "source": [
    "scalar = MinMaxScaler().fit_transform(df)"
   ]
  },
  {
   "cell_type": "code",
   "execution_count": 26,
   "metadata": {},
   "outputs": [],
   "source": [
    "scaled_data = pd.DataFrame(scalar, columns=[\"lat\",\"lng\",\"retail_and_recreation_percent_change_from_baseline\",\"grocery_and_pharmacy_percent_change_from_baseline\",\"parks_percent_change_from_baseline\",\"transit_stations_percent_change_from_baseline\",\"workplaces_percent_change_from_baseline\",\"residential_percent_change_from_baseline\"])"
   ]
  },
  {
   "cell_type": "code",
   "execution_count": 27,
   "metadata": {},
   "outputs": [],
   "source": [
    "scaled_data['country_region'] = lb"
   ]
  },
  {
   "cell_type": "code",
   "execution_count": 28,
   "metadata": {},
   "outputs": [
    {
     "data": {
      "text/html": [
       "<div>\n",
       "<style scoped>\n",
       "    .dataframe tbody tr th:only-of-type {\n",
       "        vertical-align: middle;\n",
       "    }\n",
       "\n",
       "    .dataframe tbody tr th {\n",
       "        vertical-align: top;\n",
       "    }\n",
       "\n",
       "    .dataframe thead th {\n",
       "        text-align: right;\n",
       "    }\n",
       "</style>\n",
       "<table border=\"1\" class=\"dataframe\">\n",
       "  <thead>\n",
       "    <tr style=\"text-align: right;\">\n",
       "      <th></th>\n",
       "      <th>lat</th>\n",
       "      <th>lng</th>\n",
       "      <th>retail_and_recreation_percent_change_from_baseline</th>\n",
       "      <th>grocery_and_pharmacy_percent_change_from_baseline</th>\n",
       "      <th>parks_percent_change_from_baseline</th>\n",
       "      <th>transit_stations_percent_change_from_baseline</th>\n",
       "      <th>workplaces_percent_change_from_baseline</th>\n",
       "      <th>residential_percent_change_from_baseline</th>\n",
       "      <th>country_region</th>\n",
       "    </tr>\n",
       "  </thead>\n",
       "  <tbody>\n",
       "    <tr>\n",
       "      <th>0</th>\n",
       "      <td>0.628266</td>\n",
       "      <td>0.634999</td>\n",
       "      <td>0.242131</td>\n",
       "      <td>0.237986</td>\n",
       "      <td>0.198113</td>\n",
       "      <td>0.167504</td>\n",
       "      <td>0.280702</td>\n",
       "      <td>0.329114</td>\n",
       "      <td>123</td>\n",
       "    </tr>\n",
       "    <tr>\n",
       "      <th>1</th>\n",
       "      <td>0.628266</td>\n",
       "      <td>0.634999</td>\n",
       "      <td>0.244552</td>\n",
       "      <td>0.237986</td>\n",
       "      <td>0.196226</td>\n",
       "      <td>0.169179</td>\n",
       "      <td>0.280702</td>\n",
       "      <td>0.329114</td>\n",
       "      <td>123</td>\n",
       "    </tr>\n",
       "    <tr>\n",
       "      <th>2</th>\n",
       "      <td>0.628266</td>\n",
       "      <td>0.634999</td>\n",
       "      <td>0.239709</td>\n",
       "      <td>0.231121</td>\n",
       "      <td>0.198113</td>\n",
       "      <td>0.169179</td>\n",
       "      <td>0.280702</td>\n",
       "      <td>0.329114</td>\n",
       "      <td>123</td>\n",
       "    </tr>\n",
       "    <tr>\n",
       "      <th>3</th>\n",
       "      <td>0.628266</td>\n",
       "      <td>0.634999</td>\n",
       "      <td>0.237288</td>\n",
       "      <td>0.231121</td>\n",
       "      <td>0.198113</td>\n",
       "      <td>0.167504</td>\n",
       "      <td>0.280702</td>\n",
       "      <td>0.329114</td>\n",
       "      <td>123</td>\n",
       "    </tr>\n",
       "    <tr>\n",
       "      <th>4</th>\n",
       "      <td>0.628266</td>\n",
       "      <td>0.634999</td>\n",
       "      <td>0.237288</td>\n",
       "      <td>0.228833</td>\n",
       "      <td>0.196226</td>\n",
       "      <td>0.165829</td>\n",
       "      <td>0.280702</td>\n",
       "      <td>0.329114</td>\n",
       "      <td>123</td>\n",
       "    </tr>\n",
       "  </tbody>\n",
       "</table>\n",
       "</div>"
      ],
      "text/plain": [
       "        lat       lng  retail_and_recreation_percent_change_from_baseline  \\\n",
       "0  0.628266  0.634999                                           0.242131    \n",
       "1  0.628266  0.634999                                           0.244552    \n",
       "2  0.628266  0.634999                                           0.239709    \n",
       "3  0.628266  0.634999                                           0.237288    \n",
       "4  0.628266  0.634999                                           0.237288    \n",
       "\n",
       "   grocery_and_pharmacy_percent_change_from_baseline  \\\n",
       "0                                           0.237986   \n",
       "1                                           0.237986   \n",
       "2                                           0.231121   \n",
       "3                                           0.231121   \n",
       "4                                           0.228833   \n",
       "\n",
       "   parks_percent_change_from_baseline  \\\n",
       "0                            0.198113   \n",
       "1                            0.196226   \n",
       "2                            0.198113   \n",
       "3                            0.198113   \n",
       "4                            0.196226   \n",
       "\n",
       "   transit_stations_percent_change_from_baseline  \\\n",
       "0                                       0.167504   \n",
       "1                                       0.169179   \n",
       "2                                       0.169179   \n",
       "3                                       0.167504   \n",
       "4                                       0.165829   \n",
       "\n",
       "   workplaces_percent_change_from_baseline  \\\n",
       "0                                 0.280702   \n",
       "1                                 0.280702   \n",
       "2                                 0.280702   \n",
       "3                                 0.280702   \n",
       "4                                 0.280702   \n",
       "\n",
       "   residential_percent_change_from_baseline  country_region  \n",
       "0                                  0.329114             123  \n",
       "1                                  0.329114             123  \n",
       "2                                  0.329114             123  \n",
       "3                                  0.329114             123  \n",
       "4                                  0.329114             123  "
      ]
     },
     "execution_count": 28,
     "metadata": {},
     "output_type": "execute_result"
    }
   ],
   "source": [
    "scaled_data.head()"
   ]
  },
  {
   "cell_type": "code",
   "execution_count": 29,
   "metadata": {},
   "outputs": [
    {
     "data": {
      "text/html": [
       "<div>\n",
       "<style scoped>\n",
       "    .dataframe tbody tr th:only-of-type {\n",
       "        vertical-align: middle;\n",
       "    }\n",
       "\n",
       "    .dataframe tbody tr th {\n",
       "        vertical-align: top;\n",
       "    }\n",
       "\n",
       "    .dataframe thead th {\n",
       "        text-align: right;\n",
       "    }\n",
       "</style>\n",
       "<table border=\"1\" class=\"dataframe\">\n",
       "  <thead>\n",
       "    <tr style=\"text-align: right;\">\n",
       "      <th></th>\n",
       "      <th>lat</th>\n",
       "      <th>lng</th>\n",
       "      <th>retail_and_recreation_percent_change_from_baseline</th>\n",
       "      <th>grocery_and_pharmacy_percent_change_from_baseline</th>\n",
       "      <th>parks_percent_change_from_baseline</th>\n",
       "      <th>transit_stations_percent_change_from_baseline</th>\n",
       "      <th>workplaces_percent_change_from_baseline</th>\n",
       "      <th>residential_percent_change_from_baseline</th>\n",
       "      <th>country_region</th>\n",
       "    </tr>\n",
       "  </thead>\n",
       "  <tbody>\n",
       "    <tr>\n",
       "      <th>0</th>\n",
       "      <td>0.628</td>\n",
       "      <td>0.635</td>\n",
       "      <td>0.242</td>\n",
       "      <td>0.238</td>\n",
       "      <td>0.198</td>\n",
       "      <td>0.168</td>\n",
       "      <td>0.281</td>\n",
       "      <td>0.329</td>\n",
       "      <td>123</td>\n",
       "    </tr>\n",
       "    <tr>\n",
       "      <th>1</th>\n",
       "      <td>0.628</td>\n",
       "      <td>0.635</td>\n",
       "      <td>0.245</td>\n",
       "      <td>0.238</td>\n",
       "      <td>0.196</td>\n",
       "      <td>0.169</td>\n",
       "      <td>0.281</td>\n",
       "      <td>0.329</td>\n",
       "      <td>123</td>\n",
       "    </tr>\n",
       "    <tr>\n",
       "      <th>2</th>\n",
       "      <td>0.628</td>\n",
       "      <td>0.635</td>\n",
       "      <td>0.240</td>\n",
       "      <td>0.231</td>\n",
       "      <td>0.198</td>\n",
       "      <td>0.169</td>\n",
       "      <td>0.281</td>\n",
       "      <td>0.329</td>\n",
       "      <td>123</td>\n",
       "    </tr>\n",
       "    <tr>\n",
       "      <th>3</th>\n",
       "      <td>0.628</td>\n",
       "      <td>0.635</td>\n",
       "      <td>0.237</td>\n",
       "      <td>0.231</td>\n",
       "      <td>0.198</td>\n",
       "      <td>0.168</td>\n",
       "      <td>0.281</td>\n",
       "      <td>0.329</td>\n",
       "      <td>123</td>\n",
       "    </tr>\n",
       "    <tr>\n",
       "      <th>4</th>\n",
       "      <td>0.628</td>\n",
       "      <td>0.635</td>\n",
       "      <td>0.237</td>\n",
       "      <td>0.229</td>\n",
       "      <td>0.196</td>\n",
       "      <td>0.166</td>\n",
       "      <td>0.281</td>\n",
       "      <td>0.329</td>\n",
       "      <td>123</td>\n",
       "    </tr>\n",
       "  </tbody>\n",
       "</table>\n",
       "</div>"
      ],
      "text/plain": [
       "     lat    lng  retail_and_recreation_percent_change_from_baseline  \\\n",
       "0  0.628  0.635                                              0.242    \n",
       "1  0.628  0.635                                              0.245    \n",
       "2  0.628  0.635                                              0.240    \n",
       "3  0.628  0.635                                              0.237    \n",
       "4  0.628  0.635                                              0.237    \n",
       "\n",
       "   grocery_and_pharmacy_percent_change_from_baseline  \\\n",
       "0                                              0.238   \n",
       "1                                              0.238   \n",
       "2                                              0.231   \n",
       "3                                              0.231   \n",
       "4                                              0.229   \n",
       "\n",
       "   parks_percent_change_from_baseline  \\\n",
       "0                               0.198   \n",
       "1                               0.196   \n",
       "2                               0.198   \n",
       "3                               0.198   \n",
       "4                               0.196   \n",
       "\n",
       "   transit_stations_percent_change_from_baseline  \\\n",
       "0                                          0.168   \n",
       "1                                          0.169   \n",
       "2                                          0.169   \n",
       "3                                          0.168   \n",
       "4                                          0.166   \n",
       "\n",
       "   workplaces_percent_change_from_baseline  \\\n",
       "0                                    0.281   \n",
       "1                                    0.281   \n",
       "2                                    0.281   \n",
       "3                                    0.281   \n",
       "4                                    0.281   \n",
       "\n",
       "   residential_percent_change_from_baseline  country_region  \n",
       "0                                     0.329             123  \n",
       "1                                     0.329             123  \n",
       "2                                     0.329             123  \n",
       "3                                     0.329             123  \n",
       "4                                     0.329             123  "
      ]
     },
     "execution_count": 29,
     "metadata": {},
     "output_type": "execute_result"
    }
   ],
   "source": [
    "scaled_data = scaled_data.round(3)\n",
    "scaled_data.head()"
   ]
  },
  {
   "cell_type": "code",
   "execution_count": 30,
   "metadata": {},
   "outputs": [
    {
     "name": "stdout",
     "output_type": "stream",
     "text": [
      "lat has 577 Unique Values\n",
      "lng has 519 Unique Values\n",
      "retail_and_recreation_percent_change_from_baseline has 254 Unique Values\n",
      "grocery_and_pharmacy_percent_change_from_baseline has 250 Unique Values\n",
      "parks_percent_change_from_baseline has 360 Unique Values\n",
      "transit_stations_percent_change_from_baseline has 254 Unique Values\n",
      "workplaces_percent_change_from_baseline has 185 Unique Values\n",
      "residential_percent_change_from_baseline has 68 Unique Values\n",
      "country_region has 132 Unique Values\n"
     ]
    }
   ],
   "source": [
    "for feature in scaled_data.columns:\n",
    "    print(\"{} has {} Unique Values\".format(feature, scaled_data[feature].nunique()))"
   ]
  },
  {
   "cell_type": "code",
   "execution_count": 31,
   "metadata": {},
   "outputs": [],
   "source": [
    "scaled_data.drop(0,axis=0, inplace=True)"
   ]
  },
  {
   "cell_type": "markdown",
   "metadata": {},
   "source": [
    "# MODEL DEVELOPMENT"
   ]
  },
  {
   "cell_type": "code",
   "execution_count": 33,
   "metadata": {},
   "outputs": [],
   "source": [
    "wcss = []\n",
    "k = range(1,15)\n",
    "\n",
    "for k in k:\n",
    "    km = KMeans(n_clusters=k)\n",
    "    km.fit(scaled_data)\n",
    "    wcss.append(km.inertia_)"
   ]
  },
  {
   "cell_type": "code",
   "execution_count": 37,
   "metadata": {},
   "outputs": [
    {
     "data": {
      "text/plain": [
       "[<matplotlib.lines.Line2D at 0x10c29890>]"
      ]
     },
     "execution_count": 37,
     "metadata": {},
     "output_type": "execute_result"
    },
    {
     "data": {
      "image/png": "[encoded data removed]",
      "text/plain": [
       "<Figure size 432x288 with 1 Axes>"
      ]
     },
     "metadata": {
      "needs_background": "light"
     },
     "output_type": "display_data"
    }
   ],
   "source": [
    "plt.plot(range(1,15), wcss, marker=\"*\")"
   ]
  },
  {
   "cell_type": "markdown",
   "metadata": {},
   "source": [
    "From the Above Elbow Diagram its Clear we nedd to form 4 Clusters"
   ]
  },
  {
   "cell_type": "code",
   "execution_count": 38,
   "metadata": {},
   "outputs": [
    {
     "data": {
      "text/plain": [
       "KMeans(algorithm='auto', copy_x=True, init='k-means++', max_iter=300,\n",
       "       n_clusters=4, n_init=10, n_jobs=None, precompute_distances='auto',\n",
       "       random_state=None, tol=0.0001, verbose=0)"
      ]
     },
     "execution_count": 38,
     "metadata": {},
     "output_type": "execute_result"
    }
   ],
   "source": [
    "kmeans = KMeans(n_clusters = 4)\n",
    "kmeans.fit(scaled_data)"
   ]
  },
  {
   "cell_type": "code",
   "execution_count": 39,
   "metadata": {},
   "outputs": [
    {
     "data": {
      "text/plain": [
       "array([0, 1, 2, 3])"
      ]
     },
     "execution_count": 39,
     "metadata": {},
     "output_type": "execute_result"
    }
   ],
   "source": [
    "np.unique(kmeans.labels_)"
   ]
  },
  {
   "cell_type": "code",
   "execution_count": 40,
   "metadata": {},
   "outputs": [],
   "source": [
    "centroides = kmeans.cluster_centers_"
   ]
  },
  {
   "cell_type": "code",
   "execution_count": 41,
   "metadata": {},
   "outputs": [
    {
     "data": {
      "text/plain": [
       "array([[7.46203770e-01, 2.30917189e-01, 2.05096172e-01, 2.27269393e-01,\n",
       "        1.86418569e-01, 1.37224120e-01, 2.13908481e-01, 4.22909373e-01,\n",
       "        1.24724429e+02],\n",
       "       [6.73445653e-01, 5.95516291e-01, 1.78235242e-01, 2.04946920e-01,\n",
       "        1.68390442e-01, 1.22080887e-01, 2.11205157e-01, 4.40846747e-01,\n",
       "        5.72503031e+01],\n",
       "       [6.10887020e-01, 4.41773209e-01, 1.62066868e-01, 1.97258145e-01,\n",
       "        1.57930723e-01, 1.13591566e-01, 2.04481915e-01, 4.49367140e-01,\n",
       "        2.22973813e+01],\n",
       "       [6.50248159e-01, 5.23220960e-01, 1.61890984e-01, 1.89264487e-01,\n",
       "        1.57323188e-01, 1.14236179e-01, 1.98692031e-01, 4.53050448e-01,\n",
       "        9.63811341e+01]])"
      ]
     },
     "execution_count": 41,
     "metadata": {},
     "output_type": "execute_result"
    }
   ],
   "source": [
    "centroides"
   ]
  },
  {
   "cell_type": "code",
   "execution_count": 43,
   "metadata": {},
   "outputs": [
    {
     "data": {
      "text/html": [
       "<div>\n",
       "<style scoped>\n",
       "    .dataframe tbody tr th:only-of-type {\n",
       "        vertical-align: middle;\n",
       "    }\n",
       "\n",
       "    .dataframe tbody tr th {\n",
       "        vertical-align: top;\n",
       "    }\n",
       "\n",
       "    .dataframe thead th {\n",
       "        text-align: right;\n",
       "    }\n",
       "</style>\n",
       "<table border=\"1\" class=\"dataframe\">\n",
       "  <thead>\n",
       "    <tr style=\"text-align: right;\">\n",
       "      <th></th>\n",
       "      <th>lat</th>\n",
       "      <th>lng</th>\n",
       "      <th>retail_and_recreation_percent_change_from_baseline</th>\n",
       "      <th>grocery_and_pharmacy_percent_change_from_baseline</th>\n",
       "      <th>parks_percent_change_from_baseline</th>\n",
       "      <th>transit_stations_percent_change_from_baseline</th>\n",
       "      <th>workplaces_percent_change_from_baseline</th>\n",
       "      <th>residential_percent_change_from_baseline</th>\n",
       "      <th>country_region</th>\n",
       "    </tr>\n",
       "  </thead>\n",
       "  <tbody>\n",
       "    <tr>\n",
       "      <th>0</th>\n",
       "      <td>0.746204</td>\n",
       "      <td>0.230917</td>\n",
       "      <td>0.205096</td>\n",
       "      <td>0.227269</td>\n",
       "      <td>0.186419</td>\n",
       "      <td>0.137224</td>\n",
       "      <td>0.213908</td>\n",
       "      <td>0.422909</td>\n",
       "      <td>124.724429</td>\n",
       "    </tr>\n",
       "    <tr>\n",
       "      <th>1</th>\n",
       "      <td>0.673446</td>\n",
       "      <td>0.595516</td>\n",
       "      <td>0.178235</td>\n",
       "      <td>0.204947</td>\n",
       "      <td>0.168390</td>\n",
       "      <td>0.122081</td>\n",
       "      <td>0.211205</td>\n",
       "      <td>0.440847</td>\n",
       "      <td>57.250303</td>\n",
       "    </tr>\n",
       "    <tr>\n",
       "      <th>2</th>\n",
       "      <td>0.610887</td>\n",
       "      <td>0.441773</td>\n",
       "      <td>0.162067</td>\n",
       "      <td>0.197258</td>\n",
       "      <td>0.157931</td>\n",
       "      <td>0.113592</td>\n",
       "      <td>0.204482</td>\n",
       "      <td>0.449367</td>\n",
       "      <td>22.297381</td>\n",
       "    </tr>\n",
       "    <tr>\n",
       "      <th>3</th>\n",
       "      <td>0.650248</td>\n",
       "      <td>0.523221</td>\n",
       "      <td>0.161891</td>\n",
       "      <td>0.189264</td>\n",
       "      <td>0.157323</td>\n",
       "      <td>0.114236</td>\n",
       "      <td>0.198692</td>\n",
       "      <td>0.453050</td>\n",
       "      <td>96.381134</td>\n",
       "    </tr>\n",
       "  </tbody>\n",
       "</table>\n",
       "</div>"
      ],
      "text/plain": [
       "        lat       lng  retail_and_recreation_percent_change_from_baseline  \\\n",
       "0  0.746204  0.230917                                           0.205096    \n",
       "1  0.673446  0.595516                                           0.178235    \n",
       "2  0.610887  0.441773                                           0.162067    \n",
       "3  0.650248  0.523221                                           0.161891    \n",
       "\n",
       "   grocery_and_pharmacy_percent_change_from_baseline  \\\n",
       "0                                           0.227269   \n",
       "1                                           0.204947   \n",
       "2                                           0.197258   \n",
       "3                                           0.189264   \n",
       "\n",
       "   parks_percent_change_from_baseline  \\\n",
       "0                            0.186419   \n",
       "1                            0.168390   \n",
       "2                            0.157931   \n",
       "3                            0.157323   \n",
       "\n",
       "   transit_stations_percent_change_from_baseline  \\\n",
       "0                                       0.137224   \n",
       "1                                       0.122081   \n",
       "2                                       0.113592   \n",
       "3                                       0.114236   \n",
       "\n",
       "   workplaces_percent_change_from_baseline  \\\n",
       "0                                 0.213908   \n",
       "1                                 0.211205   \n",
       "2                                 0.204482   \n",
       "3                                 0.198692   \n",
       "\n",
       "   residential_percent_change_from_baseline  country_region  \n",
       "0                                  0.422909      124.724429  \n",
       "1                                  0.440847       57.250303  \n",
       "2                                  0.449367       22.297381  \n",
       "3                                  0.453050       96.381134  "
      ]
     },
     "execution_count": 43,
     "metadata": {},
     "output_type": "execute_result"
    }
   ],
   "source": [
    "centroids = pd.DataFrame(centroides, columns = [\"lat\",\"lng\",\"retail_and_recreation_percent_change_from_baseline\",\"grocery_and_pharmacy_percent_change_from_baseline\",\"parks_percent_change_from_baseline\",\"transit_stations_percent_change_from_baseline\",\"workplaces_percent_change_from_baseline\",\"residential_percent_change_from_baseline\",\"country_region\"])\n",
    "centroids"
   ]
  },
  {
   "cell_type": "code",
   "execution_count": 44,
   "metadata": {},
   "outputs": [
    {
     "data": {
      "text/plain": [
       "<matplotlib.collections.PathCollection at 0x10c72cf0>"
      ]
     },
     "execution_count": 44,
     "metadata": {},
     "output_type": "execute_result"
    },
    {
     "data": {
      "image/png": "[encoded data removed]",
      "text/plain": [
       "<Figure size 432x288 with 1 Axes>"
      ]
     },
     "metadata": {
      "needs_background": "light"
     },
     "output_type": "display_data"
    }
   ],
   "source": [
    "colormap = np.array([\"red\",\"green\",\"blue\",\"yellow\"])\n",
    "\n",
    "plt.scatter(scaled_data.country_region,scaled_data.retail_and_recreation_percent_change_from_baseline,c=colormap[kmeans.labels_])\n",
    "plt.scatter(centroids.country_region,centroids.retail_and_recreation_percent_change_from_baseline, marker='*')"
   ]
  },
  {
   "cell_type": "code",
   "execution_count": null,
   "metadata": {},
   "outputs": [],
   "source": []
  }
 ],
 "metadata": {
  "kernelspec": {
   "display_name": "Python 3",
   "language": "python",
   "name": "python3"
  },
  "language_info": {
   "codemirror_mode": {
    "name": "ipython",
    "version": 3
   },
   "file_extension": ".py",
   "mimetype": "text/x-python",
   "name": "python",
   "nbconvert_exporter": "python",
   "pygments_lexer": "ipython3",
   "version": "3.7.6"
  }
 },
 "nbformat": 4,
 "nbformat_minor": 4
}
