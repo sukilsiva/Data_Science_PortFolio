{
 "cells": [
  {
   "cell_type": "markdown",
   "metadata": {},
   "source": [
    "# PROJECT NAME : CHURN PREDICTION (TELECOM CUSTOMER DATASET)"
   ]
  },
  {
   "cell_type": "markdown",
   "metadata": {},
   "source": [
    "#### Aim:"
   ]
  },
  {
   "cell_type": "markdown",
   "metadata": {},
   "source": [
    "The Main Aim of the Project is to Predict whether the Customer is Going to Stop his services or Not.(Churn Prediction)"
   ]
  },
  {
   "cell_type": "markdown",
   "metadata": {},
   "source": [
    "#### Life Cycle of this Project:"
   ]
  },
  {
   "cell_type": "markdown",
   "metadata": {},
   "source": [
    "* Importing the Data \n",
    "  0.1 This may Include varities of sources like \n",
    "      0.1.1 Companies Official Database API's \n",
    "      0.1.2 Cloud Service Database Like (Azure, AWS, GCP)\n",
    "      0.1.3 Stream Analytics Pipeline Includes Messaging Systems(Apache Kafka), Streaming Platforms(Apache Spark), Databases, Apps etc.\n",
    "\n",
    "1. Data Analysis\n",
    "2. Feature Engineering\n",
    "3. Feature Selection\n",
    "4. Model Selection\n",
    "5. Model Building with Hyperparametre Tuning\n",
    "6. Model Deployment (Pickle File for Developing into an Web App)\n",
    "7. Running an Test Cases for Newly Coming Data"
   ]
  },
  {
   "cell_type": "code",
   "execution_count": 1,
   "metadata": {},
   "outputs": [],
   "source": [
    "import pandas as pd                                   ### For reading the Tabular Data \n",
    "import numpy as np                                    ### For Numerical Analytics\n",
    "pd.pandas.set_option('display.max_columns', None)     ### Displaying all the columns\n",
    "\n",
    "import warnings\n",
    "warnings.filterwarnings(\"ignore\")"
   ]
  },
  {
   "cell_type": "code",
   "execution_count": 2,
   "metadata": {},
   "outputs": [
    {
     "data": {
      "text/html": [
       "<div>\n",
       "<style scoped>\n",
       "    .dataframe tbody tr th:only-of-type {\n",
       "        vertical-align: middle;\n",
       "    }\n",
       "\n",
       "    .dataframe tbody tr th {\n",
       "        vertical-align: top;\n",
       "    }\n",
       "\n",
       "    .dataframe thead th {\n",
       "        text-align: right;\n",
       "    }\n",
       "</style>\n",
       "<table border=\"1\" class=\"dataframe\">\n",
       "  <thead>\n",
       "    <tr style=\"text-align: right;\">\n",
       "      <th></th>\n",
       "      <th>customerID</th>\n",
       "      <th>gender</th>\n",
       "      <th>SeniorCitizen</th>\n",
       "      <th>Partner</th>\n",
       "      <th>Dependents</th>\n",
       "      <th>tenure</th>\n",
       "      <th>PhoneService</th>\n",
       "      <th>MultipleLines</th>\n",
       "      <th>InternetService</th>\n",
       "      <th>OnlineSecurity</th>\n",
       "      <th>OnlineBackup</th>\n",
       "      <th>DeviceProtection</th>\n",
       "      <th>TechSupport</th>\n",
       "      <th>StreamingTV</th>\n",
       "      <th>StreamingMovies</th>\n",
       "      <th>Contract</th>\n",
       "      <th>PaperlessBilling</th>\n",
       "      <th>PaymentMethod</th>\n",
       "      <th>MonthlyCharges</th>\n",
       "      <th>TotalCharges</th>\n",
       "      <th>Churn</th>\n",
       "    </tr>\n",
       "  </thead>\n",
       "  <tbody>\n",
       "    <tr>\n",
       "      <th>0</th>\n",
       "      <td>7590-VHVEG</td>\n",
       "      <td>Female</td>\n",
       "      <td>0</td>\n",
       "      <td>Yes</td>\n",
       "      <td>No</td>\n",
       "      <td>1</td>\n",
       "      <td>No</td>\n",
       "      <td>No phone service</td>\n",
       "      <td>DSL</td>\n",
       "      <td>No</td>\n",
       "      <td>Yes</td>\n",
       "      <td>No</td>\n",
       "      <td>No</td>\n",
       "      <td>No</td>\n",
       "      <td>No</td>\n",
       "      <td>Month-to-month</td>\n",
       "      <td>Yes</td>\n",
       "      <td>Electronic check</td>\n",
       "      <td>29.85</td>\n",
       "      <td>29.85</td>\n",
       "      <td>No</td>\n",
       "    </tr>\n",
       "    <tr>\n",
       "      <th>1</th>\n",
       "      <td>5575-GNVDE</td>\n",
       "      <td>Male</td>\n",
       "      <td>0</td>\n",
       "      <td>No</td>\n",
       "      <td>No</td>\n",
       "      <td>34</td>\n",
       "      <td>Yes</td>\n",
       "      <td>No</td>\n",
       "      <td>DSL</td>\n",
       "      <td>Yes</td>\n",
       "      <td>No</td>\n",
       "      <td>Yes</td>\n",
       "      <td>No</td>\n",
       "      <td>No</td>\n",
       "      <td>No</td>\n",
       "      <td>One year</td>\n",
       "      <td>No</td>\n",
       "      <td>Mailed check</td>\n",
       "      <td>56.95</td>\n",
       "      <td>1889.5</td>\n",
       "      <td>No</td>\n",
       "    </tr>\n",
       "    <tr>\n",
       "      <th>2</th>\n",
       "      <td>3668-QPYBK</td>\n",
       "      <td>Male</td>\n",
       "      <td>0</td>\n",
       "      <td>No</td>\n",
       "      <td>No</td>\n",
       "      <td>2</td>\n",
       "      <td>Yes</td>\n",
       "      <td>No</td>\n",
       "      <td>DSL</td>\n",
       "      <td>Yes</td>\n",
       "      <td>Yes</td>\n",
       "      <td>No</td>\n",
       "      <td>No</td>\n",
       "      <td>No</td>\n",
       "      <td>No</td>\n",
       "      <td>Month-to-month</td>\n",
       "      <td>Yes</td>\n",
       "      <td>Mailed check</td>\n",
       "      <td>53.85</td>\n",
       "      <td>108.15</td>\n",
       "      <td>Yes</td>\n",
       "    </tr>\n",
       "    <tr>\n",
       "      <th>3</th>\n",
       "      <td>7795-CFOCW</td>\n",
       "      <td>Male</td>\n",
       "      <td>0</td>\n",
       "      <td>No</td>\n",
       "      <td>No</td>\n",
       "      <td>45</td>\n",
       "      <td>No</td>\n",
       "      <td>No phone service</td>\n",
       "      <td>DSL</td>\n",
       "      <td>Yes</td>\n",
       "      <td>No</td>\n",
       "      <td>Yes</td>\n",
       "      <td>Yes</td>\n",
       "      <td>No</td>\n",
       "      <td>No</td>\n",
       "      <td>One year</td>\n",
       "      <td>No</td>\n",
       "      <td>Bank transfer (automatic)</td>\n",
       "      <td>42.30</td>\n",
       "      <td>1840.75</td>\n",
       "      <td>No</td>\n",
       "    </tr>\n",
       "    <tr>\n",
       "      <th>4</th>\n",
       "      <td>9237-HQITU</td>\n",
       "      <td>Female</td>\n",
       "      <td>0</td>\n",
       "      <td>No</td>\n",
       "      <td>No</td>\n",
       "      <td>2</td>\n",
       "      <td>Yes</td>\n",
       "      <td>No</td>\n",
       "      <td>Fiber optic</td>\n",
       "      <td>No</td>\n",
       "      <td>No</td>\n",
       "      <td>No</td>\n",
       "      <td>No</td>\n",
       "      <td>No</td>\n",
       "      <td>No</td>\n",
       "      <td>Month-to-month</td>\n",
       "      <td>Yes</td>\n",
       "      <td>Electronic check</td>\n",
       "      <td>70.70</td>\n",
       "      <td>151.65</td>\n",
       "      <td>Yes</td>\n",
       "    </tr>\n",
       "  </tbody>\n",
       "</table>\n",
       "</div>"
      ],
      "text/plain": [
       "   customerID  gender  SeniorCitizen Partner Dependents  tenure PhoneService  \\\n",
       "0  7590-VHVEG  Female              0     Yes         No       1           No   \n",
       "1  5575-GNVDE    Male              0      No         No      34          Yes   \n",
       "2  3668-QPYBK    Male              0      No         No       2          Yes   \n",
       "3  7795-CFOCW    Male              0      No         No      45           No   \n",
       "4  9237-HQITU  Female              0      No         No       2          Yes   \n",
       "\n",
       "      MultipleLines InternetService OnlineSecurity OnlineBackup  \\\n",
       "0  No phone service             DSL             No          Yes   \n",
       "1                No             DSL            Yes           No   \n",
       "2                No             DSL            Yes          Yes   \n",
       "3  No phone service             DSL            Yes           No   \n",
       "4                No     Fiber optic             No           No   \n",
       "\n",
       "  DeviceProtection TechSupport StreamingTV StreamingMovies        Contract  \\\n",
       "0               No          No          No              No  Month-to-month   \n",
       "1              Yes          No          No              No        One year   \n",
       "2               No          No          No              No  Month-to-month   \n",
       "3              Yes         Yes          No              No        One year   \n",
       "4               No          No          No              No  Month-to-month   \n",
       "\n",
       "  PaperlessBilling              PaymentMethod  MonthlyCharges TotalCharges  \\\n",
       "0              Yes           Electronic check           29.85        29.85   \n",
       "1               No               Mailed check           56.95       1889.5   \n",
       "2              Yes               Mailed check           53.85       108.15   \n",
       "3               No  Bank transfer (automatic)           42.30      1840.75   \n",
       "4              Yes           Electronic check           70.70       151.65   \n",
       "\n",
       "  Churn  \n",
       "0    No  \n",
       "1    No  \n",
       "2   Yes  \n",
       "3    No  \n",
       "4   Yes  "
      ]
     },
     "execution_count": 2,
     "metadata": {},
     "output_type": "execute_result"
    }
   ],
   "source": [
    "### Reading the data\n",
    "data = pd.read_csv('Data/WA_Fn-UseC_-Telco-Customer-Churn.csv')\n",
    "data.head()"
   ]
  },
  {
   "cell_type": "code",
   "execution_count": 3,
   "metadata": {},
   "outputs": [
    {
     "data": {
      "text/plain": [
       "(7043, 21)"
      ]
     },
     "execution_count": 3,
     "metadata": {},
     "output_type": "execute_result"
    }
   ],
   "source": [
    "### Number of rows and Columns\n",
    "data.shape"
   ]
  },
  {
   "cell_type": "code",
   "execution_count": 4,
   "metadata": {},
   "outputs": [
    {
     "name": "stdout",
     "output_type": "stream",
     "text": [
      "<class 'pandas.core.frame.DataFrame'>\n",
      "RangeIndex: 7043 entries, 0 to 7042\n",
      "Data columns (total 21 columns):\n",
      " #   Column            Non-Null Count  Dtype  \n",
      "---  ------            --------------  -----  \n",
      " 0   customerID        7043 non-null   object \n",
      " 1   gender            7043 non-null   object \n",
      " 2   SeniorCitizen     7043 non-null   int64  \n",
      " 3   Partner           7043 non-null   object \n",
      " 4   Dependents        7043 non-null   object \n",
      " 5   tenure            7043 non-null   int64  \n",
      " 6   PhoneService      7043 non-null   object \n",
      " 7   MultipleLines     7043 non-null   object \n",
      " 8   InternetService   7043 non-null   object \n",
      " 9   OnlineSecurity    7043 non-null   object \n",
      " 10  OnlineBackup      7043 non-null   object \n",
      " 11  DeviceProtection  7043 non-null   object \n",
      " 12  TechSupport       7043 non-null   object \n",
      " 13  StreamingTV       7043 non-null   object \n",
      " 14  StreamingMovies   7043 non-null   object \n",
      " 15  Contract          7043 non-null   object \n",
      " 16  PaperlessBilling  7043 non-null   object \n",
      " 17  PaymentMethod     7043 non-null   object \n",
      " 18  MonthlyCharges    7043 non-null   float64\n",
      " 19  TotalCharges      7043 non-null   object \n",
      " 20  Churn             7043 non-null   object \n",
      "dtypes: float64(1), int64(2), object(18)\n",
      "memory usage: 1.1+ MB\n"
     ]
    }
   ],
   "source": [
    "### collect some info about the data\n",
    "data.info()"
   ]
  },
  {
   "cell_type": "code",
   "execution_count": 5,
   "metadata": {},
   "outputs": [
    {
     "data": {
      "text/html": [
       "<div>\n",
       "<style scoped>\n",
       "    .dataframe tbody tr th:only-of-type {\n",
       "        vertical-align: middle;\n",
       "    }\n",
       "\n",
       "    .dataframe tbody tr th {\n",
       "        vertical-align: top;\n",
       "    }\n",
       "\n",
       "    .dataframe thead th {\n",
       "        text-align: right;\n",
       "    }\n",
       "</style>\n",
       "<table border=\"1\" class=\"dataframe\">\n",
       "  <thead>\n",
       "    <tr style=\"text-align: right;\">\n",
       "      <th></th>\n",
       "      <th>SeniorCitizen</th>\n",
       "      <th>tenure</th>\n",
       "      <th>MonthlyCharges</th>\n",
       "    </tr>\n",
       "  </thead>\n",
       "  <tbody>\n",
       "    <tr>\n",
       "      <th>count</th>\n",
       "      <td>7043.000000</td>\n",
       "      <td>7043.000000</td>\n",
       "      <td>7043.000000</td>\n",
       "    </tr>\n",
       "    <tr>\n",
       "      <th>mean</th>\n",
       "      <td>0.162147</td>\n",
       "      <td>32.371149</td>\n",
       "      <td>64.761692</td>\n",
       "    </tr>\n",
       "    <tr>\n",
       "      <th>std</th>\n",
       "      <td>0.368612</td>\n",
       "      <td>24.559481</td>\n",
       "      <td>30.090047</td>\n",
       "    </tr>\n",
       "    <tr>\n",
       "      <th>min</th>\n",
       "      <td>0.000000</td>\n",
       "      <td>0.000000</td>\n",
       "      <td>18.250000</td>\n",
       "    </tr>\n",
       "    <tr>\n",
       "      <th>25%</th>\n",
       "      <td>0.000000</td>\n",
       "      <td>9.000000</td>\n",
       "      <td>35.500000</td>\n",
       "    </tr>\n",
       "    <tr>\n",
       "      <th>50%</th>\n",
       "      <td>0.000000</td>\n",
       "      <td>29.000000</td>\n",
       "      <td>70.350000</td>\n",
       "    </tr>\n",
       "    <tr>\n",
       "      <th>75%</th>\n",
       "      <td>0.000000</td>\n",
       "      <td>55.000000</td>\n",
       "      <td>89.850000</td>\n",
       "    </tr>\n",
       "    <tr>\n",
       "      <th>max</th>\n",
       "      <td>1.000000</td>\n",
       "      <td>72.000000</td>\n",
       "      <td>118.750000</td>\n",
       "    </tr>\n",
       "  </tbody>\n",
       "</table>\n",
       "</div>"
      ],
      "text/plain": [
       "       SeniorCitizen       tenure  MonthlyCharges\n",
       "count    7043.000000  7043.000000     7043.000000\n",
       "mean        0.162147    32.371149       64.761692\n",
       "std         0.368612    24.559481       30.090047\n",
       "min         0.000000     0.000000       18.250000\n",
       "25%         0.000000     9.000000       35.500000\n",
       "50%         0.000000    29.000000       70.350000\n",
       "75%         0.000000    55.000000       89.850000\n",
       "max         1.000000    72.000000      118.750000"
      ]
     },
     "execution_count": 5,
     "metadata": {},
     "output_type": "execute_result"
    }
   ],
   "source": [
    "data.describe()      ### Distribution of data"
   ]
  },
  {
   "cell_type": "markdown",
   "metadata": {},
   "source": [
    "### 1.0 Data Analysis :"
   ]
  },
  {
   "cell_type": "markdown",
   "metadata": {},
   "source": [
    "1. Missing Values\n",
    "2. All The Numerical Variables\n",
    "3. Distribution of the Numerical Variables\n",
    "4. Categorical Variables\n",
    "5. Cardinality of Categorical Variables\n",
    "6. Outliers\n",
    "8. Correlation\n",
    "7. Relationship between independent and dependent feature(Churn)"
   ]
  },
  {
   "cell_type": "code",
   "execution_count": 6,
   "metadata": {},
   "outputs": [],
   "source": [
    "import matplotlib.pyplot as plt\n",
    "import seaborn as sns"
   ]
  },
  {
   "cell_type": "code",
   "execution_count": 7,
   "metadata": {},
   "outputs": [
    {
     "data": {
      "text/plain": [
       "[]"
      ]
     },
     "execution_count": 7,
     "metadata": {},
     "output_type": "execute_result"
    }
   ],
   "source": [
    "### Features with Nan Values\n",
    "Nan_columns = [feature for feature in data.columns if data[feature].isnull().sum() > 1]\n",
    "Nan_columns "
   ]
  },
  {
   "cell_type": "markdown",
   "metadata": {},
   "source": [
    "No Nan Values in the data"
   ]
  },
  {
   "cell_type": "code",
   "execution_count": 8,
   "metadata": {},
   "outputs": [
    {
     "data": {
      "text/plain": [
       "['SeniorCitizen', 'tenure', 'MonthlyCharges']"
      ]
     },
     "execution_count": 8,
     "metadata": {},
     "output_type": "execute_result"
    }
   ],
   "source": [
    "### Lets Pickup the Numerical Variables\n",
    "numerical_feature = [feature for feature in data.columns if data[feature].dtypes != \"O\"]\n",
    "numerical_feature"
   ]
  },
  {
   "cell_type": "code",
   "execution_count": 9,
   "metadata": {},
   "outputs": [
    {
     "data": {
      "image/png": "[encoded data removed]",
      "text/plain": [
       "<Figure size 432x288 with 1 Axes>"
      ]
     },
     "metadata": {
      "needs_background": "light"
     },
     "output_type": "display_data"
    },
    {
     "data": {
      "image/png": "[encoded data removed]",
      "text/plain": [
       "<Figure size 432x288 with 1 Axes>"
      ]
     },
     "metadata": {
      "needs_background": "light"
     },
     "output_type": "display_data"
    },
    {
     "data": {
      "image/png": "[encoded data removed]",
      "text/plain": [
       "<Figure size 432x288 with 1 Axes>"
      ]
     },
     "metadata": {
      "needs_background": "light"
     },
     "output_type": "display_data"
    }
   ],
   "source": [
    "### Distribution of Numerical Data With Respect to the Output(Dependent FEature)\n",
    "for feature in numerical_feature:\n",
    "    df = data.copy()\n",
    "    df['Churn'] = np.where(df['Churn']==\"Yes\",1,0 )     # Going to replace Yes in Churn Column with 1 and No with 0\n",
    "    \n",
    "    df.groupby(\"Churn\")[feature].mean().plot.bar()     # Grouping the Churn COlumn and Comparing with NUmerical Features               \n",
    "    plt.xlabel(feature)\n",
    "    plt.ylabel('Churn')\n",
    "    plt.title(feature)\n",
    "    plt.show()"
   ]
  },
  {
   "cell_type": "code",
   "execution_count": 10,
   "metadata": {},
   "outputs": [
    {
     "data": {
      "text/plain": [
       "['gender',\n",
       " 'Partner',\n",
       " 'Dependents',\n",
       " 'PhoneService',\n",
       " 'MultipleLines',\n",
       " 'InternetService',\n",
       " 'OnlineSecurity',\n",
       " 'OnlineBackup',\n",
       " 'DeviceProtection',\n",
       " 'TechSupport',\n",
       " 'StreamingTV',\n",
       " 'StreamingMovies',\n",
       " 'Contract',\n",
       " 'PaperlessBilling',\n",
       " 'PaymentMethod',\n",
       " 'TotalCharges']"
      ]
     },
     "execution_count": 10,
     "metadata": {},
     "output_type": "execute_result"
    }
   ],
   "source": [
    "### Categorical Features \n",
    "categoircal_features = [feature for feature in data.columns if feature not in numerical_feature + ['customerID'] + ['Churn']]\n",
    "categoircal_features"
   ]
  },
  {
   "cell_type": "code",
   "execution_count": 11,
   "metadata": {},
   "outputs": [
    {
     "data": {
      "image/png": "[encoded data removed]",
      "text/plain": [
       "<Figure size 432x288 with 1 Axes>"
      ]
     },
     "metadata": {
      "needs_background": "light"
     },
     "output_type": "display_data"
    },
    {
     "data": {
      "image/png": "[encoded data removed]",
      "text/plain": [
       "<Figure size 432x288 with 1 Axes>"
      ]
     },
     "metadata": {
      "needs_background": "light"
     },
     "output_type": "display_data"
    },
    {
     "data": {
      "image/png": "[encoded data removed]",
      "text/plain": [
       "<Figure size 432x288 with 1 Axes>"
      ]
     },
     "metadata": {
      "needs_background": "light"
     },
     "output_type": "display_data"
    },
    {
     "data": {
      "image/png": "[encoded data removed]",
      "text/plain": [
       "<Figure size 432x288 with 1 Axes>"
      ]
     },
     "metadata": {
      "needs_background": "light"
     },
     "output_type": "display_data"
    },
    {
     "data": {
      "image/png": "[encoded data removed]",
      "text/plain": [
       "<Figure size 432x288 with 1 Axes>"
      ]
     },
     "metadata": {
      "needs_background": "light"
     },
     "output_type": "display_data"
    },
    {
     "data": {
      "image/png": "[encoded data removed]",
      "text/plain": [
       "<Figure size 432x288 with 1 Axes>"
      ]
     },
     "metadata": {
      "needs_background": "light"
     },
     "output_type": "display_data"
    },
    {
     "data": {
      "image/png": "[encoded data removed]",
      "text/plain": [
       "<Figure size 432x288 with 1 Axes>"
      ]
     },
     "metadata": {
      "needs_background": "light"
     },
     "output_type": "display_data"
    },
    {
     "data": {
      "image/png": "[encoded data removed]",
      "text/plain": [
       "<Figure size 432x288 with 1 Axes>"
      ]
     },
     "metadata": {
      "needs_background": "light"
     },
     "output_type": "display_data"
    },
    {
     "data": {
      "image/png": "[encoded data removed]",
      "text/plain": [
       "<Figure size 432x288 with 1 Axes>"
      ]
     },
     "metadata": {
      "needs_background": "light"
     },
     "output_type": "display_data"
    },
    {
     "data": {
      "image/png": "[encoded data removed]",
      "text/plain": [
       "<Figure size 432x288 with 1 Axes>"
      ]
     },
     "metadata": {
      "needs_background": "light"
     },
     "output_type": "display_data"
    },
    {
     "data": {
      "image/png": "[encoded data removed]",
      "text/plain": [
       "<Figure size 432x288 with 1 Axes>"
      ]
     },
     "metadata": {
      "needs_background": "light"
     },
     "output_type": "display_data"
    },
    {
     "data": {
      "image/png": "[encoded data removed]",
      "text/plain": [
       "<Figure size 432x288 with 1 Axes>"
      ]
     },
     "metadata": {
      "needs_background": "light"
     },
     "output_type": "display_data"
    },
    {
     "data": {
      "image/png": "[encoded data removed]",
      "text/plain": [
       "<Figure size 432x288 with 1 Axes>"
      ]
     },
     "metadata": {
      "needs_background": "light"
     },
     "output_type": "display_data"
    },
    {
     "data": {
      "image/png": "[encoded data removed]",
      "text/plain": [
       "<Figure size 432x288 with 1 Axes>"
      ]
     },
     "metadata": {
      "needs_background": "light"
     },
     "output_type": "display_data"
    },
    {
     "data": {
      "image/png": "[encoded data removed]",
      "text/plain": [
       "<Figure size 432x288 with 1 Axes>"
      ]
     },
     "metadata": {
      "needs_background": "light"
     },
     "output_type": "display_data"
    },
    {
     "data": {
      "image/png": "[encoded data removed]",
      "text/plain": [
       "<Figure size 432x288 with 1 Axes>"
      ]
     },
     "metadata": {
      "needs_background": "light"
     },
     "output_type": "display_data"
    }
   ],
   "source": [
    "### Distribution of Categorical Features\n",
    "for feature in categoircal_features:\n",
    "    sns.countplot(data[feature], color=\"#95a5a6\", order=data[feature].value_counts().index)\n",
    "    plt.title(feature)\n",
    "    plt.show()"
   ]
  },
  {
   "cell_type": "markdown",
   "metadata": {},
   "source": [
    "Here From the above graphs there is no chance for cardinal Features too"
   ]
  },
  {
   "cell_type": "code",
   "execution_count": 12,
   "metadata": {},
   "outputs": [
    {
     "name": "stdout",
     "output_type": "stream",
     "text": [
      "gender has 2 Number of Unique Values\n",
      "Partner has 2 Number of Unique Values\n",
      "Dependents has 2 Number of Unique Values\n",
      "PhoneService has 2 Number of Unique Values\n",
      "MultipleLines has 3 Number of Unique Values\n",
      "InternetService has 3 Number of Unique Values\n",
      "OnlineSecurity has 3 Number of Unique Values\n",
      "OnlineBackup has 3 Number of Unique Values\n",
      "DeviceProtection has 3 Number of Unique Values\n",
      "TechSupport has 3 Number of Unique Values\n",
      "StreamingTV has 3 Number of Unique Values\n",
      "StreamingMovies has 3 Number of Unique Values\n",
      "Contract has 3 Number of Unique Values\n",
      "PaperlessBilling has 2 Number of Unique Values\n",
      "PaymentMethod has 4 Number of Unique Values\n",
      "TotalCharges has 6531 Number of Unique Values\n"
     ]
    }
   ],
   "source": [
    "### Number of Unique Features in Categorical Data\n",
    "\n",
    "for feature in categoircal_features:\n",
    "    print(\"{} has {} Number of Unique Values\".format(feature, data[feature].nunique()))"
   ]
  },
  {
   "cell_type": "markdown",
   "metadata": {},
   "source": [
    "Here we can see the total charges we need to change it into an Integer"
   ]
  },
  {
   "cell_type": "code",
   "execution_count": 13,
   "metadata": {},
   "outputs": [
    {
     "data": {
      "text/plain": [
       "array([[<AxesSubplot:title={'center':'SeniorCitizen'}>,\n",
       "        <AxesSubplot:title={'center':'tenure'}>],\n",
       "       [<AxesSubplot:title={'center':'MonthlyCharges'}>, <AxesSubplot:>]],\n",
       "      dtype=object)"
      ]
     },
     "execution_count": 13,
     "metadata": {},
     "output_type": "execute_result"
    },
    {
     "data": {
      "image/png": "[encoded data removed]",
      "text/plain": [
       "<Figure size 432x288 with 4 Axes>"
      ]
     },
     "metadata": {
      "needs_background": "light"
     },
     "output_type": "display_data"
    }
   ],
   "source": [
    "### Distribution of Data\n",
    "data.hist()"
   ]
  },
  {
   "cell_type": "markdown",
   "metadata": {},
   "source": [
    "Data is Skewed"
   ]
  },
  {
   "cell_type": "code",
   "execution_count": 14,
   "metadata": {},
   "outputs": [
    {
     "data": {
      "image/png": "[encoded data removed]",
      "text/plain": [
       "<Figure size 432x288 with 1 Axes>"
      ]
     },
     "metadata": {
      "needs_background": "light"
     },
     "output_type": "display_data"
    },
    {
     "data": {
      "image/png": "[encoded data removed]",
      "text/plain": [
       "<Figure size 432x288 with 1 Axes>"
      ]
     },
     "metadata": {
      "needs_background": "light"
     },
     "output_type": "display_data"
    }
   ],
   "source": [
    "### Finding the Outliers\n",
    "numerical_feature.remove(\"SeniorCitizen\")\n",
    "for feature in numerical_feature:\n",
    "    df[feature] = np.log(df[feature])    ### Since the data is skewed\n",
    "    df.boxplot(column=feature)\n",
    "    plt.title(feature)\n",
    "    plt.ylabel(feature)\n",
    "    plt.show()"
   ]
  },
  {
   "cell_type": "code",
   "execution_count": 15,
   "metadata": {},
   "outputs": [
    {
     "data": {
      "text/plain": [
       "<AxesSubplot:>"
      ]
     },
     "execution_count": 15,
     "metadata": {},
     "output_type": "execute_result"
    },
    {
     "data": {
      "image/png": "[encoded data removed]",
      "text/plain": [
       "<Figure size 720x720 with 2 Axes>"
      ]
     },
     "metadata": {
      "needs_background": "light"
     },
     "output_type": "display_data"
    }
   ],
   "source": [
    "### Correlation Matrix\n",
    "\n",
    "correlation = data.corr()                                                         # Forming Correlation Table\n",
    "correlation_matrix = correlation.index                                            # Picking up the Columns\n",
    "                                                                               \n",
    "plt.figure(figsize=(10,10))                                                       # Figure Size\n",
    "sns.heatmap(data[correlation_matrix].corr(), cmap = 'twilight_r', annot = True)   # sns Heatmap for Correlation"
   ]
  },
  {
   "cell_type": "code",
   "execution_count": 16,
   "metadata": {},
   "outputs": [
    {
     "data": {
      "image/png": "[encoded data removed]",
      "text/plain": [
       "<Figure size 432x288 with 1 Axes>"
      ]
     },
     "metadata": {
      "needs_background": "light"
     },
     "output_type": "display_data"
    }
   ],
   "source": [
    "### Dependent Feature Checking for Oversample or Downsample                       \n",
    "counts = pd.value_counts(data[\"Churn\"], sort=True)                   # Counting NUmber of Yes and No's\n",
    "counts.plot(kind=\"bar\")\n",
    "plt.xlabel(\"Churn\")\n",
    "plt.ylabel(\"Counts\")\n",
    "plt.title(\"Value Counts\")\n",
    "plt.show()"
   ]
  },
  {
   "cell_type": "code",
   "execution_count": 17,
   "metadata": {},
   "outputs": [
    {
     "data": {
      "text/plain": [
       "<seaborn.axisgrid.PairGrid at 0x7f45e7217250>"
      ]
     },
     "execution_count": 17,
     "metadata": {},
     "output_type": "execute_result"
    },
    {
     "data": {
      "image/png": "[encoded data removed]",
      "text/plain": [
       "<Figure size 540x540 with 12 Axes>"
      ]
     },
     "metadata": {
      "needs_background": "light"
     },
     "output_type": "display_data"
    }
   ],
   "source": [
    "### Pairplot for distirbution of Data\n",
    "sns.pairplot(data)"
   ]
  },
  {
   "cell_type": "markdown",
   "metadata": {},
   "source": [
    "### 2.0 Feature Engineering"
   ]
  },
  {
   "cell_type": "markdown",
   "metadata": {},
   "source": [
    "We will be performing all the below steps in Feature Engineering\n",
    "\n",
    "1. Missing values (In Our Case No Missing Values)\n",
    "2. Temporal variables (No Temporal Values Too)\n",
    "3. Categorical variables: remove rare labels \n",
    "4. Encoding Categorical Variables\n",
    "4. Standarise the values of the variables to the same range"
   ]
  },
  {
   "cell_type": "code",
   "execution_count": 18,
   "metadata": {},
   "outputs": [
    {
     "data": {
      "text/html": [
       "<div>\n",
       "<style scoped>\n",
       "    .dataframe tbody tr th:only-of-type {\n",
       "        vertical-align: middle;\n",
       "    }\n",
       "\n",
       "    .dataframe tbody tr th {\n",
       "        vertical-align: top;\n",
       "    }\n",
       "\n",
       "    .dataframe thead th {\n",
       "        text-align: right;\n",
       "    }\n",
       "</style>\n",
       "<table border=\"1\" class=\"dataframe\">\n",
       "  <thead>\n",
       "    <tr style=\"text-align: right;\">\n",
       "      <th></th>\n",
       "      <th>customerID</th>\n",
       "      <th>gender</th>\n",
       "      <th>SeniorCitizen</th>\n",
       "      <th>Partner</th>\n",
       "      <th>Dependents</th>\n",
       "      <th>tenure</th>\n",
       "      <th>PhoneService</th>\n",
       "      <th>MultipleLines</th>\n",
       "      <th>InternetService</th>\n",
       "      <th>OnlineSecurity</th>\n",
       "      <th>OnlineBackup</th>\n",
       "      <th>DeviceProtection</th>\n",
       "      <th>TechSupport</th>\n",
       "      <th>StreamingTV</th>\n",
       "      <th>StreamingMovies</th>\n",
       "      <th>Contract</th>\n",
       "      <th>PaperlessBilling</th>\n",
       "      <th>PaymentMethod</th>\n",
       "      <th>MonthlyCharges</th>\n",
       "      <th>TotalCharges</th>\n",
       "      <th>Churn</th>\n",
       "    </tr>\n",
       "  </thead>\n",
       "  <tbody>\n",
       "    <tr>\n",
       "      <th>0</th>\n",
       "      <td>7590-VHVEG</td>\n",
       "      <td>Female</td>\n",
       "      <td>0</td>\n",
       "      <td>Yes</td>\n",
       "      <td>No</td>\n",
       "      <td>1</td>\n",
       "      <td>No</td>\n",
       "      <td>No phone service</td>\n",
       "      <td>DSL</td>\n",
       "      <td>No</td>\n",
       "      <td>Yes</td>\n",
       "      <td>No</td>\n",
       "      <td>No</td>\n",
       "      <td>No</td>\n",
       "      <td>No</td>\n",
       "      <td>Month-to-month</td>\n",
       "      <td>Yes</td>\n",
       "      <td>Electronic check</td>\n",
       "      <td>29.85</td>\n",
       "      <td>29.85</td>\n",
       "      <td>No</td>\n",
       "    </tr>\n",
       "    <tr>\n",
       "      <th>1</th>\n",
       "      <td>5575-GNVDE</td>\n",
       "      <td>Male</td>\n",
       "      <td>0</td>\n",
       "      <td>No</td>\n",
       "      <td>No</td>\n",
       "      <td>34</td>\n",
       "      <td>Yes</td>\n",
       "      <td>No</td>\n",
       "      <td>DSL</td>\n",
       "      <td>Yes</td>\n",
       "      <td>No</td>\n",
       "      <td>Yes</td>\n",
       "      <td>No</td>\n",
       "      <td>No</td>\n",
       "      <td>No</td>\n",
       "      <td>One year</td>\n",
       "      <td>No</td>\n",
       "      <td>Mailed check</td>\n",
       "      <td>56.95</td>\n",
       "      <td>1889.5</td>\n",
       "      <td>No</td>\n",
       "    </tr>\n",
       "    <tr>\n",
       "      <th>2</th>\n",
       "      <td>3668-QPYBK</td>\n",
       "      <td>Male</td>\n",
       "      <td>0</td>\n",
       "      <td>No</td>\n",
       "      <td>No</td>\n",
       "      <td>2</td>\n",
       "      <td>Yes</td>\n",
       "      <td>No</td>\n",
       "      <td>DSL</td>\n",
       "      <td>Yes</td>\n",
       "      <td>Yes</td>\n",
       "      <td>No</td>\n",
       "      <td>No</td>\n",
       "      <td>No</td>\n",
       "      <td>No</td>\n",
       "      <td>Month-to-month</td>\n",
       "      <td>Yes</td>\n",
       "      <td>Mailed check</td>\n",
       "      <td>53.85</td>\n",
       "      <td>108.15</td>\n",
       "      <td>Yes</td>\n",
       "    </tr>\n",
       "    <tr>\n",
       "      <th>3</th>\n",
       "      <td>7795-CFOCW</td>\n",
       "      <td>Male</td>\n",
       "      <td>0</td>\n",
       "      <td>No</td>\n",
       "      <td>No</td>\n",
       "      <td>45</td>\n",
       "      <td>No</td>\n",
       "      <td>No phone service</td>\n",
       "      <td>DSL</td>\n",
       "      <td>Yes</td>\n",
       "      <td>No</td>\n",
       "      <td>Yes</td>\n",
       "      <td>Yes</td>\n",
       "      <td>No</td>\n",
       "      <td>No</td>\n",
       "      <td>One year</td>\n",
       "      <td>No</td>\n",
       "      <td>Bank transfer (automatic)</td>\n",
       "      <td>42.30</td>\n",
       "      <td>1840.75</td>\n",
       "      <td>No</td>\n",
       "    </tr>\n",
       "    <tr>\n",
       "      <th>4</th>\n",
       "      <td>9237-HQITU</td>\n",
       "      <td>Female</td>\n",
       "      <td>0</td>\n",
       "      <td>No</td>\n",
       "      <td>No</td>\n",
       "      <td>2</td>\n",
       "      <td>Yes</td>\n",
       "      <td>No</td>\n",
       "      <td>Fiber optic</td>\n",
       "      <td>No</td>\n",
       "      <td>No</td>\n",
       "      <td>No</td>\n",
       "      <td>No</td>\n",
       "      <td>No</td>\n",
       "      <td>No</td>\n",
       "      <td>Month-to-month</td>\n",
       "      <td>Yes</td>\n",
       "      <td>Electronic check</td>\n",
       "      <td>70.70</td>\n",
       "      <td>151.65</td>\n",
       "      <td>Yes</td>\n",
       "    </tr>\n",
       "  </tbody>\n",
       "</table>\n",
       "</div>"
      ],
      "text/plain": [
       "   customerID  gender  SeniorCitizen Partner Dependents  tenure PhoneService  \\\n",
       "0  7590-VHVEG  Female              0     Yes         No       1           No   \n",
       "1  5575-GNVDE    Male              0      No         No      34          Yes   \n",
       "2  3668-QPYBK    Male              0      No         No       2          Yes   \n",
       "3  7795-CFOCW    Male              0      No         No      45           No   \n",
       "4  9237-HQITU  Female              0      No         No       2          Yes   \n",
       "\n",
       "      MultipleLines InternetService OnlineSecurity OnlineBackup  \\\n",
       "0  No phone service             DSL             No          Yes   \n",
       "1                No             DSL            Yes           No   \n",
       "2                No             DSL            Yes          Yes   \n",
       "3  No phone service             DSL            Yes           No   \n",
       "4                No     Fiber optic             No           No   \n",
       "\n",
       "  DeviceProtection TechSupport StreamingTV StreamingMovies        Contract  \\\n",
       "0               No          No          No              No  Month-to-month   \n",
       "1              Yes          No          No              No        One year   \n",
       "2               No          No          No              No  Month-to-month   \n",
       "3              Yes         Yes          No              No        One year   \n",
       "4               No          No          No              No  Month-to-month   \n",
       "\n",
       "  PaperlessBilling              PaymentMethod  MonthlyCharges TotalCharges  \\\n",
       "0              Yes           Electronic check           29.85        29.85   \n",
       "1               No               Mailed check           56.95       1889.5   \n",
       "2              Yes               Mailed check           53.85       108.15   \n",
       "3               No  Bank transfer (automatic)           42.30      1840.75   \n",
       "4              Yes           Electronic check           70.70       151.65   \n",
       "\n",
       "  Churn  \n",
       "0    No  \n",
       "1    No  \n",
       "2   Yes  \n",
       "3    No  \n",
       "4   Yes  "
      ]
     },
     "execution_count": 18,
     "metadata": {},
     "output_type": "execute_result"
    }
   ],
   "source": [
    "data.head()"
   ]
  },
  {
   "cell_type": "code",
   "execution_count": 19,
   "metadata": {},
   "outputs": [
    {
     "data": {
      "text/plain": [
       "dtype('float64')"
      ]
     },
     "execution_count": 19,
     "metadata": {},
     "output_type": "execute_result"
    }
   ],
   "source": [
    "### Converting the total charge from dtype object to float\n",
    "data['TotalCharges'] = pd.to_numeric(data['TotalCharges'], downcast='integer', errors='coerce')\n",
    "data['TotalCharges'].dtype"
   ]
  },
  {
   "cell_type": "code",
   "execution_count": 20,
   "metadata": {},
   "outputs": [
    {
     "name": "stdout",
     "output_type": "stream",
     "text": [
      "['tenure', 'MonthlyCharges', 'TotalCharges']\n"
     ]
    }
   ],
   "source": [
    "### Since the Data is Skewed\n",
    "numerical_feature = [feature for feature in data.columns if data[feature].dtypes!=\"O\"]\n",
    "numerical_feature.remove('SeniorCitizen')\n",
    "print(numerical_feature)\n",
    "for feature in numerical_feature:\n",
    "    data[feature] = np.log(data[feature])"
   ]
  },
  {
   "cell_type": "code",
   "execution_count": 21,
   "metadata": {},
   "outputs": [],
   "source": [
    "### Handling Rare Categorical Variables\n",
    "categoircal_features.remove(\"TotalCharges\")\n",
    "\n",
    "for feature in categoircal_features:\n",
    "    df = data.copy()\n",
    "    df[\"Churn\"] = np.where((df[\"Churn\"]==\"Yes\"),1,0)\n",
    "    temp = df.groupby(feature)[\"Churn\"].count()/len(df)                              #Collecting the Total Values\n",
    "    temp_df = temp[temp>0.01].index                                                  # Values Greater that .01% index are Noted\n",
    "    data[feature] = np.where(data[feature].isin(temp_df), data[feature], \"Rare_var\") # Replacing rare Variables"
   ]
  },
  {
   "cell_type": "code",
   "execution_count": 22,
   "metadata": {},
   "outputs": [],
   "source": [
    "### Transforming the Categorical Variables into Labels\n",
    "# Lets do with Label Encoding since there is no Cardinality\n",
    "categoircal_features.append(\"Churn\")\n",
    "\n",
    "df = data[categoircal_features]                                                                   \n",
    "\n",
    "data.drop(categoircal_features, axis=1, inplace=True)                                 #Dropping Categorical Vairables\n",
    "\n",
    "from sklearn.preprocessing import LabelEncoder\n",
    "\n",
    "df = df.apply(LabelEncoder().fit_transform)                                         # Transforming the characters to Labels"
   ]
  },
  {
   "cell_type": "code",
   "execution_count": 23,
   "metadata": {},
   "outputs": [
    {
     "data": {
      "text/html": [
       "<div>\n",
       "<style scoped>\n",
       "    .dataframe tbody tr th:only-of-type {\n",
       "        vertical-align: middle;\n",
       "    }\n",
       "\n",
       "    .dataframe tbody tr th {\n",
       "        vertical-align: top;\n",
       "    }\n",
       "\n",
       "    .dataframe thead th {\n",
       "        text-align: right;\n",
       "    }\n",
       "</style>\n",
       "<table border=\"1\" class=\"dataframe\">\n",
       "  <thead>\n",
       "    <tr style=\"text-align: right;\">\n",
       "      <th></th>\n",
       "      <th>customerID</th>\n",
       "      <th>SeniorCitizen</th>\n",
       "      <th>tenure</th>\n",
       "      <th>MonthlyCharges</th>\n",
       "      <th>TotalCharges</th>\n",
       "      <th>gender</th>\n",
       "      <th>Partner</th>\n",
       "      <th>Dependents</th>\n",
       "      <th>PhoneService</th>\n",
       "      <th>MultipleLines</th>\n",
       "      <th>InternetService</th>\n",
       "      <th>OnlineSecurity</th>\n",
       "      <th>OnlineBackup</th>\n",
       "      <th>DeviceProtection</th>\n",
       "      <th>TechSupport</th>\n",
       "      <th>StreamingTV</th>\n",
       "      <th>StreamingMovies</th>\n",
       "      <th>Contract</th>\n",
       "      <th>PaperlessBilling</th>\n",
       "      <th>PaymentMethod</th>\n",
       "      <th>Churn</th>\n",
       "    </tr>\n",
       "  </thead>\n",
       "  <tbody>\n",
       "    <tr>\n",
       "      <th>0</th>\n",
       "      <td>7590-VHVEG</td>\n",
       "      <td>0</td>\n",
       "      <td>0.000000</td>\n",
       "      <td>3.396185</td>\n",
       "      <td>3.396185</td>\n",
       "      <td>0</td>\n",
       "      <td>1</td>\n",
       "      <td>0</td>\n",
       "      <td>0</td>\n",
       "      <td>1</td>\n",
       "      <td>0</td>\n",
       "      <td>0</td>\n",
       "      <td>2</td>\n",
       "      <td>0</td>\n",
       "      <td>0</td>\n",
       "      <td>0</td>\n",
       "      <td>0</td>\n",
       "      <td>0</td>\n",
       "      <td>1</td>\n",
       "      <td>2</td>\n",
       "      <td>0</td>\n",
       "    </tr>\n",
       "    <tr>\n",
       "      <th>1</th>\n",
       "      <td>5575-GNVDE</td>\n",
       "      <td>0</td>\n",
       "      <td>3.526361</td>\n",
       "      <td>4.042174</td>\n",
       "      <td>7.544068</td>\n",
       "      <td>1</td>\n",
       "      <td>0</td>\n",
       "      <td>0</td>\n",
       "      <td>1</td>\n",
       "      <td>0</td>\n",
       "      <td>0</td>\n",
       "      <td>2</td>\n",
       "      <td>0</td>\n",
       "      <td>2</td>\n",
       "      <td>0</td>\n",
       "      <td>0</td>\n",
       "      <td>0</td>\n",
       "      <td>1</td>\n",
       "      <td>0</td>\n",
       "      <td>3</td>\n",
       "      <td>0</td>\n",
       "    </tr>\n",
       "    <tr>\n",
       "      <th>2</th>\n",
       "      <td>3668-QPYBK</td>\n",
       "      <td>0</td>\n",
       "      <td>0.693147</td>\n",
       "      <td>3.986202</td>\n",
       "      <td>4.683519</td>\n",
       "      <td>1</td>\n",
       "      <td>0</td>\n",
       "      <td>0</td>\n",
       "      <td>1</td>\n",
       "      <td>0</td>\n",
       "      <td>0</td>\n",
       "      <td>2</td>\n",
       "      <td>2</td>\n",
       "      <td>0</td>\n",
       "      <td>0</td>\n",
       "      <td>0</td>\n",
       "      <td>0</td>\n",
       "      <td>0</td>\n",
       "      <td>1</td>\n",
       "      <td>3</td>\n",
       "      <td>1</td>\n",
       "    </tr>\n",
       "    <tr>\n",
       "      <th>3</th>\n",
       "      <td>7795-CFOCW</td>\n",
       "      <td>0</td>\n",
       "      <td>3.806662</td>\n",
       "      <td>3.744787</td>\n",
       "      <td>7.517928</td>\n",
       "      <td>1</td>\n",
       "      <td>0</td>\n",
       "      <td>0</td>\n",
       "      <td>0</td>\n",
       "      <td>1</td>\n",
       "      <td>0</td>\n",
       "      <td>2</td>\n",
       "      <td>0</td>\n",
       "      <td>2</td>\n",
       "      <td>2</td>\n",
       "      <td>0</td>\n",
       "      <td>0</td>\n",
       "      <td>1</td>\n",
       "      <td>0</td>\n",
       "      <td>0</td>\n",
       "      <td>0</td>\n",
       "    </tr>\n",
       "    <tr>\n",
       "      <th>4</th>\n",
       "      <td>9237-HQITU</td>\n",
       "      <td>0</td>\n",
       "      <td>0.693147</td>\n",
       "      <td>4.258446</td>\n",
       "      <td>5.021575</td>\n",
       "      <td>0</td>\n",
       "      <td>0</td>\n",
       "      <td>0</td>\n",
       "      <td>1</td>\n",
       "      <td>0</td>\n",
       "      <td>1</td>\n",
       "      <td>0</td>\n",
       "      <td>0</td>\n",
       "      <td>0</td>\n",
       "      <td>0</td>\n",
       "      <td>0</td>\n",
       "      <td>0</td>\n",
       "      <td>0</td>\n",
       "      <td>1</td>\n",
       "      <td>2</td>\n",
       "      <td>1</td>\n",
       "    </tr>\n",
       "  </tbody>\n",
       "</table>\n",
       "</div>"
      ],
      "text/plain": [
       "   customerID  SeniorCitizen    tenure  MonthlyCharges  TotalCharges  gender  \\\n",
       "0  7590-VHVEG              0  0.000000        3.396185      3.396185       0   \n",
       "1  5575-GNVDE              0  3.526361        4.042174      7.544068       1   \n",
       "2  3668-QPYBK              0  0.693147        3.986202      4.683519       1   \n",
       "3  7795-CFOCW              0  3.806662        3.744787      7.517928       1   \n",
       "4  9237-HQITU              0  0.693147        4.258446      5.021575       0   \n",
       "\n",
       "   Partner  Dependents  PhoneService  MultipleLines  InternetService  \\\n",
       "0        1           0             0              1                0   \n",
       "1        0           0             1              0                0   \n",
       "2        0           0             1              0                0   \n",
       "3        0           0             0              1                0   \n",
       "4        0           0             1              0                1   \n",
       "\n",
       "   OnlineSecurity  OnlineBackup  DeviceProtection  TechSupport  StreamingTV  \\\n",
       "0               0             2                 0            0            0   \n",
       "1               2             0                 2            0            0   \n",
       "2               2             2                 0            0            0   \n",
       "3               2             0                 2            2            0   \n",
       "4               0             0                 0            0            0   \n",
       "\n",
       "   StreamingMovies  Contract  PaperlessBilling  PaymentMethod  Churn  \n",
       "0                0         0                 1              2      0  \n",
       "1                0         1                 0              3      0  \n",
       "2                0         0                 1              3      1  \n",
       "3                0         1                 0              0      0  \n",
       "4                0         0                 1              2      1  "
      ]
     },
     "execution_count": 23,
     "metadata": {},
     "output_type": "execute_result"
    }
   ],
   "source": [
    "### Concating the Whole Dataset into a Single Data\n",
    "data = pd.concat([data,df], axis=1)\n",
    "data.head()"
   ]
  },
  {
   "cell_type": "code",
   "execution_count": 24,
   "metadata": {},
   "outputs": [
    {
     "data": {
      "text/plain": [
       "['SeniorCitizen',\n",
       " 'tenure',\n",
       " 'MonthlyCharges',\n",
       " 'TotalCharges',\n",
       " 'gender',\n",
       " 'Partner',\n",
       " 'Dependents',\n",
       " 'PhoneService',\n",
       " 'MultipleLines',\n",
       " 'InternetService',\n",
       " 'OnlineSecurity',\n",
       " 'OnlineBackup',\n",
       " 'DeviceProtection',\n",
       " 'TechSupport',\n",
       " 'StreamingTV',\n",
       " 'StreamingMovies',\n",
       " 'Contract',\n",
       " 'PaperlessBilling',\n",
       " 'PaymentMethod']"
      ]
     },
     "execution_count": 24,
     "metadata": {},
     "output_type": "execute_result"
    }
   ],
   "source": [
    "### Scaling the Value \n",
    "from sklearn.preprocessing import MinMaxScaler\n",
    "\n",
    "scaling_feature = [feature for feature in data.columns if feature not in [\"customerID\", \"Churn\"]]\n",
    "scaling_feature"
   ]
  },
  {
   "cell_type": "code",
   "execution_count": 25,
   "metadata": {},
   "outputs": [],
   "source": [
    "# Since the Columns Tenure has infinte Values in it\n",
    "data.replace([np.inf, -np.inf], 0, inplace=True)       # Replacing inf values with 0"
   ]
  },
  {
   "cell_type": "code",
   "execution_count": 26,
   "metadata": {},
   "outputs": [
    {
     "data": {
      "text/plain": [
       "MinMaxScaler()"
      ]
     },
     "execution_count": 26,
     "metadata": {},
     "output_type": "execute_result"
    }
   ],
   "source": [
    "### fitting the values to Scaler function\n",
    "scaler=MinMaxScaler()\n",
    "scaler.fit(data[scaling_feature])"
   ]
  },
  {
   "cell_type": "code",
   "execution_count": 27,
   "metadata": {},
   "outputs": [
    {
     "data": {
      "text/html": [
       "<div>\n",
       "<style scoped>\n",
       "    .dataframe tbody tr th:only-of-type {\n",
       "        vertical-align: middle;\n",
       "    }\n",
       "\n",
       "    .dataframe tbody tr th {\n",
       "        vertical-align: top;\n",
       "    }\n",
       "\n",
       "    .dataframe thead th {\n",
       "        text-align: right;\n",
       "    }\n",
       "</style>\n",
       "<table border=\"1\" class=\"dataframe\">\n",
       "  <thead>\n",
       "    <tr style=\"text-align: right;\">\n",
       "      <th></th>\n",
       "      <th>customerID</th>\n",
       "      <th>Churn</th>\n",
       "      <th>SeniorCitizen</th>\n",
       "      <th>tenure</th>\n",
       "      <th>MonthlyCharges</th>\n",
       "      <th>TotalCharges</th>\n",
       "      <th>gender</th>\n",
       "      <th>Partner</th>\n",
       "      <th>Dependents</th>\n",
       "      <th>PhoneService</th>\n",
       "      <th>MultipleLines</th>\n",
       "      <th>InternetService</th>\n",
       "      <th>OnlineSecurity</th>\n",
       "      <th>OnlineBackup</th>\n",
       "      <th>DeviceProtection</th>\n",
       "      <th>TechSupport</th>\n",
       "      <th>StreamingTV</th>\n",
       "      <th>StreamingMovies</th>\n",
       "      <th>Contract</th>\n",
       "      <th>PaperlessBilling</th>\n",
       "      <th>PaymentMethod</th>\n",
       "    </tr>\n",
       "  </thead>\n",
       "  <tbody>\n",
       "    <tr>\n",
       "      <th>0</th>\n",
       "      <td>7590-VHVEG</td>\n",
       "      <td>0</td>\n",
       "      <td>0.0</td>\n",
       "      <td>0.000000</td>\n",
       "      <td>0.262711</td>\n",
       "      <td>0.075353</td>\n",
       "      <td>0.0</td>\n",
       "      <td>1.0</td>\n",
       "      <td>0.0</td>\n",
       "      <td>0.0</td>\n",
       "      <td>0.5</td>\n",
       "      <td>0.0</td>\n",
       "      <td>0.0</td>\n",
       "      <td>1.0</td>\n",
       "      <td>0.0</td>\n",
       "      <td>0.0</td>\n",
       "      <td>0.0</td>\n",
       "      <td>0.0</td>\n",
       "      <td>0.0</td>\n",
       "      <td>1.0</td>\n",
       "      <td>0.666667</td>\n",
       "    </tr>\n",
       "    <tr>\n",
       "      <th>1</th>\n",
       "      <td>5575-GNVDE</td>\n",
       "      <td>0</td>\n",
       "      <td>0.0</td>\n",
       "      <td>0.824558</td>\n",
       "      <td>0.607633</td>\n",
       "      <td>0.751403</td>\n",
       "      <td>1.0</td>\n",
       "      <td>0.0</td>\n",
       "      <td>0.0</td>\n",
       "      <td>1.0</td>\n",
       "      <td>0.0</td>\n",
       "      <td>0.0</td>\n",
       "      <td>1.0</td>\n",
       "      <td>0.0</td>\n",
       "      <td>1.0</td>\n",
       "      <td>0.0</td>\n",
       "      <td>0.0</td>\n",
       "      <td>0.0</td>\n",
       "      <td>0.5</td>\n",
       "      <td>0.0</td>\n",
       "      <td>1.000000</td>\n",
       "    </tr>\n",
       "    <tr>\n",
       "      <th>2</th>\n",
       "      <td>3668-QPYBK</td>\n",
       "      <td>1</td>\n",
       "      <td>0.0</td>\n",
       "      <td>0.162077</td>\n",
       "      <td>0.577747</td>\n",
       "      <td>0.285172</td>\n",
       "      <td>1.0</td>\n",
       "      <td>0.0</td>\n",
       "      <td>0.0</td>\n",
       "      <td>1.0</td>\n",
       "      <td>0.0</td>\n",
       "      <td>0.0</td>\n",
       "      <td>1.0</td>\n",
       "      <td>1.0</td>\n",
       "      <td>0.0</td>\n",
       "      <td>0.0</td>\n",
       "      <td>0.0</td>\n",
       "      <td>0.0</td>\n",
       "      <td>0.0</td>\n",
       "      <td>1.0</td>\n",
       "      <td>1.000000</td>\n",
       "    </tr>\n",
       "    <tr>\n",
       "      <th>3</th>\n",
       "      <td>7795-CFOCW</td>\n",
       "      <td>0</td>\n",
       "      <td>0.0</td>\n",
       "      <td>0.890100</td>\n",
       "      <td>0.448845</td>\n",
       "      <td>0.747142</td>\n",
       "      <td>1.0</td>\n",
       "      <td>0.0</td>\n",
       "      <td>0.0</td>\n",
       "      <td>0.0</td>\n",
       "      <td>0.5</td>\n",
       "      <td>0.0</td>\n",
       "      <td>1.0</td>\n",
       "      <td>0.0</td>\n",
       "      <td>1.0</td>\n",
       "      <td>1.0</td>\n",
       "      <td>0.0</td>\n",
       "      <td>0.0</td>\n",
       "      <td>0.5</td>\n",
       "      <td>0.0</td>\n",
       "      <td>0.000000</td>\n",
       "    </tr>\n",
       "    <tr>\n",
       "      <th>4</th>\n",
       "      <td>9237-HQITU</td>\n",
       "      <td>1</td>\n",
       "      <td>0.0</td>\n",
       "      <td>0.162077</td>\n",
       "      <td>0.723110</td>\n",
       "      <td>0.340270</td>\n",
       "      <td>0.0</td>\n",
       "      <td>0.0</td>\n",
       "      <td>0.0</td>\n",
       "      <td>1.0</td>\n",
       "      <td>0.0</td>\n",
       "      <td>0.5</td>\n",
       "      <td>0.0</td>\n",
       "      <td>0.0</td>\n",
       "      <td>0.0</td>\n",
       "      <td>0.0</td>\n",
       "      <td>0.0</td>\n",
       "      <td>0.0</td>\n",
       "      <td>0.0</td>\n",
       "      <td>1.0</td>\n",
       "      <td>0.666667</td>\n",
       "    </tr>\n",
       "  </tbody>\n",
       "</table>\n",
       "</div>"
      ],
      "text/plain": [
       "   customerID  Churn  SeniorCitizen    tenure  MonthlyCharges  TotalCharges  \\\n",
       "0  7590-VHVEG      0            0.0  0.000000        0.262711      0.075353   \n",
       "1  5575-GNVDE      0            0.0  0.824558        0.607633      0.751403   \n",
       "2  3668-QPYBK      1            0.0  0.162077        0.577747      0.285172   \n",
       "3  7795-CFOCW      0            0.0  0.890100        0.448845      0.747142   \n",
       "4  9237-HQITU      1            0.0  0.162077        0.723110      0.340270   \n",
       "\n",
       "   gender  Partner  Dependents  PhoneService  MultipleLines  InternetService  \\\n",
       "0     0.0      1.0         0.0           0.0            0.5              0.0   \n",
       "1     1.0      0.0         0.0           1.0            0.0              0.0   \n",
       "2     1.0      0.0         0.0           1.0            0.0              0.0   \n",
       "3     1.0      0.0         0.0           0.0            0.5              0.0   \n",
       "4     0.0      0.0         0.0           1.0            0.0              0.5   \n",
       "\n",
       "   OnlineSecurity  OnlineBackup  DeviceProtection  TechSupport  StreamingTV  \\\n",
       "0             0.0           1.0               0.0          0.0          0.0   \n",
       "1             1.0           0.0               1.0          0.0          0.0   \n",
       "2             1.0           1.0               0.0          0.0          0.0   \n",
       "3             1.0           0.0               1.0          1.0          0.0   \n",
       "4             0.0           0.0               0.0          0.0          0.0   \n",
       "\n",
       "   StreamingMovies  Contract  PaperlessBilling  PaymentMethod  \n",
       "0              0.0       0.0               1.0       0.666667  \n",
       "1              0.0       0.5               0.0       1.000000  \n",
       "2              0.0       0.0               1.0       1.000000  \n",
       "3              0.0       0.5               0.0       0.000000  \n",
       "4              0.0       0.0               1.0       0.666667  "
      ]
     },
     "execution_count": 27,
     "metadata": {},
     "output_type": "execute_result"
    }
   ],
   "source": [
    "df = pd.concat([data[[\"customerID\", \"Churn\"]].reset_index(drop=True),\n",
    "                    pd.DataFrame(scaler.transform(data[scaling_feature]), columns=scaling_feature)],\n",
    "                    axis=1)\n",
    "df.head()"
   ]
  },
  {
   "cell_type": "code",
   "execution_count": 28,
   "metadata": {},
   "outputs": [
    {
     "data": {
      "text/html": [
       "<div>\n",
       "<style scoped>\n",
       "    .dataframe tbody tr th:only-of-type {\n",
       "        vertical-align: middle;\n",
       "    }\n",
       "\n",
       "    .dataframe tbody tr th {\n",
       "        vertical-align: top;\n",
       "    }\n",
       "\n",
       "    .dataframe thead th {\n",
       "        text-align: right;\n",
       "    }\n",
       "</style>\n",
       "<table border=\"1\" class=\"dataframe\">\n",
       "  <thead>\n",
       "    <tr style=\"text-align: right;\">\n",
       "      <th></th>\n",
       "      <th>customerID</th>\n",
       "      <th>SeniorCitizen</th>\n",
       "      <th>tenure</th>\n",
       "      <th>MonthlyCharges</th>\n",
       "      <th>TotalCharges</th>\n",
       "      <th>gender</th>\n",
       "      <th>Partner</th>\n",
       "      <th>Dependents</th>\n",
       "      <th>PhoneService</th>\n",
       "      <th>MultipleLines</th>\n",
       "      <th>InternetService</th>\n",
       "      <th>OnlineSecurity</th>\n",
       "      <th>OnlineBackup</th>\n",
       "      <th>DeviceProtection</th>\n",
       "      <th>TechSupport</th>\n",
       "      <th>StreamingTV</th>\n",
       "      <th>StreamingMovies</th>\n",
       "      <th>Contract</th>\n",
       "      <th>PaperlessBilling</th>\n",
       "      <th>PaymentMethod</th>\n",
       "      <th>Churn</th>\n",
       "    </tr>\n",
       "  </thead>\n",
       "  <tbody>\n",
       "    <tr>\n",
       "      <th>0</th>\n",
       "      <td>7590-VHVEG</td>\n",
       "      <td>0.0</td>\n",
       "      <td>0.000000</td>\n",
       "      <td>0.262711</td>\n",
       "      <td>0.075353</td>\n",
       "      <td>0.0</td>\n",
       "      <td>1.0</td>\n",
       "      <td>0.0</td>\n",
       "      <td>0.0</td>\n",
       "      <td>0.5</td>\n",
       "      <td>0.0</td>\n",
       "      <td>0.0</td>\n",
       "      <td>1.0</td>\n",
       "      <td>0.0</td>\n",
       "      <td>0.0</td>\n",
       "      <td>0.0</td>\n",
       "      <td>0.0</td>\n",
       "      <td>0.0</td>\n",
       "      <td>1.0</td>\n",
       "      <td>0.666667</td>\n",
       "      <td>0</td>\n",
       "    </tr>\n",
       "    <tr>\n",
       "      <th>1</th>\n",
       "      <td>5575-GNVDE</td>\n",
       "      <td>0.0</td>\n",
       "      <td>0.824558</td>\n",
       "      <td>0.607633</td>\n",
       "      <td>0.751403</td>\n",
       "      <td>1.0</td>\n",
       "      <td>0.0</td>\n",
       "      <td>0.0</td>\n",
       "      <td>1.0</td>\n",
       "      <td>0.0</td>\n",
       "      <td>0.0</td>\n",
       "      <td>1.0</td>\n",
       "      <td>0.0</td>\n",
       "      <td>1.0</td>\n",
       "      <td>0.0</td>\n",
       "      <td>0.0</td>\n",
       "      <td>0.0</td>\n",
       "      <td>0.5</td>\n",
       "      <td>0.0</td>\n",
       "      <td>1.000000</td>\n",
       "      <td>0</td>\n",
       "    </tr>\n",
       "    <tr>\n",
       "      <th>2</th>\n",
       "      <td>3668-QPYBK</td>\n",
       "      <td>0.0</td>\n",
       "      <td>0.162077</td>\n",
       "      <td>0.577747</td>\n",
       "      <td>0.285172</td>\n",
       "      <td>1.0</td>\n",
       "      <td>0.0</td>\n",
       "      <td>0.0</td>\n",
       "      <td>1.0</td>\n",
       "      <td>0.0</td>\n",
       "      <td>0.0</td>\n",
       "      <td>1.0</td>\n",
       "      <td>1.0</td>\n",
       "      <td>0.0</td>\n",
       "      <td>0.0</td>\n",
       "      <td>0.0</td>\n",
       "      <td>0.0</td>\n",
       "      <td>0.0</td>\n",
       "      <td>1.0</td>\n",
       "      <td>1.000000</td>\n",
       "      <td>1</td>\n",
       "    </tr>\n",
       "    <tr>\n",
       "      <th>3</th>\n",
       "      <td>7795-CFOCW</td>\n",
       "      <td>0.0</td>\n",
       "      <td>0.890100</td>\n",
       "      <td>0.448845</td>\n",
       "      <td>0.747142</td>\n",
       "      <td>1.0</td>\n",
       "      <td>0.0</td>\n",
       "      <td>0.0</td>\n",
       "      <td>0.0</td>\n",
       "      <td>0.5</td>\n",
       "      <td>0.0</td>\n",
       "      <td>1.0</td>\n",
       "      <td>0.0</td>\n",
       "      <td>1.0</td>\n",
       "      <td>1.0</td>\n",
       "      <td>0.0</td>\n",
       "      <td>0.0</td>\n",
       "      <td>0.5</td>\n",
       "      <td>0.0</td>\n",
       "      <td>0.000000</td>\n",
       "      <td>0</td>\n",
       "    </tr>\n",
       "    <tr>\n",
       "      <th>4</th>\n",
       "      <td>9237-HQITU</td>\n",
       "      <td>0.0</td>\n",
       "      <td>0.162077</td>\n",
       "      <td>0.723110</td>\n",
       "      <td>0.340270</td>\n",
       "      <td>0.0</td>\n",
       "      <td>0.0</td>\n",
       "      <td>0.0</td>\n",
       "      <td>1.0</td>\n",
       "      <td>0.0</td>\n",
       "      <td>0.5</td>\n",
       "      <td>0.0</td>\n",
       "      <td>0.0</td>\n",
       "      <td>0.0</td>\n",
       "      <td>0.0</td>\n",
       "      <td>0.0</td>\n",
       "      <td>0.0</td>\n",
       "      <td>0.0</td>\n",
       "      <td>1.0</td>\n",
       "      <td>0.666667</td>\n",
       "      <td>1</td>\n",
       "    </tr>\n",
       "  </tbody>\n",
       "</table>\n",
       "</div>"
      ],
      "text/plain": [
       "   customerID  SeniorCitizen    tenure  MonthlyCharges  TotalCharges  gender  \\\n",
       "0  7590-VHVEG            0.0  0.000000        0.262711      0.075353     0.0   \n",
       "1  5575-GNVDE            0.0  0.824558        0.607633      0.751403     1.0   \n",
       "2  3668-QPYBK            0.0  0.162077        0.577747      0.285172     1.0   \n",
       "3  7795-CFOCW            0.0  0.890100        0.448845      0.747142     1.0   \n",
       "4  9237-HQITU            0.0  0.162077        0.723110      0.340270     0.0   \n",
       "\n",
       "   Partner  Dependents  PhoneService  MultipleLines  InternetService  \\\n",
       "0      1.0         0.0           0.0            0.5              0.0   \n",
       "1      0.0         0.0           1.0            0.0              0.0   \n",
       "2      0.0         0.0           1.0            0.0              0.0   \n",
       "3      0.0         0.0           0.0            0.5              0.0   \n",
       "4      0.0         0.0           1.0            0.0              0.5   \n",
       "\n",
       "   OnlineSecurity  OnlineBackup  DeviceProtection  TechSupport  StreamingTV  \\\n",
       "0             0.0           1.0               0.0          0.0          0.0   \n",
       "1             1.0           0.0               1.0          0.0          0.0   \n",
       "2             1.0           1.0               0.0          0.0          0.0   \n",
       "3             1.0           0.0               1.0          1.0          0.0   \n",
       "4             0.0           0.0               0.0          0.0          0.0   \n",
       "\n",
       "   StreamingMovies  Contract  PaperlessBilling  PaymentMethod  Churn  \n",
       "0              0.0       0.0               1.0       0.666667      0  \n",
       "1              0.0       0.5               0.0       1.000000      0  \n",
       "2              0.0       0.0               1.0       1.000000      1  \n",
       "3              0.0       0.5               0.0       0.000000      0  \n",
       "4              0.0       0.0               1.0       0.666667      1  "
      ]
     },
     "execution_count": 28,
     "metadata": {},
     "output_type": "execute_result"
    }
   ],
   "source": [
    "df=df[[feature for feature in data.columns]]\n",
    "df.head()"
   ]
  },
  {
   "cell_type": "code",
   "execution_count": 29,
   "metadata": {},
   "outputs": [],
   "source": [
    "### Dependent and Independent Variables\n",
    "x = df.drop([\"customerID\",\"Churn\"], axis=1)\n",
    "y = df[\"Churn\"]"
   ]
  },
  {
   "cell_type": "code",
   "execution_count": 30,
   "metadata": {},
   "outputs": [
    {
     "data": {
      "text/html": [
       "<div>\n",
       "<style scoped>\n",
       "    .dataframe tbody tr th:only-of-type {\n",
       "        vertical-align: middle;\n",
       "    }\n",
       "\n",
       "    .dataframe tbody tr th {\n",
       "        vertical-align: top;\n",
       "    }\n",
       "\n",
       "    .dataframe thead th {\n",
       "        text-align: right;\n",
       "    }\n",
       "</style>\n",
       "<table border=\"1\" class=\"dataframe\">\n",
       "  <thead>\n",
       "    <tr style=\"text-align: right;\">\n",
       "      <th></th>\n",
       "      <th>SeniorCitizen</th>\n",
       "      <th>tenure</th>\n",
       "      <th>MonthlyCharges</th>\n",
       "      <th>TotalCharges</th>\n",
       "      <th>gender</th>\n",
       "      <th>Partner</th>\n",
       "      <th>Dependents</th>\n",
       "      <th>PhoneService</th>\n",
       "      <th>MultipleLines</th>\n",
       "      <th>InternetService</th>\n",
       "      <th>OnlineSecurity</th>\n",
       "      <th>OnlineBackup</th>\n",
       "      <th>DeviceProtection</th>\n",
       "      <th>TechSupport</th>\n",
       "      <th>StreamingTV</th>\n",
       "      <th>StreamingMovies</th>\n",
       "      <th>Contract</th>\n",
       "      <th>PaperlessBilling</th>\n",
       "      <th>PaymentMethod</th>\n",
       "    </tr>\n",
       "  </thead>\n",
       "  <tbody>\n",
       "    <tr>\n",
       "      <th>0</th>\n",
       "      <td>0.0</td>\n",
       "      <td>0.000000</td>\n",
       "      <td>0.262711</td>\n",
       "      <td>0.075353</td>\n",
       "      <td>0.0</td>\n",
       "      <td>1.0</td>\n",
       "      <td>0.0</td>\n",
       "      <td>0.0</td>\n",
       "      <td>0.5</td>\n",
       "      <td>0.0</td>\n",
       "      <td>0.0</td>\n",
       "      <td>1.0</td>\n",
       "      <td>0.0</td>\n",
       "      <td>0.0</td>\n",
       "      <td>0.0</td>\n",
       "      <td>0.0</td>\n",
       "      <td>0.0</td>\n",
       "      <td>1.0</td>\n",
       "      <td>0.666667</td>\n",
       "    </tr>\n",
       "    <tr>\n",
       "      <th>1</th>\n",
       "      <td>0.0</td>\n",
       "      <td>0.824558</td>\n",
       "      <td>0.607633</td>\n",
       "      <td>0.751403</td>\n",
       "      <td>1.0</td>\n",
       "      <td>0.0</td>\n",
       "      <td>0.0</td>\n",
       "      <td>1.0</td>\n",
       "      <td>0.0</td>\n",
       "      <td>0.0</td>\n",
       "      <td>1.0</td>\n",
       "      <td>0.0</td>\n",
       "      <td>1.0</td>\n",
       "      <td>0.0</td>\n",
       "      <td>0.0</td>\n",
       "      <td>0.0</td>\n",
       "      <td>0.5</td>\n",
       "      <td>0.0</td>\n",
       "      <td>1.000000</td>\n",
       "    </tr>\n",
       "    <tr>\n",
       "      <th>2</th>\n",
       "      <td>0.0</td>\n",
       "      <td>0.162077</td>\n",
       "      <td>0.577747</td>\n",
       "      <td>0.285172</td>\n",
       "      <td>1.0</td>\n",
       "      <td>0.0</td>\n",
       "      <td>0.0</td>\n",
       "      <td>1.0</td>\n",
       "      <td>0.0</td>\n",
       "      <td>0.0</td>\n",
       "      <td>1.0</td>\n",
       "      <td>1.0</td>\n",
       "      <td>0.0</td>\n",
       "      <td>0.0</td>\n",
       "      <td>0.0</td>\n",
       "      <td>0.0</td>\n",
       "      <td>0.0</td>\n",
       "      <td>1.0</td>\n",
       "      <td>1.000000</td>\n",
       "    </tr>\n",
       "    <tr>\n",
       "      <th>3</th>\n",
       "      <td>0.0</td>\n",
       "      <td>0.890100</td>\n",
       "      <td>0.448845</td>\n",
       "      <td>0.747142</td>\n",
       "      <td>1.0</td>\n",
       "      <td>0.0</td>\n",
       "      <td>0.0</td>\n",
       "      <td>0.0</td>\n",
       "      <td>0.5</td>\n",
       "      <td>0.0</td>\n",
       "      <td>1.0</td>\n",
       "      <td>0.0</td>\n",
       "      <td>1.0</td>\n",
       "      <td>1.0</td>\n",
       "      <td>0.0</td>\n",
       "      <td>0.0</td>\n",
       "      <td>0.5</td>\n",
       "      <td>0.0</td>\n",
       "      <td>0.000000</td>\n",
       "    </tr>\n",
       "    <tr>\n",
       "      <th>4</th>\n",
       "      <td>0.0</td>\n",
       "      <td>0.162077</td>\n",
       "      <td>0.723110</td>\n",
       "      <td>0.340270</td>\n",
       "      <td>0.0</td>\n",
       "      <td>0.0</td>\n",
       "      <td>0.0</td>\n",
       "      <td>1.0</td>\n",
       "      <td>0.0</td>\n",
       "      <td>0.5</td>\n",
       "      <td>0.0</td>\n",
       "      <td>0.0</td>\n",
       "      <td>0.0</td>\n",
       "      <td>0.0</td>\n",
       "      <td>0.0</td>\n",
       "      <td>0.0</td>\n",
       "      <td>0.0</td>\n",
       "      <td>1.0</td>\n",
       "      <td>0.666667</td>\n",
       "    </tr>\n",
       "  </tbody>\n",
       "</table>\n",
       "</div>"
      ],
      "text/plain": [
       "   SeniorCitizen    tenure  MonthlyCharges  TotalCharges  gender  Partner  \\\n",
       "0            0.0  0.000000        0.262711      0.075353     0.0      1.0   \n",
       "1            0.0  0.824558        0.607633      0.751403     1.0      0.0   \n",
       "2            0.0  0.162077        0.577747      0.285172     1.0      0.0   \n",
       "3            0.0  0.890100        0.448845      0.747142     1.0      0.0   \n",
       "4            0.0  0.162077        0.723110      0.340270     0.0      0.0   \n",
       "\n",
       "   Dependents  PhoneService  MultipleLines  InternetService  OnlineSecurity  \\\n",
       "0         0.0           0.0            0.5              0.0             0.0   \n",
       "1         0.0           1.0            0.0              0.0             1.0   \n",
       "2         0.0           1.0            0.0              0.0             1.0   \n",
       "3         0.0           0.0            0.5              0.0             1.0   \n",
       "4         0.0           1.0            0.0              0.5             0.0   \n",
       "\n",
       "   OnlineBackup  DeviceProtection  TechSupport  StreamingTV  StreamingMovies  \\\n",
       "0           1.0               0.0          0.0          0.0              0.0   \n",
       "1           0.0               1.0          0.0          0.0              0.0   \n",
       "2           1.0               0.0          0.0          0.0              0.0   \n",
       "3           0.0               1.0          1.0          0.0              0.0   \n",
       "4           0.0               0.0          0.0          0.0              0.0   \n",
       "\n",
       "   Contract  PaperlessBilling  PaymentMethod  \n",
       "0       0.0               1.0       0.666667  \n",
       "1       0.5               0.0       1.000000  \n",
       "2       0.0               1.0       1.000000  \n",
       "3       0.5               0.0       0.000000  \n",
       "4       0.0               1.0       0.666667  "
      ]
     },
     "execution_count": 30,
     "metadata": {},
     "output_type": "execute_result"
    }
   ],
   "source": [
    "x.head()"
   ]
  },
  {
   "cell_type": "code",
   "execution_count": 31,
   "metadata": {},
   "outputs": [],
   "source": [
    "x.fillna(0,inplace=True)"
   ]
  },
  {
   "cell_type": "code",
   "execution_count": 32,
   "metadata": {},
   "outputs": [
    {
     "data": {
      "text/html": [
       "<div>\n",
       "<style scoped>\n",
       "    .dataframe tbody tr th:only-of-type {\n",
       "        vertical-align: middle;\n",
       "    }\n",
       "\n",
       "    .dataframe tbody tr th {\n",
       "        vertical-align: top;\n",
       "    }\n",
       "\n",
       "    .dataframe thead th {\n",
       "        text-align: right;\n",
       "    }\n",
       "</style>\n",
       "<table border=\"1\" class=\"dataframe\">\n",
       "  <thead>\n",
       "    <tr style=\"text-align: right;\">\n",
       "      <th></th>\n",
       "      <th>SeniorCitizen</th>\n",
       "      <th>tenure</th>\n",
       "      <th>MonthlyCharges</th>\n",
       "      <th>TotalCharges</th>\n",
       "      <th>gender</th>\n",
       "      <th>Partner</th>\n",
       "      <th>Dependents</th>\n",
       "      <th>PhoneService</th>\n",
       "      <th>MultipleLines</th>\n",
       "      <th>InternetService</th>\n",
       "      <th>OnlineSecurity</th>\n",
       "      <th>OnlineBackup</th>\n",
       "      <th>DeviceProtection</th>\n",
       "      <th>TechSupport</th>\n",
       "      <th>StreamingTV</th>\n",
       "      <th>StreamingMovies</th>\n",
       "      <th>Contract</th>\n",
       "      <th>PaperlessBilling</th>\n",
       "      <th>PaymentMethod</th>\n",
       "    </tr>\n",
       "  </thead>\n",
       "  <tbody>\n",
       "    <tr>\n",
       "      <th>0</th>\n",
       "      <td>0.0</td>\n",
       "      <td>0.000000</td>\n",
       "      <td>0.262711</td>\n",
       "      <td>0.075353</td>\n",
       "      <td>0.0</td>\n",
       "      <td>1.0</td>\n",
       "      <td>0.0</td>\n",
       "      <td>0.0</td>\n",
       "      <td>0.5</td>\n",
       "      <td>0.0</td>\n",
       "      <td>0.0</td>\n",
       "      <td>1.0</td>\n",
       "      <td>0.0</td>\n",
       "      <td>0.0</td>\n",
       "      <td>0.0</td>\n",
       "      <td>0.0</td>\n",
       "      <td>0.0</td>\n",
       "      <td>1.0</td>\n",
       "      <td>0.666667</td>\n",
       "    </tr>\n",
       "    <tr>\n",
       "      <th>1</th>\n",
       "      <td>0.0</td>\n",
       "      <td>0.824558</td>\n",
       "      <td>0.607633</td>\n",
       "      <td>0.751403</td>\n",
       "      <td>1.0</td>\n",
       "      <td>0.0</td>\n",
       "      <td>0.0</td>\n",
       "      <td>1.0</td>\n",
       "      <td>0.0</td>\n",
       "      <td>0.0</td>\n",
       "      <td>1.0</td>\n",
       "      <td>0.0</td>\n",
       "      <td>1.0</td>\n",
       "      <td>0.0</td>\n",
       "      <td>0.0</td>\n",
       "      <td>0.0</td>\n",
       "      <td>0.5</td>\n",
       "      <td>0.0</td>\n",
       "      <td>1.000000</td>\n",
       "    </tr>\n",
       "    <tr>\n",
       "      <th>2</th>\n",
       "      <td>0.0</td>\n",
       "      <td>0.162077</td>\n",
       "      <td>0.577747</td>\n",
       "      <td>0.285172</td>\n",
       "      <td>1.0</td>\n",
       "      <td>0.0</td>\n",
       "      <td>0.0</td>\n",
       "      <td>1.0</td>\n",
       "      <td>0.0</td>\n",
       "      <td>0.0</td>\n",
       "      <td>1.0</td>\n",
       "      <td>1.0</td>\n",
       "      <td>0.0</td>\n",
       "      <td>0.0</td>\n",
       "      <td>0.0</td>\n",
       "      <td>0.0</td>\n",
       "      <td>0.0</td>\n",
       "      <td>1.0</td>\n",
       "      <td>1.000000</td>\n",
       "    </tr>\n",
       "    <tr>\n",
       "      <th>3</th>\n",
       "      <td>0.0</td>\n",
       "      <td>0.890100</td>\n",
       "      <td>0.448845</td>\n",
       "      <td>0.747142</td>\n",
       "      <td>1.0</td>\n",
       "      <td>0.0</td>\n",
       "      <td>0.0</td>\n",
       "      <td>0.0</td>\n",
       "      <td>0.5</td>\n",
       "      <td>0.0</td>\n",
       "      <td>1.0</td>\n",
       "      <td>0.0</td>\n",
       "      <td>1.0</td>\n",
       "      <td>1.0</td>\n",
       "      <td>0.0</td>\n",
       "      <td>0.0</td>\n",
       "      <td>0.5</td>\n",
       "      <td>0.0</td>\n",
       "      <td>0.000000</td>\n",
       "    </tr>\n",
       "    <tr>\n",
       "      <th>4</th>\n",
       "      <td>0.0</td>\n",
       "      <td>0.162077</td>\n",
       "      <td>0.723110</td>\n",
       "      <td>0.340270</td>\n",
       "      <td>0.0</td>\n",
       "      <td>0.0</td>\n",
       "      <td>0.0</td>\n",
       "      <td>1.0</td>\n",
       "      <td>0.0</td>\n",
       "      <td>0.5</td>\n",
       "      <td>0.0</td>\n",
       "      <td>0.0</td>\n",
       "      <td>0.0</td>\n",
       "      <td>0.0</td>\n",
       "      <td>0.0</td>\n",
       "      <td>0.0</td>\n",
       "      <td>0.0</td>\n",
       "      <td>1.0</td>\n",
       "      <td>0.666667</td>\n",
       "    </tr>\n",
       "    <tr>\n",
       "      <th>...</th>\n",
       "      <td>...</td>\n",
       "      <td>...</td>\n",
       "      <td>...</td>\n",
       "      <td>...</td>\n",
       "      <td>...</td>\n",
       "      <td>...</td>\n",
       "      <td>...</td>\n",
       "      <td>...</td>\n",
       "      <td>...</td>\n",
       "      <td>...</td>\n",
       "      <td>...</td>\n",
       "      <td>...</td>\n",
       "      <td>...</td>\n",
       "      <td>...</td>\n",
       "      <td>...</td>\n",
       "      <td>...</td>\n",
       "      <td>...</td>\n",
       "      <td>...</td>\n",
       "      <td>...</td>\n",
       "    </tr>\n",
       "    <tr>\n",
       "      <th>7038</th>\n",
       "      <td>0.0</td>\n",
       "      <td>0.743115</td>\n",
       "      <td>0.820208</td>\n",
       "      <td>0.759890</td>\n",
       "      <td>1.0</td>\n",
       "      <td>1.0</td>\n",
       "      <td>1.0</td>\n",
       "      <td>1.0</td>\n",
       "      <td>1.0</td>\n",
       "      <td>0.0</td>\n",
       "      <td>1.0</td>\n",
       "      <td>0.0</td>\n",
       "      <td>1.0</td>\n",
       "      <td>1.0</td>\n",
       "      <td>1.0</td>\n",
       "      <td>1.0</td>\n",
       "      <td>0.5</td>\n",
       "      <td>1.0</td>\n",
       "      <td>1.000000</td>\n",
       "    </tr>\n",
       "    <tr>\n",
       "      <th>7039</th>\n",
       "      <td>0.0</td>\n",
       "      <td>1.000000</td>\n",
       "      <td>0.925060</td>\n",
       "      <td>0.973088</td>\n",
       "      <td>0.0</td>\n",
       "      <td>1.0</td>\n",
       "      <td>1.0</td>\n",
       "      <td>1.0</td>\n",
       "      <td>1.0</td>\n",
       "      <td>0.5</td>\n",
       "      <td>0.0</td>\n",
       "      <td>1.0</td>\n",
       "      <td>1.0</td>\n",
       "      <td>0.0</td>\n",
       "      <td>1.0</td>\n",
       "      <td>1.0</td>\n",
       "      <td>0.5</td>\n",
       "      <td>1.0</td>\n",
       "      <td>0.333333</td>\n",
       "    </tr>\n",
       "    <tr>\n",
       "      <th>7040</th>\n",
       "      <td>0.0</td>\n",
       "      <td>0.560693</td>\n",
       "      <td>0.258220</td>\n",
       "      <td>0.474924</td>\n",
       "      <td>0.0</td>\n",
       "      <td>1.0</td>\n",
       "      <td>1.0</td>\n",
       "      <td>0.0</td>\n",
       "      <td>0.5</td>\n",
       "      <td>0.0</td>\n",
       "      <td>1.0</td>\n",
       "      <td>0.0</td>\n",
       "      <td>0.0</td>\n",
       "      <td>0.0</td>\n",
       "      <td>0.0</td>\n",
       "      <td>0.0</td>\n",
       "      <td>0.0</td>\n",
       "      <td>1.0</td>\n",
       "      <td>0.666667</td>\n",
       "    </tr>\n",
       "    <tr>\n",
       "      <th>7041</th>\n",
       "      <td>1.0</td>\n",
       "      <td>0.324153</td>\n",
       "      <td>0.750347</td>\n",
       "      <td>0.455008</td>\n",
       "      <td>1.0</td>\n",
       "      <td>1.0</td>\n",
       "      <td>0.0</td>\n",
       "      <td>1.0</td>\n",
       "      <td>1.0</td>\n",
       "      <td>0.5</td>\n",
       "      <td>0.0</td>\n",
       "      <td>0.0</td>\n",
       "      <td>0.0</td>\n",
       "      <td>0.0</td>\n",
       "      <td>0.0</td>\n",
       "      <td>0.0</td>\n",
       "      <td>0.0</td>\n",
       "      <td>1.0</td>\n",
       "      <td>1.000000</td>\n",
       "    </tr>\n",
       "    <tr>\n",
       "      <th>7042</th>\n",
       "      <td>0.0</td>\n",
       "      <td>0.979654</td>\n",
       "      <td>0.937588</td>\n",
       "      <td>0.961188</td>\n",
       "      <td>1.0</td>\n",
       "      <td>0.0</td>\n",
       "      <td>0.0</td>\n",
       "      <td>1.0</td>\n",
       "      <td>0.0</td>\n",
       "      <td>0.5</td>\n",
       "      <td>1.0</td>\n",
       "      <td>0.0</td>\n",
       "      <td>1.0</td>\n",
       "      <td>1.0</td>\n",
       "      <td>1.0</td>\n",
       "      <td>1.0</td>\n",
       "      <td>1.0</td>\n",
       "      <td>1.0</td>\n",
       "      <td>0.000000</td>\n",
       "    </tr>\n",
       "  </tbody>\n",
       "</table>\n",
       "<p>7043 rows × 19 columns</p>\n",
       "</div>"
      ],
      "text/plain": [
       "      SeniorCitizen    tenure  MonthlyCharges  TotalCharges  gender  Partner  \\\n",
       "0               0.0  0.000000        0.262711      0.075353     0.0      1.0   \n",
       "1               0.0  0.824558        0.607633      0.751403     1.0      0.0   \n",
       "2               0.0  0.162077        0.577747      0.285172     1.0      0.0   \n",
       "3               0.0  0.890100        0.448845      0.747142     1.0      0.0   \n",
       "4               0.0  0.162077        0.723110      0.340270     0.0      0.0   \n",
       "...             ...       ...             ...           ...     ...      ...   \n",
       "7038            0.0  0.743115        0.820208      0.759890     1.0      1.0   \n",
       "7039            0.0  1.000000        0.925060      0.973088     0.0      1.0   \n",
       "7040            0.0  0.560693        0.258220      0.474924     0.0      1.0   \n",
       "7041            1.0  0.324153        0.750347      0.455008     1.0      1.0   \n",
       "7042            0.0  0.979654        0.937588      0.961188     1.0      0.0   \n",
       "\n",
       "      Dependents  PhoneService  MultipleLines  InternetService  \\\n",
       "0            0.0           0.0            0.5              0.0   \n",
       "1            0.0           1.0            0.0              0.0   \n",
       "2            0.0           1.0            0.0              0.0   \n",
       "3            0.0           0.0            0.5              0.0   \n",
       "4            0.0           1.0            0.0              0.5   \n",
       "...          ...           ...            ...              ...   \n",
       "7038         1.0           1.0            1.0              0.0   \n",
       "7039         1.0           1.0            1.0              0.5   \n",
       "7040         1.0           0.0            0.5              0.0   \n",
       "7041         0.0           1.0            1.0              0.5   \n",
       "7042         0.0           1.0            0.0              0.5   \n",
       "\n",
       "      OnlineSecurity  OnlineBackup  DeviceProtection  TechSupport  \\\n",
       "0                0.0           1.0               0.0          0.0   \n",
       "1                1.0           0.0               1.0          0.0   \n",
       "2                1.0           1.0               0.0          0.0   \n",
       "3                1.0           0.0               1.0          1.0   \n",
       "4                0.0           0.0               0.0          0.0   \n",
       "...              ...           ...               ...          ...   \n",
       "7038             1.0           0.0               1.0          1.0   \n",
       "7039             0.0           1.0               1.0          0.0   \n",
       "7040             1.0           0.0               0.0          0.0   \n",
       "7041             0.0           0.0               0.0          0.0   \n",
       "7042             1.0           0.0               1.0          1.0   \n",
       "\n",
       "      StreamingTV  StreamingMovies  Contract  PaperlessBilling  PaymentMethod  \n",
       "0             0.0              0.0       0.0               1.0       0.666667  \n",
       "1             0.0              0.0       0.5               0.0       1.000000  \n",
       "2             0.0              0.0       0.0               1.0       1.000000  \n",
       "3             0.0              0.0       0.5               0.0       0.000000  \n",
       "4             0.0              0.0       0.0               1.0       0.666667  \n",
       "...           ...              ...       ...               ...            ...  \n",
       "7038          1.0              1.0       0.5               1.0       1.000000  \n",
       "7039          1.0              1.0       0.5               1.0       0.333333  \n",
       "7040          0.0              0.0       0.0               1.0       0.666667  \n",
       "7041          0.0              0.0       0.0               1.0       1.000000  \n",
       "7042          1.0              1.0       1.0               1.0       0.000000  \n",
       "\n",
       "[7043 rows x 19 columns]"
      ]
     },
     "execution_count": 32,
     "metadata": {},
     "output_type": "execute_result"
    }
   ],
   "source": [
    "x"
   ]
  },
  {
   "cell_type": "code",
   "execution_count": 33,
   "metadata": {},
   "outputs": [
    {
     "data": {
      "text/plain": [
       "0       0\n",
       "1       0\n",
       "2       1\n",
       "3       0\n",
       "4       1\n",
       "       ..\n",
       "7038    0\n",
       "7039    0\n",
       "7040    0\n",
       "7041    1\n",
       "7042    0\n",
       "Name: Churn, Length: 7043, dtype: int64"
      ]
     },
     "execution_count": 33,
     "metadata": {},
     "output_type": "execute_result"
    }
   ],
   "source": [
    "y"
   ]
  },
  {
   "cell_type": "markdown",
   "metadata": {},
   "source": [
    "### 3.0 Feature Selection:"
   ]
  },
  {
   "cell_type": "code",
   "execution_count": 34,
   "metadata": {},
   "outputs": [],
   "source": [
    "### Selecting the Best Features from Data\n",
    "from sklearn.feature_selection import SelectKBest\n",
    "from sklearn.feature_selection import chi2\n",
    "\n",
    "selectbestfeatures = SelectKBest(score_func=chi2, k=7)             # K=7 Defines we need 7 most important features from Dataset\n",
    "fit = selectbestfeatures.fit(x,y)                                  # Fit the Data"
   ]
  },
  {
   "cell_type": "code",
   "execution_count": 35,
   "metadata": {},
   "outputs": [],
   "source": [
    "scores = pd.DataFrame(fit.scores_)                           # Making the Dataset for scores obtained from fit function\n",
    "specs = pd.DataFrame(x.columns)                              # Columns name from the Dataset"
   ]
  },
  {
   "cell_type": "code",
   "execution_count": 36,
   "metadata": {},
   "outputs": [
    {
     "data": {
      "text/html": [
       "<div>\n",
       "<style scoped>\n",
       "    .dataframe tbody tr th:only-of-type {\n",
       "        vertical-align: middle;\n",
       "    }\n",
       "\n",
       "    .dataframe tbody tr th {\n",
       "        vertical-align: top;\n",
       "    }\n",
       "\n",
       "    .dataframe thead th {\n",
       "        text-align: right;\n",
       "    }\n",
       "</style>\n",
       "<table border=\"1\" class=\"dataframe\">\n",
       "  <thead>\n",
       "    <tr style=\"text-align: right;\">\n",
       "      <th></th>\n",
       "      <th>Specs</th>\n",
       "      <th>Score</th>\n",
       "    </tr>\n",
       "  </thead>\n",
       "  <tbody>\n",
       "    <tr>\n",
       "      <th>0</th>\n",
       "      <td>SeniorCitizen</td>\n",
       "      <td>134.351545</td>\n",
       "    </tr>\n",
       "    <tr>\n",
       "      <th>1</th>\n",
       "      <td>tenure</td>\n",
       "      <td>139.243166</td>\n",
       "    </tr>\n",
       "    <tr>\n",
       "      <th>2</th>\n",
       "      <td>MonthlyCharges</td>\n",
       "      <td>52.580664</td>\n",
       "    </tr>\n",
       "    <tr>\n",
       "      <th>3</th>\n",
       "      <td>TotalCharges</td>\n",
       "      <td>39.570619</td>\n",
       "    </tr>\n",
       "    <tr>\n",
       "      <th>4</th>\n",
       "      <td>gender</td>\n",
       "      <td>0.258699</td>\n",
       "    </tr>\n",
       "    <tr>\n",
       "      <th>5</th>\n",
       "      <td>Partner</td>\n",
       "      <td>82.412083</td>\n",
       "    </tr>\n",
       "    <tr>\n",
       "      <th>6</th>\n",
       "      <td>Dependents</td>\n",
       "      <td>133.036443</td>\n",
       "    </tr>\n",
       "    <tr>\n",
       "      <th>7</th>\n",
       "      <td>PhoneService</td>\n",
       "      <td>0.097261</td>\n",
       "    </tr>\n",
       "    <tr>\n",
       "      <th>8</th>\n",
       "      <td>MultipleLines</td>\n",
       "      <td>4.873460</td>\n",
       "    </tr>\n",
       "    <tr>\n",
       "      <th>9</th>\n",
       "      <td>InternetService</td>\n",
       "      <td>4.910514</td>\n",
       "    </tr>\n",
       "    <tr>\n",
       "      <th>10</th>\n",
       "      <td>OnlineSecurity</td>\n",
       "      <td>275.805765</td>\n",
       "    </tr>\n",
       "    <tr>\n",
       "      <th>11</th>\n",
       "      <td>OnlineBackup</td>\n",
       "      <td>115.043260</td>\n",
       "    </tr>\n",
       "    <tr>\n",
       "      <th>12</th>\n",
       "      <td>DeviceProtection</td>\n",
       "      <td>95.651570</td>\n",
       "    </tr>\n",
       "    <tr>\n",
       "      <th>13</th>\n",
       "      <td>TechSupport</td>\n",
       "      <td>261.651933</td>\n",
       "    </tr>\n",
       "    <tr>\n",
       "      <th>14</th>\n",
       "      <td>StreamingTV</td>\n",
       "      <td>3.745102</td>\n",
       "    </tr>\n",
       "    <tr>\n",
       "      <th>15</th>\n",
       "      <td>StreamingMovies</td>\n",
       "      <td>4.117700</td>\n",
       "    </tr>\n",
       "    <tr>\n",
       "      <th>16</th>\n",
       "      <td>Contract</td>\n",
       "      <td>557.890083</td>\n",
       "    </tr>\n",
       "    <tr>\n",
       "      <th>17</th>\n",
       "      <td>PaperlessBilling</td>\n",
       "      <td>105.680863</td>\n",
       "    </tr>\n",
       "    <tr>\n",
       "      <th>18</th>\n",
       "      <td>PaymentMethod</td>\n",
       "      <td>19.497417</td>\n",
       "    </tr>\n",
       "  </tbody>\n",
       "</table>\n",
       "</div>"
      ],
      "text/plain": [
       "               Specs       Score\n",
       "0      SeniorCitizen  134.351545\n",
       "1             tenure  139.243166\n",
       "2     MonthlyCharges   52.580664\n",
       "3       TotalCharges   39.570619\n",
       "4             gender    0.258699\n",
       "5            Partner   82.412083\n",
       "6         Dependents  133.036443\n",
       "7       PhoneService    0.097261\n",
       "8      MultipleLines    4.873460\n",
       "9    InternetService    4.910514\n",
       "10    OnlineSecurity  275.805765\n",
       "11      OnlineBackup  115.043260\n",
       "12  DeviceProtection   95.651570\n",
       "13       TechSupport  261.651933\n",
       "14       StreamingTV    3.745102\n",
       "15   StreamingMovies    4.117700\n",
       "16          Contract  557.890083\n",
       "17  PaperlessBilling  105.680863\n",
       "18     PaymentMethod   19.497417"
      ]
     },
     "execution_count": 36,
     "metadata": {},
     "output_type": "execute_result"
    }
   ],
   "source": [
    "score_data = pd.concat([specs, scores],axis=1)               # Concating both the DataFrame\n",
    "score_data.columns=[\"Specs\",\"Score\"]\n",
    "score_data"
   ]
  },
  {
   "cell_type": "code",
   "execution_count": 37,
   "metadata": {},
   "outputs": [
    {
     "data": {
      "text/html": [
       "<div>\n",
       "<style scoped>\n",
       "    .dataframe tbody tr th:only-of-type {\n",
       "        vertical-align: middle;\n",
       "    }\n",
       "\n",
       "    .dataframe tbody tr th {\n",
       "        vertical-align: top;\n",
       "    }\n",
       "\n",
       "    .dataframe thead th {\n",
       "        text-align: right;\n",
       "    }\n",
       "</style>\n",
       "<table border=\"1\" class=\"dataframe\">\n",
       "  <thead>\n",
       "    <tr style=\"text-align: right;\">\n",
       "      <th></th>\n",
       "      <th>Specs</th>\n",
       "      <th>Score</th>\n",
       "    </tr>\n",
       "  </thead>\n",
       "  <tbody>\n",
       "    <tr>\n",
       "      <th>16</th>\n",
       "      <td>Contract</td>\n",
       "      <td>557.890083</td>\n",
       "    </tr>\n",
       "    <tr>\n",
       "      <th>10</th>\n",
       "      <td>OnlineSecurity</td>\n",
       "      <td>275.805765</td>\n",
       "    </tr>\n",
       "    <tr>\n",
       "      <th>13</th>\n",
       "      <td>TechSupport</td>\n",
       "      <td>261.651933</td>\n",
       "    </tr>\n",
       "    <tr>\n",
       "      <th>1</th>\n",
       "      <td>tenure</td>\n",
       "      <td>139.243166</td>\n",
       "    </tr>\n",
       "    <tr>\n",
       "      <th>0</th>\n",
       "      <td>SeniorCitizen</td>\n",
       "      <td>134.351545</td>\n",
       "    </tr>\n",
       "    <tr>\n",
       "      <th>6</th>\n",
       "      <td>Dependents</td>\n",
       "      <td>133.036443</td>\n",
       "    </tr>\n",
       "    <tr>\n",
       "      <th>11</th>\n",
       "      <td>OnlineBackup</td>\n",
       "      <td>115.043260</td>\n",
       "    </tr>\n",
       "  </tbody>\n",
       "</table>\n",
       "</div>"
      ],
      "text/plain": [
       "             Specs       Score\n",
       "16        Contract  557.890083\n",
       "10  OnlineSecurity  275.805765\n",
       "13     TechSupport  261.651933\n",
       "1           tenure  139.243166\n",
       "0    SeniorCitizen  134.351545\n",
       "6       Dependents  133.036443\n",
       "11    OnlineBackup  115.043260"
      ]
     },
     "execution_count": 37,
     "metadata": {},
     "output_type": "execute_result"
    }
   ],
   "source": [
    "score_data.sort_values(\"Score\", ascending=False).head(7)       #Top 7 Values"
   ]
  },
  {
   "cell_type": "code",
   "execution_count": 38,
   "metadata": {},
   "outputs": [
    {
     "data": {
      "text/plain": [
       "ExtraTreesClassifier()"
      ]
     },
     "execution_count": 38,
     "metadata": {},
     "output_type": "execute_result"
    }
   ],
   "source": [
    "### Using Ensemble Techniques to get 7 imoprtant Features\n",
    "from sklearn.ensemble import ExtraTreesClassifier\n",
    "model = ExtraTreesClassifier()\n",
    "model.fit(x,y)"
   ]
  },
  {
   "cell_type": "code",
   "execution_count": 39,
   "metadata": {},
   "outputs": [
    {
     "data": {
      "image/png": "[encoded data removed]",
      "text/plain": [
       "<Figure size 432x288 with 1 Axes>"
      ]
     },
     "metadata": {
      "needs_background": "light"
     },
     "output_type": "display_data"
    }
   ],
   "source": [
    "feat_importance = pd.Series(model.feature_importances_,index=x.columns)      #Making Pandas series\n",
    "feat_importance.nlargest(7).plot(kind='barh')                                # Plotting the top 7 features with their scores\n",
    "plt.show()"
   ]
  },
  {
   "cell_type": "code",
   "execution_count": 40,
   "metadata": {},
   "outputs": [
    {
     "data": {
      "text/plain": [
       "VarianceThreshold(threshold=0)"
      ]
     },
     "execution_count": 40,
     "metadata": {},
     "output_type": "execute_result"
    }
   ],
   "source": [
    "### Using Variance Threshold Method----This method accepts only independent Features and Thus used for Unsupervised Learning too\n",
    "from sklearn.feature_selection import VarianceThreshold\n",
    "var_thres = VarianceThreshold(threshold=0)  #Basically it removes 0 Variance Features\n",
    "var_thres.fit(x)"
   ]
  },
  {
   "cell_type": "code",
   "execution_count": 41,
   "metadata": {},
   "outputs": [
    {
     "data": {
      "text/plain": [
       "array([ True,  True,  True,  True,  True,  True,  True,  True,  True,\n",
       "        True,  True,  True,  True,  True,  True,  True,  True,  True,\n",
       "        True])"
      ]
     },
     "execution_count": 41,
     "metadata": {},
     "output_type": "execute_result"
    }
   ],
   "source": [
    "var_thres.get_support()"
   ]
  },
  {
   "cell_type": "markdown",
   "metadata": {},
   "source": [
    "* This Shows that almost all columns can be used and there is No Zero Variance Columns\n",
    "* The threshold value may depend on dataset and Domain Expert Peoples"
   ]
  },
  {
   "cell_type": "code",
   "execution_count": 42,
   "metadata": {},
   "outputs": [
    {
     "data": {
      "image/png": "[encoded data removed]",
      "text/plain": [
       "<Figure size 1440x1440 with 2 Axes>"
      ]
     },
     "metadata": {
      "needs_background": "light"
     },
     "output_type": "display_data"
    }
   ],
   "source": [
    "### Correlation Method\n",
    "plt.figure(figsize=(20,20))\n",
    "cor = x.corr()                                          # Correlation Table\n",
    "sns.heatmap(cor, annot=True, cmap=plt.cm.CMRmap_r)      # annot = Displaying numbers \n",
    "plt.show()"
   ]
  },
  {
   "cell_type": "code",
   "execution_count": 43,
   "metadata": {},
   "outputs": [],
   "source": [
    "# with the following function we can select highly correlated features\n",
    "# it will remove the first feature that is correlated with anything other feature\n",
    "\n",
    "def correlation(dataset, threshold):\n",
    "    col_corr = set()                                    # Set of all the names of correlated columns\n",
    "    corr_matrix = dataset.corr()\n",
    "    for i in range(len(corr_matrix.columns)):\n",
    "        for j in range(i):\n",
    "            if abs(corr_matrix.iloc[i, j]) > threshold: # we are interested in absolute coeff value\n",
    "                colname = corr_matrix.columns[i]        # getting the name of column\n",
    "                col_corr.add(colname)\n",
    "    return col_corr"
   ]
  },
  {
   "cell_type": "code",
   "execution_count": 44,
   "metadata": {},
   "outputs": [
    {
     "data": {
      "text/plain": [
       "{'TotalCharges'}"
      ]
     },
     "execution_count": 44,
     "metadata": {},
     "output_type": "execute_result"
    }
   ],
   "source": [
    "correlated_features = correlation(x, 0.7) \n",
    "correlated_features"
   ]
  },
  {
   "cell_type": "markdown",
   "metadata": {},
   "source": [
    "* This is the Only column that got highly correlated"
   ]
  },
  {
   "cell_type": "markdown",
   "metadata": {},
   "source": [
    "The Selected Columns from the above future selection analysis will be:\n",
    "* Contract\t\n",
    "* OnlineSecurity\t\n",
    "* TechSupport\t\n",
    "* tenure\t\n",
    "* MonthlyCharges \n",
    "* SeniorCitizens\n",
    "* Dependents"
   ]
  },
  {
   "cell_type": "code",
   "execution_count": 45,
   "metadata": {},
   "outputs": [
    {
     "data": {
      "text/html": [
       "<div>\n",
       "<style scoped>\n",
       "    .dataframe tbody tr th:only-of-type {\n",
       "        vertical-align: middle;\n",
       "    }\n",
       "\n",
       "    .dataframe tbody tr th {\n",
       "        vertical-align: top;\n",
       "    }\n",
       "\n",
       "    .dataframe thead th {\n",
       "        text-align: right;\n",
       "    }\n",
       "</style>\n",
       "<table border=\"1\" class=\"dataframe\">\n",
       "  <thead>\n",
       "    <tr style=\"text-align: right;\">\n",
       "      <th></th>\n",
       "      <th>Contract</th>\n",
       "      <th>OnlineSecurity</th>\n",
       "      <th>TechSupport</th>\n",
       "      <th>tenure</th>\n",
       "      <th>MonthlyCharges</th>\n",
       "      <th>SeniorCitizen</th>\n",
       "      <th>Dependents</th>\n",
       "    </tr>\n",
       "  </thead>\n",
       "  <tbody>\n",
       "    <tr>\n",
       "      <th>0</th>\n",
       "      <td>0.0</td>\n",
       "      <td>0.0</td>\n",
       "      <td>0.0</td>\n",
       "      <td>0.000000</td>\n",
       "      <td>0.262711</td>\n",
       "      <td>0.0</td>\n",
       "      <td>0.0</td>\n",
       "    </tr>\n",
       "    <tr>\n",
       "      <th>1</th>\n",
       "      <td>0.5</td>\n",
       "      <td>1.0</td>\n",
       "      <td>0.0</td>\n",
       "      <td>0.824558</td>\n",
       "      <td>0.607633</td>\n",
       "      <td>0.0</td>\n",
       "      <td>0.0</td>\n",
       "    </tr>\n",
       "    <tr>\n",
       "      <th>2</th>\n",
       "      <td>0.0</td>\n",
       "      <td>1.0</td>\n",
       "      <td>0.0</td>\n",
       "      <td>0.162077</td>\n",
       "      <td>0.577747</td>\n",
       "      <td>0.0</td>\n",
       "      <td>0.0</td>\n",
       "    </tr>\n",
       "    <tr>\n",
       "      <th>3</th>\n",
       "      <td>0.5</td>\n",
       "      <td>1.0</td>\n",
       "      <td>1.0</td>\n",
       "      <td>0.890100</td>\n",
       "      <td>0.448845</td>\n",
       "      <td>0.0</td>\n",
       "      <td>0.0</td>\n",
       "    </tr>\n",
       "    <tr>\n",
       "      <th>4</th>\n",
       "      <td>0.0</td>\n",
       "      <td>0.0</td>\n",
       "      <td>0.0</td>\n",
       "      <td>0.162077</td>\n",
       "      <td>0.723110</td>\n",
       "      <td>0.0</td>\n",
       "      <td>0.0</td>\n",
       "    </tr>\n",
       "  </tbody>\n",
       "</table>\n",
       "</div>"
      ],
      "text/plain": [
       "   Contract  OnlineSecurity  TechSupport    tenure  MonthlyCharges  \\\n",
       "0       0.0             0.0          0.0  0.000000        0.262711   \n",
       "1       0.5             1.0          0.0  0.824558        0.607633   \n",
       "2       0.0             1.0          0.0  0.162077        0.577747   \n",
       "3       0.5             1.0          1.0  0.890100        0.448845   \n",
       "4       0.0             0.0          0.0  0.162077        0.723110   \n",
       "\n",
       "   SeniorCitizen  Dependents  \n",
       "0            0.0         0.0  \n",
       "1            0.0         0.0  \n",
       "2            0.0         0.0  \n",
       "3            0.0         0.0  \n",
       "4            0.0         0.0  "
      ]
     },
     "execution_count": 45,
     "metadata": {},
     "output_type": "execute_result"
    }
   ],
   "source": [
    "selected_features = [\"Contract\", \"OnlineSecurity\", \"TechSupport\", \"tenure\", \"MonthlyCharges\", \"SeniorCitizen\", \"Dependents\"]\n",
    "x = x[selected_features]\n",
    "x.head()"
   ]
  },
  {
   "cell_type": "code",
   "execution_count": 46,
   "metadata": {},
   "outputs": [
    {
     "data": {
      "text/plain": [
       "Counter({0: 5174, 1: 1869})"
      ]
     },
     "execution_count": 46,
     "metadata": {},
     "output_type": "execute_result"
    }
   ],
   "source": [
    "### Checking for imbalanced Dataset\n",
    "from collections import Counter\n",
    "cnt = Counter(y)\n",
    "cnt"
   ]
  },
  {
   "cell_type": "code",
   "execution_count": 48,
   "metadata": {},
   "outputs": [
    {
     "data": {
      "text/plain": [
       "Counter({0: 4673, 1: 3379})"
      ]
     },
     "execution_count": 48,
     "metadata": {},
     "output_type": "execute_result"
    }
   ],
   "source": [
    "### Fitting the data\n",
    "from imblearn.over_sampling import RandomOverSampler\n",
    "smote = SMOTETomek(0.75)\n",
    "x_res, y_res = smote.fit_sample(x, y)\n",
    "cnt_y = Counter(y_res)\n",
    "cnt_y"
   ]
  },
  {
   "cell_type": "markdown",
   "metadata": {},
   "source": [
    "### 4.0 Model Selection:"
   ]
  },
  {
   "cell_type": "markdown",
   "metadata": {},
   "source": [
    "Now we need to select the Optimum Model as a regressor that Could Perform Well:\n",
    "\n",
    "For that Following steps we need to follow:\n",
    "\n",
    "* Importing the Different Models Using Sklearn Library\n",
    "* Building Pipeline For each Model\n",
    "* Iterate Through Each Model\n",
    "* Finally calculate accuracy and take the Best Model"
   ]
  },
  {
   "cell_type": "code",
   "execution_count": 49,
   "metadata": {},
   "outputs": [],
   "source": [
    "### Importing the different Models Library\n",
    "from sklearn.linear_model import LogisticRegression\n",
    "from sklearn.ensemble import RandomForestClassifier\n",
    "from sklearn.tree import DecisionTreeClassifier\n",
    "from sklearn.neighbors import KNeighborsClassifier\n",
    "from sklearn.svm import SVC\n",
    "from sklearn.ensemble import GradientBoostingClassifier as GBC\n",
    "\n",
    "from sklearn.pipeline import Pipeline  ### For Building Pipelines"
   ]
  },
  {
   "cell_type": "code",
   "execution_count": 50,
   "metadata": {},
   "outputs": [],
   "source": [
    "### Making the Pipelines for Models\n",
    "pipeline_logistic_classifier = Pipeline([(\"Logistic Regression\",LogisticRegression())])\n",
    "pipeline_random_forest_classifier = Pipeline([(\"Random Forest Classifier\",RandomForestClassifier(n_estimators=100))])\n",
    "pipeline_decision_tree_classifier = Pipeline([(\"Decision Tree Classifier\",DecisionTreeClassifier())])\n",
    "pipeline_kneighbors_classifier = Pipeline([(\"KNeighbors Classifier\",KNeighborsClassifier())])\n",
    "pipeline_support_vector_classifier = Pipeline([(\"Support Vector Classifier\",SVC(kernel=\"rbf\", gamma=0.5, degree=2, C=1e3))])\n",
    "pipeline_gradient_boosting_classifier = Pipeline([(\"GradientBoostingClassifier\",GBC())])"
   ]
  },
  {
   "cell_type": "code",
   "execution_count": 51,
   "metadata": {},
   "outputs": [],
   "source": [
    "### Lets split the data into train and test\n",
    "from sklearn.model_selection import train_test_split\n",
    "x_train,x_test,y_train,y_test = train_test_split(x_res,y_res, test_size=0.2, random_state = 0)"
   ]
  },
  {
   "cell_type": "code",
   "execution_count": 52,
   "metadata": {},
   "outputs": [],
   "source": [
    "pipelines=[pipeline_logistic_classifier,pipeline_random_forest_classifier,pipeline_decision_tree_classifier, pipeline_kneighbors_classifier, pipeline_support_vector_classifier, pipeline_gradient_boosting_classifier]\n",
    "\n",
    "for pipe in pipelines:\n",
    "    pipe.fit(x_train, y_train)"
   ]
  },
  {
   "cell_type": "code",
   "execution_count": 53,
   "metadata": {},
   "outputs": [],
   "source": [
    "### Making the dictionary for Models to find which has More efficiency\n",
    "pipe_dict={0:\"Logistic Regression\",\n",
    "           1:\"Random Forest Classifier\",\n",
    "           2:\"Decision Tree Classifier\",\n",
    "           3:\"KNeighbors Classifier\",\n",
    "           4:\"Support Vector Classifier\",\n",
    "           5:\"Gradient Boosting Classifier\"}\n",
    "\n",
    "best_accuracy=0\n",
    "best_classifier=\"\""
   ]
  },
  {
   "cell_type": "code",
   "execution_count": 54,
   "metadata": {},
   "outputs": [
    {
     "name": "stdout",
     "output_type": "stream",
     "text": [
      "Logistic Regression has an score of 0.8013656114214773\n",
      "Random Forest Classifier has an score of 0.8479205462445686\n",
      "Decision Tree Classifier has an score of 0.7951582867783985\n",
      "KNeighbors Classifier has an score of 0.8230912476722533\n",
      "Support Vector Classifier has an score of 0.8100558659217877\n",
      "Gradient Boosting Classifier has an score of 0.8299193047796399\n"
     ]
    }
   ],
   "source": [
    "### Calculate the Score for each Model\n",
    "for i, model in enumerate(pipelines):\n",
    "    print(\"{} has an score of {}\".format(pipe_dict[i],model.score(x_test,y_test)))"
   ]
  },
  {
   "cell_type": "code",
   "execution_count": 55,
   "metadata": {},
   "outputs": [
    {
     "name": "stdout",
     "output_type": "stream",
     "text": [
      "best Model is Random Forest Classifier\n"
     ]
    }
   ],
   "source": [
    "for i,model in enumerate(pipelines):\n",
    "    if  model.score(x_test, y_test)>best_accuracy:\n",
    "        best_accuracy = model.score(x_test, y_test)\n",
    "        best_pipline = model\n",
    "        best_classifier = i\n",
    "print(\"best Model is {}\".format(pipe_dict[best_classifier]))"
   ]
  },
  {
   "cell_type": "markdown",
   "metadata": {},
   "source": [
    "### 5.0 Model Building with Hyperparametre Tuning"
   ]
  },
  {
   "cell_type": "code",
   "execution_count": 56,
   "metadata": {},
   "outputs": [],
   "source": [
    "from sklearn.metrics import accuracy_score, classification_report, confusion_matrix"
   ]
  },
  {
   "cell_type": "code",
   "execution_count": 57,
   "metadata": {},
   "outputs": [
    {
     "data": {
      "text/plain": [
       "RandomForestClassifier()"
      ]
     },
     "execution_count": 57,
     "metadata": {},
     "output_type": "execute_result"
    }
   ],
   "source": [
    "### Making the support vector Classifier\n",
    "Classifier = RandomForestClassifier()\n",
    "Classifier.fit(x_train,y_train)             #Builting Model with Default Values"
   ]
  },
  {
   "cell_type": "code",
   "execution_count": 58,
   "metadata": {},
   "outputs": [],
   "source": [
    "### Generating the report \n",
    "\"\"\"\n",
    "    Report Consists of \n",
    "    1. Confusion Matrix == Helps to identify the CLassification \n",
    "    2. Accuracy Score == Determines the accuracy of the Model\n",
    "    3. Classification Report == Detailed Report on Classification\n",
    "\"\"\"\n",
    "def generate_report(cmatrix, report, score):\n",
    "    \n",
    "    #Generate the Confusion_matrix heatmap\n",
    "    plt.figure(figsize=(5,5))\n",
    "    \n",
    "    sns.heatmap(cmatrix,\n",
    "                annot=True,\n",
    "                fmt=\"d\",\n",
    "                linewidths=5,\n",
    "                square=True,\n",
    "                cmap=\"Blues\",\n",
    "                annot_kws={\"size\":16},\n",
    "                xticklabels=[\"No\", \"Yes\"],\n",
    "                yticklabels=[\"No\", \"Yes\"])\n",
    "    \n",
    "    plt.xticks(rotation=\"horizontal\", fontsize=16)\n",
    "    plt.yticks(rotation=\"horizontal\", fontsize=16)\n",
    "    plt.xlabel(\"Predicted\", size=20)\n",
    "    plt.ylabel(\"Actual\", size=20)\n",
    "    title = \"Accuracy Score: {0:.4f}\".format(score)\n",
    "    plt.title(title, size=20)\n",
    "    \n",
    "    # Display classification report and confusion_matrix\n",
    "    print(report)\n",
    "    plt.show()"
   ]
  },
  {
   "cell_type": "code",
   "execution_count": 59,
   "metadata": {},
   "outputs": [
    {
     "name": "stdout",
     "output_type": "stream",
     "text": [
      "              precision    recall  f1-score   support\n",
      "\n",
      "           0       0.88      0.86      0.87       951\n",
      "           1       0.80      0.83      0.81       660\n",
      "\n",
      "    accuracy                           0.84      1611\n",
      "   macro avg       0.84      0.84      0.84      1611\n",
      "weighted avg       0.85      0.84      0.85      1611\n",
      "\n"
     ]
    },
    {
     "data": {
      "image/png": "[encoded data removed]",
      "text/plain": [
       "<Figure size 360x360 with 2 Axes>"
      ]
     },
     "metadata": {
      "needs_background": "light"
     },
     "output_type": "display_data"
    }
   ],
   "source": [
    "### Evaluating the accuracy and Other Parametres\n",
    "predictions = Classifier.predict(x_test)                                   \n",
    "cmatrix = confusion_matrix(predictions, y_test)\n",
    "accuracy = accuracy_score(predictions, y_test)\n",
    "report = classification_report(predictions, y_test)\n",
    "\n",
    "\n",
    "generate_report(cmatrix, report, accuracy)"
   ]
  },
  {
   "cell_type": "markdown",
   "metadata": {},
   "source": [
    "# Automated Hyperparameter Tuning\n",
    "\n",
    "Automated Hyperparameter Tuning can be done by using techniques such as\n",
    "\n",
    "* Bayesian Optimization\n",
    "* Gradient Descent\n",
    "* Evolutionary Algorithms\n",
    "\n",
    "#### Bayesian Optimization\n",
    "\n",
    "Bayesian optimization uses probability to find the minimum of a function. The final aim is to find the input value to a function which can gives us the lowest possible output value.It usually performs better than random,grid and manual search providing better performance in the testing phase and reduced optimization time. In Hyperopt, Bayesian Optimization can be implemented giving 3 three main parameters to the function fmin.\n",
    "\n",
    "\n",
    "* Objective Function = defines the loss function to minimize.\n",
    "* Domain Space = defines the range of input values to test (in Bayesian Optimization this space creates a probability distribution for each of the used Hyperparameters).\n",
    "* Optimization Algorithm = defines the search algorithm to use to select the best input values to use in each new iteration."
   ]
  },
  {
   "cell_type": "code",
   "execution_count": 62,
   "metadata": {},
   "outputs": [],
   "source": [
    "### Importing the hyperopt Libraries\n",
    "from hyperopt import hp,fmin,tpe,STATUS_OK,Trials"
   ]
  },
  {
   "cell_type": "code",
   "execution_count": 63,
   "metadata": {},
   "outputs": [],
   "source": [
    "### Defining the Hyperparamtres via Domain Space\n",
    "space = {'criterion': hp.choice('criterion', ['entropy', 'gini']),\n",
    "        'max_depth': hp.quniform('max_depth', 10, 1200, 10),\n",
    "        'max_features': hp.choice('max_features', ['auto', 'sqrt','log2', None]),\n",
    "        'min_samples_leaf': hp.uniform('min_samples_leaf', 0, 0.5),\n",
    "        'min_samples_split' : hp.uniform ('min_samples_split', 0, 1),\n",
    "        'n_estimators' : hp.choice('n_estimators', [10, 50, 300, 750, 1200,1300,1500])\n",
    "         }"
   ]
  },
  {
   "cell_type": "code",
   "execution_count": 64,
   "metadata": {},
   "outputs": [
    {
     "data": {
      "text/plain": [
       "{'criterion': <hyperopt.pyll.base.Apply at 0x7f45d1e45850>,\n",
       " 'max_depth': <hyperopt.pyll.base.Apply at 0x7f45d1e45a00>,\n",
       " 'max_features': <hyperopt.pyll.base.Apply at 0x7f45d1e45af0>,\n",
       " 'min_samples_leaf': <hyperopt.pyll.base.Apply at 0x7f45d1e45cd0>,\n",
       " 'min_samples_split': <hyperopt.pyll.base.Apply at 0x7f45d1e45e20>,\n",
       " 'n_estimators': <hyperopt.pyll.base.Apply at 0x7f45d1e45f10>}"
      ]
     },
     "execution_count": 64,
     "metadata": {},
     "output_type": "execute_result"
    }
   ],
   "source": [
    "space"
   ]
  },
  {
   "cell_type": "code",
   "execution_count": 65,
   "metadata": {},
   "outputs": [],
   "source": [
    "### Defining Objective Funtion\n",
    "def objective(space):\n",
    "    model = RandomForestClassifier(criterion = space['criterion'],\n",
    "                max_depth = space['max_depth'],\n",
    "                max_features = space['max_features'],\n",
    "                min_samples_leaf = space['min_samples_leaf'],\n",
    "                min_samples_split = space['min_samples_split'],\n",
    "                n_estimators = space['n_estimators'],\n",
    "                )\n",
    "    \n",
    "    accuracy = cross_val_score(model, x_train, y_train, cv = 5).mean()\n",
    "\n",
    "    # We aim to maximize accuracy, therefore we return it as a negative value\n",
    "    return {'loss': -accuracy, 'status': STATUS_OK }"
   ]
  },
  {
   "cell_type": "code",
   "execution_count": 66,
   "metadata": {},
   "outputs": [
    {
     "name": "stdout",
     "output_type": "stream",
     "text": [
      "100%|██████████| 80/80 [15:44<00:00, 11.80s/trial, best loss: -0.8101250909511443]\n"
     ]
    },
    {
     "data": {
      "text/plain": [
       "{'criterion': 0,\n",
       " 'max_depth': 400.0,\n",
       " 'max_features': 0,\n",
       " 'min_samples_leaf': 0.001933329353401069,\n",
       " 'min_samples_split': 0.0022307158078385472,\n",
       " 'n_estimators': 5}"
      ]
     },
     "execution_count": 66,
     "metadata": {},
     "output_type": "execute_result"
    }
   ],
   "source": [
    "from sklearn.model_selection import cross_val_score\n",
    "trials = Trials()\n",
    "best = fmin(fn= objective,\n",
    "            space= space,\n",
    "            algo= tpe.suggest,\n",
    "            max_evals = 80,\n",
    "            trials= trials)\n",
    "best"
   ]
  },
  {
   "cell_type": "code",
   "execution_count": 67,
   "metadata": {},
   "outputs": [
    {
     "data": {
      "text/plain": [
       "RandomForestClassifier(criterion='entropy', max_depth=400.0,\n",
       "                       min_samples_leaf=0.001933329353401069,\n",
       "                       min_samples_split=0.0022307158078385472,\n",
       "                       n_estimators=1300)"
      ]
     },
     "execution_count": 67,
     "metadata": {},
     "output_type": "execute_result"
    }
   ],
   "source": [
    "### Fitting the Hyperparametre Model\n",
    "classifier = RandomForestClassifier(criterion='entropy', max_depth= 400.0, max_features= 'auto', min_samples_leaf= 0.001933329353401069, min_samples_split= 0.0022307158078385472, n_estimators=1300)\n",
    "classifier.fit(x_train, y_train)"
   ]
  },
  {
   "cell_type": "code",
   "execution_count": 68,
   "metadata": {},
   "outputs": [
    {
     "name": "stdout",
     "output_type": "stream",
     "text": [
      "              precision    recall  f1-score   support\n",
      "\n",
      "           0       0.85      0.84      0.84       942\n",
      "           1       0.78      0.79      0.78       669\n",
      "\n",
      "    accuracy                           0.82      1611\n",
      "   macro avg       0.81      0.82      0.81      1611\n",
      "weighted avg       0.82      0.82      0.82      1611\n",
      "\n"
     ]
    },
    {
     "data": {
      "image/png": "[encoded data removed]",
      "text/plain": [
       "<Figure size 360x360 with 2 Axes>"
      ]
     },
     "metadata": {
      "needs_background": "light"
     },
     "output_type": "display_data"
    }
   ],
   "source": [
    "predictions = classifier.predict(x_test)\n",
    "cmatrix = confusion_matrix(predictions, y_test)\n",
    "report = classification_report(predictions, y_test)\n",
    "score = accuracy_score(predictions, y_test)\n",
    "\n",
    "generate_report(cmatrix, report, score)"
   ]
  },
  {
   "cell_type": "markdown",
   "metadata": {},
   "source": [
    "* Getting Good results Lets Compare With Randomied Search CV"
   ]
  },
  {
   "cell_type": "code",
   "execution_count": 69,
   "metadata": {},
   "outputs": [
    {
     "name": "stdout",
     "output_type": "stream",
     "text": [
      "{'n_estimators': [200, 400, 600, 800, 1000, 1200, 1400, 1600, 1800, 2000], 'max_features': ['auto', 'sqrt', 'log2'], 'max_depth': [10, 120, 230, 340, 450, 560, 670, 780, 890, 1000], 'min_samples_split': [2, 5, 10, 14], 'min_samples_leaf': [1, 2, 4, 6, 8], 'criterion': ['entropy', 'gini']}\n"
     ]
    }
   ],
   "source": [
    "### Lets try with RandomSearchCV\n",
    "from sklearn.model_selection import RandomizedSearchCV\n",
    "# Number of trees in random forest\n",
    "n_estimators = [int(x) for x in np.linspace(start = 200, stop = 2000, num = 10)]\n",
    "# Number of features to consider at every split\n",
    "max_features = ['auto', 'sqrt','log2']\n",
    "# Maximum number of levels in tree\n",
    "max_depth = [int(x) for x in np.linspace(10, 1000,10)]\n",
    "# Minimum number of samples required to split a node\n",
    "min_samples_split = [2, 5, 10,14]\n",
    "# Minimum number of samples required at each leaf node\n",
    "min_samples_leaf = [1, 2, 4,6,8]\n",
    "# Create the random grid\n",
    "random_grid = {'n_estimators': n_estimators,\n",
    "               'max_features': max_features,\n",
    "               'max_depth': max_depth,\n",
    "               'min_samples_split': min_samples_split,\n",
    "               'min_samples_leaf': min_samples_leaf,\n",
    "              'criterion':['entropy','gini']}\n",
    "print(random_grid)"
   ]
  },
  {
   "cell_type": "code",
   "execution_count": 70,
   "metadata": {},
   "outputs": [],
   "source": [
    "classifier = RandomForestClassifier()\n",
    "random_search=RandomizedSearchCV(classifier ,param_distributions=random_grid,n_iter=5,scoring='roc_auc',n_jobs=-1,cv=5,verbose=3)"
   ]
  },
  {
   "cell_type": "code",
   "execution_count": 71,
   "metadata": {},
   "outputs": [
    {
     "name": "stdout",
     "output_type": "stream",
     "text": [
      "Fitting 5 folds for each of 5 candidates, totalling 25 fits\n"
     ]
    },
    {
     "data": {
      "text/plain": [
       "RandomizedSearchCV(cv=5, estimator=RandomForestClassifier(), n_iter=5,\n",
       "                   n_jobs=-1,\n",
       "                   param_distributions={'criterion': ['entropy', 'gini'],\n",
       "                                        'max_depth': [10, 120, 230, 340, 450,\n",
       "                                                      560, 670, 780, 890,\n",
       "                                                      1000],\n",
       "                                        'max_features': ['auto', 'sqrt',\n",
       "                                                         'log2'],\n",
       "                                        'min_samples_leaf': [1, 2, 4, 6, 8],\n",
       "                                        'min_samples_split': [2, 5, 10, 14],\n",
       "                                        'n_estimators': [200, 400, 600, 800,\n",
       "                                                         1000, 1200, 1400, 1600,\n",
       "                                                         1800, 2000]},\n",
       "                   scoring='roc_auc', verbose=3)"
      ]
     },
     "execution_count": 71,
     "metadata": {},
     "output_type": "execute_result"
    }
   ],
   "source": [
    "### Fit the Randomsearch Model\n",
    "random_search.fit(x_res, y_res)"
   ]
  },
  {
   "cell_type": "code",
   "execution_count": 72,
   "metadata": {},
   "outputs": [
    {
     "data": {
      "text/plain": [
       "RandomForestClassifier(max_depth=1000, max_features='log2', n_estimators=1200)"
      ]
     },
     "execution_count": 72,
     "metadata": {},
     "output_type": "execute_result"
    }
   ],
   "source": [
    "### Choosing the Best estimator\n",
    "random_search.best_estimator_"
   ]
  },
  {
   "cell_type": "code",
   "execution_count": 73,
   "metadata": {},
   "outputs": [
    {
     "data": {
      "text/plain": [
       "{'n_estimators': 1200,\n",
       " 'min_samples_split': 2,\n",
       " 'min_samples_leaf': 1,\n",
       " 'max_features': 'log2',\n",
       " 'max_depth': 1000,\n",
       " 'criterion': 'gini'}"
      ]
     },
     "execution_count": 73,
     "metadata": {},
     "output_type": "execute_result"
    }
   ],
   "source": [
    "### Best params\n",
    "random_search.best_params_"
   ]
  },
  {
   "cell_type": "code",
   "execution_count": 74,
   "metadata": {},
   "outputs": [
    {
     "data": {
      "text/plain": [
       "RandomForestClassifier(max_depth=1000, max_features='log2', n_estimators=1200)"
      ]
     },
     "execution_count": 74,
     "metadata": {},
     "output_type": "execute_result"
    }
   ],
   "source": [
    "classifier = RandomForestClassifier(n_estimators=1200, min_samples_split=2, min_samples_leaf=1, max_features='log2',max_depth=1000,criterion='gini')\n",
    "classifier.fit(x_train, y_train)"
   ]
  },
  {
   "cell_type": "code",
   "execution_count": 75,
   "metadata": {},
   "outputs": [
    {
     "name": "stdout",
     "output_type": "stream",
     "text": [
      "              precision    recall  f1-score   support\n",
      "\n",
      "           0       0.88      0.87      0.87       942\n",
      "           1       0.81      0.83      0.82       669\n",
      "\n",
      "    accuracy                           0.85      1611\n",
      "   macro avg       0.85      0.85      0.85      1611\n",
      "weighted avg       0.85      0.85      0.85      1611\n",
      "\n"
     ]
    },
    {
     "data": {
      "image/png": "[encoded data removed]",
      "text/plain": [
       "<Figure size 360x360 with 2 Axes>"
      ]
     },
     "metadata": {
      "needs_background": "light"
     },
     "output_type": "display_data"
    }
   ],
   "source": [
    "predictions = classifier.predict(x_test)\n",
    "cmatrix = confusion_matrix(predictions, y_test)\n",
    "report = classification_report(predictions, y_test)\n",
    "score = accuracy_score(predictions, y_test)\n",
    "\n",
    "generate_report(cmatrix, report, score)"
   ]
  },
  {
   "cell_type": "markdown",
   "metadata": {},
   "source": [
    "* So Lets take Make the above model as a model as Classifier"
   ]
  },
  {
   "cell_type": "code",
   "execution_count": 76,
   "metadata": {},
   "outputs": [],
   "source": [
    "classifier = RandomForestClassifier(n_estimators=1200, min_samples_split=2, min_samples_leaf=1, max_features='log2',max_depth=1000,criterion='gini')"
   ]
  },
  {
   "cell_type": "code",
   "execution_count": 77,
   "metadata": {},
   "outputs": [
    {
     "data": {
      "text/plain": [
       "RandomForestClassifier(max_depth=1000, max_features='log2', n_estimators=1200)"
      ]
     },
     "execution_count": 77,
     "metadata": {},
     "output_type": "execute_result"
    }
   ],
   "source": [
    "classifier.fit(x_train, y_train)"
   ]
  },
  {
   "cell_type": "code",
   "execution_count": 78,
   "metadata": {},
   "outputs": [],
   "source": [
    "### Lets try it with cross_validation Techniques\n",
    "from sklearn.model_selection import cross_val_score\n",
    "score=cross_val_score(classifier,x_res,y_res,cv=10)"
   ]
  },
  {
   "cell_type": "code",
   "execution_count": 79,
   "metadata": {},
   "outputs": [
    {
     "data": {
      "text/plain": [
       "array([0.84739454, 0.84739454, 0.84347826, 0.8173913 , 0.81614907,\n",
       "       0.85838509, 0.88074534, 0.89192547, 0.87950311, 0.88571429])"
      ]
     },
     "execution_count": 79,
     "metadata": {},
     "output_type": "execute_result"
    }
   ],
   "source": [
    "score"
   ]
  },
  {
   "cell_type": "code",
   "execution_count": 82,
   "metadata": {},
   "outputs": [
    {
     "data": {
      "text/plain": [
       "10"
      ]
     },
     "execution_count": 82,
     "metadata": {},
     "output_type": "execute_result"
    }
   ],
   "source": [
    "from sklearn.model_selection import StratifiedKFold\n",
    "skf=StratifiedKFold(n_splits=10)\n",
    "skf.get_n_splits(x,y)"
   ]
  },
  {
   "cell_type": "code",
   "execution_count": 83,
   "metadata": {},
   "outputs": [
    {
     "name": "stdout",
     "output_type": "stream",
     "text": [
      "Train: [ 692  694  695 ... 7040 7041 7042] Validation: [  0   1   2   3   4   5   6   7   8   9  10  11  12  13  14  15  16  17\n",
      "  18  19  20  21  22  23  24  25  26  27  28  29  30  31  32  33  34  35\n",
      "  36  37  38  39  40  41  42  43  44  45  46  47  48  49  50  51  52  53\n",
      "  54  55  56  57  58  59  60  61  62  63  64  65  66  67  68  69  70  71\n",
      "  72  73  74  75  76  77  78  79  80  81  82  83  84  85  86  87  88  89\n",
      "  90  91  92  93  94  95  96  97  98  99 100 101 102 103 104 105 106 107\n",
      " 108 109 110 111 112 113 114 115 116 117 118 119 120 121 122 123 124 125\n",
      " 126 127 128 129 130 131 132 133 134 135 136 137 138 139 140 141 142 143\n",
      " 144 145 146 147 148 149 150 151 152 153 154 155 156 157 158 159 160 161\n",
      " 162 163 164 165 166 167 168 169 170 171 172 173 174 175 176 177 178 179\n",
      " 180 181 182 183 184 185 186 187 188 189 190 191 192 193 194 195 196 197\n",
      " 198 199 200 201 202 203 204 205 206 207 208 209 210 211 212 213 214 215\n",
      " 216 217 218 219 220 221 222 223 224 225 226 227 228 229 230 231 232 233\n",
      " 234 235 236 237 238 239 240 241 242 243 244 245 246 247 248 249 250 251\n",
      " 252 253 254 255 256 257 258 259 260 261 262 263 264 265 266 267 268 269\n",
      " 270 271 272 273 274 275 276 277 278 279 280 281 282 283 284 285 286 287\n",
      " 288 289 290 291 292 293 294 295 296 297 298 299 300 301 302 303 304 305\n",
      " 306 307 308 309 310 311 312 313 314 315 316 317 318 319 320 321 322 323\n",
      " 324 325 326 327 328 329 330 331 332 333 334 335 336 337 338 339 340 341\n",
      " 342 343 344 345 346 347 348 349 350 351 352 353 354 355 356 357 358 359\n",
      " 360 361 362 363 364 365 366 367 368 369 370 371 372 373 374 375 376 377\n",
      " 378 379 380 381 382 383 384 385 386 387 388 389 390 391 392 393 394 395\n",
      " 396 397 398 399 400 401 402 403 404 405 406 407 408 409 410 411 412 413\n",
      " 414 415 416 417 418 419 420 421 422 423 424 425 426 427 428 429 430 431\n",
      " 432 433 434 435 436 437 438 439 440 441 442 443 444 445 446 447 448 449\n",
      " 450 451 452 453 454 455 456 457 458 459 460 461 462 463 464 465 466 467\n",
      " 468 469 470 471 472 473 474 475 476 477 478 479 480 481 482 483 484 485\n",
      " 486 487 488 489 490 491 492 493 494 495 496 497 498 499 500 501 502 503\n",
      " 504 505 506 507 508 509 510 511 512 513 514 515 516 517 518 519 520 521\n",
      " 522 523 524 525 526 527 528 529 530 531 532 533 534 535 536 537 538 539\n",
      " 540 541 542 543 544 545 546 547 548 549 550 551 552 553 554 555 556 557\n",
      " 558 559 560 561 562 563 564 565 566 567 568 569 570 571 572 573 574 575\n",
      " 576 577 578 579 580 581 582 583 584 585 586 587 588 589 590 591 592 593\n",
      " 594 595 596 597 598 599 600 601 602 603 604 605 606 607 608 609 610 611\n",
      " 612 613 614 615 616 617 618 619 620 621 622 623 624 625 626 627 628 629\n",
      " 630 631 632 633 634 635 636 637 638 639 640 641 642 643 644 645 646 647\n",
      " 648 649 650 651 652 653 654 655 656 657 658 659 660 661 662 663 664 665\n",
      " 666 667 668 669 670 671 672 673 674 675 676 677 678 679 680 681 682 683\n",
      " 684 685 686 687 688 689 690 691 693 697 705 710 722 723 724 728 730 742\n",
      " 755 758 761]\n",
      "Train: [   0    1    2 ... 7040 7041 7042] Validation: [ 692  694  695  696  698  699  700  701  702  703  704  706  707  708\n",
      "  709  711  712  713  714  715  716  717  718  719  720  721  725  726\n",
      "  727  729  731  732  733  734  735  736  737  738  739  740  741  743\n",
      "  744  745  746  747  748  749  750  751  752  753  754  756  757  759\n",
      "  760  762  763  764  765  766  767  768  769  770  771  772  773  774\n",
      "  775  776  777  778  779  780  781  782  783  784  785  786  787  788\n",
      "  789  790  791  792  793  794  795  796  797  798  799  800  801  802\n",
      "  803  804  805  806  807  808  809  810  811  812  813  814  815  816\n",
      "  817  818  819  820  821  822  823  824  825  826  827  828  829  830\n",
      "  831  832  833  834  835  836  837  838  839  840  841  842  843  844\n",
      "  845  846  847  848  849  850  851  852  853  854  855  856  857  858\n",
      "  859  860  861  862  863  864  865  866  867  868  869  870  871  872\n",
      "  873  874  875  876  877  878  879  880  881  882  883  884  885  886\n",
      "  887  888  889  890  891  892  893  894  895  896  897  898  899  900\n",
      "  901  902  903  904  905  906  907  908  909  910  911  912  913  914\n",
      "  915  916  917  918  919  920  921  922  923  924  925  926  927  928\n",
      "  929  930  931  932  933  934  935  936  937  938  939  940  941  942\n",
      "  943  944  945  946  947  948  949  950  951  952  953  954  955  956\n",
      "  957  958  959  960  961  962  963  964  965  966  967  968  969  970\n",
      "  971  972  973  974  975  976  977  978  979  980  981  982  983  984\n",
      "  985  986  987  988  989  990  991  992  993  994  995  996  997  998\n",
      "  999 1000 1001 1002 1003 1004 1005 1006 1007 1008 1009 1010 1011 1012\n",
      " 1013 1014 1015 1016 1017 1018 1019 1020 1021 1022 1023 1024 1025 1026\n",
      " 1027 1028 1029 1030 1031 1032 1033 1034 1035 1036 1037 1038 1039 1040\n",
      " 1041 1042 1043 1044 1045 1046 1047 1048 1049 1050 1051 1052 1053 1054\n",
      " 1055 1056 1057 1058 1059 1060 1061 1062 1063 1064 1065 1066 1067 1068\n",
      " 1069 1070 1071 1072 1073 1074 1075 1076 1077 1078 1079 1080 1081 1082\n",
      " 1083 1084 1085 1086 1087 1088 1089 1090 1091 1092 1093 1094 1095 1096\n",
      " 1097 1098 1099 1100 1101 1102 1103 1104 1105 1106 1107 1108 1109 1110\n",
      " 1111 1112 1113 1114 1115 1116 1117 1118 1119 1120 1121 1122 1123 1124\n",
      " 1125 1126 1127 1128 1129 1130 1131 1132 1133 1134 1135 1136 1137 1138\n",
      " 1139 1140 1141 1142 1143 1144 1145 1146 1147 1148 1149 1150 1151 1152\n",
      " 1153 1154 1155 1156 1157 1158 1159 1160 1161 1162 1163 1164 1165 1166\n",
      " 1167 1168 1169 1170 1171 1172 1173 1174 1175 1176 1177 1178 1179 1180\n",
      " 1181 1182 1183 1184 1185 1186 1187 1188 1189 1190 1191 1192 1193 1194\n",
      " 1195 1196 1197 1198 1199 1200 1201 1202 1203 1204 1205 1206 1207 1208\n",
      " 1209 1210 1211 1212 1213 1214 1215 1216 1217 1218 1219 1220 1221 1222\n",
      " 1223 1224 1225 1226 1227 1228 1229 1230 1231 1232 1233 1234 1235 1236\n",
      " 1237 1238 1239 1240 1241 1242 1243 1244 1245 1246 1247 1248 1249 1250\n",
      " 1251 1252 1253 1254 1255 1256 1257 1258 1259 1260 1261 1262 1263 1264\n",
      " 1265 1266 1267 1268 1269 1270 1271 1272 1273 1274 1275 1276 1277 1278\n",
      " 1279 1280 1281 1282 1283 1284 1285 1286 1287 1288 1289 1290 1291 1292\n",
      " 1293 1294 1295 1296 1297 1298 1299 1300 1301 1302 1303 1304 1305 1306\n",
      " 1307 1308 1309 1310 1311 1312 1313 1314 1315 1316 1317 1318 1319 1320\n",
      " 1321 1322 1323 1324 1325 1326 1327 1328 1329 1330 1331 1332 1333 1334\n",
      " 1335 1336 1337 1338 1339 1340 1341 1342 1343 1344 1345 1346 1347 1348\n",
      " 1349 1350 1351 1352 1353 1354 1355 1356 1357 1358 1359 1360 1361 1362\n",
      " 1363 1364 1365 1366 1367 1368 1369 1370 1371 1372 1373 1374 1375 1376\n",
      " 1377 1378 1379 1380 1381 1382 1383 1384 1385 1386 1387 1388 1389 1390\n",
      " 1391 1392 1393 1394 1395 1396 1397 1398 1399 1400 1401 1402 1403 1404\n",
      " 1405 1406 1407 1408 1410]\n",
      "Train: [   0    1    2 ... 7040 7041 7042] Validation: [1409 1411 1412 1413 1414 1415 1416 1417 1418 1419 1420 1421 1422 1423\n",
      " 1424 1425 1426 1427 1428 1429 1430 1431 1432 1433 1434 1435 1436 1437\n",
      " 1438 1439 1440 1441 1442 1443 1444 1445 1446 1447 1448 1449 1450 1451\n",
      " 1452 1453 1454 1455 1456 1457 1458 1459 1460 1461 1462 1463 1464 1465\n",
      " 1466 1467 1468 1469 1470 1471 1472 1473 1474 1475 1476 1477 1478 1479\n",
      " 1480 1481 1482 1483 1484 1485 1486 1487 1488 1489 1490 1491 1492 1493\n",
      " 1494 1495 1496 1497 1498 1499 1500 1501 1502 1503 1504 1505 1506 1507\n",
      " 1508 1509 1510 1511 1512 1513 1514 1515 1516 1517 1518 1519 1520 1521\n",
      " 1522 1523 1524 1525 1526 1527 1528 1529 1530 1531 1532 1533 1534 1535\n",
      " 1536 1537 1538 1539 1540 1541 1542 1543 1544 1545 1546 1547 1548 1549\n",
      " 1550 1551 1552 1553 1554 1555 1556 1557 1558 1559 1560 1561 1562 1563\n",
      " 1564 1565 1566 1567 1568 1569 1570 1571 1572 1573 1574 1575 1576 1577\n",
      " 1578 1579 1580 1581 1582 1583 1584 1585 1586 1587 1588 1589 1590 1591\n",
      " 1592 1593 1594 1595 1596 1597 1598 1599 1600 1601 1602 1603 1604 1605\n",
      " 1606 1607 1608 1609 1610 1611 1612 1613 1614 1615 1616 1617 1618 1619\n",
      " 1620 1621 1622 1623 1624 1625 1626 1627 1628 1629 1630 1631 1632 1633\n",
      " 1634 1635 1636 1637 1638 1639 1640 1641 1642 1643 1644 1645 1646 1647\n",
      " 1648 1649 1650 1651 1652 1653 1654 1655 1656 1657 1658 1659 1660 1661\n",
      " 1662 1663 1664 1665 1666 1667 1668 1669 1670 1671 1672 1673 1674 1675\n",
      " 1676 1677 1678 1679 1680 1681 1682 1683 1684 1685 1686 1687 1688 1689\n",
      " 1690 1691 1692 1693 1694 1695 1696 1697 1698 1699 1700 1701 1702 1703\n",
      " 1704 1705 1706 1707 1708 1709 1710 1711 1712 1713 1714 1715 1716 1717\n",
      " 1718 1719 1720 1721 1722 1723 1724 1725 1726 1727 1728 1729 1730 1731\n",
      " 1732 1733 1734 1735 1736 1737 1738 1739 1740 1741 1742 1743 1744 1745\n",
      " 1746 1747 1748 1749 1750 1751 1752 1753 1754 1755 1756 1757 1758 1759\n",
      " 1760 1761 1762 1763 1764 1765 1766 1767 1768 1769 1770 1771 1772 1773\n",
      " 1774 1775 1776 1777 1778 1779 1780 1781 1782 1783 1784 1785 1786 1787\n",
      " 1788 1789 1790 1791 1792 1793 1794 1795 1796 1797 1798 1799 1800 1801\n",
      " 1802 1803 1804 1805 1806 1807 1808 1809 1810 1811 1812 1813 1814 1815\n",
      " 1816 1817 1818 1819 1820 1821 1822 1823 1824 1825 1826 1827 1828 1829\n",
      " 1830 1831 1832 1833 1834 1835 1836 1837 1838 1839 1840 1841 1842 1843\n",
      " 1844 1845 1846 1847 1848 1849 1850 1851 1852 1853 1854 1855 1856 1857\n",
      " 1858 1859 1860 1861 1862 1863 1864 1865 1866 1867 1868 1869 1870 1871\n",
      " 1872 1873 1874 1875 1876 1877 1878 1879 1880 1881 1882 1883 1884 1885\n",
      " 1886 1887 1888 1889 1890 1891 1892 1893 1894 1895 1896 1897 1898 1899\n",
      " 1900 1901 1902 1903 1904 1905 1906 1907 1908 1909 1910 1911 1912 1913\n",
      " 1914 1915 1916 1917 1918 1919 1920 1921 1922 1923 1924 1925 1926 1927\n",
      " 1928 1929 1930 1931 1932 1933 1934 1935 1936 1937 1938 1939 1940 1941\n",
      " 1942 1943 1944 1945 1946 1947 1948 1949 1950 1951 1952 1953 1954 1955\n",
      " 1956 1957 1958 1959 1960 1961 1962 1963 1964 1965 1966 1967 1968 1969\n",
      " 1970 1971 1972 1973 1974 1975 1976 1977 1978 1979 1980 1981 1982 1983\n",
      " 1984 1985 1986 1987 1988 1989 1990 1991 1992 1993 1994 1995 1996 1997\n",
      " 1998 1999 2000 2001 2002 2003 2004 2005 2006 2007 2008 2009 2010 2011\n",
      " 2012 2013 2014 2015 2016 2017 2018 2019 2020 2021 2022 2023 2024 2025\n",
      " 2026 2027 2028 2029 2030 2031 2032 2033 2034 2035 2036 2037 2038 2039\n",
      " 2040 2041 2042 2043 2044 2045 2046 2047 2048 2049 2050 2051 2052 2053\n",
      " 2054 2055 2056 2057 2058 2059 2060 2061 2062 2063 2064 2065 2066 2067\n",
      " 2068 2069 2070 2071 2072 2073 2074 2075 2076 2077 2078 2079 2080 2081\n",
      " 2082 2083 2084 2085 2086 2087 2088 2089 2090 2091 2092 2093 2094 2095\n",
      " 2096 2097 2098 2099 2100 2101 2102 2103 2104 2106 2107 2108 2109 2110\n",
      " 2111 2112 2113 2114 2115]\n"
     ]
    },
    {
     "name": "stdout",
     "output_type": "stream",
     "text": [
      "Train: [   0    1    2 ... 7040 7041 7042] Validation: [2105 2116 2117 2118 2119 2120 2121 2122 2123 2124 2125 2126 2127 2128\n",
      " 2129 2130 2131 2132 2133 2134 2135 2136 2137 2138 2139 2140 2141 2142\n",
      " 2143 2144 2145 2146 2147 2148 2149 2150 2151 2152 2153 2154 2155 2156\n",
      " 2157 2158 2159 2160 2161 2162 2163 2164 2165 2166 2167 2168 2169 2170\n",
      " 2171 2172 2173 2174 2175 2176 2177 2178 2179 2180 2181 2182 2183 2184\n",
      " 2185 2186 2187 2188 2189 2190 2191 2192 2193 2194 2195 2196 2197 2198\n",
      " 2199 2200 2201 2202 2203 2204 2205 2206 2207 2208 2209 2210 2211 2212\n",
      " 2213 2214 2215 2216 2217 2218 2219 2220 2221 2222 2223 2224 2225 2226\n",
      " 2227 2228 2229 2230 2231 2232 2233 2234 2235 2236 2237 2238 2239 2240\n",
      " 2241 2242 2243 2244 2245 2246 2247 2248 2249 2250 2251 2252 2253 2254\n",
      " 2255 2256 2257 2258 2259 2260 2261 2262 2263 2264 2265 2266 2267 2268\n",
      " 2269 2270 2271 2272 2273 2274 2275 2276 2277 2278 2279 2280 2281 2282\n",
      " 2283 2284 2285 2286 2287 2288 2289 2290 2291 2292 2293 2294 2295 2296\n",
      " 2297 2298 2299 2300 2301 2302 2303 2304 2305 2306 2307 2308 2309 2310\n",
      " 2311 2312 2313 2314 2315 2316 2317 2318 2319 2320 2321 2322 2323 2324\n",
      " 2325 2326 2327 2328 2329 2330 2331 2332 2333 2334 2335 2336 2337 2338\n",
      " 2339 2340 2341 2342 2343 2344 2345 2346 2347 2348 2349 2350 2351 2352\n",
      " 2353 2354 2355 2356 2357 2358 2359 2360 2361 2362 2363 2364 2365 2366\n",
      " 2367 2368 2369 2370 2371 2372 2373 2374 2375 2376 2377 2378 2379 2380\n",
      " 2381 2382 2383 2384 2385 2386 2387 2388 2389 2390 2391 2392 2393 2394\n",
      " 2395 2396 2397 2398 2399 2400 2401 2402 2403 2404 2405 2406 2407 2408\n",
      " 2409 2410 2411 2412 2413 2414 2415 2416 2417 2418 2419 2420 2421 2422\n",
      " 2423 2424 2425 2426 2427 2428 2429 2430 2431 2432 2433 2434 2435 2436\n",
      " 2437 2438 2439 2440 2441 2442 2443 2444 2445 2446 2447 2448 2449 2450\n",
      " 2451 2452 2453 2454 2455 2456 2457 2458 2459 2460 2461 2462 2463 2464\n",
      " 2465 2466 2467 2468 2469 2470 2471 2472 2473 2474 2475 2476 2477 2478\n",
      " 2479 2480 2481 2482 2483 2484 2485 2486 2487 2488 2489 2490 2491 2492\n",
      " 2493 2494 2495 2496 2497 2498 2499 2500 2501 2502 2503 2504 2505 2506\n",
      " 2507 2508 2509 2510 2511 2512 2513 2514 2515 2516 2517 2518 2519 2520\n",
      " 2521 2522 2523 2524 2525 2526 2527 2528 2529 2530 2531 2532 2533 2534\n",
      " 2535 2536 2537 2538 2539 2540 2541 2542 2543 2544 2545 2546 2547 2548\n",
      " 2549 2550 2551 2552 2553 2554 2555 2556 2557 2558 2559 2560 2561 2562\n",
      " 2563 2564 2565 2566 2567 2568 2569 2570 2571 2572 2573 2574 2575 2576\n",
      " 2577 2578 2579 2580 2581 2582 2583 2584 2585 2586 2587 2588 2589 2590\n",
      " 2591 2592 2593 2594 2595 2596 2597 2598 2599 2600 2601 2602 2603 2604\n",
      " 2605 2606 2607 2608 2609 2610 2611 2612 2613 2614 2615 2616 2617 2618\n",
      " 2619 2620 2621 2622 2623 2624 2625 2626 2627 2628 2629 2630 2631 2632\n",
      " 2633 2634 2635 2636 2637 2638 2639 2640 2641 2642 2643 2644 2645 2646\n",
      " 2647 2648 2649 2650 2651 2652 2653 2654 2655 2656 2657 2658 2659 2660\n",
      " 2661 2662 2663 2664 2665 2666 2667 2668 2669 2670 2671 2672 2673 2674\n",
      " 2675 2676 2677 2678 2679 2680 2681 2682 2683 2684 2685 2686 2687 2688\n",
      " 2689 2690 2691 2692 2693 2694 2695 2696 2697 2698 2699 2700 2701 2702\n",
      " 2703 2704 2705 2706 2707 2708 2709 2710 2711 2712 2713 2714 2715 2716\n",
      " 2717 2718 2719 2720 2721 2722 2723 2724 2725 2726 2727 2728 2729 2730\n",
      " 2731 2732 2733 2734 2735 2736 2737 2738 2739 2740 2741 2742 2743 2744\n",
      " 2745 2746 2747 2748 2749 2750 2751 2752 2753 2754 2755 2756 2757 2758\n",
      " 2759 2760 2761 2762 2763 2764 2765 2766 2767 2768 2769 2770 2771 2772\n",
      " 2773 2774 2775 2776 2777 2778 2779 2780 2781 2782 2783 2784 2785 2786\n",
      " 2787 2788 2789 2790 2791 2792 2793 2794 2795 2796 2797 2798 2799 2800\n",
      " 2801 2802 2803 2804 2805 2806 2812 2815 2818 2821 2822 2829 2831 2837\n",
      " 2844 2861 2862 2869]\n",
      "Train: [   0    1    2 ... 7040 7041 7042] Validation: [2807 2808 2809 2810 2811 2813 2814 2816 2817 2819 2820 2823 2824 2825\n",
      " 2826 2827 2828 2830 2832 2833 2834 2835 2836 2838 2839 2840 2841 2842\n",
      " 2843 2845 2846 2847 2848 2849 2850 2851 2852 2853 2854 2855 2856 2857\n",
      " 2858 2859 2860 2863 2864 2865 2866 2867 2868 2870 2871 2872 2873 2874\n",
      " 2875 2876 2877 2878 2879 2880 2881 2882 2883 2884 2885 2886 2887 2888\n",
      " 2889 2890 2891 2892 2893 2894 2895 2896 2897 2898 2899 2900 2901 2902\n",
      " 2903 2904 2905 2906 2907 2908 2909 2910 2911 2912 2913 2914 2915 2916\n",
      " 2917 2918 2919 2920 2921 2922 2923 2924 2925 2926 2927 2928 2929 2930\n",
      " 2931 2932 2933 2934 2935 2936 2937 2938 2939 2940 2941 2942 2943 2944\n",
      " 2945 2946 2947 2948 2949 2950 2951 2952 2953 2954 2955 2956 2957 2958\n",
      " 2959 2960 2961 2962 2963 2964 2965 2966 2967 2968 2969 2970 2971 2972\n",
      " 2973 2974 2975 2976 2977 2978 2979 2980 2981 2982 2983 2984 2985 2986\n",
      " 2987 2988 2989 2990 2991 2992 2993 2994 2995 2996 2997 2998 2999 3000\n",
      " 3001 3002 3003 3004 3005 3006 3007 3008 3009 3010 3011 3012 3013 3014\n",
      " 3015 3016 3017 3018 3019 3020 3021 3022 3023 3024 3025 3026 3027 3028\n",
      " 3029 3030 3031 3032 3033 3034 3035 3036 3037 3038 3039 3040 3041 3042\n",
      " 3043 3044 3045 3046 3047 3048 3049 3050 3051 3052 3053 3054 3055 3056\n",
      " 3057 3058 3059 3060 3061 3062 3063 3064 3065 3066 3067 3068 3069 3070\n",
      " 3071 3072 3073 3074 3075 3076 3077 3078 3079 3080 3081 3082 3083 3084\n",
      " 3085 3086 3087 3088 3089 3090 3091 3092 3093 3094 3095 3096 3097 3098\n",
      " 3099 3100 3101 3102 3103 3104 3105 3106 3107 3108 3109 3110 3111 3112\n",
      " 3113 3114 3115 3116 3117 3118 3119 3120 3121 3122 3123 3124 3125 3126\n",
      " 3127 3128 3129 3130 3131 3132 3133 3134 3135 3136 3137 3138 3139 3140\n",
      " 3141 3142 3143 3144 3145 3146 3147 3148 3149 3150 3151 3152 3153 3154\n",
      " 3155 3156 3157 3158 3159 3160 3161 3162 3163 3164 3165 3166 3167 3168\n",
      " 3169 3170 3171 3172 3173 3174 3175 3176 3177 3178 3179 3180 3181 3182\n",
      " 3183 3184 3185 3186 3187 3188 3189 3190 3191 3192 3193 3194 3195 3196\n",
      " 3197 3198 3199 3200 3201 3202 3203 3204 3205 3206 3207 3208 3209 3210\n",
      " 3211 3212 3213 3214 3215 3216 3217 3218 3219 3220 3221 3222 3223 3224\n",
      " 3225 3226 3227 3228 3229 3230 3231 3232 3233 3234 3235 3236 3237 3238\n",
      " 3239 3240 3241 3242 3243 3244 3245 3246 3247 3248 3249 3250 3251 3252\n",
      " 3253 3254 3255 3256 3257 3258 3259 3260 3261 3262 3263 3264 3265 3266\n",
      " 3267 3268 3269 3270 3271 3272 3273 3274 3275 3276 3277 3278 3279 3280\n",
      " 3281 3282 3283 3284 3285 3286 3287 3288 3289 3290 3291 3292 3293 3294\n",
      " 3295 3296 3297 3298 3299 3300 3301 3302 3303 3304 3305 3306 3307 3308\n",
      " 3309 3310 3311 3312 3313 3314 3315 3316 3317 3318 3319 3320 3321 3322\n",
      " 3323 3324 3325 3326 3327 3328 3329 3330 3331 3332 3333 3334 3335 3336\n",
      " 3337 3338 3339 3340 3341 3342 3343 3344 3345 3346 3347 3348 3349 3350\n",
      " 3351 3352 3353 3354 3355 3356 3357 3358 3359 3360 3361 3362 3363 3364\n",
      " 3365 3366 3367 3368 3369 3370 3371 3372 3373 3374 3375 3376 3377 3378\n",
      " 3379 3380 3381 3382 3383 3384 3385 3386 3387 3388 3389 3390 3391 3392\n",
      " 3393 3394 3395 3396 3397 3398 3399 3400 3401 3402 3403 3404 3405 3406\n",
      " 3407 3408 3409 3410 3411 3412 3413 3414 3415 3416 3417 3418 3419 3420\n",
      " 3421 3422 3423 3424 3425 3426 3427 3428 3429 3430 3431 3432 3433 3434\n",
      " 3435 3436 3437 3438 3439 3440 3441 3442 3443 3444 3445 3446 3447 3448\n",
      " 3449 3450 3451 3452 3453 3454 3455 3456 3457 3458 3459 3460 3461 3462\n",
      " 3463 3464 3465 3466 3467 3468 3469 3470 3471 3472 3473 3474 3475 3476\n",
      " 3477 3478 3479 3480 3481 3482 3483 3484 3485 3486 3487 3488 3489 3490\n",
      " 3491 3492 3493 3494 3495 3496 3497 3498 3499 3500 3501 3502 3503 3516\n",
      " 3517 3524 3525 3526 3527 3528 3532 3534 3539 3544 3550 3551 3555 3561\n",
      " 3562 3565 3567 3577]\n",
      "Train: [   0    1    2 ... 7040 7041 7042] Validation: [3504 3505 3506 3507 3508 3509 3510 3511 3512 3513 3514 3515 3518 3519\n",
      " 3520 3521 3522 3523 3529 3530 3531 3533 3535 3536 3537 3538 3540 3541\n",
      " 3542 3543 3545 3546 3547 3548 3549 3552 3553 3554 3556 3557 3558 3559\n",
      " 3560 3563 3564 3566 3568 3569 3570 3571 3572 3573 3574 3575 3576 3578\n",
      " 3579 3580 3581 3582 3583 3584 3585 3586 3587 3588 3589 3590 3591 3592\n",
      " 3593 3594 3595 3596 3597 3598 3599 3600 3601 3602 3603 3604 3605 3606\n",
      " 3607 3608 3609 3610 3611 3612 3613 3614 3615 3616 3617 3618 3619 3620\n",
      " 3621 3622 3623 3624 3625 3626 3627 3628 3629 3630 3631 3632 3633 3634\n",
      " 3635 3636 3637 3638 3639 3640 3641 3642 3643 3644 3645 3646 3647 3648\n",
      " 3649 3650 3651 3652 3653 3654 3655 3656 3657 3658 3659 3660 3661 3662\n",
      " 3663 3664 3665 3666 3667 3668 3669 3670 3671 3672 3673 3674 3675 3676\n",
      " 3677 3678 3679 3680 3681 3682 3683 3684 3685 3686 3687 3688 3689 3690\n",
      " 3691 3692 3693 3694 3695 3696 3697 3698 3699 3700 3701 3702 3703 3704\n",
      " 3705 3706 3707 3708 3709 3710 3711 3712 3713 3714 3715 3716 3717 3718\n",
      " 3719 3720 3721 3722 3723 3724 3725 3726 3727 3728 3729 3730 3731 3732\n",
      " 3733 3734 3735 3736 3737 3738 3739 3740 3741 3742 3743 3744 3745 3746\n",
      " 3747 3748 3749 3750 3751 3752 3753 3754 3755 3756 3757 3758 3759 3760\n",
      " 3761 3762 3763 3764 3765 3766 3767 3768 3769 3770 3771 3772 3773 3774\n",
      " 3775 3776 3777 3778 3779 3780 3781 3782 3783 3784 3785 3786 3787 3788\n",
      " 3789 3790 3791 3792 3793 3794 3795 3796 3797 3798 3799 3800 3801 3802\n",
      " 3803 3804 3805 3806 3807 3808 3809 3810 3811 3812 3813 3814 3815 3816\n",
      " 3817 3818 3819 3820 3821 3822 3823 3824 3825 3826 3827 3828 3829 3830\n",
      " 3831 3832 3833 3834 3835 3836 3837 3838 3839 3840 3841 3842 3843 3844\n",
      " 3845 3846 3847 3848 3849 3850 3851 3852 3853 3854 3855 3856 3857 3858\n",
      " 3859 3860 3861 3862 3863 3864 3865 3866 3867 3868 3869 3870 3871 3872\n",
      " 3873 3874 3875 3876 3877 3878 3879 3880 3881 3882 3883 3884 3885 3886\n",
      " 3887 3888 3889 3890 3891 3892 3893 3894 3895 3896 3897 3898 3899 3900\n",
      " 3901 3902 3903 3904 3905 3906 3907 3908 3909 3910 3911 3912 3913 3914\n",
      " 3915 3916 3917 3918 3919 3920 3921 3922 3923 3924 3925 3926 3927 3928\n",
      " 3929 3930 3931 3932 3933 3934 3935 3936 3937 3938 3939 3940 3941 3942\n",
      " 3943 3944 3945 3946 3947 3948 3949 3950 3951 3952 3953 3954 3955 3956\n",
      " 3957 3958 3959 3960 3961 3962 3963 3964 3965 3966 3967 3968 3969 3970\n",
      " 3971 3972 3973 3974 3975 3976 3977 3978 3979 3980 3981 3982 3983 3984\n",
      " 3985 3986 3987 3988 3989 3990 3991 3992 3993 3994 3995 3996 3997 3998\n",
      " 3999 4000 4001 4002 4003 4004 4005 4006 4007 4008 4009 4010 4011 4012\n",
      " 4013 4014 4015 4016 4017 4018 4019 4020 4021 4022 4023 4024 4025 4026\n",
      " 4027 4028 4029 4030 4031 4032 4033 4034 4035 4036 4037 4038 4039 4040\n",
      " 4041 4042 4043 4044 4045 4046 4047 4048 4049 4050 4051 4052 4053 4054\n",
      " 4055 4056 4057 4058 4059 4060 4061 4062 4063 4064 4065 4066 4067 4068\n",
      " 4069 4070 4071 4072 4073 4074 4075 4076 4077 4078 4079 4080 4081 4082\n",
      " 4083 4084 4085 4086 4087 4088 4089 4090 4091 4092 4093 4094 4095 4096\n",
      " 4097 4098 4099 4100 4101 4102 4103 4104 4105 4106 4107 4108 4109 4110\n",
      " 4111 4112 4113 4114 4115 4116 4117 4118 4119 4120 4121 4122 4123 4124\n",
      " 4125 4126 4127 4128 4129 4130 4131 4132 4133 4134 4135 4136 4137 4138\n",
      " 4139 4140 4141 4142 4143 4144 4145 4146 4147 4148 4149 4150 4151 4152\n",
      " 4153 4154 4155 4156 4157 4158 4159 4160 4161 4162 4163 4164 4165 4166\n",
      " 4167 4168 4169 4170 4171 4172 4173 4174 4175 4176 4177 4178 4179 4180\n",
      " 4181 4182 4183 4184 4185 4186 4187 4188 4189 4190 4191 4192 4193 4194\n",
      " 4195 4196 4197 4198 4199 4200 4201 4202 4203 4204 4205 4206 4207 4211\n",
      " 4212 4213 4214 4226 4228 4230 4232 4237 4240 4241 4254 4255 4258 4259\n",
      " 4262 4265 4266 4269]\n"
     ]
    },
    {
     "name": "stdout",
     "output_type": "stream",
     "text": [
      "Train: [   0    1    2 ... 7040 7041 7042] Validation: [4208 4209 4210 4215 4216 4217 4218 4219 4220 4221 4222 4223 4224 4225\n",
      " 4227 4229 4231 4233 4234 4235 4236 4238 4239 4242 4243 4244 4245 4246\n",
      " 4247 4248 4249 4250 4251 4252 4253 4256 4257 4260 4261 4263 4264 4267\n",
      " 4268 4270 4271 4272 4273 4274 4275 4276 4277 4278 4279 4280 4281 4282\n",
      " 4283 4284 4285 4286 4287 4288 4289 4290 4291 4292 4293 4294 4295 4296\n",
      " 4297 4298 4299 4300 4301 4302 4303 4304 4305 4306 4307 4308 4309 4310\n",
      " 4311 4312 4313 4314 4315 4316 4317 4318 4319 4320 4321 4322 4323 4324\n",
      " 4325 4326 4327 4328 4329 4330 4331 4332 4333 4334 4335 4336 4337 4338\n",
      " 4339 4340 4341 4342 4343 4344 4345 4346 4347 4348 4349 4350 4351 4352\n",
      " 4353 4354 4355 4356 4357 4358 4359 4360 4361 4362 4363 4364 4365 4366\n",
      " 4367 4368 4369 4370 4371 4372 4373 4374 4375 4376 4377 4378 4379 4380\n",
      " 4381 4382 4383 4384 4385 4386 4387 4388 4389 4390 4391 4392 4393 4394\n",
      " 4395 4396 4397 4398 4399 4400 4401 4402 4403 4404 4405 4406 4407 4408\n",
      " 4409 4410 4411 4412 4413 4414 4415 4416 4417 4418 4419 4420 4421 4422\n",
      " 4423 4424 4425 4426 4427 4428 4429 4430 4431 4432 4433 4434 4435 4436\n",
      " 4437 4438 4439 4440 4441 4442 4443 4444 4445 4446 4447 4448 4449 4450\n",
      " 4451 4452 4453 4454 4455 4456 4457 4458 4459 4460 4461 4462 4463 4464\n",
      " 4465 4466 4467 4468 4469 4470 4471 4472 4473 4474 4475 4476 4477 4478\n",
      " 4479 4480 4481 4482 4483 4484 4485 4486 4487 4488 4489 4490 4491 4492\n",
      " 4493 4494 4495 4496 4497 4498 4499 4500 4501 4502 4503 4504 4505 4506\n",
      " 4507 4508 4509 4510 4511 4512 4513 4514 4515 4516 4517 4518 4519 4520\n",
      " 4521 4522 4523 4524 4525 4526 4527 4528 4529 4530 4531 4532 4533 4534\n",
      " 4535 4536 4537 4538 4539 4540 4541 4542 4543 4544 4545 4546 4547 4548\n",
      " 4549 4550 4551 4552 4553 4554 4555 4556 4557 4558 4559 4560 4561 4562\n",
      " 4563 4564 4565 4566 4567 4568 4569 4570 4571 4572 4573 4574 4575 4576\n",
      " 4577 4578 4579 4580 4581 4582 4583 4584 4585 4586 4587 4588 4589 4590\n",
      " 4591 4592 4593 4594 4595 4596 4597 4598 4599 4600 4601 4602 4603 4604\n",
      " 4605 4606 4607 4608 4609 4610 4611 4612 4613 4614 4615 4616 4617 4618\n",
      " 4619 4620 4621 4622 4623 4624 4625 4626 4627 4628 4629 4630 4631 4632\n",
      " 4633 4634 4635 4636 4637 4638 4639 4640 4641 4642 4643 4644 4645 4646\n",
      " 4647 4648 4649 4650 4651 4652 4653 4654 4655 4656 4657 4658 4659 4660\n",
      " 4661 4662 4663 4664 4665 4666 4667 4668 4669 4670 4671 4672 4673 4674\n",
      " 4675 4676 4677 4678 4679 4680 4681 4682 4683 4684 4685 4686 4687 4688\n",
      " 4689 4690 4691 4692 4693 4694 4695 4696 4697 4698 4699 4700 4701 4702\n",
      " 4703 4704 4705 4706 4707 4708 4709 4710 4711 4712 4713 4714 4715 4716\n",
      " 4717 4718 4719 4720 4721 4722 4723 4724 4725 4726 4727 4728 4729 4730\n",
      " 4731 4732 4733 4734 4735 4736 4737 4738 4739 4740 4741 4742 4743 4744\n",
      " 4745 4746 4747 4748 4749 4750 4751 4752 4753 4754 4755 4756 4757 4758\n",
      " 4759 4760 4761 4762 4763 4764 4765 4766 4767 4768 4769 4770 4771 4772\n",
      " 4773 4774 4775 4776 4777 4778 4779 4780 4781 4782 4783 4784 4785 4786\n",
      " 4787 4788 4789 4790 4791 4792 4793 4794 4795 4796 4797 4798 4799 4800\n",
      " 4801 4802 4803 4804 4805 4806 4807 4808 4809 4810 4811 4812 4813 4814\n",
      " 4815 4816 4817 4818 4819 4820 4821 4822 4823 4824 4825 4826 4827 4828\n",
      " 4829 4830 4831 4832 4833 4834 4835 4836 4837 4838 4839 4840 4841 4842\n",
      " 4843 4844 4845 4846 4847 4848 4849 4850 4851 4852 4853 4854 4855 4856\n",
      " 4857 4858 4859 4860 4861 4862 4863 4864 4865 4866 4867 4868 4869 4870\n",
      " 4871 4872 4873 4874 4875 4876 4877 4878 4879 4880 4881 4882 4883 4884\n",
      " 4885 4886 4887 4888 4889 4890 4891 4892 4893 4894 4895 4896 4897 4898\n",
      " 4899 4900 4901 4902 4903 4904 4905 4906 4908 4910 4912 4924 4928 4938\n",
      " 4941 4942 4946 4947 4949 4950 4954 4955 4956 4959 4960 4964 4965 4967\n",
      " 4974 4978 4981 4982]\n",
      "Train: [   0    1    2 ... 7040 7041 7042] Validation: [4907 4909 4911 4913 4914 4915 4916 4917 4918 4919 4920 4921 4922 4923\n",
      " 4925 4926 4927 4929 4930 4931 4932 4933 4934 4935 4936 4937 4939 4940\n",
      " 4943 4944 4945 4948 4951 4952 4953 4957 4958 4961 4962 4963 4966 4968\n",
      " 4969 4970 4971 4972 4973 4975 4976 4977 4979 4980 4983 4984 4985 4986\n",
      " 4987 4988 4989 4990 4991 4992 4993 4994 4995 4996 4997 4998 4999 5000\n",
      " 5001 5002 5003 5004 5005 5006 5007 5008 5009 5010 5011 5012 5013 5014\n",
      " 5015 5016 5017 5018 5019 5020 5021 5022 5023 5024 5025 5026 5027 5028\n",
      " 5029 5030 5031 5032 5033 5034 5035 5036 5037 5038 5039 5040 5041 5042\n",
      " 5043 5044 5045 5046 5047 5048 5049 5050 5051 5052 5053 5054 5055 5056\n",
      " 5057 5058 5059 5060 5061 5062 5063 5064 5065 5066 5067 5068 5069 5070\n",
      " 5071 5072 5073 5074 5075 5076 5077 5078 5079 5080 5081 5082 5083 5084\n",
      " 5085 5086 5087 5088 5089 5090 5091 5092 5093 5094 5095 5096 5097 5098\n",
      " 5099 5100 5101 5102 5103 5104 5105 5106 5107 5108 5109 5110 5111 5112\n",
      " 5113 5114 5115 5116 5117 5118 5119 5120 5121 5122 5123 5124 5125 5126\n",
      " 5127 5128 5129 5130 5131 5132 5133 5134 5135 5136 5137 5138 5139 5140\n",
      " 5141 5142 5143 5144 5145 5146 5147 5148 5149 5150 5151 5152 5153 5154\n",
      " 5155 5156 5157 5158 5159 5160 5161 5162 5163 5164 5165 5166 5167 5168\n",
      " 5169 5170 5171 5172 5173 5174 5175 5176 5177 5178 5179 5180 5181 5182\n",
      " 5183 5184 5185 5186 5187 5188 5189 5190 5191 5192 5193 5194 5195 5196\n",
      " 5197 5198 5199 5200 5201 5202 5203 5204 5205 5206 5207 5208 5209 5210\n",
      " 5211 5212 5213 5214 5215 5216 5217 5218 5219 5220 5221 5222 5223 5224\n",
      " 5225 5226 5227 5228 5229 5230 5231 5232 5233 5234 5235 5236 5237 5238\n",
      " 5239 5240 5241 5242 5243 5244 5245 5246 5247 5248 5249 5250 5251 5252\n",
      " 5253 5254 5255 5256 5257 5258 5259 5260 5261 5262 5263 5264 5265 5266\n",
      " 5267 5268 5269 5270 5271 5272 5273 5274 5275 5276 5277 5278 5279 5280\n",
      " 5281 5282 5283 5284 5285 5286 5287 5288 5289 5290 5291 5292 5293 5294\n",
      " 5295 5296 5297 5298 5299 5300 5301 5302 5303 5304 5305 5306 5307 5308\n",
      " 5309 5310 5311 5312 5313 5314 5315 5316 5317 5318 5319 5320 5321 5322\n",
      " 5323 5324 5325 5326 5327 5328 5329 5330 5331 5332 5333 5334 5335 5336\n",
      " 5337 5338 5339 5340 5341 5342 5343 5344 5345 5346 5347 5348 5349 5350\n",
      " 5351 5352 5353 5354 5355 5356 5357 5358 5359 5360 5361 5362 5363 5364\n",
      " 5365 5366 5367 5368 5369 5370 5371 5372 5373 5374 5375 5376 5377 5378\n",
      " 5379 5380 5381 5382 5383 5384 5385 5386 5387 5388 5389 5390 5391 5392\n",
      " 5393 5394 5395 5396 5397 5398 5399 5400 5401 5402 5403 5404 5405 5406\n",
      " 5407 5408 5409 5410 5411 5412 5413 5414 5415 5416 5417 5418 5419 5420\n",
      " 5421 5422 5423 5424 5425 5426 5427 5428 5429 5430 5431 5432 5433 5434\n",
      " 5435 5436 5437 5438 5439 5440 5441 5442 5443 5444 5445 5446 5447 5448\n",
      " 5449 5450 5451 5452 5453 5454 5455 5456 5457 5458 5459 5460 5461 5462\n",
      " 5463 5464 5465 5466 5467 5468 5469 5470 5471 5472 5473 5474 5475 5476\n",
      " 5477 5478 5479 5480 5481 5482 5483 5484 5485 5486 5487 5488 5489 5490\n",
      " 5491 5492 5493 5494 5495 5496 5497 5498 5499 5500 5501 5502 5503 5504\n",
      " 5505 5506 5507 5508 5509 5510 5511 5512 5513 5514 5515 5516 5517 5518\n",
      " 5519 5520 5521 5522 5523 5524 5525 5526 5527 5528 5529 5530 5531 5532\n",
      " 5533 5534 5535 5536 5537 5538 5539 5540 5541 5542 5543 5544 5545 5546\n",
      " 5547 5548 5549 5550 5551 5552 5553 5554 5555 5556 5557 5558 5559 5560\n",
      " 5561 5562 5563 5564 5565 5566 5567 5568 5569 5570 5571 5572 5573 5574\n",
      " 5575 5576 5577 5578 5579 5580 5581 5582 5583 5584 5585 5586 5587 5588\n",
      " 5589 5590 5591 5592 5593 5594 5595 5596 5597 5598 5599 5600 5601 5602\n",
      " 5603 5604 5605 5606 5607 5608 5609 5610 5611 5612 5613 5614 5615 5616\n",
      " 5617 5618 5619 5620 5621 5622 5623 5624 5628 5629 5630 5634 5636 5638\n",
      " 5640 5643 5644 5646]\n",
      "Train: [   0    1    2 ... 7040 7041 7042] Validation: [5625 5626 5627 5631 5632 5633 5635 5637 5639 5641 5642 5645 5647 5648\n",
      " 5649 5650 5651 5652 5653 5654 5655 5656 5657 5658 5659 5660 5661 5662\n",
      " 5663 5664 5665 5666 5667 5668 5669 5670 5671 5672 5673 5674 5675 5676\n",
      " 5677 5678 5679 5680 5681 5682 5683 5684 5685 5686 5687 5688 5689 5690\n",
      " 5691 5692 5693 5694 5695 5696 5697 5698 5699 5700 5701 5702 5703 5704\n",
      " 5705 5706 5707 5708 5709 5710 5711 5712 5713 5714 5715 5716 5717 5718\n",
      " 5719 5720 5721 5722 5723 5724 5725 5726 5727 5728 5729 5730 5731 5732\n",
      " 5733 5734 5735 5736 5737 5738 5739 5740 5741 5742 5743 5744 5745 5746\n",
      " 5747 5748 5749 5750 5751 5752 5753 5754 5755 5756 5757 5758 5759 5760\n",
      " 5761 5762 5763 5764 5765 5766 5767 5768 5769 5770 5771 5772 5773 5774\n",
      " 5775 5776 5777 5778 5779 5780 5781 5782 5783 5784 5785 5786 5787 5788\n",
      " 5789 5790 5791 5792 5793 5794 5795 5796 5797 5798 5799 5800 5801 5802\n",
      " 5803 5804 5805 5806 5807 5808 5809 5810 5811 5812 5813 5814 5815 5816\n",
      " 5817 5818 5819 5820 5821 5822 5823 5824 5825 5826 5827 5828 5829 5830\n",
      " 5831 5832 5833 5834 5835 5836 5837 5838 5839 5840 5841 5842 5843 5844\n",
      " 5845 5846 5847 5848 5849 5850 5851 5852 5853 5854 5855 5856 5857 5858\n",
      " 5859 5860 5861 5862 5863 5864 5865 5866 5867 5868 5869 5870 5871 5872\n",
      " 5873 5874 5875 5876 5877 5878 5879 5880 5881 5882 5883 5884 5885 5886\n",
      " 5887 5888 5889 5890 5891 5892 5893 5894 5895 5896 5897 5898 5899 5900\n",
      " 5901 5902 5903 5904 5905 5906 5907 5908 5909 5910 5911 5912 5913 5914\n",
      " 5915 5916 5917 5918 5919 5920 5921 5922 5923 5924 5925 5926 5927 5928\n",
      " 5929 5930 5931 5932 5933 5934 5935 5936 5937 5938 5939 5940 5941 5942\n",
      " 5943 5944 5945 5946 5947 5948 5949 5950 5951 5952 5953 5954 5955 5956\n",
      " 5957 5958 5959 5960 5961 5962 5963 5964 5965 5966 5967 5968 5969 5970\n",
      " 5971 5972 5973 5974 5975 5976 5977 5978 5979 5980 5981 5982 5983 5984\n",
      " 5985 5986 5987 5988 5989 5990 5991 5992 5993 5994 5995 5996 5997 5998\n",
      " 5999 6000 6001 6002 6003 6004 6005 6006 6007 6008 6009 6010 6011 6012\n",
      " 6013 6014 6015 6016 6017 6018 6019 6020 6021 6022 6023 6024 6025 6026\n",
      " 6027 6028 6029 6030 6031 6032 6033 6034 6035 6036 6037 6038 6039 6040\n",
      " 6041 6042 6043 6044 6045 6046 6047 6048 6049 6050 6051 6052 6053 6054\n",
      " 6055 6056 6057 6058 6059 6060 6061 6062 6063 6064 6065 6066 6067 6068\n",
      " 6069 6070 6071 6072 6073 6074 6075 6076 6077 6078 6079 6080 6081 6082\n",
      " 6083 6084 6085 6086 6087 6088 6089 6090 6091 6092 6093 6094 6095 6096\n",
      " 6097 6098 6099 6100 6101 6102 6103 6104 6105 6106 6107 6108 6109 6110\n",
      " 6111 6112 6113 6114 6115 6116 6117 6118 6119 6120 6121 6122 6123 6124\n",
      " 6125 6126 6127 6128 6129 6130 6131 6132 6133 6134 6135 6136 6137 6138\n",
      " 6139 6140 6141 6142 6143 6144 6145 6146 6147 6148 6149 6150 6151 6152\n",
      " 6153 6154 6155 6156 6157 6158 6159 6160 6161 6162 6163 6164 6165 6166\n",
      " 6167 6168 6169 6170 6171 6172 6173 6174 6175 6176 6177 6178 6179 6180\n",
      " 6181 6182 6183 6184 6185 6186 6187 6188 6189 6190 6191 6192 6193 6194\n",
      " 6195 6196 6197 6198 6199 6200 6201 6202 6203 6204 6205 6206 6207 6208\n",
      " 6209 6210 6211 6212 6213 6214 6215 6216 6217 6218 6219 6220 6221 6222\n",
      " 6223 6224 6225 6226 6227 6228 6229 6230 6231 6232 6233 6234 6235 6236\n",
      " 6237 6238 6239 6240 6241 6242 6243 6244 6245 6246 6247 6248 6249 6250\n",
      " 6251 6252 6253 6254 6255 6256 6257 6258 6259 6260 6261 6262 6263 6264\n",
      " 6265 6266 6267 6268 6269 6270 6271 6272 6273 6274 6275 6276 6277 6278\n",
      " 6279 6280 6281 6282 6283 6284 6285 6286 6287 6288 6289 6290 6291 6292\n",
      " 6293 6294 6295 6296 6297 6298 6299 6300 6301 6302 6303 6304 6305 6306\n",
      " 6307 6308 6309 6310 6311 6312 6313 6314 6315 6316 6317 6318 6319 6320\n",
      " 6321 6322 6323 6324 6325 6326 6327 6328 6329 6333 6339 6341 6344 6346\n",
      " 6351 6357 6360 6365]\n"
     ]
    },
    {
     "name": "stdout",
     "output_type": "stream",
     "text": [
      "Train: [   0    1    2 ... 6357 6360 6365] Validation: [6330 6331 6332 6334 6335 6336 6337 6338 6340 6342 6343 6345 6347 6348\n",
      " 6349 6350 6352 6353 6354 6355 6356 6358 6359 6361 6362 6363 6364 6366\n",
      " 6367 6368 6369 6370 6371 6372 6373 6374 6375 6376 6377 6378 6379 6380\n",
      " 6381 6382 6383 6384 6385 6386 6387 6388 6389 6390 6391 6392 6393 6394\n",
      " 6395 6396 6397 6398 6399 6400 6401 6402 6403 6404 6405 6406 6407 6408\n",
      " 6409 6410 6411 6412 6413 6414 6415 6416 6417 6418 6419 6420 6421 6422\n",
      " 6423 6424 6425 6426 6427 6428 6429 6430 6431 6432 6433 6434 6435 6436\n",
      " 6437 6438 6439 6440 6441 6442 6443 6444 6445 6446 6447 6448 6449 6450\n",
      " 6451 6452 6453 6454 6455 6456 6457 6458 6459 6460 6461 6462 6463 6464\n",
      " 6465 6466 6467 6468 6469 6470 6471 6472 6473 6474 6475 6476 6477 6478\n",
      " 6479 6480 6481 6482 6483 6484 6485 6486 6487 6488 6489 6490 6491 6492\n",
      " 6493 6494 6495 6496 6497 6498 6499 6500 6501 6502 6503 6504 6505 6506\n",
      " 6507 6508 6509 6510 6511 6512 6513 6514 6515 6516 6517 6518 6519 6520\n",
      " 6521 6522 6523 6524 6525 6526 6527 6528 6529 6530 6531 6532 6533 6534\n",
      " 6535 6536 6537 6538 6539 6540 6541 6542 6543 6544 6545 6546 6547 6548\n",
      " 6549 6550 6551 6552 6553 6554 6555 6556 6557 6558 6559 6560 6561 6562\n",
      " 6563 6564 6565 6566 6567 6568 6569 6570 6571 6572 6573 6574 6575 6576\n",
      " 6577 6578 6579 6580 6581 6582 6583 6584 6585 6586 6587 6588 6589 6590\n",
      " 6591 6592 6593 6594 6595 6596 6597 6598 6599 6600 6601 6602 6603 6604\n",
      " 6605 6606 6607 6608 6609 6610 6611 6612 6613 6614 6615 6616 6617 6618\n",
      " 6619 6620 6621 6622 6623 6624 6625 6626 6627 6628 6629 6630 6631 6632\n",
      " 6633 6634 6635 6636 6637 6638 6639 6640 6641 6642 6643 6644 6645 6646\n",
      " 6647 6648 6649 6650 6651 6652 6653 6654 6655 6656 6657 6658 6659 6660\n",
      " 6661 6662 6663 6664 6665 6666 6667 6668 6669 6670 6671 6672 6673 6674\n",
      " 6675 6676 6677 6678 6679 6680 6681 6682 6683 6684 6685 6686 6687 6688\n",
      " 6689 6690 6691 6692 6693 6694 6695 6696 6697 6698 6699 6700 6701 6702\n",
      " 6703 6704 6705 6706 6707 6708 6709 6710 6711 6712 6713 6714 6715 6716\n",
      " 6717 6718 6719 6720 6721 6722 6723 6724 6725 6726 6727 6728 6729 6730\n",
      " 6731 6732 6733 6734 6735 6736 6737 6738 6739 6740 6741 6742 6743 6744\n",
      " 6745 6746 6747 6748 6749 6750 6751 6752 6753 6754 6755 6756 6757 6758\n",
      " 6759 6760 6761 6762 6763 6764 6765 6766 6767 6768 6769 6770 6771 6772\n",
      " 6773 6774 6775 6776 6777 6778 6779 6780 6781 6782 6783 6784 6785 6786\n",
      " 6787 6788 6789 6790 6791 6792 6793 6794 6795 6796 6797 6798 6799 6800\n",
      " 6801 6802 6803 6804 6805 6806 6807 6808 6809 6810 6811 6812 6813 6814\n",
      " 6815 6816 6817 6818 6819 6820 6821 6822 6823 6824 6825 6826 6827 6828\n",
      " 6829 6830 6831 6832 6833 6834 6835 6836 6837 6838 6839 6840 6841 6842\n",
      " 6843 6844 6845 6846 6847 6848 6849 6850 6851 6852 6853 6854 6855 6856\n",
      " 6857 6858 6859 6860 6861 6862 6863 6864 6865 6866 6867 6868 6869 6870\n",
      " 6871 6872 6873 6874 6875 6876 6877 6878 6879 6880 6881 6882 6883 6884\n",
      " 6885 6886 6887 6888 6889 6890 6891 6892 6893 6894 6895 6896 6897 6898\n",
      " 6899 6900 6901 6902 6903 6904 6905 6906 6907 6908 6909 6910 6911 6912\n",
      " 6913 6914 6915 6916 6917 6918 6919 6920 6921 6922 6923 6924 6925 6926\n",
      " 6927 6928 6929 6930 6931 6932 6933 6934 6935 6936 6937 6938 6939 6940\n",
      " 6941 6942 6943 6944 6945 6946 6947 6948 6949 6950 6951 6952 6953 6954\n",
      " 6955 6956 6957 6958 6959 6960 6961 6962 6963 6964 6965 6966 6967 6968\n",
      " 6969 6970 6971 6972 6973 6974 6975 6976 6977 6978 6979 6980 6981 6982\n",
      " 6983 6984 6985 6986 6987 6988 6989 6990 6991 6992 6993 6994 6995 6996\n",
      " 6997 6998 6999 7000 7001 7002 7003 7004 7005 7006 7007 7008 7009 7010\n",
      " 7011 7012 7013 7014 7015 7016 7017 7018 7019 7020 7021 7022 7023 7024\n",
      " 7025 7026 7027 7028 7029 7030 7031 7032 7033 7034 7035 7036 7037 7038\n",
      " 7039 7040 7041 7042]\n",
      "[0.7872340425531915, 0.7588652482269503, 0.7773049645390071, 0.7684659090909091, 0.7798295454545454, 0.7386363636363636, 0.7741477272727273, 0.7755681818181818, 0.7869318181818182, 0.7798295454545454]\n"
     ]
    }
   ],
   "source": [
    "accuracy=[]\n",
    "\n",
    "# X is the feature set and y is the target\n",
    "for train_index, test_index in skf.split(x,y): \n",
    "    print(\"Train:\", train_index, \"Validation:\", test_index) \n",
    "    X1_train, X1_test = x.iloc[train_index], x.iloc[test_index] \n",
    "    y1_train, y1_test = y.iloc[train_index], y.iloc[test_index]\n",
    "    \n",
    "    classifier.fit(X1_train,y1_train)\n",
    "    prediction=classifier.predict(X1_test)\n",
    "    score=accuracy_score(prediction,y1_test)\n",
    "    accuracy.append(score)\n",
    "    \n",
    "print(accuracy)"
   ]
  },
  {
   "cell_type": "markdown",
   "metadata": {},
   "source": [
    "* This split doesnt give that much accuracy"
   ]
  },
  {
   "cell_type": "markdown",
   "metadata": {},
   "source": [
    "### 6.0 Model Deployment (Pickle File for Developing into an Web App)"
   ]
  },
  {
   "cell_type": "code",
   "execution_count": 80,
   "metadata": {},
   "outputs": [],
   "source": [
    "import pickle\n",
    "\n",
    "### Save the Model to Local disk\n",
    "pickle.dump(classifier,open(\"model.pkl\",\"wb\"))"
   ]
  },
  {
   "cell_type": "code",
   "execution_count": 81,
   "metadata": {},
   "outputs": [],
   "source": [
    "### Saving the Scaler\n",
    "pickle.dump(scaler, open(\"scaler.pkl\",\"wb\"))"
   ]
  },
  {
   "cell_type": "code",
   "execution_count": null,
   "metadata": {},
   "outputs": [],
   "source": []
  }
 ],
 "metadata": {
  "kernelspec": {
   "display_name": "Python 3",
   "language": "python",
   "name": "python3"
  },
  "language_info": {
   "codemirror_mode": {
    "name": "ipython",
    "version": 3
   },
   "file_extension": ".py",
   "mimetype": "text/x-python",
   "name": "python",
   "nbconvert_exporter": "python",
   "pygments_lexer": "ipython3",
   "version": "3.8.5"
  }
 },
 "nbformat": 4,
 "nbformat_minor": 4
}
