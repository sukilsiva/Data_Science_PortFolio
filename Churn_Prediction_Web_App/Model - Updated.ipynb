{
 "cells": [
  {
   "cell_type": "code",
   "execution_count": 3,
   "metadata": {},
   "outputs": [],
   "source": [
    "import pickle\n",
    "\n",
    "### Get the Pickle Model From Local Disk\n",
    "pickle_in = open(\"model.pkl\",\"rb\")\n",
    "classifier=pickle.load(pickle_in)\n",
    "\n",
    "### Load the MinMaxScaler\n",
    "scaler = pickle.load(open(\"scaler.pkl\", \"rb\"))"
   ]
  },
  {
   "cell_type": "code",
   "execution_count": 19,
   "metadata": {},
   "outputs": [],
   "source": [
    "import numpy as np\n",
    "data = [0,0,0,11,5600,0,0]\n",
    "scaled_data = scaler.fit_transform(np.reshape(data, (-1,1)))"
   ]
  },
  {
   "cell_type": "code",
   "execution_count": 20,
   "metadata": {},
   "outputs": [],
   "source": [
    "prob = classifier.predict_proba(np.reshape(scaled_data,(1,7)))"
   ]
  },
  {
   "cell_type": "code",
   "execution_count": 21,
   "metadata": {},
   "outputs": [],
   "source": [
    "res = classifier.predict(np.reshape(scaled_data, (1,7)))"
   ]
  },
  {
   "cell_type": "code",
   "execution_count": 22,
   "metadata": {},
   "outputs": [
    {
     "data": {
      "text/plain": [
       "0.5"
      ]
     },
     "execution_count": 22,
     "metadata": {},
     "output_type": "execute_result"
    }
   ],
   "source": [
    "np.round(prob[0,1],2)"
   ]
  },
  {
   "cell_type": "code",
   "execution_count": 23,
   "metadata": {},
   "outputs": [
    {
     "data": {
      "text/plain": [
       "1"
      ]
     },
     "execution_count": 23,
     "metadata": {},
     "output_type": "execute_result"
    }
   ],
   "source": [
    "res[0]"
   ]
  },
  {
   "cell_type": "code",
   "execution_count": 28,
   "metadata": {},
   "outputs": [
    {
     "name": "stdout",
     "output_type": "stream",
     "text": [
      "Flask 1.1.2\n",
      "Matplotlib 3.1.3\n",
      "Pandas 1.0.1\n",
      "sklearn 0.23.2\n",
      "NUmoy 1.18.1\n",
      "pickle 4.0\n"
     ]
    }
   ],
   "source": [
    "import flask as f\n",
    "import matplotlib as mlb\n",
    "import pandas as pd\n",
    "import sklearn as s\n",
    "import numpy as np\n",
    "import pickle as p\n",
    "\n",
    "print(\"Flask\",f.__version__)\n",
    "print(\"Matplotlib\",mlb.__version__)\n",
    "print(\"Pandas\",pd.__version__)\n",
    "print(\"sklearn\",s.__version__)\n",
    "print(\"NUmoy\",np.__version__)\n",
    "print(\"pickle\",p.format_version)"
   ]
  },
  {
   "cell_type": "code",
   "execution_count": null,
   "metadata": {},
   "outputs": [],
   "source": []
  }
 ],
 "metadata": {
  "kernelspec": {
   "display_name": "Python 3",
   "language": "python",
   "name": "python3"
  },
  "language_info": {
   "codemirror_mode": {
    "name": "ipython",
    "version": 3
   },
   "file_extension": ".py",
   "mimetype": "text/x-python",
   "name": "python",
   "nbconvert_exporter": "python",
   "pygments_lexer": "ipython3",
   "version": "3.7.6"
  }
 },
 "nbformat": 4,
 "nbformat_minor": 4
}
